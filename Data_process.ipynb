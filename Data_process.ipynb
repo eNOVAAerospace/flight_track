{
 "cells": [
  {
   "cell_type": "markdown",
   "metadata": {},
   "source": [
    "# initialisation"
   ]
  },
  {
   "cell_type": "markdown",
   "metadata": {},
   "source": [
    "## truc"
   ]
  },
  {
   "cell_type": "code",
   "execution_count": 1,
   "metadata": {},
   "outputs": [],
   "source": [
    "'''\n",
    "Import des librairies nécéssaires pour faire tourner le code\n",
    "---------------------\n",
    "librairies externes\n",
    "---------------------\n",
    "si ça ne tourne pas, c'est qu'il faut installer le package en tapant dans la console (Ctrl+ù sur VScode):\n",
    "\n",
    "conda install package\n",
    "\n",
    "'''\n",
    "import pandas as pd\n",
    "import geopandas as gpd\n",
    "import os\n",
    "from datetime import datetime\n",
    "# from time import sleep\n",
    "# from openpyxl import Workbook\n",
    "# from openpyxl import load_workbook\n",
    "import plotly.express as px\n",
    "import plotly.graph_objects as go\n",
    "import folium\n",
    "from folium.plugins import Draw\n",
    "\n",
    "\n",
    "'''\n",
    "Libraires internes\n",
    "---------------------\n",
    "Si ça ne tourne pas il faut ajouter au début de votre code:\n",
    "\n",
    "import sys\n",
    "sys.path.append(r'chemin d'accès au dossier contenant la bibliothèque interne')\n",
    "---------------------\n",
    "Exemple:\n",
    "> from library.PY_lib.coordinates import *\n",
    "\n",
    "le chemin d'accès du dossier \"library\" est D:\\Programmes\\E.nova\\python\\PyEnova\\flight_track\\library\n",
    "\n",
    "il faut donc ajouter au dessus :\n",
    "\n",
    "import sys\n",
    "sys.path.append(r'D:\\Programmes\\E.nova\\python\\PyEnova\\flight_track')\n",
    "\n",
    "L'opération n'est en principe a faire qu'une seule fois, tant que vos bibliothèques sont rangées au même endroit, \n",
    "d'où l'importance de ne pas éparpiller les dossiers de librairies un peu partout\n",
    "'''\n",
    "# import sys\n",
    "# sys.path.append(r'D:\\Programmes\\E.nova\\python\\PyEnova\\flight_track')\n",
    "\n",
    "from PY_lib.data_retriever import *\n"
   ]
  },
  {
   "cell_type": "markdown",
   "metadata": {},
   "source": [
    "## Inputs\n",
    "je rajoute du texte"
   ]
  },
  {
   "cell_type": "code",
   "execution_count": 2,
   "metadata": {},
   "outputs": [],
   "source": [
    "#Save folders\n",
    "input_folder = r'Data\\input'\n",
    "output_folder = r'Data\\output'"
   ]
  },
  {
   "cell_type": "code",
   "execution_count": 75,
   "metadata": {},
   "outputs": [
    {
     "data": {
      "text/plain": [
       "'Region, country, city name, it may not be in database'"
      ]
     },
     "execution_count": 75,
     "metadata": {},
     "output_type": "execute_result"
    }
   ],
   "source": [
    "from pyproj import CRS, Transformer\n",
    "from shapely.geometry import Point, Polygon\n",
    "from shapely.ops import transform\n",
    "from geopandas.datasets import get_path\n",
    "#Zone definition\n",
    "\n",
    "# Zone = 'circle'\n",
    "Zone = 'polygon'\n",
    "# Zone = 'region'\n",
    "\n",
    "Coordinates = ((0,40), (0,45), (5,45),(5,40))\n",
    "'''longitude, latitude in WGS 84'''\n",
    "Radius = 1000.0         \n",
    "'''radius in meters'''\n",
    "Region = 'Québec'       #marche pas encore\n",
    "'''Region, country, city name, it may not be in database'''"
   ]
  },
  {
   "cell_type": "code",
   "execution_count": 76,
   "metadata": {},
   "outputs": [],
   "source": [
    "# provinces = gpd.read_file(r'Data\\Geo_Data\\provinces\\ne_50m_admin_1_states_provinces.shp')\n",
    "# display(provinces[['name','name_fr','sov_a3','adm1_code', 'geometry']])\n",
    "\n",
    "# Country = gpd.read_file(r'Data\\Geo_Data\\countries\\ne_110m_admin_0_countries.shp')\n",
    "# display(Country[['NAME','NAME_FR','ISO_A3','FORMAL_EN','geometry']])\n",
    "\n",
    "# City = gpd.read_file(r'Data\\Geo_Data\\city\\ne_50m_populated_places.shp')\n",
    "# display(City[['NAME','NAME_FR','SOV_A3','ADM1NAME','geometry']])\n",
    "\n",
    "# # a=pd.DataFrame(world)\n",
    "# # world.loc[world['name']==Region]\n",
    "# # world.loc[world['name']==Region, 'geometry']"
   ]
  },
  {
   "cell_type": "code",
   "execution_count": 77,
   "metadata": {},
   "outputs": [
    {
     "data": {
      "text/html": [
       "<div style=\"width:100%;\"><div style=\"position:relative;width:100%;height:0;padding-bottom:60%;\"><span style=\"color:#565656\">Make this Notebook Trusted to load map: File -> Trust Notebook</span><iframe srcdoc=\"&lt;!DOCTYPE html&gt;\n",
       "&lt;html&gt;\n",
       "&lt;head&gt;\n",
       "    \n",
       "    &lt;meta http-equiv=&quot;content-type&quot; content=&quot;text/html; charset=UTF-8&quot; /&gt;\n",
       "    \n",
       "        &lt;script&gt;\n",
       "            L_NO_TOUCH = false;\n",
       "            L_DISABLE_3D = false;\n",
       "        &lt;/script&gt;\n",
       "    \n",
       "    &lt;style&gt;html, body {width: 100%;height: 100%;margin: 0;padding: 0;}&lt;/style&gt;\n",
       "    &lt;style&gt;#map {position:absolute;top:0;bottom:0;right:0;left:0;}&lt;/style&gt;\n",
       "    &lt;script src=&quot;https://cdn.jsdelivr.net/npm/leaflet@1.9.3/dist/leaflet.js&quot;&gt;&lt;/script&gt;\n",
       "    &lt;script src=&quot;https://code.jquery.com/jquery-1.12.4.min.js&quot;&gt;&lt;/script&gt;\n",
       "    &lt;script src=&quot;https://cdn.jsdelivr.net/npm/bootstrap@5.2.2/dist/js/bootstrap.bundle.min.js&quot;&gt;&lt;/script&gt;\n",
       "    &lt;script src=&quot;https://cdnjs.cloudflare.com/ajax/libs/Leaflet.awesome-markers/2.0.2/leaflet.awesome-markers.js&quot;&gt;&lt;/script&gt;\n",
       "    &lt;link rel=&quot;stylesheet&quot; href=&quot;https://cdn.jsdelivr.net/npm/leaflet@1.9.3/dist/leaflet.css&quot;/&gt;\n",
       "    &lt;link rel=&quot;stylesheet&quot; href=&quot;https://cdn.jsdelivr.net/npm/bootstrap@5.2.2/dist/css/bootstrap.min.css&quot;/&gt;\n",
       "    &lt;link rel=&quot;stylesheet&quot; href=&quot;https://netdna.bootstrapcdn.com/bootstrap/3.0.0/css/bootstrap.min.css&quot;/&gt;\n",
       "    &lt;link rel=&quot;stylesheet&quot; href=&quot;https://cdn.jsdelivr.net/npm/@fortawesome/fontawesome-free@6.2.0/css/all.min.css&quot;/&gt;\n",
       "    &lt;link rel=&quot;stylesheet&quot; href=&quot;https://cdnjs.cloudflare.com/ajax/libs/Leaflet.awesome-markers/2.0.2/leaflet.awesome-markers.css&quot;/&gt;\n",
       "    &lt;link rel=&quot;stylesheet&quot; href=&quot;https://cdn.jsdelivr.net/gh/python-visualization/folium/folium/templates/leaflet.awesome.rotate.min.css&quot;/&gt;\n",
       "    \n",
       "            &lt;meta name=&quot;viewport&quot; content=&quot;width=device-width,\n",
       "                initial-scale=1.0, maximum-scale=1.0, user-scalable=no&quot; /&gt;\n",
       "            &lt;style&gt;\n",
       "                #map_af873271a77c8eb1c40b8d5fab75846c {\n",
       "                    position: relative;\n",
       "                    width: 100.0%;\n",
       "                    height: 100.0%;\n",
       "                    left: 0.0%;\n",
       "                    top: 0.0%;\n",
       "                }\n",
       "                .leaflet-container { font-size: 1rem; }\n",
       "            &lt;/style&gt;\n",
       "        \n",
       "&lt;/head&gt;\n",
       "&lt;body&gt;\n",
       "    \n",
       "    \n",
       "            &lt;div class=&quot;folium-map&quot; id=&quot;map_af873271a77c8eb1c40b8d5fab75846c&quot; &gt;&lt;/div&gt;\n",
       "        \n",
       "&lt;/body&gt;\n",
       "&lt;script&gt;\n",
       "    \n",
       "    \n",
       "            var map_af873271a77c8eb1c40b8d5fab75846c = L.map(\n",
       "                &quot;map_af873271a77c8eb1c40b8d5fab75846c&quot;,\n",
       "                {\n",
       "                    center: [42.5, 2.5],\n",
       "                    crs: L.CRS.EPSG3857,\n",
       "                    zoom: 10,\n",
       "                    zoomControl: true,\n",
       "                    preferCanvas: false,\n",
       "                }\n",
       "            );\n",
       "            L.control.scale().addTo(map_af873271a77c8eb1c40b8d5fab75846c);\n",
       "\n",
       "            \n",
       "\n",
       "        \n",
       "    \n",
       "            var tile_layer_27f31ef1bd910f4e41aa58a41eae2c40 = L.tileLayer(\n",
       "                &quot;https://{s}.tile.openstreetmap.org/{z}/{x}/{y}.png&quot;,\n",
       "                {&quot;attribution&quot;: &quot;Data by \\u0026copy; \\u003ca target=\\&quot;_blank\\&quot; href=\\&quot;http://openstreetmap.org\\&quot;\\u003eOpenStreetMap\\u003c/a\\u003e, under \\u003ca target=\\&quot;_blank\\&quot; href=\\&quot;http://www.openstreetmap.org/copyright\\&quot;\\u003eODbL\\u003c/a\\u003e.&quot;, &quot;detectRetina&quot;: false, &quot;maxNativeZoom&quot;: 18, &quot;maxZoom&quot;: 18, &quot;minZoom&quot;: 0, &quot;noWrap&quot;: false, &quot;opacity&quot;: 1, &quot;subdomains&quot;: &quot;abc&quot;, &quot;tms&quot;: false}\n",
       "            ).addTo(map_af873271a77c8eb1c40b8d5fab75846c);\n",
       "        \n",
       "    \n",
       "            map_af873271a77c8eb1c40b8d5fab75846c.fitBounds(\n",
       "                [[40.0, 0.0], [45.0, 5.0]],\n",
       "                {}\n",
       "            );\n",
       "        \n",
       "    \n",
       "        function geo_json_83e4ffc223bac2bc8eb47b298ff90137_styler(feature) {\n",
       "            switch(feature.id) {\n",
       "                default:\n",
       "                    return {&quot;fillOpacity&quot;: 0.5, &quot;weight&quot;: 2};\n",
       "            }\n",
       "        }\n",
       "        function geo_json_83e4ffc223bac2bc8eb47b298ff90137_highlighter(feature) {\n",
       "            switch(feature.id) {\n",
       "                default:\n",
       "                    return {&quot;fillOpacity&quot;: 0.75};\n",
       "            }\n",
       "        }\n",
       "        function geo_json_83e4ffc223bac2bc8eb47b298ff90137_pointToLayer(feature, latlng) {\n",
       "            var opts = {&quot;bubblingMouseEvents&quot;: true, &quot;color&quot;: &quot;#3388ff&quot;, &quot;dashArray&quot;: null, &quot;dashOffset&quot;: null, &quot;fill&quot;: true, &quot;fillColor&quot;: &quot;#3388ff&quot;, &quot;fillOpacity&quot;: 0.2, &quot;fillRule&quot;: &quot;evenodd&quot;, &quot;lineCap&quot;: &quot;round&quot;, &quot;lineJoin&quot;: &quot;round&quot;, &quot;opacity&quot;: 1.0, &quot;radius&quot;: 2, &quot;stroke&quot;: true, &quot;weight&quot;: 3};\n",
       "            \n",
       "            let style = geo_json_83e4ffc223bac2bc8eb47b298ff90137_styler(feature)\n",
       "            Object.assign(opts, style)\n",
       "            \n",
       "            return new L.CircleMarker(latlng, opts)\n",
       "        }\n",
       "\n",
       "        function geo_json_83e4ffc223bac2bc8eb47b298ff90137_onEachFeature(feature, layer) {\n",
       "            layer.on({\n",
       "                mouseout: function(e) {\n",
       "                    if(typeof e.target.setStyle === &quot;function&quot;){\n",
       "                        geo_json_83e4ffc223bac2bc8eb47b298ff90137.resetStyle(e.target);\n",
       "                    }\n",
       "                },\n",
       "                mouseover: function(e) {\n",
       "                    if(typeof e.target.setStyle === &quot;function&quot;){\n",
       "                        const highlightStyle = geo_json_83e4ffc223bac2bc8eb47b298ff90137_highlighter(e.target.feature)\n",
       "                        e.target.setStyle(highlightStyle);\n",
       "                    }\n",
       "                },\n",
       "            });\n",
       "        };\n",
       "        var geo_json_83e4ffc223bac2bc8eb47b298ff90137 = L.geoJson(null, {\n",
       "                onEachFeature: geo_json_83e4ffc223bac2bc8eb47b298ff90137_onEachFeature,\n",
       "            \n",
       "                style: geo_json_83e4ffc223bac2bc8eb47b298ff90137_styler,\n",
       "                pointToLayer: geo_json_83e4ffc223bac2bc8eb47b298ff90137_pointToLayer\n",
       "        });\n",
       "\n",
       "        function geo_json_83e4ffc223bac2bc8eb47b298ff90137_add (data) {\n",
       "            geo_json_83e4ffc223bac2bc8eb47b298ff90137\n",
       "                .addData(data)\n",
       "                .addTo(map_af873271a77c8eb1c40b8d5fab75846c);\n",
       "        }\n",
       "            geo_json_83e4ffc223bac2bc8eb47b298ff90137_add({&quot;bbox&quot;: [0.0, 40.0, 5.0, 45.0], &quot;features&quot;: [{&quot;bbox&quot;: [0.0, 40.0, 5.0, 45.0], &quot;geometry&quot;: {&quot;coordinates&quot;: [[[0.0, 40.0], [0.0, 45.0], [5.0, 45.0], [5.0, 40.0], [0.0, 40.0]]], &quot;type&quot;: &quot;Polygon&quot;}, &quot;id&quot;: &quot;0&quot;, &quot;properties&quot;: {}, &quot;type&quot;: &quot;Feature&quot;}], &quot;type&quot;: &quot;FeatureCollection&quot;});\n",
       "\n",
       "        \n",
       "&lt;/script&gt;\n",
       "&lt;/html&gt;\" style=\"position:absolute;width:100%;height:100%;left:0;top:0;border:none !important;\" allowfullscreen webkitallowfullscreen mozallowfullscreen></iframe></div></div>"
      ],
      "text/plain": [
       "<folium.folium.Map at 0x1f74a4ae7d0>"
      ]
     },
     "execution_count": 77,
     "metadata": {},
     "output_type": "execute_result"
    }
   ],
   "source": [
    "match Zone :\n",
    "    case 'circle':\n",
    "        # Azimuthal equidistant projection\n",
    "        aeqd_proj = CRS.from_proj4(f\"+proj=aeqd +lat_0={Coordinates[1]} +lon_0={Coordinates[0]} +x_0=0 +y_0=0\")\n",
    "        tfmr = Transformer.from_proj(aeqd_proj, aeqd_proj.geodetic_crs)\n",
    "        buf = Point(Coordinates).buffer(Radius)  # distance in miles\n",
    "        area = gpd.GeoSeries(Polygon(transform(tfmr.transform, buf).exterior.coords[:]), crs='EPSG:4326')\n",
    "\n",
    "    case 'polygon':\n",
    "        area = gpd.GeoSeries(Polygon(Coordinates), crs='EPSG:4326')\n",
    "\n",
    "    case 'region' :\n",
    "        world = gpd.read_file(r'Data\\Geo_Data\\ne_110m_admin_0_countries.shp')\n",
    "        poly=world.loc[world['name'] == Region, 'geometry']\n",
    "        area= gpd.GeoSeries(poly, crs='EPSG:4326')\n",
    "        \n",
    "    case _:\n",
    "        raise SystemExit('undefined area')\n",
    "    \n",
    "area.explore()"
   ]
  },
  {
   "cell_type": "code",
   "execution_count": 78,
   "metadata": {},
   "outputs": [
    {
     "data": {
      "text/plain": [
       "\"Définir True pour faire une requete API lors de l'exectution de ce notebook,\\ncette option est surtout utile en mode démo et/ou pour le developpeur\""
      ]
     },
     "execution_count": 78,
     "metadata": {},
     "output_type": "execute_result"
    }
   ],
   "source": [
    "'''\n",
    "Paramètres de génération de données:\n",
    "'''\n",
    "n = 1\n",
    "'''automatisation (0 pour oui, 1 pour non)'''\n",
    "r = 1\n",
    "'''request left'''\n",
    "t = 3600 \n",
    "'''temps entre chaque requete (en secondes)'''\n",
    "current_time = datetime.now().strftime(\"%Y-%m-%d_%H-%M-%S\")\n",
    "'''date d'extraction des données'''\n",
    "\n",
    "'''\n",
    "Paramètres pour délimiter la zone\n",
    "'''\n",
    "choice = 1\n",
    "'''1=quadrilatère, 2 = circulaire'''\n",
    "taille_zone = 100\n",
    "'''en km si choix 2'''\n",
    "\n",
    "Data_generation = False \n",
    "'''Définir True pour faire une requete API lors de l'exectution de ce notebook,\n",
    "cette option est surtout utile en mode démo et/ou pour le developpeur'''"
   ]
  },
  {
   "cell_type": "code",
   "execution_count": 79,
   "metadata": {},
   "outputs": [],
   "source": [
    "if Data_generation:\n",
    "    get_data(n, r - 1, t)"
   ]
  },
  {
   "cell_type": "markdown",
   "metadata": {},
   "source": [
    "## Filtre"
   ]
  },
  {
   "cell_type": "code",
   "execution_count": 80,
   "metadata": {},
   "outputs": [],
   "source": [
    "'''\n",
    "Fonction qui filtre les données en fonction de la zone à étudier.\n",
    "Pour changer la taille de la zone, il faut modifier les fichiers round_coordinates.txt ou square_coordinates.txt \n",
    "'''\n",
    "def onefiledata(filename, taille_zone, choice, r_latitudes, r_longitude, s_latitude, s_longitude):\n",
    "    # print(filename)\n",
    "    data = pd.read_excel(filename)\n",
    "    data = pd.DataFrame(data)\n",
    "\n",
    "    if choice == 1:\n",
    "        t_lat = s_latitude\n",
    "        t_lng = s_longitude\n",
    "        # filtered_data = []+\n",
    "        for index, row in data.iterrows():\n",
    "            lat = row['lat']\n",
    "            lng = row['lng']\n",
    "            if sort_elements(t_lat[0], t_lat[1], t_lat[2], t_lat[3], lat, t_lng[0], t_lng[1], t_lng[2], t_lng[3], lng) == 0:\n",
    "                data.loc[index,'distance'] = True\n",
    "        filtered_data=data.where(data['distance']==True)\n",
    "\n",
    "    if choice == 2:\n",
    "        for index, row in data.iterrows():\n",
    "            lat = row['lat']\n",
    "            lng = row['lng']\n",
    "            for ref_lat, ref_lng in zip(r_latitudes, r_longitude):\n",
    "                data.loc[index,'distance'] = calculate_distance(lat, lng, float(ref_lat), float(ref_lng))\n",
    "        filtered_data=data.where(data['distance']<=taille_zone)\n",
    "    # display(filtered_data.dropna())\n",
    "    return filtered_data.dropna()"
   ]
  },
  {
   "cell_type": "markdown",
   "metadata": {},
   "source": [
    "# Post-traitement"
   ]
  },
  {
   "cell_type": "code",
   "execution_count": 81,
   "metadata": {},
   "outputs": [
    {
     "name": "stderr",
     "output_type": "stream",
     "text": [
      "C:\\Users\\arthu\\AppData\\Local\\Temp\\ipykernel_11956\\2613398457.py:18: FutureWarning: Setting an item of incompatible dtype is deprecated and will raise in a future error of pandas. Value 'True' has dtype incompatible with float64, please explicitly cast to a compatible dtype first.\n",
      "  data.loc[index,'distance'] = True\n",
      "C:\\Users\\arthu\\AppData\\Local\\Temp\\ipykernel_11956\\2613398457.py:18: FutureWarning: Setting an item of incompatible dtype is deprecated and will raise in a future error of pandas. Value 'True' has dtype incompatible with float64, please explicitly cast to a compatible dtype first.\n",
      "  data.loc[index,'distance'] = True\n",
      "C:\\Users\\arthu\\AppData\\Local\\Temp\\ipykernel_11956\\2613398457.py:18: FutureWarning: Setting an item of incompatible dtype is deprecated and will raise in a future error of pandas. Value 'True' has dtype incompatible with float64, please explicitly cast to a compatible dtype first.\n",
      "  data.loc[index,'distance'] = True\n"
     ]
    },
    {
     "name": "stdout",
     "output_type": "stream",
     "text": [
      "Tout a été enregistré dans le fichier : Data\\output\\2024-02-02_17-39-49_square_sorted_.xlsx\n"
     ]
    }
   ],
   "source": [
    "'''\n",
    "Fonction qui charge les données dans le notebook pour postraitement \n",
    "et les sauvegardent dans un excel dans le dossier output\n",
    "'''\n",
    "round_path = r'round_coordinates.txt'\n",
    "square_path = r'square_coordinates.txt'\n",
    "\n",
    "r_latitudes, r_longitude = read_coordinates(round_path)\n",
    "s_latitude, s_longitude = read_coordinates(square_path)\n",
    "\n",
    "filename = os.listdir(input_folder)\n",
    "\n",
    "df=[]\n",
    "for idf, fname in enumerate(filename):\n",
    "    path2 = os.path.join(input_folder,fname)\n",
    "    filtered_data=onefiledata(path2,taille_zone, choice, r_latitudes, r_longitude, s_latitude, s_longitude)\n",
    "    \n",
    "    # prefix = 'excel_'\n",
    "    prefix = ''\n",
    "    suffix = '_flight'\n",
    "    date_str=''\n",
    "    idx1 = fname.index(prefix)\n",
    "    idx2 = fname.index(suffix)\n",
    "    for idx in range(idx1 +len(prefix)+1,idx2):\n",
    "        date_str=date_str+fname[idx]\n",
    "    filtered_data['Date']=date_str\n",
    "    \n",
    "    df.append(filtered_data)\n",
    "\n",
    "if choice==1:\n",
    "    new_filename = os.path.join(output_folder,f'{current_time}_square_sorted_.xlsx')\n",
    "if choice==2: \n",
    "    new_filename = os.path.join(output_folder,f'{current_time}_round_sorted_.xlsx')\n",
    "\n",
    "filtered_df = pd.concat([*df]) \n",
    "\n",
    "filtered_df.to_excel(new_filename, index=False)\n",
    "\n",
    "print(f\"Tout a été enregistré dans le fichier : {new_filename}\")"
   ]
  },
  {
   "cell_type": "code",
   "execution_count": 82,
   "metadata": {},
   "outputs": [
    {
     "data": {
      "text/plain": [
       "\"On définit les colones hex et date comme index, pour la lisibilité,\\net c'est là qu'avoir du multiindex prend tout son sens.\""
      ]
     },
     "execution_count": 82,
     "metadata": {},
     "output_type": "execute_result"
    }
   ],
   "source": [
    "'''\n",
    "On a ici filtered_df qui est notre dataFrame de base avec toutes nos données, les calculs sont faits, il ne reste que le postraitement.\n",
    "\n",
    "Pour couvrir les différents cas sur la carte, on a besoin de différencier les avions qui n'apparaissent qu'une seule fois de ceux qui apparaissent plusieurs fois, \n",
    "car on ne les traite pas de la même manière:\n",
    "\n",
    "Avions uniques : position sur la carte, flèche orientée selon leur cap\n",
    "Avions qui ont plusieurs occurences: Pareil sauf que les occurences sont reliées entre elles\n",
    "\n",
    "J'ai donc créé 2 plus petits dataframes:\n",
    "Avions uniques : df_d\n",
    "'''\n",
    "idx=filtered_df.set_index(['hex']).index.drop_duplicates(keep=False)  \n",
    "'''on créée une liste d'index (ici la colone hex), et on supprime toutes les lignes qui ont plus d'une occurence'''\n",
    "df_d=filtered_df.set_index(['hex']).loc[idx].sort_index()\n",
    "'''on filtre le dataframe de base avec seulement les index uniques'''\n",
    "# df_d=df_d.set_index(['hex']).sort_index()\n",
    "'''On définit les colones hex et date comme index, pour la lisibilité'''\n",
    "\n",
    "df_p=filtered_df.set_index(['hex']).drop(index=idx)\n",
    "'''on supprime les lignes avec seulement les index uniques, \n",
    "donc on ne garde que les lignes avec des index en double, triple, etc'''\n",
    "df_p=df_p.reset_index().set_index(['hex', 'Date']).sort_index()\n",
    "'''On définit les colones hex et date comme index, pour la lisibilité,\n",
    "et c'est là qu'avoir du multiindex prend tout son sens.'''\n",
    "\n"
   ]
  },
  {
   "cell_type": "code",
   "execution_count": 83,
   "metadata": {},
   "outputs": [
    {
     "data": {
      "text/plain": [
       "'\\nAffichage des deux dataframes:\\n'"
      ]
     },
     "execution_count": 83,
     "metadata": {},
     "output_type": "execute_result"
    }
   ],
   "source": [
    "'''\n",
    "Affichage des deux dataframes:\n",
    "'''\n",
    "# display(df_d)\n",
    "# display(df_p)"
   ]
  },
  {
   "cell_type": "markdown",
   "metadata": {},
   "source": [
    "# OUTPUTS"
   ]
  },
  {
   "cell_type": "markdown",
   "metadata": {},
   "source": [
    "## map folium"
   ]
  },
  {
   "cell_type": "code",
   "execution_count": 84,
   "metadata": {},
   "outputs": [
    {
     "data": {
      "text/html": [
       "<div style=\"width:100%;\"><div style=\"position:relative;width:100%;height:0;padding-bottom:60%;\"><span style=\"color:#565656\">Make this Notebook Trusted to load map: File -> Trust Notebook</span><iframe srcdoc=\"&lt;!DOCTYPE html&gt;\n",
       "&lt;html&gt;\n",
       "&lt;head&gt;\n",
       "    \n",
       "    &lt;meta http-equiv=&quot;content-type&quot; content=&quot;text/html; charset=UTF-8&quot; /&gt;\n",
       "    \n",
       "        &lt;script&gt;\n",
       "            L_NO_TOUCH = false;\n",
       "            L_DISABLE_3D = false;\n",
       "        &lt;/script&gt;\n",
       "    \n",
       "    &lt;style&gt;html, body {width: 100%;height: 100%;margin: 0;padding: 0;}&lt;/style&gt;\n",
       "    &lt;style&gt;#map {position:absolute;top:0;bottom:0;right:0;left:0;}&lt;/style&gt;\n",
       "    &lt;script src=&quot;https://cdn.jsdelivr.net/npm/leaflet@1.9.3/dist/leaflet.js&quot;&gt;&lt;/script&gt;\n",
       "    &lt;script src=&quot;https://code.jquery.com/jquery-1.12.4.min.js&quot;&gt;&lt;/script&gt;\n",
       "    &lt;script src=&quot;https://cdn.jsdelivr.net/npm/bootstrap@5.2.2/dist/js/bootstrap.bundle.min.js&quot;&gt;&lt;/script&gt;\n",
       "    &lt;script src=&quot;https://cdnjs.cloudflare.com/ajax/libs/Leaflet.awesome-markers/2.0.2/leaflet.awesome-markers.js&quot;&gt;&lt;/script&gt;\n",
       "    &lt;link rel=&quot;stylesheet&quot; href=&quot;https://cdn.jsdelivr.net/npm/leaflet@1.9.3/dist/leaflet.css&quot;/&gt;\n",
       "    &lt;link rel=&quot;stylesheet&quot; href=&quot;https://cdn.jsdelivr.net/npm/bootstrap@5.2.2/dist/css/bootstrap.min.css&quot;/&gt;\n",
       "    &lt;link rel=&quot;stylesheet&quot; href=&quot;https://netdna.bootstrapcdn.com/bootstrap/3.0.0/css/bootstrap.min.css&quot;/&gt;\n",
       "    &lt;link rel=&quot;stylesheet&quot; href=&quot;https://cdn.jsdelivr.net/npm/@fortawesome/fontawesome-free@6.2.0/css/all.min.css&quot;/&gt;\n",
       "    &lt;link rel=&quot;stylesheet&quot; href=&quot;https://cdnjs.cloudflare.com/ajax/libs/Leaflet.awesome-markers/2.0.2/leaflet.awesome-markers.css&quot;/&gt;\n",
       "    &lt;link rel=&quot;stylesheet&quot; href=&quot;https://cdn.jsdelivr.net/gh/python-visualization/folium/folium/templates/leaflet.awesome.rotate.min.css&quot;/&gt;\n",
       "    \n",
       "            &lt;meta name=&quot;viewport&quot; content=&quot;width=device-width,\n",
       "                initial-scale=1.0, maximum-scale=1.0, user-scalable=no&quot; /&gt;\n",
       "            &lt;style&gt;\n",
       "                #map_ddd2b039d4809540256119fbd65c61a5 {\n",
       "                    position: relative;\n",
       "                    width: 100.0%;\n",
       "                    height: 100.0%;\n",
       "                    left: 0.0%;\n",
       "                    top: 0.0%;\n",
       "                }\n",
       "                .leaflet-container { font-size: 1rem; }\n",
       "            &lt;/style&gt;\n",
       "        \n",
       "    &lt;script src=&quot;https://cdnjs.cloudflare.com/ajax/libs/leaflet.draw/1.0.2/leaflet.draw.js&quot;&gt;&lt;/script&gt;\n",
       "    &lt;link rel=&quot;stylesheet&quot; href=&quot;https://cdnjs.cloudflare.com/ajax/libs/leaflet.draw/1.0.2/leaflet.draw.css&quot;/&gt;\n",
       "    \n",
       "            &lt;style&gt;\n",
       "                #export {\n",
       "                    position: absolute;\n",
       "                    top: 5px;\n",
       "                    right: 10px;\n",
       "                    z-index: 999;\n",
       "                    background: white;\n",
       "                    color: black;\n",
       "                    padding: 6px;\n",
       "                    border-radius: 4px;\n",
       "                    font-family: &#x27;Helvetica Neue&#x27;;\n",
       "                    cursor: pointer;\n",
       "                    font-size: 12px;\n",
       "                    text-decoration: none;\n",
       "                    top: 90px;\n",
       "                }\n",
       "            &lt;/style&gt;\n",
       "        \n",
       "&lt;/head&gt;\n",
       "&lt;body&gt;\n",
       "    \n",
       "    \n",
       "            &lt;div class=&quot;folium-map&quot; id=&quot;map_ddd2b039d4809540256119fbd65c61a5&quot; &gt;&lt;/div&gt;\n",
       "        \n",
       "    &lt;a href=&#x27;#&#x27; id=&#x27;export&#x27;&gt;Export&lt;/a&gt;\n",
       "&lt;/body&gt;\n",
       "&lt;script&gt;\n",
       "    \n",
       "    \n",
       "            var map_ddd2b039d4809540256119fbd65c61a5 = L.map(\n",
       "                &quot;map_ddd2b039d4809540256119fbd65c61a5&quot;,\n",
       "                {\n",
       "                    center: [46.770353241379304, -62.270954896551736],\n",
       "                    crs: L.CRS.EPSG3857,\n",
       "                    zoom: 6,\n",
       "                    zoomControl: true,\n",
       "                    preferCanvas: false,\n",
       "                }\n",
       "            );\n",
       "\n",
       "            \n",
       "\n",
       "        \n",
       "    \n",
       "            var tile_layer_8337a3cb0023cf78be9c45a9b796c4a8 = L.tileLayer(\n",
       "                &quot;https://{s}.tile.openstreetmap.org/{z}/{x}/{y}.png&quot;,\n",
       "                {&quot;attribution&quot;: &quot;Data by \\u0026copy; \\u003ca target=\\&quot;_blank\\&quot; href=\\&quot;http://openstreetmap.org\\&quot;\\u003eOpenStreetMap\\u003c/a\\u003e, under \\u003ca target=\\&quot;_blank\\&quot; href=\\&quot;http://www.openstreetmap.org/copyright\\&quot;\\u003eODbL\\u003c/a\\u003e.&quot;, &quot;detectRetina&quot;: false, &quot;maxNativeZoom&quot;: 18, &quot;maxZoom&quot;: 18, &quot;minZoom&quot;: 0, &quot;noWrap&quot;: false, &quot;opacity&quot;: 1, &quot;subdomains&quot;: &quot;abc&quot;, &quot;tms&quot;: false}\n",
       "            ).addTo(map_ddd2b039d4809540256119fbd65c61a5);\n",
       "        \n",
       "    \n",
       "            var marker_9751b594ccbc2d2380a71d8a65a4f001 = L.marker(\n",
       "                [46.002502, -62.511403],\n",
       "                {}\n",
       "            ).addTo(map_ddd2b039d4809540256119fbd65c61a5);\n",
       "        \n",
       "    \n",
       "            var div_icon_cf957e373ec02c60fcd29741378da144 = L.divIcon({&quot;className&quot;: &quot;empty&quot;, &quot;html&quot;: &quot;\\u003cdiv\\u003e\\u003cdiv style=\\&quot;transform: rotate(234.3deg); border: 8px solid transparent; border-bottom-color: blue; width: 0; height: 0;\\&quot;\\u003e\\u003c/div\\u003e\\u003c/div\\u003e&quot;});\n",
       "            marker_9751b594ccbc2d2380a71d8a65a4f001.setIcon(div_icon_cf957e373ec02c60fcd29741378da144);\n",
       "        \n",
       "    \n",
       "            marker_9751b594ccbc2d2380a71d8a65a4f001.bindTooltip(\n",
       "                `&lt;div&gt;\n",
       "                     40675E\n",
       "                 &lt;/div&gt;`,\n",
       "                {&quot;sticky&quot;: true}\n",
       "            );\n",
       "        \n",
       "    \n",
       "            var marker_0fc8fe88eafa160453d2db885a0731fd = L.marker(\n",
       "                [45.779892, -62.951995],\n",
       "                {}\n",
       "            ).addTo(map_ddd2b039d4809540256119fbd65c61a5);\n",
       "        \n",
       "    \n",
       "            var div_icon_7a31d132a04a0f73c4dac184e70b4059 = L.divIcon({&quot;className&quot;: &quot;empty&quot;, &quot;html&quot;: &quot;\\u003cdiv\\u003e\\u003cdiv style=\\&quot;transform: rotate(233.9deg); border: 8px solid transparent; border-bottom-color: blue; width: 0; height: 0;\\&quot;\\u003e\\u003c/div\\u003e\\u003c/div\\u003e&quot;});\n",
       "            marker_0fc8fe88eafa160453d2db885a0731fd.setIcon(div_icon_7a31d132a04a0f73c4dac184e70b4059);\n",
       "        \n",
       "    \n",
       "            marker_0fc8fe88eafa160453d2db885a0731fd.bindTooltip(\n",
       "                `&lt;div&gt;\n",
       "                     40675E\n",
       "                 &lt;/div&gt;`,\n",
       "                {&quot;sticky&quot;: true}\n",
       "            );\n",
       "        \n",
       "    \n",
       "            var poly_line_dee25f060460ecd24f33687187d53f3f = L.polyline(\n",
       "                [[46.002502, -62.511403], [45.779892, -62.951995]],\n",
       "                {&quot;bubblingMouseEvents&quot;: true, &quot;color&quot;: &quot;blue&quot;, &quot;dashArray&quot;: null, &quot;dashOffset&quot;: null, &quot;fill&quot;: false, &quot;fillColor&quot;: &quot;blue&quot;, &quot;fillOpacity&quot;: 0.2, &quot;fillRule&quot;: &quot;evenodd&quot;, &quot;lineCap&quot;: &quot;round&quot;, &quot;lineJoin&quot;: &quot;round&quot;, &quot;noClip&quot;: false, &quot;opacity&quot;: 1, &quot;smoothFactor&quot;: 1.0, &quot;stroke&quot;: true, &quot;weight&quot;: 2}\n",
       "            ).addTo(map_ddd2b039d4809540256119fbd65c61a5);\n",
       "        \n",
       "    \n",
       "            poly_line_dee25f060460ecd24f33687187d53f3f.bindTooltip(\n",
       "                `&lt;div&gt;\n",
       "                     40675E\n",
       "                 &lt;/div&gt;`,\n",
       "                {&quot;sticky&quot;: true}\n",
       "            );\n",
       "        \n",
       "    \n",
       "            var marker_600bd41b990eec67fb274cb84066cce2 = L.marker(\n",
       "                [46.002502, -62.511403],\n",
       "                {}\n",
       "            ).addTo(map_ddd2b039d4809540256119fbd65c61a5);\n",
       "        \n",
       "    \n",
       "            var div_icon_b82a9ef9d493445f0a29eb80a57d4cc0 = L.divIcon({&quot;className&quot;: &quot;empty&quot;, &quot;html&quot;: &quot;\\u003cdiv\\u003e\\u003cdiv style=\\&quot;transform: rotate(234.3deg); border: 8px solid transparent; border-bottom-color: blue; width: 0; height: 0;\\&quot;\\u003e\\u003c/div\\u003e\\u003c/div\\u003e&quot;});\n",
       "            marker_600bd41b990eec67fb274cb84066cce2.setIcon(div_icon_b82a9ef9d493445f0a29eb80a57d4cc0);\n",
       "        \n",
       "    \n",
       "            marker_600bd41b990eec67fb274cb84066cce2.bindTooltip(\n",
       "                `&lt;div&gt;\n",
       "                     40675E\n",
       "                 &lt;/div&gt;`,\n",
       "                {&quot;sticky&quot;: true}\n",
       "            );\n",
       "        \n",
       "    \n",
       "            var marker_78a89510fc75560edc163f7c16dd4c36 = L.marker(\n",
       "                [45.779892, -62.951995],\n",
       "                {}\n",
       "            ).addTo(map_ddd2b039d4809540256119fbd65c61a5);\n",
       "        \n",
       "    \n",
       "            var div_icon_d2cb4b9821982146868d41f5c7b44c62 = L.divIcon({&quot;className&quot;: &quot;empty&quot;, &quot;html&quot;: &quot;\\u003cdiv\\u003e\\u003cdiv style=\\&quot;transform: rotate(233.9deg); border: 8px solid transparent; border-bottom-color: blue; width: 0; height: 0;\\&quot;\\u003e\\u003c/div\\u003e\\u003c/div\\u003e&quot;});\n",
       "            marker_78a89510fc75560edc163f7c16dd4c36.setIcon(div_icon_d2cb4b9821982146868d41f5c7b44c62);\n",
       "        \n",
       "    \n",
       "            marker_78a89510fc75560edc163f7c16dd4c36.bindTooltip(\n",
       "                `&lt;div&gt;\n",
       "                     40675E\n",
       "                 &lt;/div&gt;`,\n",
       "                {&quot;sticky&quot;: true}\n",
       "            );\n",
       "        \n",
       "    \n",
       "            var poly_line_68350427d1e004c2d49a5d906f32c119 = L.polyline(\n",
       "                [[46.002502, -62.511403], [45.779892, -62.951995]],\n",
       "                {&quot;bubblingMouseEvents&quot;: true, &quot;color&quot;: &quot;blue&quot;, &quot;dashArray&quot;: null, &quot;dashOffset&quot;: null, &quot;fill&quot;: false, &quot;fillColor&quot;: &quot;blue&quot;, &quot;fillOpacity&quot;: 0.2, &quot;fillRule&quot;: &quot;evenodd&quot;, &quot;lineCap&quot;: &quot;round&quot;, &quot;lineJoin&quot;: &quot;round&quot;, &quot;noClip&quot;: false, &quot;opacity&quot;: 1, &quot;smoothFactor&quot;: 1.0, &quot;stroke&quot;: true, &quot;weight&quot;: 2}\n",
       "            ).addTo(map_ddd2b039d4809540256119fbd65c61a5);\n",
       "        \n",
       "    \n",
       "            poly_line_68350427d1e004c2d49a5d906f32c119.bindTooltip(\n",
       "                `&lt;div&gt;\n",
       "                     40675E\n",
       "                 &lt;/div&gt;`,\n",
       "                {&quot;sticky&quot;: true}\n",
       "            );\n",
       "        \n",
       "    \n",
       "            var marker_310be5339eda1841b0ff816bf825c1fb = L.marker(\n",
       "                [45.699028, -61.649712],\n",
       "                {}\n",
       "            ).addTo(map_ddd2b039d4809540256119fbd65c61a5);\n",
       "        \n",
       "    \n",
       "            var div_icon_298afd9c6869979f9fd48b358ace793c = L.divIcon({&quot;className&quot;: &quot;empty&quot;, &quot;html&quot;: &quot;\\u003cdiv\\u003e\\u003cdiv style=\\&quot;transform: rotate(243.0deg); border: 8px solid transparent; border-bottom-color: blue; width: 0; height: 0;\\&quot;\\u003e\\u003c/div\\u003e\\u003c/div\\u003e&quot;});\n",
       "            marker_310be5339eda1841b0ff816bf825c1fb.setIcon(div_icon_298afd9c6869979f9fd48b358ace793c);\n",
       "        \n",
       "    \n",
       "            marker_310be5339eda1841b0ff816bf825c1fb.bindTooltip(\n",
       "                `&lt;div&gt;\n",
       "                     406948\n",
       "                 &lt;/div&gt;`,\n",
       "                {&quot;sticky&quot;: true}\n",
       "            );\n",
       "        \n",
       "    \n",
       "            var marker_a2b2ef7c9942f3587fcd7602d5d73871 = L.marker(\n",
       "                [45.518188, -62.149985],\n",
       "                {}\n",
       "            ).addTo(map_ddd2b039d4809540256119fbd65c61a5);\n",
       "        \n",
       "    \n",
       "            var div_icon_8e828f69ca2fc0d8eb80a7f298777534 = L.divIcon({&quot;className&quot;: &quot;empty&quot;, &quot;html&quot;: &quot;\\u003cdiv\\u003e\\u003cdiv style=\\&quot;transform: rotate(242.7deg); border: 8px solid transparent; border-bottom-color: blue; width: 0; height: 0;\\&quot;\\u003e\\u003c/div\\u003e\\u003c/div\\u003e&quot;});\n",
       "            marker_a2b2ef7c9942f3587fcd7602d5d73871.setIcon(div_icon_8e828f69ca2fc0d8eb80a7f298777534);\n",
       "        \n",
       "    \n",
       "            marker_a2b2ef7c9942f3587fcd7602d5d73871.bindTooltip(\n",
       "                `&lt;div&gt;\n",
       "                     406948\n",
       "                 &lt;/div&gt;`,\n",
       "                {&quot;sticky&quot;: true}\n",
       "            );\n",
       "        \n",
       "    \n",
       "            var poly_line_205ccefcb506f9166167667be7e560a1 = L.polyline(\n",
       "                [[45.699028, -61.649712], [45.518188, -62.149985]],\n",
       "                {&quot;bubblingMouseEvents&quot;: true, &quot;color&quot;: &quot;blue&quot;, &quot;dashArray&quot;: null, &quot;dashOffset&quot;: null, &quot;fill&quot;: false, &quot;fillColor&quot;: &quot;blue&quot;, &quot;fillOpacity&quot;: 0.2, &quot;fillRule&quot;: &quot;evenodd&quot;, &quot;lineCap&quot;: &quot;round&quot;, &quot;lineJoin&quot;: &quot;round&quot;, &quot;noClip&quot;: false, &quot;opacity&quot;: 1, &quot;smoothFactor&quot;: 1.0, &quot;stroke&quot;: true, &quot;weight&quot;: 2}\n",
       "            ).addTo(map_ddd2b039d4809540256119fbd65c61a5);\n",
       "        \n",
       "    \n",
       "            poly_line_205ccefcb506f9166167667be7e560a1.bindTooltip(\n",
       "                `&lt;div&gt;\n",
       "                     406948\n",
       "                 &lt;/div&gt;`,\n",
       "                {&quot;sticky&quot;: true}\n",
       "            );\n",
       "        \n",
       "    \n",
       "            var marker_13abef9ebb28025ff5643157f2260700 = L.marker(\n",
       "                [45.699028, -61.649712],\n",
       "                {}\n",
       "            ).addTo(map_ddd2b039d4809540256119fbd65c61a5);\n",
       "        \n",
       "    \n",
       "            var div_icon_8a2fca398dfbf618caf36deb76d050f8 = L.divIcon({&quot;className&quot;: &quot;empty&quot;, &quot;html&quot;: &quot;\\u003cdiv\\u003e\\u003cdiv style=\\&quot;transform: rotate(243.0deg); border: 8px solid transparent; border-bottom-color: blue; width: 0; height: 0;\\&quot;\\u003e\\u003c/div\\u003e\\u003c/div\\u003e&quot;});\n",
       "            marker_13abef9ebb28025ff5643157f2260700.setIcon(div_icon_8a2fca398dfbf618caf36deb76d050f8);\n",
       "        \n",
       "    \n",
       "            marker_13abef9ebb28025ff5643157f2260700.bindTooltip(\n",
       "                `&lt;div&gt;\n",
       "                     406948\n",
       "                 &lt;/div&gt;`,\n",
       "                {&quot;sticky&quot;: true}\n",
       "            );\n",
       "        \n",
       "    \n",
       "            var marker_4e0d494ac8c92ffc75730d5f385a8a8e = L.marker(\n",
       "                [45.518188, -62.149985],\n",
       "                {}\n",
       "            ).addTo(map_ddd2b039d4809540256119fbd65c61a5);\n",
       "        \n",
       "    \n",
       "            var div_icon_32e965aac263841be2b61e18f62b8df0 = L.divIcon({&quot;className&quot;: &quot;empty&quot;, &quot;html&quot;: &quot;\\u003cdiv\\u003e\\u003cdiv style=\\&quot;transform: rotate(242.7deg); border: 8px solid transparent; border-bottom-color: blue; width: 0; height: 0;\\&quot;\\u003e\\u003c/div\\u003e\\u003c/div\\u003e&quot;});\n",
       "            marker_4e0d494ac8c92ffc75730d5f385a8a8e.setIcon(div_icon_32e965aac263841be2b61e18f62b8df0);\n",
       "        \n",
       "    \n",
       "            marker_4e0d494ac8c92ffc75730d5f385a8a8e.bindTooltip(\n",
       "                `&lt;div&gt;\n",
       "                     406948\n",
       "                 &lt;/div&gt;`,\n",
       "                {&quot;sticky&quot;: true}\n",
       "            );\n",
       "        \n",
       "    \n",
       "            var poly_line_229edc5cdbbcaaf8c55e77cc04a213e8 = L.polyline(\n",
       "                [[45.699028, -61.649712], [45.518188, -62.149985]],\n",
       "                {&quot;bubblingMouseEvents&quot;: true, &quot;color&quot;: &quot;blue&quot;, &quot;dashArray&quot;: null, &quot;dashOffset&quot;: null, &quot;fill&quot;: false, &quot;fillColor&quot;: &quot;blue&quot;, &quot;fillOpacity&quot;: 0.2, &quot;fillRule&quot;: &quot;evenodd&quot;, &quot;lineCap&quot;: &quot;round&quot;, &quot;lineJoin&quot;: &quot;round&quot;, &quot;noClip&quot;: false, &quot;opacity&quot;: 1, &quot;smoothFactor&quot;: 1.0, &quot;stroke&quot;: true, &quot;weight&quot;: 2}\n",
       "            ).addTo(map_ddd2b039d4809540256119fbd65c61a5);\n",
       "        \n",
       "    \n",
       "            poly_line_229edc5cdbbcaaf8c55e77cc04a213e8.bindTooltip(\n",
       "                `&lt;div&gt;\n",
       "                     406948\n",
       "                 &lt;/div&gt;`,\n",
       "                {&quot;sticky&quot;: true}\n",
       "            );\n",
       "        \n",
       "    \n",
       "            var marker_7c6b40817b697ee5e34a78ec2d071d6e = L.marker(\n",
       "                [45.804703, -61.210662],\n",
       "                {}\n",
       "            ).addTo(map_ddd2b039d4809540256119fbd65c61a5);\n",
       "        \n",
       "    \n",
       "            var div_icon_62cb7c13837620fc50aac6215cc47bc7 = L.divIcon({&quot;className&quot;: &quot;empty&quot;, &quot;html&quot;: &quot;\\u003cdiv\\u003e\\u003cdiv style=\\&quot;transform: rotate(243.1deg); border: 8px solid transparent; border-bottom-color: blue; width: 0; height: 0;\\&quot;\\u003e\\u003c/div\\u003e\\u003c/div\\u003e&quot;});\n",
       "            marker_7c6b40817b697ee5e34a78ec2d071d6e.setIcon(div_icon_62cb7c13837620fc50aac6215cc47bc7);\n",
       "        \n",
       "    \n",
       "            marker_7c6b40817b697ee5e34a78ec2d071d6e.bindTooltip(\n",
       "                `&lt;div&gt;\n",
       "                     406C39\n",
       "                 &lt;/div&gt;`,\n",
       "                {&quot;sticky&quot;: true}\n",
       "            );\n",
       "        \n",
       "    \n",
       "            var marker_5287c36b1529a195a3000bd3ce898d99 = L.marker(\n",
       "                [45.617888, -61.733757],\n",
       "                {}\n",
       "            ).addTo(map_ddd2b039d4809540256119fbd65c61a5);\n",
       "        \n",
       "    \n",
       "            var div_icon_e456b7a5ab600687152ddbfd4e8e8eb1 = L.divIcon({&quot;className&quot;: &quot;empty&quot;, &quot;html&quot;: &quot;\\u003cdiv\\u003e\\u003cdiv style=\\&quot;transform: rotate(242.8deg); border: 8px solid transparent; border-bottom-color: blue; width: 0; height: 0;\\&quot;\\u003e\\u003c/div\\u003e\\u003c/div\\u003e&quot;});\n",
       "            marker_5287c36b1529a195a3000bd3ce898d99.setIcon(div_icon_e456b7a5ab600687152ddbfd4e8e8eb1);\n",
       "        \n",
       "    \n",
       "            marker_5287c36b1529a195a3000bd3ce898d99.bindTooltip(\n",
       "                `&lt;div&gt;\n",
       "                     406C39\n",
       "                 &lt;/div&gt;`,\n",
       "                {&quot;sticky&quot;: true}\n",
       "            );\n",
       "        \n",
       "    \n",
       "            var poly_line_4289918ff7c981a754ad66bfc66770db = L.polyline(\n",
       "                [[45.804703, -61.210662], [45.617888, -61.733757]],\n",
       "                {&quot;bubblingMouseEvents&quot;: true, &quot;color&quot;: &quot;blue&quot;, &quot;dashArray&quot;: null, &quot;dashOffset&quot;: null, &quot;fill&quot;: false, &quot;fillColor&quot;: &quot;blue&quot;, &quot;fillOpacity&quot;: 0.2, &quot;fillRule&quot;: &quot;evenodd&quot;, &quot;lineCap&quot;: &quot;round&quot;, &quot;lineJoin&quot;: &quot;round&quot;, &quot;noClip&quot;: false, &quot;opacity&quot;: 1, &quot;smoothFactor&quot;: 1.0, &quot;stroke&quot;: true, &quot;weight&quot;: 2}\n",
       "            ).addTo(map_ddd2b039d4809540256119fbd65c61a5);\n",
       "        \n",
       "    \n",
       "            poly_line_4289918ff7c981a754ad66bfc66770db.bindTooltip(\n",
       "                `&lt;div&gt;\n",
       "                     406C39\n",
       "                 &lt;/div&gt;`,\n",
       "                {&quot;sticky&quot;: true}\n",
       "            );\n",
       "        \n",
       "    \n",
       "            var marker_b7574477a4e209ba6d5b6df747c41006 = L.marker(\n",
       "                [45.804703, -61.210662],\n",
       "                {}\n",
       "            ).addTo(map_ddd2b039d4809540256119fbd65c61a5);\n",
       "        \n",
       "    \n",
       "            var div_icon_9b65973c0f9fee045579f12767c9eb57 = L.divIcon({&quot;className&quot;: &quot;empty&quot;, &quot;html&quot;: &quot;\\u003cdiv\\u003e\\u003cdiv style=\\&quot;transform: rotate(243.1deg); border: 8px solid transparent; border-bottom-color: blue; width: 0; height: 0;\\&quot;\\u003e\\u003c/div\\u003e\\u003c/div\\u003e&quot;});\n",
       "            marker_b7574477a4e209ba6d5b6df747c41006.setIcon(div_icon_9b65973c0f9fee045579f12767c9eb57);\n",
       "        \n",
       "    \n",
       "            marker_b7574477a4e209ba6d5b6df747c41006.bindTooltip(\n",
       "                `&lt;div&gt;\n",
       "                     406C39\n",
       "                 &lt;/div&gt;`,\n",
       "                {&quot;sticky&quot;: true}\n",
       "            );\n",
       "        \n",
       "    \n",
       "            var marker_b934777043dd9cb7c62673926d194b9d = L.marker(\n",
       "                [45.617888, -61.733757],\n",
       "                {}\n",
       "            ).addTo(map_ddd2b039d4809540256119fbd65c61a5);\n",
       "        \n",
       "    \n",
       "            var div_icon_eff2e277ec0f40e079117d2ec7e0862c = L.divIcon({&quot;className&quot;: &quot;empty&quot;, &quot;html&quot;: &quot;\\u003cdiv\\u003e\\u003cdiv style=\\&quot;transform: rotate(242.8deg); border: 8px solid transparent; border-bottom-color: blue; width: 0; height: 0;\\&quot;\\u003e\\u003c/div\\u003e\\u003c/div\\u003e&quot;});\n",
       "            marker_b934777043dd9cb7c62673926d194b9d.setIcon(div_icon_eff2e277ec0f40e079117d2ec7e0862c);\n",
       "        \n",
       "    \n",
       "            marker_b934777043dd9cb7c62673926d194b9d.bindTooltip(\n",
       "                `&lt;div&gt;\n",
       "                     406C39\n",
       "                 &lt;/div&gt;`,\n",
       "                {&quot;sticky&quot;: true}\n",
       "            );\n",
       "        \n",
       "    \n",
       "            var poly_line_e9ba79ddd290232c08a8f5c259c31930 = L.polyline(\n",
       "                [[45.804703, -61.210662], [45.617888, -61.733757]],\n",
       "                {&quot;bubblingMouseEvents&quot;: true, &quot;color&quot;: &quot;blue&quot;, &quot;dashArray&quot;: null, &quot;dashOffset&quot;: null, &quot;fill&quot;: false, &quot;fillColor&quot;: &quot;blue&quot;, &quot;fillOpacity&quot;: 0.2, &quot;fillRule&quot;: &quot;evenodd&quot;, &quot;lineCap&quot;: &quot;round&quot;, &quot;lineJoin&quot;: &quot;round&quot;, &quot;noClip&quot;: false, &quot;opacity&quot;: 1, &quot;smoothFactor&quot;: 1.0, &quot;stroke&quot;: true, &quot;weight&quot;: 2}\n",
       "            ).addTo(map_ddd2b039d4809540256119fbd65c61a5);\n",
       "        \n",
       "    \n",
       "            poly_line_e9ba79ddd290232c08a8f5c259c31930.bindTooltip(\n",
       "                `&lt;div&gt;\n",
       "                     406C39\n",
       "                 &lt;/div&gt;`,\n",
       "                {&quot;sticky&quot;: true}\n",
       "            );\n",
       "        \n",
       "    \n",
       "            var marker_d0d54647f9b71892163b63a5585a2e21 = L.marker(\n",
       "                [45.573669, -61.961082],\n",
       "                {}\n",
       "            ).addTo(map_ddd2b039d4809540256119fbd65c61a5);\n",
       "        \n",
       "    \n",
       "            var div_icon_753a508617d96ba5596f6d2ddef29a2f = L.divIcon({&quot;className&quot;: &quot;empty&quot;, &quot;html&quot;: &quot;\\u003cdiv\\u003e\\u003cdiv style=\\&quot;transform: rotate(242.6deg); border: 8px solid transparent; border-bottom-color: blue; width: 0; height: 0;\\&quot;\\u003e\\u003c/div\\u003e\\u003c/div\\u003e&quot;});\n",
       "            marker_d0d54647f9b71892163b63a5585a2e21.setIcon(div_icon_753a508617d96ba5596f6d2ddef29a2f);\n",
       "        \n",
       "    \n",
       "            marker_d0d54647f9b71892163b63a5585a2e21.bindTooltip(\n",
       "                `&lt;div&gt;\n",
       "                     407CD2\n",
       "                 &lt;/div&gt;`,\n",
       "                {&quot;sticky&quot;: true}\n",
       "            );\n",
       "        \n",
       "    \n",
       "            var marker_983190c27ce44ab4eae3ab13382fcd90 = L.marker(\n",
       "                [45.388106, -62.466788],\n",
       "                {}\n",
       "            ).addTo(map_ddd2b039d4809540256119fbd65c61a5);\n",
       "        \n",
       "    \n",
       "            var div_icon_adbda2d00f1ee1ae6ec80e61795dbe1e = L.divIcon({&quot;className&quot;: &quot;empty&quot;, &quot;html&quot;: &quot;\\u003cdiv\\u003e\\u003cdiv style=\\&quot;transform: rotate(242.3deg); border: 8px solid transparent; border-bottom-color: blue; width: 0; height: 0;\\&quot;\\u003e\\u003c/div\\u003e\\u003c/div\\u003e&quot;});\n",
       "            marker_983190c27ce44ab4eae3ab13382fcd90.setIcon(div_icon_adbda2d00f1ee1ae6ec80e61795dbe1e);\n",
       "        \n",
       "    \n",
       "            marker_983190c27ce44ab4eae3ab13382fcd90.bindTooltip(\n",
       "                `&lt;div&gt;\n",
       "                     407CD2\n",
       "                 &lt;/div&gt;`,\n",
       "                {&quot;sticky&quot;: true}\n",
       "            );\n",
       "        \n",
       "    \n",
       "            var poly_line_6aea0b76efa492f20dbf84c3a58f84a9 = L.polyline(\n",
       "                [[45.573669, -61.961082], [45.388106, -62.466788]],\n",
       "                {&quot;bubblingMouseEvents&quot;: true, &quot;color&quot;: &quot;blue&quot;, &quot;dashArray&quot;: null, &quot;dashOffset&quot;: null, &quot;fill&quot;: false, &quot;fillColor&quot;: &quot;blue&quot;, &quot;fillOpacity&quot;: 0.2, &quot;fillRule&quot;: &quot;evenodd&quot;, &quot;lineCap&quot;: &quot;round&quot;, &quot;lineJoin&quot;: &quot;round&quot;, &quot;noClip&quot;: false, &quot;opacity&quot;: 1, &quot;smoothFactor&quot;: 1.0, &quot;stroke&quot;: true, &quot;weight&quot;: 2}\n",
       "            ).addTo(map_ddd2b039d4809540256119fbd65c61a5);\n",
       "        \n",
       "    \n",
       "            poly_line_6aea0b76efa492f20dbf84c3a58f84a9.bindTooltip(\n",
       "                `&lt;div&gt;\n",
       "                     407CD2\n",
       "                 &lt;/div&gt;`,\n",
       "                {&quot;sticky&quot;: true}\n",
       "            );\n",
       "        \n",
       "    \n",
       "            var marker_9ee2cb916f784659515b984502f7fc64 = L.marker(\n",
       "                [45.573669, -61.961082],\n",
       "                {}\n",
       "            ).addTo(map_ddd2b039d4809540256119fbd65c61a5);\n",
       "        \n",
       "    \n",
       "            var div_icon_e14545a789fe2f2e1b12766405852499 = L.divIcon({&quot;className&quot;: &quot;empty&quot;, &quot;html&quot;: &quot;\\u003cdiv\\u003e\\u003cdiv style=\\&quot;transform: rotate(242.6deg); border: 8px solid transparent; border-bottom-color: blue; width: 0; height: 0;\\&quot;\\u003e\\u003c/div\\u003e\\u003c/div\\u003e&quot;});\n",
       "            marker_9ee2cb916f784659515b984502f7fc64.setIcon(div_icon_e14545a789fe2f2e1b12766405852499);\n",
       "        \n",
       "    \n",
       "            marker_9ee2cb916f784659515b984502f7fc64.bindTooltip(\n",
       "                `&lt;div&gt;\n",
       "                     407CD2\n",
       "                 &lt;/div&gt;`,\n",
       "                {&quot;sticky&quot;: true}\n",
       "            );\n",
       "        \n",
       "    \n",
       "            var marker_48c654030d41652b83f30ab28d37255d = L.marker(\n",
       "                [45.388106, -62.466788],\n",
       "                {}\n",
       "            ).addTo(map_ddd2b039d4809540256119fbd65c61a5);\n",
       "        \n",
       "    \n",
       "            var div_icon_3469e15cc7f33a0cc34cfaf0c38aec33 = L.divIcon({&quot;className&quot;: &quot;empty&quot;, &quot;html&quot;: &quot;\\u003cdiv\\u003e\\u003cdiv style=\\&quot;transform: rotate(242.3deg); border: 8px solid transparent; border-bottom-color: blue; width: 0; height: 0;\\&quot;\\u003e\\u003c/div\\u003e\\u003c/div\\u003e&quot;});\n",
       "            marker_48c654030d41652b83f30ab28d37255d.setIcon(div_icon_3469e15cc7f33a0cc34cfaf0c38aec33);\n",
       "        \n",
       "    \n",
       "            marker_48c654030d41652b83f30ab28d37255d.bindTooltip(\n",
       "                `&lt;div&gt;\n",
       "                     407CD2\n",
       "                 &lt;/div&gt;`,\n",
       "                {&quot;sticky&quot;: true}\n",
       "            );\n",
       "        \n",
       "    \n",
       "            var poly_line_e307b7e6c4071304657593a4957272e5 = L.polyline(\n",
       "                [[45.573669, -61.961082], [45.388106, -62.466788]],\n",
       "                {&quot;bubblingMouseEvents&quot;: true, &quot;color&quot;: &quot;blue&quot;, &quot;dashArray&quot;: null, &quot;dashOffset&quot;: null, &quot;fill&quot;: false, &quot;fillColor&quot;: &quot;blue&quot;, &quot;fillOpacity&quot;: 0.2, &quot;fillRule&quot;: &quot;evenodd&quot;, &quot;lineCap&quot;: &quot;round&quot;, &quot;lineJoin&quot;: &quot;round&quot;, &quot;noClip&quot;: false, &quot;opacity&quot;: 1, &quot;smoothFactor&quot;: 1.0, &quot;stroke&quot;: true, &quot;weight&quot;: 2}\n",
       "            ).addTo(map_ddd2b039d4809540256119fbd65c61a5);\n",
       "        \n",
       "    \n",
       "            poly_line_e307b7e6c4071304657593a4957272e5.bindTooltip(\n",
       "                `&lt;div&gt;\n",
       "                     407CD2\n",
       "                 &lt;/div&gt;`,\n",
       "                {&quot;sticky&quot;: true}\n",
       "            );\n",
       "        \n",
       "    \n",
       "            var marker_d915a10cdfaacab7b5d1ae504449927f = L.marker(\n",
       "                [47.753239, -63.599079],\n",
       "                {}\n",
       "            ).addTo(map_ddd2b039d4809540256119fbd65c61a5);\n",
       "        \n",
       "    \n",
       "            var div_icon_958db5a5fb6e2918aa76a9ba27373e86 = L.divIcon({&quot;className&quot;: &quot;empty&quot;, &quot;html&quot;: &quot;\\u003cdiv\\u003e\\u003cdiv style=\\&quot;transform: rotate(250.8deg); border: 8px solid transparent; border-bottom-color: blue; width: 0; height: 0;\\&quot;\\u003e\\u003c/div\\u003e\\u003c/div\\u003e&quot;});\n",
       "            marker_d915a10cdfaacab7b5d1ae504449927f.setIcon(div_icon_958db5a5fb6e2918aa76a9ba27373e86);\n",
       "        \n",
       "    \n",
       "            marker_d915a10cdfaacab7b5d1ae504449927f.bindTooltip(\n",
       "                `&lt;div&gt;\n",
       "                     485B45\n",
       "                 &lt;/div&gt;`,\n",
       "                {&quot;sticky&quot;: true}\n",
       "            );\n",
       "        \n",
       "    \n",
       "            var marker_79e0d21f70ee949ebe71787af0b4f6e9 = L.marker(\n",
       "                [47.623079, -64.143958],\n",
       "                {}\n",
       "            ).addTo(map_ddd2b039d4809540256119fbd65c61a5);\n",
       "        \n",
       "    \n",
       "            var div_icon_6b183339c04ac9b52902bbcb967a66a8 = L.divIcon({&quot;className&quot;: &quot;empty&quot;, &quot;html&quot;: &quot;\\u003cdiv\\u003e\\u003cdiv style=\\&quot;transform: rotate(250.4deg); border: 8px solid transparent; border-bottom-color: blue; width: 0; height: 0;\\&quot;\\u003e\\u003c/div\\u003e\\u003c/div\\u003e&quot;});\n",
       "            marker_79e0d21f70ee949ebe71787af0b4f6e9.setIcon(div_icon_6b183339c04ac9b52902bbcb967a66a8);\n",
       "        \n",
       "    \n",
       "            marker_79e0d21f70ee949ebe71787af0b4f6e9.bindTooltip(\n",
       "                `&lt;div&gt;\n",
       "                     485B45\n",
       "                 &lt;/div&gt;`,\n",
       "                {&quot;sticky&quot;: true}\n",
       "            );\n",
       "        \n",
       "    \n",
       "            var poly_line_395cc7085e1c94f8147fe4bf6ee3a4aa = L.polyline(\n",
       "                [[47.753239, -63.599079], [47.623079, -64.143958]],\n",
       "                {&quot;bubblingMouseEvents&quot;: true, &quot;color&quot;: &quot;blue&quot;, &quot;dashArray&quot;: null, &quot;dashOffset&quot;: null, &quot;fill&quot;: false, &quot;fillColor&quot;: &quot;blue&quot;, &quot;fillOpacity&quot;: 0.2, &quot;fillRule&quot;: &quot;evenodd&quot;, &quot;lineCap&quot;: &quot;round&quot;, &quot;lineJoin&quot;: &quot;round&quot;, &quot;noClip&quot;: false, &quot;opacity&quot;: 1, &quot;smoothFactor&quot;: 1.0, &quot;stroke&quot;: true, &quot;weight&quot;: 2}\n",
       "            ).addTo(map_ddd2b039d4809540256119fbd65c61a5);\n",
       "        \n",
       "    \n",
       "            poly_line_395cc7085e1c94f8147fe4bf6ee3a4aa.bindTooltip(\n",
       "                `&lt;div&gt;\n",
       "                     485B45\n",
       "                 &lt;/div&gt;`,\n",
       "                {&quot;sticky&quot;: true}\n",
       "            );\n",
       "        \n",
       "    \n",
       "            var marker_9fa4c36d9421b41026fdc4cc73e2fcc3 = L.marker(\n",
       "                [47.753239, -63.599079],\n",
       "                {}\n",
       "            ).addTo(map_ddd2b039d4809540256119fbd65c61a5);\n",
       "        \n",
       "    \n",
       "            var div_icon_36c21aae4ee09f5becca3b1c32a73ab9 = L.divIcon({&quot;className&quot;: &quot;empty&quot;, &quot;html&quot;: &quot;\\u003cdiv\\u003e\\u003cdiv style=\\&quot;transform: rotate(250.8deg); border: 8px solid transparent; border-bottom-color: blue; width: 0; height: 0;\\&quot;\\u003e\\u003c/div\\u003e\\u003c/div\\u003e&quot;});\n",
       "            marker_9fa4c36d9421b41026fdc4cc73e2fcc3.setIcon(div_icon_36c21aae4ee09f5becca3b1c32a73ab9);\n",
       "        \n",
       "    \n",
       "            marker_9fa4c36d9421b41026fdc4cc73e2fcc3.bindTooltip(\n",
       "                `&lt;div&gt;\n",
       "                     485B45\n",
       "                 &lt;/div&gt;`,\n",
       "                {&quot;sticky&quot;: true}\n",
       "            );\n",
       "        \n",
       "    \n",
       "            var marker_2b74611324833055d300bc03b630a47f = L.marker(\n",
       "                [47.623079, -64.143958],\n",
       "                {}\n",
       "            ).addTo(map_ddd2b039d4809540256119fbd65c61a5);\n",
       "        \n",
       "    \n",
       "            var div_icon_2021f60e77ac1870b8c345bccb9d9d9f = L.divIcon({&quot;className&quot;: &quot;empty&quot;, &quot;html&quot;: &quot;\\u003cdiv\\u003e\\u003cdiv style=\\&quot;transform: rotate(250.4deg); border: 8px solid transparent; border-bottom-color: blue; width: 0; height: 0;\\&quot;\\u003e\\u003c/div\\u003e\\u003c/div\\u003e&quot;});\n",
       "            marker_2b74611324833055d300bc03b630a47f.setIcon(div_icon_2021f60e77ac1870b8c345bccb9d9d9f);\n",
       "        \n",
       "    \n",
       "            marker_2b74611324833055d300bc03b630a47f.bindTooltip(\n",
       "                `&lt;div&gt;\n",
       "                     485B45\n",
       "                 &lt;/div&gt;`,\n",
       "                {&quot;sticky&quot;: true}\n",
       "            );\n",
       "        \n",
       "    \n",
       "            var poly_line_7121d845e4f8329a12e3ab6ab062287d = L.polyline(\n",
       "                [[47.753239, -63.599079], [47.623079, -64.143958]],\n",
       "                {&quot;bubblingMouseEvents&quot;: true, &quot;color&quot;: &quot;blue&quot;, &quot;dashArray&quot;: null, &quot;dashOffset&quot;: null, &quot;fill&quot;: false, &quot;fillColor&quot;: &quot;blue&quot;, &quot;fillOpacity&quot;: 0.2, &quot;fillRule&quot;: &quot;evenodd&quot;, &quot;lineCap&quot;: &quot;round&quot;, &quot;lineJoin&quot;: &quot;round&quot;, &quot;noClip&quot;: false, &quot;opacity&quot;: 1, &quot;smoothFactor&quot;: 1.0, &quot;stroke&quot;: true, &quot;weight&quot;: 2}\n",
       "            ).addTo(map_ddd2b039d4809540256119fbd65c61a5);\n",
       "        \n",
       "    \n",
       "            poly_line_7121d845e4f8329a12e3ab6ab062287d.bindTooltip(\n",
       "                `&lt;div&gt;\n",
       "                     485B45\n",
       "                 &lt;/div&gt;`,\n",
       "                {&quot;sticky&quot;: true}\n",
       "            );\n",
       "        \n",
       "    \n",
       "            var marker_a3186727864462a71500777e8ca1b6a4 = L.marker(\n",
       "                [47.511586, -61.610201],\n",
       "                {}\n",
       "            ).addTo(map_ddd2b039d4809540256119fbd65c61a5);\n",
       "        \n",
       "    \n",
       "            var div_icon_f8eb18765d37cde1e9f486acb1a27c0e = L.divIcon({&quot;className&quot;: &quot;empty&quot;, &quot;html&quot;: &quot;\\u003cdiv\\u003e\\u003cdiv style=\\&quot;transform: rotate(262.3deg); border: 8px solid transparent; border-bottom-color: blue; width: 0; height: 0;\\&quot;\\u003e\\u003c/div\\u003e\\u003c/div\\u003e&quot;});\n",
       "            marker_a3186727864462a71500777e8ca1b6a4.setIcon(div_icon_f8eb18765d37cde1e9f486acb1a27c0e);\n",
       "        \n",
       "    \n",
       "            marker_a3186727864462a71500777e8ca1b6a4.bindTooltip(\n",
       "                `&lt;div&gt;\n",
       "                     495304\n",
       "                 &lt;/div&gt;`,\n",
       "                {&quot;sticky&quot;: true}\n",
       "            );\n",
       "        \n",
       "    \n",
       "            var marker_57a681bb4cc88bcc923158b81281d52e = L.marker(\n",
       "                [47.462101, -62.132686],\n",
       "                {}\n",
       "            ).addTo(map_ddd2b039d4809540256119fbd65c61a5);\n",
       "        \n",
       "    \n",
       "            var div_icon_5033f5cbd16f2d1bff15818f0d20c96b = L.divIcon({&quot;className&quot;: &quot;empty&quot;, &quot;html&quot;: &quot;\\u003cdiv\\u003e\\u003cdiv style=\\&quot;transform: rotate(261.8deg); border: 8px solid transparent; border-bottom-color: blue; width: 0; height: 0;\\&quot;\\u003e\\u003c/div\\u003e\\u003c/div\\u003e&quot;});\n",
       "            marker_57a681bb4cc88bcc923158b81281d52e.setIcon(div_icon_5033f5cbd16f2d1bff15818f0d20c96b);\n",
       "        \n",
       "    \n",
       "            marker_57a681bb4cc88bcc923158b81281d52e.bindTooltip(\n",
       "                `&lt;div&gt;\n",
       "                     495304\n",
       "                 &lt;/div&gt;`,\n",
       "                {&quot;sticky&quot;: true}\n",
       "            );\n",
       "        \n",
       "    \n",
       "            var poly_line_834a56a446e0c247577537aa7302d7cf = L.polyline(\n",
       "                [[47.511586, -61.610201], [47.462101, -62.132686]],\n",
       "                {&quot;bubblingMouseEvents&quot;: true, &quot;color&quot;: &quot;blue&quot;, &quot;dashArray&quot;: null, &quot;dashOffset&quot;: null, &quot;fill&quot;: false, &quot;fillColor&quot;: &quot;blue&quot;, &quot;fillOpacity&quot;: 0.2, &quot;fillRule&quot;: &quot;evenodd&quot;, &quot;lineCap&quot;: &quot;round&quot;, &quot;lineJoin&quot;: &quot;round&quot;, &quot;noClip&quot;: false, &quot;opacity&quot;: 1, &quot;smoothFactor&quot;: 1.0, &quot;stroke&quot;: true, &quot;weight&quot;: 2}\n",
       "            ).addTo(map_ddd2b039d4809540256119fbd65c61a5);\n",
       "        \n",
       "    \n",
       "            poly_line_834a56a446e0c247577537aa7302d7cf.bindTooltip(\n",
       "                `&lt;div&gt;\n",
       "                     495304\n",
       "                 &lt;/div&gt;`,\n",
       "                {&quot;sticky&quot;: true}\n",
       "            );\n",
       "        \n",
       "    \n",
       "            var marker_1ae365e43c6e12ae45eced50e5a13707 = L.marker(\n",
       "                [47.511586, -61.610201],\n",
       "                {}\n",
       "            ).addTo(map_ddd2b039d4809540256119fbd65c61a5);\n",
       "        \n",
       "    \n",
       "            var div_icon_e92a7c5c95732c8334da0061297ac490 = L.divIcon({&quot;className&quot;: &quot;empty&quot;, &quot;html&quot;: &quot;\\u003cdiv\\u003e\\u003cdiv style=\\&quot;transform: rotate(262.3deg); border: 8px solid transparent; border-bottom-color: blue; width: 0; height: 0;\\&quot;\\u003e\\u003c/div\\u003e\\u003c/div\\u003e&quot;});\n",
       "            marker_1ae365e43c6e12ae45eced50e5a13707.setIcon(div_icon_e92a7c5c95732c8334da0061297ac490);\n",
       "        \n",
       "    \n",
       "            marker_1ae365e43c6e12ae45eced50e5a13707.bindTooltip(\n",
       "                `&lt;div&gt;\n",
       "                     495304\n",
       "                 &lt;/div&gt;`,\n",
       "                {&quot;sticky&quot;: true}\n",
       "            );\n",
       "        \n",
       "    \n",
       "            var marker_6e48dad9c566beef0f3e7da8cfadd1b9 = L.marker(\n",
       "                [47.462101, -62.132686],\n",
       "                {}\n",
       "            ).addTo(map_ddd2b039d4809540256119fbd65c61a5);\n",
       "        \n",
       "    \n",
       "            var div_icon_85cc4ac17ae7d17035d6929b58bad76d = L.divIcon({&quot;className&quot;: &quot;empty&quot;, &quot;html&quot;: &quot;\\u003cdiv\\u003e\\u003cdiv style=\\&quot;transform: rotate(261.8deg); border: 8px solid transparent; border-bottom-color: blue; width: 0; height: 0;\\&quot;\\u003e\\u003c/div\\u003e\\u003c/div\\u003e&quot;});\n",
       "            marker_6e48dad9c566beef0f3e7da8cfadd1b9.setIcon(div_icon_85cc4ac17ae7d17035d6929b58bad76d);\n",
       "        \n",
       "    \n",
       "            marker_6e48dad9c566beef0f3e7da8cfadd1b9.bindTooltip(\n",
       "                `&lt;div&gt;\n",
       "                     495304\n",
       "                 &lt;/div&gt;`,\n",
       "                {&quot;sticky&quot;: true}\n",
       "            );\n",
       "        \n",
       "    \n",
       "            var poly_line_73533ac2f45e683a5374bb3797159f92 = L.polyline(\n",
       "                [[47.511586, -61.610201], [47.462101, -62.132686]],\n",
       "                {&quot;bubblingMouseEvents&quot;: true, &quot;color&quot;: &quot;blue&quot;, &quot;dashArray&quot;: null, &quot;dashOffset&quot;: null, &quot;fill&quot;: false, &quot;fillColor&quot;: &quot;blue&quot;, &quot;fillOpacity&quot;: 0.2, &quot;fillRule&quot;: &quot;evenodd&quot;, &quot;lineCap&quot;: &quot;round&quot;, &quot;lineJoin&quot;: &quot;round&quot;, &quot;noClip&quot;: false, &quot;opacity&quot;: 1, &quot;smoothFactor&quot;: 1.0, &quot;stroke&quot;: true, &quot;weight&quot;: 2}\n",
       "            ).addTo(map_ddd2b039d4809540256119fbd65c61a5);\n",
       "        \n",
       "    \n",
       "            poly_line_73533ac2f45e683a5374bb3797159f92.bindTooltip(\n",
       "                `&lt;div&gt;\n",
       "                     495304\n",
       "                 &lt;/div&gt;`,\n",
       "                {&quot;sticky&quot;: true}\n",
       "            );\n",
       "        \n",
       "    \n",
       "            var marker_11f7f6cc5881f807877f25034df78fb3 = L.marker(\n",
       "                [45.975037, -60.789207],\n",
       "                {}\n",
       "            ).addTo(map_ddd2b039d4809540256119fbd65c61a5);\n",
       "        \n",
       "    \n",
       "            var div_icon_0230df007e0b62ff583672947b209156 = L.divIcon({&quot;className&quot;: &quot;empty&quot;, &quot;html&quot;: &quot;\\u003cdiv\\u003e\\u003cdiv style=\\&quot;transform: rotate(243.7deg); border: 8px solid transparent; border-bottom-color: blue; width: 0; height: 0;\\&quot;\\u003e\\u003c/div\\u003e\\u003c/div\\u003e&quot;});\n",
       "            marker_11f7f6cc5881f807877f25034df78fb3.setIcon(div_icon_0230df007e0b62ff583672947b209156);\n",
       "        \n",
       "    \n",
       "            marker_11f7f6cc5881f807877f25034df78fb3.bindTooltip(\n",
       "                `&lt;div&gt;\n",
       "                     4B187C\n",
       "                 &lt;/div&gt;`,\n",
       "                {&quot;sticky&quot;: true}\n",
       "            );\n",
       "        \n",
       "    \n",
       "            var marker_11075b9ad4b9a064c00820b117a52fda = L.marker(\n",
       "                [45.807821, -61.268692],\n",
       "                {}\n",
       "            ).addTo(map_ddd2b039d4809540256119fbd65c61a5);\n",
       "        \n",
       "    \n",
       "            var div_icon_6d8212cbda1d8589b0b9038d9fa0bf88 = L.divIcon({&quot;className&quot;: &quot;empty&quot;, &quot;html&quot;: &quot;\\u003cdiv\\u003e\\u003cdiv style=\\&quot;transform: rotate(243.3deg); border: 8px solid transparent; border-bottom-color: blue; width: 0; height: 0;\\&quot;\\u003e\\u003c/div\\u003e\\u003c/div\\u003e&quot;});\n",
       "            marker_11075b9ad4b9a064c00820b117a52fda.setIcon(div_icon_6d8212cbda1d8589b0b9038d9fa0bf88);\n",
       "        \n",
       "    \n",
       "            marker_11075b9ad4b9a064c00820b117a52fda.bindTooltip(\n",
       "                `&lt;div&gt;\n",
       "                     4B187C\n",
       "                 &lt;/div&gt;`,\n",
       "                {&quot;sticky&quot;: true}\n",
       "            );\n",
       "        \n",
       "    \n",
       "            var poly_line_000c25a859dd67221be187bbf8255a4e = L.polyline(\n",
       "                [[45.975037, -60.789207], [45.807821, -61.268692]],\n",
       "                {&quot;bubblingMouseEvents&quot;: true, &quot;color&quot;: &quot;blue&quot;, &quot;dashArray&quot;: null, &quot;dashOffset&quot;: null, &quot;fill&quot;: false, &quot;fillColor&quot;: &quot;blue&quot;, &quot;fillOpacity&quot;: 0.2, &quot;fillRule&quot;: &quot;evenodd&quot;, &quot;lineCap&quot;: &quot;round&quot;, &quot;lineJoin&quot;: &quot;round&quot;, &quot;noClip&quot;: false, &quot;opacity&quot;: 1, &quot;smoothFactor&quot;: 1.0, &quot;stroke&quot;: true, &quot;weight&quot;: 2}\n",
       "            ).addTo(map_ddd2b039d4809540256119fbd65c61a5);\n",
       "        \n",
       "    \n",
       "            poly_line_000c25a859dd67221be187bbf8255a4e.bindTooltip(\n",
       "                `&lt;div&gt;\n",
       "                     4B187C\n",
       "                 &lt;/div&gt;`,\n",
       "                {&quot;sticky&quot;: true}\n",
       "            );\n",
       "        \n",
       "    \n",
       "            var marker_7da5202b534b92fc2753681849d2ea9d = L.marker(\n",
       "                [45.975037, -60.789207],\n",
       "                {}\n",
       "            ).addTo(map_ddd2b039d4809540256119fbd65c61a5);\n",
       "        \n",
       "    \n",
       "            var div_icon_2efd07754a4b3d5430c3b48f3b2f551a = L.divIcon({&quot;className&quot;: &quot;empty&quot;, &quot;html&quot;: &quot;\\u003cdiv\\u003e\\u003cdiv style=\\&quot;transform: rotate(243.7deg); border: 8px solid transparent; border-bottom-color: blue; width: 0; height: 0;\\&quot;\\u003e\\u003c/div\\u003e\\u003c/div\\u003e&quot;});\n",
       "            marker_7da5202b534b92fc2753681849d2ea9d.setIcon(div_icon_2efd07754a4b3d5430c3b48f3b2f551a);\n",
       "        \n",
       "    \n",
       "            marker_7da5202b534b92fc2753681849d2ea9d.bindTooltip(\n",
       "                `&lt;div&gt;\n",
       "                     4B187C\n",
       "                 &lt;/div&gt;`,\n",
       "                {&quot;sticky&quot;: true}\n",
       "            );\n",
       "        \n",
       "    \n",
       "            var marker_85aaff0ec24d65b0e65222dd93310b9a = L.marker(\n",
       "                [45.807821, -61.268692],\n",
       "                {}\n",
       "            ).addTo(map_ddd2b039d4809540256119fbd65c61a5);\n",
       "        \n",
       "    \n",
       "            var div_icon_0aa77a7bf42ab7f491a6e5ed707c22ce = L.divIcon({&quot;className&quot;: &quot;empty&quot;, &quot;html&quot;: &quot;\\u003cdiv\\u003e\\u003cdiv style=\\&quot;transform: rotate(243.3deg); border: 8px solid transparent; border-bottom-color: blue; width: 0; height: 0;\\&quot;\\u003e\\u003c/div\\u003e\\u003c/div\\u003e&quot;});\n",
       "            marker_85aaff0ec24d65b0e65222dd93310b9a.setIcon(div_icon_0aa77a7bf42ab7f491a6e5ed707c22ce);\n",
       "        \n",
       "    \n",
       "            marker_85aaff0ec24d65b0e65222dd93310b9a.bindTooltip(\n",
       "                `&lt;div&gt;\n",
       "                     4B187C\n",
       "                 &lt;/div&gt;`,\n",
       "                {&quot;sticky&quot;: true}\n",
       "            );\n",
       "        \n",
       "    \n",
       "            var poly_line_2a0e0f629390b52fe52482656b584b49 = L.polyline(\n",
       "                [[45.975037, -60.789207], [45.807821, -61.268692]],\n",
       "                {&quot;bubblingMouseEvents&quot;: true, &quot;color&quot;: &quot;blue&quot;, &quot;dashArray&quot;: null, &quot;dashOffset&quot;: null, &quot;fill&quot;: false, &quot;fillColor&quot;: &quot;blue&quot;, &quot;fillOpacity&quot;: 0.2, &quot;fillRule&quot;: &quot;evenodd&quot;, &quot;lineCap&quot;: &quot;round&quot;, &quot;lineJoin&quot;: &quot;round&quot;, &quot;noClip&quot;: false, &quot;opacity&quot;: 1, &quot;smoothFactor&quot;: 1.0, &quot;stroke&quot;: true, &quot;weight&quot;: 2}\n",
       "            ).addTo(map_ddd2b039d4809540256119fbd65c61a5);\n",
       "        \n",
       "    \n",
       "            poly_line_2a0e0f629390b52fe52482656b584b49.bindTooltip(\n",
       "                `&lt;div&gt;\n",
       "                     4B187C\n",
       "                 &lt;/div&gt;`,\n",
       "                {&quot;sticky&quot;: true}\n",
       "            );\n",
       "        \n",
       "    \n",
       "            var marker_66156716cc2ac49fc1e0d6feb0714e2f = L.marker(\n",
       "                [45.201828, -62.531825],\n",
       "                {}\n",
       "            ).addTo(map_ddd2b039d4809540256119fbd65c61a5);\n",
       "        \n",
       "    \n",
       "            var div_icon_801544ea42714334db9812774f2af6aa = L.divIcon({&quot;className&quot;: &quot;empty&quot;, &quot;html&quot;: &quot;\\u003cdiv\\u003e\\u003cdiv style=\\&quot;transform: rotate(244.4deg); border: 8px solid transparent; border-bottom-color: blue; width: 0; height: 0;\\&quot;\\u003e\\u003c/div\\u003e\\u003c/div\\u003e&quot;});\n",
       "            marker_66156716cc2ac49fc1e0d6feb0714e2f.setIcon(div_icon_801544ea42714334db9812774f2af6aa);\n",
       "        \n",
       "    \n",
       "            marker_66156716cc2ac49fc1e0d6feb0714e2f.bindTooltip(\n",
       "                `&lt;div&gt;\n",
       "                     4CA87C\n",
       "                 &lt;/div&gt;`,\n",
       "                {&quot;sticky&quot;: true}\n",
       "            );\n",
       "        \n",
       "    \n",
       "            var marker_86e701da35a05493a51ff94294856fd8 = L.marker(\n",
       "                [45.040695, -63.005742],\n",
       "                {}\n",
       "            ).addTo(map_ddd2b039d4809540256119fbd65c61a5);\n",
       "        \n",
       "    \n",
       "            var div_icon_40956f4a074826cebcc9f608dd284d5e = L.divIcon({&quot;className&quot;: &quot;empty&quot;, &quot;html&quot;: &quot;\\u003cdiv\\u003e\\u003cdiv style=\\&quot;transform: rotate(244.2deg); border: 8px solid transparent; border-bottom-color: blue; width: 0; height: 0;\\&quot;\\u003e\\u003c/div\\u003e\\u003c/div\\u003e&quot;});\n",
       "            marker_86e701da35a05493a51ff94294856fd8.setIcon(div_icon_40956f4a074826cebcc9f608dd284d5e);\n",
       "        \n",
       "    \n",
       "            marker_86e701da35a05493a51ff94294856fd8.bindTooltip(\n",
       "                `&lt;div&gt;\n",
       "                     4CA87C\n",
       "                 &lt;/div&gt;`,\n",
       "                {&quot;sticky&quot;: true}\n",
       "            );\n",
       "        \n",
       "    \n",
       "            var poly_line_549d2df4d6a7433c5e3447cbe3f33de3 = L.polyline(\n",
       "                [[45.201828, -62.531825], [45.040695, -63.005742]],\n",
       "                {&quot;bubblingMouseEvents&quot;: true, &quot;color&quot;: &quot;blue&quot;, &quot;dashArray&quot;: null, &quot;dashOffset&quot;: null, &quot;fill&quot;: false, &quot;fillColor&quot;: &quot;blue&quot;, &quot;fillOpacity&quot;: 0.2, &quot;fillRule&quot;: &quot;evenodd&quot;, &quot;lineCap&quot;: &quot;round&quot;, &quot;lineJoin&quot;: &quot;round&quot;, &quot;noClip&quot;: false, &quot;opacity&quot;: 1, &quot;smoothFactor&quot;: 1.0, &quot;stroke&quot;: true, &quot;weight&quot;: 2}\n",
       "            ).addTo(map_ddd2b039d4809540256119fbd65c61a5);\n",
       "        \n",
       "    \n",
       "            poly_line_549d2df4d6a7433c5e3447cbe3f33de3.bindTooltip(\n",
       "                `&lt;div&gt;\n",
       "                     4CA87C\n",
       "                 &lt;/div&gt;`,\n",
       "                {&quot;sticky&quot;: true}\n",
       "            );\n",
       "        \n",
       "    \n",
       "            var marker_0ec6dee92aaad143f7000965b71dfdaf = L.marker(\n",
       "                [45.201828, -62.531825],\n",
       "                {}\n",
       "            ).addTo(map_ddd2b039d4809540256119fbd65c61a5);\n",
       "        \n",
       "    \n",
       "            var div_icon_5cc720a1de38fca99caaefc464c83334 = L.divIcon({&quot;className&quot;: &quot;empty&quot;, &quot;html&quot;: &quot;\\u003cdiv\\u003e\\u003cdiv style=\\&quot;transform: rotate(244.4deg); border: 8px solid transparent; border-bottom-color: blue; width: 0; height: 0;\\&quot;\\u003e\\u003c/div\\u003e\\u003c/div\\u003e&quot;});\n",
       "            marker_0ec6dee92aaad143f7000965b71dfdaf.setIcon(div_icon_5cc720a1de38fca99caaefc464c83334);\n",
       "        \n",
       "    \n",
       "            marker_0ec6dee92aaad143f7000965b71dfdaf.bindTooltip(\n",
       "                `&lt;div&gt;\n",
       "                     4CA87C\n",
       "                 &lt;/div&gt;`,\n",
       "                {&quot;sticky&quot;: true}\n",
       "            );\n",
       "        \n",
       "    \n",
       "            var marker_98d8c805ea7ab6831ed9adf79591b972 = L.marker(\n",
       "                [45.040695, -63.005742],\n",
       "                {}\n",
       "            ).addTo(map_ddd2b039d4809540256119fbd65c61a5);\n",
       "        \n",
       "    \n",
       "            var div_icon_9202b96534434bf3f3d5da13adf74c0c = L.divIcon({&quot;className&quot;: &quot;empty&quot;, &quot;html&quot;: &quot;\\u003cdiv\\u003e\\u003cdiv style=\\&quot;transform: rotate(244.2deg); border: 8px solid transparent; border-bottom-color: blue; width: 0; height: 0;\\&quot;\\u003e\\u003c/div\\u003e\\u003c/div\\u003e&quot;});\n",
       "            marker_98d8c805ea7ab6831ed9adf79591b972.setIcon(div_icon_9202b96534434bf3f3d5da13adf74c0c);\n",
       "        \n",
       "    \n",
       "            marker_98d8c805ea7ab6831ed9adf79591b972.bindTooltip(\n",
       "                `&lt;div&gt;\n",
       "                     4CA87C\n",
       "                 &lt;/div&gt;`,\n",
       "                {&quot;sticky&quot;: true}\n",
       "            );\n",
       "        \n",
       "    \n",
       "            var poly_line_a1d3e23c7096bab97631e706c4ee56a0 = L.polyline(\n",
       "                [[45.201828, -62.531825], [45.040695, -63.005742]],\n",
       "                {&quot;bubblingMouseEvents&quot;: true, &quot;color&quot;: &quot;blue&quot;, &quot;dashArray&quot;: null, &quot;dashOffset&quot;: null, &quot;fill&quot;: false, &quot;fillColor&quot;: &quot;blue&quot;, &quot;fillOpacity&quot;: 0.2, &quot;fillRule&quot;: &quot;evenodd&quot;, &quot;lineCap&quot;: &quot;round&quot;, &quot;lineJoin&quot;: &quot;round&quot;, &quot;noClip&quot;: false, &quot;opacity&quot;: 1, &quot;smoothFactor&quot;: 1.0, &quot;stroke&quot;: true, &quot;weight&quot;: 2}\n",
       "            ).addTo(map_ddd2b039d4809540256119fbd65c61a5);\n",
       "        \n",
       "    \n",
       "            poly_line_a1d3e23c7096bab97631e706c4ee56a0.bindTooltip(\n",
       "                `&lt;div&gt;\n",
       "                     4CA87C\n",
       "                 &lt;/div&gt;`,\n",
       "                {&quot;sticky&quot;: true}\n",
       "            );\n",
       "        \n",
       "    \n",
       "            var marker_d556266c49f7ce0759d8d6918f36785a = L.marker(\n",
       "                [46.717684, -60.008148],\n",
       "                {}\n",
       "            ).addTo(map_ddd2b039d4809540256119fbd65c61a5);\n",
       "        \n",
       "    \n",
       "            var div_icon_1f5fa0060887bfc529db2faec6b42d42 = L.divIcon({&quot;className&quot;: &quot;empty&quot;, &quot;html&quot;: &quot;\\u003cdiv\\u003e\\u003cdiv style=\\&quot;transform: rotate(239.9deg); border: 8px solid transparent; border-bottom-color: blue; width: 0; height: 0;\\&quot;\\u003e\\u003c/div\\u003e\\u003c/div\\u003e&quot;});\n",
       "            marker_d556266c49f7ce0759d8d6918f36785a.setIcon(div_icon_1f5fa0060887bfc529db2faec6b42d42);\n",
       "        \n",
       "    \n",
       "            marker_d556266c49f7ce0759d8d6918f36785a.bindTooltip(\n",
       "                `&lt;div&gt;\n",
       "                     710121\n",
       "                 &lt;/div&gt;`,\n",
       "                {&quot;sticky&quot;: true}\n",
       "            );\n",
       "        \n",
       "    \n",
       "            var marker_f9292f469b1d09e541700579a78dc6a7 = L.marker(\n",
       "                [46.519512, -60.503014],\n",
       "                {}\n",
       "            ).addTo(map_ddd2b039d4809540256119fbd65c61a5);\n",
       "        \n",
       "    \n",
       "            var div_icon_99066ad62402d1ca468bdc439792fa50 = L.divIcon({&quot;className&quot;: &quot;empty&quot;, &quot;html&quot;: &quot;\\u003cdiv\\u003e\\u003cdiv style=\\&quot;transform: rotate(239.6deg); border: 8px solid transparent; border-bottom-color: blue; width: 0; height: 0;\\&quot;\\u003e\\u003c/div\\u003e\\u003c/div\\u003e&quot;});\n",
       "            marker_f9292f469b1d09e541700579a78dc6a7.setIcon(div_icon_99066ad62402d1ca468bdc439792fa50);\n",
       "        \n",
       "    \n",
       "            marker_f9292f469b1d09e541700579a78dc6a7.bindTooltip(\n",
       "                `&lt;div&gt;\n",
       "                     710121\n",
       "                 &lt;/div&gt;`,\n",
       "                {&quot;sticky&quot;: true}\n",
       "            );\n",
       "        \n",
       "    \n",
       "            var poly_line_b4fd43945307a19bdb2b8a8f5e6b2a42 = L.polyline(\n",
       "                [[46.717684, -60.008148], [46.519512, -60.503014]],\n",
       "                {&quot;bubblingMouseEvents&quot;: true, &quot;color&quot;: &quot;blue&quot;, &quot;dashArray&quot;: null, &quot;dashOffset&quot;: null, &quot;fill&quot;: false, &quot;fillColor&quot;: &quot;blue&quot;, &quot;fillOpacity&quot;: 0.2, &quot;fillRule&quot;: &quot;evenodd&quot;, &quot;lineCap&quot;: &quot;round&quot;, &quot;lineJoin&quot;: &quot;round&quot;, &quot;noClip&quot;: false, &quot;opacity&quot;: 1, &quot;smoothFactor&quot;: 1.0, &quot;stroke&quot;: true, &quot;weight&quot;: 2}\n",
       "            ).addTo(map_ddd2b039d4809540256119fbd65c61a5);\n",
       "        \n",
       "    \n",
       "            poly_line_b4fd43945307a19bdb2b8a8f5e6b2a42.bindTooltip(\n",
       "                `&lt;div&gt;\n",
       "                     710121\n",
       "                 &lt;/div&gt;`,\n",
       "                {&quot;sticky&quot;: true}\n",
       "            );\n",
       "        \n",
       "    \n",
       "            var marker_efbe860942c578af08fc09fb322a0293 = L.marker(\n",
       "                [46.717684, -60.008148],\n",
       "                {}\n",
       "            ).addTo(map_ddd2b039d4809540256119fbd65c61a5);\n",
       "        \n",
       "    \n",
       "            var div_icon_a859c06439450cdcd952370acc38cb13 = L.divIcon({&quot;className&quot;: &quot;empty&quot;, &quot;html&quot;: &quot;\\u003cdiv\\u003e\\u003cdiv style=\\&quot;transform: rotate(239.9deg); border: 8px solid transparent; border-bottom-color: blue; width: 0; height: 0;\\&quot;\\u003e\\u003c/div\\u003e\\u003c/div\\u003e&quot;});\n",
       "            marker_efbe860942c578af08fc09fb322a0293.setIcon(div_icon_a859c06439450cdcd952370acc38cb13);\n",
       "        \n",
       "    \n",
       "            marker_efbe860942c578af08fc09fb322a0293.bindTooltip(\n",
       "                `&lt;div&gt;\n",
       "                     710121\n",
       "                 &lt;/div&gt;`,\n",
       "                {&quot;sticky&quot;: true}\n",
       "            );\n",
       "        \n",
       "    \n",
       "            var marker_abb1141cc7ee4ebd432b408d49432cec = L.marker(\n",
       "                [46.519512, -60.503014],\n",
       "                {}\n",
       "            ).addTo(map_ddd2b039d4809540256119fbd65c61a5);\n",
       "        \n",
       "    \n",
       "            var div_icon_c7c01c90291ea89b4d82da6456ffbc29 = L.divIcon({&quot;className&quot;: &quot;empty&quot;, &quot;html&quot;: &quot;\\u003cdiv\\u003e\\u003cdiv style=\\&quot;transform: rotate(239.6deg); border: 8px solid transparent; border-bottom-color: blue; width: 0; height: 0;\\&quot;\\u003e\\u003c/div\\u003e\\u003c/div\\u003e&quot;});\n",
       "            marker_abb1141cc7ee4ebd432b408d49432cec.setIcon(div_icon_c7c01c90291ea89b4d82da6456ffbc29);\n",
       "        \n",
       "    \n",
       "            marker_abb1141cc7ee4ebd432b408d49432cec.bindTooltip(\n",
       "                `&lt;div&gt;\n",
       "                     710121\n",
       "                 &lt;/div&gt;`,\n",
       "                {&quot;sticky&quot;: true}\n",
       "            );\n",
       "        \n",
       "    \n",
       "            var poly_line_3a52370d9c6d28f3aaecb640b083b4cc = L.polyline(\n",
       "                [[46.717684, -60.008148], [46.519512, -60.503014]],\n",
       "                {&quot;bubblingMouseEvents&quot;: true, &quot;color&quot;: &quot;blue&quot;, &quot;dashArray&quot;: null, &quot;dashOffset&quot;: null, &quot;fill&quot;: false, &quot;fillColor&quot;: &quot;blue&quot;, &quot;fillOpacity&quot;: 0.2, &quot;fillRule&quot;: &quot;evenodd&quot;, &quot;lineCap&quot;: &quot;round&quot;, &quot;lineJoin&quot;: &quot;round&quot;, &quot;noClip&quot;: false, &quot;opacity&quot;: 1, &quot;smoothFactor&quot;: 1.0, &quot;stroke&quot;: true, &quot;weight&quot;: 2}\n",
       "            ).addTo(map_ddd2b039d4809540256119fbd65c61a5);\n",
       "        \n",
       "    \n",
       "            poly_line_3a52370d9c6d28f3aaecb640b083b4cc.bindTooltip(\n",
       "                `&lt;div&gt;\n",
       "                     710121\n",
       "                 &lt;/div&gt;`,\n",
       "                {&quot;sticky&quot;: true}\n",
       "            );\n",
       "        \n",
       "    \n",
       "            var marker_f35d58af9aa4710f9fe2016539226a71 = L.marker(\n",
       "                [49.624499, -63.204865],\n",
       "                {}\n",
       "            ).addTo(map_ddd2b039d4809540256119fbd65c61a5);\n",
       "        \n",
       "    \n",
       "            var div_icon_7cf05db9ae0164d4c9f779bffb3e1675 = L.divIcon({&quot;className&quot;: &quot;empty&quot;, &quot;html&quot;: &quot;\\u003cdiv\\u003e\\u003cdiv style=\\&quot;transform: rotate(252.7deg); border: 8px solid transparent; border-bottom-color: blue; width: 0; height: 0;\\&quot;\\u003e\\u003c/div\\u003e\\u003c/div\\u003e&quot;});\n",
       "            marker_f35d58af9aa4710f9fe2016539226a71.setIcon(div_icon_7cf05db9ae0164d4c9f779bffb3e1675);\n",
       "        \n",
       "    \n",
       "            marker_f35d58af9aa4710f9fe2016539226a71.bindTooltip(\n",
       "                `&lt;div&gt;\n",
       "                     A05648\n",
       "                 &lt;/div&gt;`,\n",
       "                {&quot;sticky&quot;: true}\n",
       "            );\n",
       "        \n",
       "    \n",
       "            var marker_61b559e0b1e335ee7814af76cd6d9aff = L.marker(\n",
       "                [49.508445, -63.77029],\n",
       "                {}\n",
       "            ).addTo(map_ddd2b039d4809540256119fbd65c61a5);\n",
       "        \n",
       "    \n",
       "            var div_icon_e0dd30831dd33bdb5850db77d8e4fdee = L.divIcon({&quot;className&quot;: &quot;empty&quot;, &quot;html&quot;: &quot;\\u003cdiv\\u003e\\u003cdiv style=\\&quot;transform: rotate(252.4deg); border: 8px solid transparent; border-bottom-color: blue; width: 0; height: 0;\\&quot;\\u003e\\u003c/div\\u003e\\u003c/div\\u003e&quot;});\n",
       "            marker_61b559e0b1e335ee7814af76cd6d9aff.setIcon(div_icon_e0dd30831dd33bdb5850db77d8e4fdee);\n",
       "        \n",
       "    \n",
       "            marker_61b559e0b1e335ee7814af76cd6d9aff.bindTooltip(\n",
       "                `&lt;div&gt;\n",
       "                     A05648\n",
       "                 &lt;/div&gt;`,\n",
       "                {&quot;sticky&quot;: true}\n",
       "            );\n",
       "        \n",
       "    \n",
       "            var poly_line_a70817426c81bb9ecf1a436019350ed3 = L.polyline(\n",
       "                [[49.624499, -63.204865], [49.508445, -63.77029]],\n",
       "                {&quot;bubblingMouseEvents&quot;: true, &quot;color&quot;: &quot;blue&quot;, &quot;dashArray&quot;: null, &quot;dashOffset&quot;: null, &quot;fill&quot;: false, &quot;fillColor&quot;: &quot;blue&quot;, &quot;fillOpacity&quot;: 0.2, &quot;fillRule&quot;: &quot;evenodd&quot;, &quot;lineCap&quot;: &quot;round&quot;, &quot;lineJoin&quot;: &quot;round&quot;, &quot;noClip&quot;: false, &quot;opacity&quot;: 1, &quot;smoothFactor&quot;: 1.0, &quot;stroke&quot;: true, &quot;weight&quot;: 2}\n",
       "            ).addTo(map_ddd2b039d4809540256119fbd65c61a5);\n",
       "        \n",
       "    \n",
       "            poly_line_a70817426c81bb9ecf1a436019350ed3.bindTooltip(\n",
       "                `&lt;div&gt;\n",
       "                     A05648\n",
       "                 &lt;/div&gt;`,\n",
       "                {&quot;sticky&quot;: true}\n",
       "            );\n",
       "        \n",
       "    \n",
       "            var marker_79e0603889098cd3d20cc4528699b808 = L.marker(\n",
       "                [49.624499, -63.204865],\n",
       "                {}\n",
       "            ).addTo(map_ddd2b039d4809540256119fbd65c61a5);\n",
       "        \n",
       "    \n",
       "            var div_icon_56b04373b9f56f2910639f48cbad7231 = L.divIcon({&quot;className&quot;: &quot;empty&quot;, &quot;html&quot;: &quot;\\u003cdiv\\u003e\\u003cdiv style=\\&quot;transform: rotate(252.7deg); border: 8px solid transparent; border-bottom-color: blue; width: 0; height: 0;\\&quot;\\u003e\\u003c/div\\u003e\\u003c/div\\u003e&quot;});\n",
       "            marker_79e0603889098cd3d20cc4528699b808.setIcon(div_icon_56b04373b9f56f2910639f48cbad7231);\n",
       "        \n",
       "    \n",
       "            marker_79e0603889098cd3d20cc4528699b808.bindTooltip(\n",
       "                `&lt;div&gt;\n",
       "                     A05648\n",
       "                 &lt;/div&gt;`,\n",
       "                {&quot;sticky&quot;: true}\n",
       "            );\n",
       "        \n",
       "    \n",
       "            var marker_a837e441bae67fea4cd6f6abb766b7ba = L.marker(\n",
       "                [49.508445, -63.77029],\n",
       "                {}\n",
       "            ).addTo(map_ddd2b039d4809540256119fbd65c61a5);\n",
       "        \n",
       "    \n",
       "            var div_icon_a277d95cf8423822fade97773b4eec7f = L.divIcon({&quot;className&quot;: &quot;empty&quot;, &quot;html&quot;: &quot;\\u003cdiv\\u003e\\u003cdiv style=\\&quot;transform: rotate(252.4deg); border: 8px solid transparent; border-bottom-color: blue; width: 0; height: 0;\\&quot;\\u003e\\u003c/div\\u003e\\u003c/div\\u003e&quot;});\n",
       "            marker_a837e441bae67fea4cd6f6abb766b7ba.setIcon(div_icon_a277d95cf8423822fade97773b4eec7f);\n",
       "        \n",
       "    \n",
       "            marker_a837e441bae67fea4cd6f6abb766b7ba.bindTooltip(\n",
       "                `&lt;div&gt;\n",
       "                     A05648\n",
       "                 &lt;/div&gt;`,\n",
       "                {&quot;sticky&quot;: true}\n",
       "            );\n",
       "        \n",
       "    \n",
       "            var poly_line_f92ba11b39c0d06d4a987676434916de = L.polyline(\n",
       "                [[49.624499, -63.204865], [49.508445, -63.77029]],\n",
       "                {&quot;bubblingMouseEvents&quot;: true, &quot;color&quot;: &quot;blue&quot;, &quot;dashArray&quot;: null, &quot;dashOffset&quot;: null, &quot;fill&quot;: false, &quot;fillColor&quot;: &quot;blue&quot;, &quot;fillOpacity&quot;: 0.2, &quot;fillRule&quot;: &quot;evenodd&quot;, &quot;lineCap&quot;: &quot;round&quot;, &quot;lineJoin&quot;: &quot;round&quot;, &quot;noClip&quot;: false, &quot;opacity&quot;: 1, &quot;smoothFactor&quot;: 1.0, &quot;stroke&quot;: true, &quot;weight&quot;: 2}\n",
       "            ).addTo(map_ddd2b039d4809540256119fbd65c61a5);\n",
       "        \n",
       "    \n",
       "            poly_line_f92ba11b39c0d06d4a987676434916de.bindTooltip(\n",
       "                `&lt;div&gt;\n",
       "                     A05648\n",
       "                 &lt;/div&gt;`,\n",
       "                {&quot;sticky&quot;: true}\n",
       "            );\n",
       "        \n",
       "    \n",
       "            var marker_880861a1abde7ae8132fe62f318f80a7 = L.marker(\n",
       "                [48.166623, -60.432611],\n",
       "                {}\n",
       "            ).addTo(map_ddd2b039d4809540256119fbd65c61a5);\n",
       "        \n",
       "    \n",
       "            var div_icon_ccbcc819722ed025169b802e454001e7 = L.divIcon({&quot;className&quot;: &quot;empty&quot;, &quot;html&quot;: &quot;\\u003cdiv\\u003e\\u003cdiv style=\\&quot;transform: rotate(243.3deg); border: 8px solid transparent; border-bottom-color: blue; width: 0; height: 0;\\&quot;\\u003e\\u003c/div\\u003e\\u003c/div\\u003e&quot;});\n",
       "            marker_880861a1abde7ae8132fe62f318f80a7.setIcon(div_icon_ccbcc819722ed025169b802e454001e7);\n",
       "        \n",
       "    \n",
       "            marker_880861a1abde7ae8132fe62f318f80a7.bindTooltip(\n",
       "                `&lt;div&gt;\n",
       "                     A05A25\n",
       "                 &lt;/div&gt;`,\n",
       "                {&quot;sticky&quot;: true}\n",
       "            );\n",
       "        \n",
       "    \n",
       "            var marker_63c761978d7379f70adbb91e477ff554 = L.marker(\n",
       "                [48.005319, -60.908344],\n",
       "                {}\n",
       "            ).addTo(map_ddd2b039d4809540256119fbd65c61a5);\n",
       "        \n",
       "    \n",
       "            var div_icon_07cbe4df125d0c8ae67a362790011112 = L.divIcon({&quot;className&quot;: &quot;empty&quot;, &quot;html&quot;: &quot;\\u003cdiv\\u003e\\u003cdiv style=\\&quot;transform: rotate(243.0deg); border: 8px solid transparent; border-bottom-color: blue; width: 0; height: 0;\\&quot;\\u003e\\u003c/div\\u003e\\u003c/div\\u003e&quot;});\n",
       "            marker_63c761978d7379f70adbb91e477ff554.setIcon(div_icon_07cbe4df125d0c8ae67a362790011112);\n",
       "        \n",
       "    \n",
       "            marker_63c761978d7379f70adbb91e477ff554.bindTooltip(\n",
       "                `&lt;div&gt;\n",
       "                     A05A25\n",
       "                 &lt;/div&gt;`,\n",
       "                {&quot;sticky&quot;: true}\n",
       "            );\n",
       "        \n",
       "    \n",
       "            var poly_line_344e60fbce5d02e07acf8f0c135977f5 = L.polyline(\n",
       "                [[48.166623, -60.432611], [48.005319, -60.908344]],\n",
       "                {&quot;bubblingMouseEvents&quot;: true, &quot;color&quot;: &quot;blue&quot;, &quot;dashArray&quot;: null, &quot;dashOffset&quot;: null, &quot;fill&quot;: false, &quot;fillColor&quot;: &quot;blue&quot;, &quot;fillOpacity&quot;: 0.2, &quot;fillRule&quot;: &quot;evenodd&quot;, &quot;lineCap&quot;: &quot;round&quot;, &quot;lineJoin&quot;: &quot;round&quot;, &quot;noClip&quot;: false, &quot;opacity&quot;: 1, &quot;smoothFactor&quot;: 1.0, &quot;stroke&quot;: true, &quot;weight&quot;: 2}\n",
       "            ).addTo(map_ddd2b039d4809540256119fbd65c61a5);\n",
       "        \n",
       "    \n",
       "            poly_line_344e60fbce5d02e07acf8f0c135977f5.bindTooltip(\n",
       "                `&lt;div&gt;\n",
       "                     A05A25\n",
       "                 &lt;/div&gt;`,\n",
       "                {&quot;sticky&quot;: true}\n",
       "            );\n",
       "        \n",
       "    \n",
       "            var marker_b31588e41af704536ff3fcd5252cd098 = L.marker(\n",
       "                [48.166623, -60.432611],\n",
       "                {}\n",
       "            ).addTo(map_ddd2b039d4809540256119fbd65c61a5);\n",
       "        \n",
       "    \n",
       "            var div_icon_f3df130a50efbc416192a616bec1885f = L.divIcon({&quot;className&quot;: &quot;empty&quot;, &quot;html&quot;: &quot;\\u003cdiv\\u003e\\u003cdiv style=\\&quot;transform: rotate(243.3deg); border: 8px solid transparent; border-bottom-color: blue; width: 0; height: 0;\\&quot;\\u003e\\u003c/div\\u003e\\u003c/div\\u003e&quot;});\n",
       "            marker_b31588e41af704536ff3fcd5252cd098.setIcon(div_icon_f3df130a50efbc416192a616bec1885f);\n",
       "        \n",
       "    \n",
       "            marker_b31588e41af704536ff3fcd5252cd098.bindTooltip(\n",
       "                `&lt;div&gt;\n",
       "                     A05A25\n",
       "                 &lt;/div&gt;`,\n",
       "                {&quot;sticky&quot;: true}\n",
       "            );\n",
       "        \n",
       "    \n",
       "            var marker_eb1f7c91f5b0a0f9ecb873241d45e446 = L.marker(\n",
       "                [48.005319, -60.908344],\n",
       "                {}\n",
       "            ).addTo(map_ddd2b039d4809540256119fbd65c61a5);\n",
       "        \n",
       "    \n",
       "            var div_icon_32b93b0ffd0ac1ee21bec56ac1509c84 = L.divIcon({&quot;className&quot;: &quot;empty&quot;, &quot;html&quot;: &quot;\\u003cdiv\\u003e\\u003cdiv style=\\&quot;transform: rotate(243.0deg); border: 8px solid transparent; border-bottom-color: blue; width: 0; height: 0;\\&quot;\\u003e\\u003c/div\\u003e\\u003c/div\\u003e&quot;});\n",
       "            marker_eb1f7c91f5b0a0f9ecb873241d45e446.setIcon(div_icon_32b93b0ffd0ac1ee21bec56ac1509c84);\n",
       "        \n",
       "    \n",
       "            marker_eb1f7c91f5b0a0f9ecb873241d45e446.bindTooltip(\n",
       "                `&lt;div&gt;\n",
       "                     A05A25\n",
       "                 &lt;/div&gt;`,\n",
       "                {&quot;sticky&quot;: true}\n",
       "            );\n",
       "        \n",
       "    \n",
       "            var poly_line_186f549dc01aac6c7cc23cfb196b51a6 = L.polyline(\n",
       "                [[48.166623, -60.432611], [48.005319, -60.908344]],\n",
       "                {&quot;bubblingMouseEvents&quot;: true, &quot;color&quot;: &quot;blue&quot;, &quot;dashArray&quot;: null, &quot;dashOffset&quot;: null, &quot;fill&quot;: false, &quot;fillColor&quot;: &quot;blue&quot;, &quot;fillOpacity&quot;: 0.2, &quot;fillRule&quot;: &quot;evenodd&quot;, &quot;lineCap&quot;: &quot;round&quot;, &quot;lineJoin&quot;: &quot;round&quot;, &quot;noClip&quot;: false, &quot;opacity&quot;: 1, &quot;smoothFactor&quot;: 1.0, &quot;stroke&quot;: true, &quot;weight&quot;: 2}\n",
       "            ).addTo(map_ddd2b039d4809540256119fbd65c61a5);\n",
       "        \n",
       "    \n",
       "            poly_line_186f549dc01aac6c7cc23cfb196b51a6.bindTooltip(\n",
       "                `&lt;div&gt;\n",
       "                     A05A25\n",
       "                 &lt;/div&gt;`,\n",
       "                {&quot;sticky&quot;: true}\n",
       "            );\n",
       "        \n",
       "    \n",
       "            var marker_e44cfe4f0d18deda53c0d9952914a9d4 = L.marker(\n",
       "                [47.814455, -64.585595],\n",
       "                {}\n",
       "            ).addTo(map_ddd2b039d4809540256119fbd65c61a5);\n",
       "        \n",
       "    \n",
       "            var div_icon_8474adab260efce6b83bc052d8e74a68 = L.divIcon({&quot;className&quot;: &quot;empty&quot;, &quot;html&quot;: &quot;\\u003cdiv\\u003e\\u003cdiv style=\\&quot;transform: rotate(222.5deg); border: 8px solid transparent; border-bottom-color: blue; width: 0; height: 0;\\&quot;\\u003e\\u003c/div\\u003e\\u003c/div\\u003e&quot;});\n",
       "            marker_e44cfe4f0d18deda53c0d9952914a9d4.setIcon(div_icon_8474adab260efce6b83bc052d8e74a68);\n",
       "        \n",
       "    \n",
       "            marker_e44cfe4f0d18deda53c0d9952914a9d4.bindTooltip(\n",
       "                `&lt;div&gt;\n",
       "                     A1F557\n",
       "                 &lt;/div&gt;`,\n",
       "                {&quot;sticky&quot;: true}\n",
       "            );\n",
       "        \n",
       "    \n",
       "            var marker_785191454e385783ce4950d96add24a1 = L.marker(\n",
       "                [47.537201, -64.95948],\n",
       "                {}\n",
       "            ).addTo(map_ddd2b039d4809540256119fbd65c61a5);\n",
       "        \n",
       "    \n",
       "            var div_icon_e8b87a46ba511ec9a2688d8d76cd429a = L.divIcon({&quot;className&quot;: &quot;empty&quot;, &quot;html&quot;: &quot;\\u003cdiv\\u003e\\u003cdiv style=\\&quot;transform: rotate(222.1deg); border: 8px solid transparent; border-bottom-color: blue; width: 0; height: 0;\\&quot;\\u003e\\u003c/div\\u003e\\u003c/div\\u003e&quot;});\n",
       "            marker_785191454e385783ce4950d96add24a1.setIcon(div_icon_e8b87a46ba511ec9a2688d8d76cd429a);\n",
       "        \n",
       "    \n",
       "            marker_785191454e385783ce4950d96add24a1.bindTooltip(\n",
       "                `&lt;div&gt;\n",
       "                     A1F557\n",
       "                 &lt;/div&gt;`,\n",
       "                {&quot;sticky&quot;: true}\n",
       "            );\n",
       "        \n",
       "    \n",
       "            var poly_line_0f373d7ad30c579b423b12b4447462f4 = L.polyline(\n",
       "                [[47.814455, -64.585595], [47.537201, -64.95948]],\n",
       "                {&quot;bubblingMouseEvents&quot;: true, &quot;color&quot;: &quot;blue&quot;, &quot;dashArray&quot;: null, &quot;dashOffset&quot;: null, &quot;fill&quot;: false, &quot;fillColor&quot;: &quot;blue&quot;, &quot;fillOpacity&quot;: 0.2, &quot;fillRule&quot;: &quot;evenodd&quot;, &quot;lineCap&quot;: &quot;round&quot;, &quot;lineJoin&quot;: &quot;round&quot;, &quot;noClip&quot;: false, &quot;opacity&quot;: 1, &quot;smoothFactor&quot;: 1.0, &quot;stroke&quot;: true, &quot;weight&quot;: 2}\n",
       "            ).addTo(map_ddd2b039d4809540256119fbd65c61a5);\n",
       "        \n",
       "    \n",
       "            poly_line_0f373d7ad30c579b423b12b4447462f4.bindTooltip(\n",
       "                `&lt;div&gt;\n",
       "                     A1F557\n",
       "                 &lt;/div&gt;`,\n",
       "                {&quot;sticky&quot;: true}\n",
       "            );\n",
       "        \n",
       "    \n",
       "            var marker_72a9058e17fdc7865abca8a99be38735 = L.marker(\n",
       "                [47.814455, -64.585595],\n",
       "                {}\n",
       "            ).addTo(map_ddd2b039d4809540256119fbd65c61a5);\n",
       "        \n",
       "    \n",
       "            var div_icon_fdce5cc9273a9e70794af4f60b222a6b = L.divIcon({&quot;className&quot;: &quot;empty&quot;, &quot;html&quot;: &quot;\\u003cdiv\\u003e\\u003cdiv style=\\&quot;transform: rotate(222.5deg); border: 8px solid transparent; border-bottom-color: blue; width: 0; height: 0;\\&quot;\\u003e\\u003c/div\\u003e\\u003c/div\\u003e&quot;});\n",
       "            marker_72a9058e17fdc7865abca8a99be38735.setIcon(div_icon_fdce5cc9273a9e70794af4f60b222a6b);\n",
       "        \n",
       "    \n",
       "            marker_72a9058e17fdc7865abca8a99be38735.bindTooltip(\n",
       "                `&lt;div&gt;\n",
       "                     A1F557\n",
       "                 &lt;/div&gt;`,\n",
       "                {&quot;sticky&quot;: true}\n",
       "            );\n",
       "        \n",
       "    \n",
       "            var marker_f1bf56c4765a47472b0cec22a2dcfe66 = L.marker(\n",
       "                [47.537201, -64.95948],\n",
       "                {}\n",
       "            ).addTo(map_ddd2b039d4809540256119fbd65c61a5);\n",
       "        \n",
       "    \n",
       "            var div_icon_719c64a9ce1db22af2457dcfdb3c1690 = L.divIcon({&quot;className&quot;: &quot;empty&quot;, &quot;html&quot;: &quot;\\u003cdiv\\u003e\\u003cdiv style=\\&quot;transform: rotate(222.1deg); border: 8px solid transparent; border-bottom-color: blue; width: 0; height: 0;\\&quot;\\u003e\\u003c/div\\u003e\\u003c/div\\u003e&quot;});\n",
       "            marker_f1bf56c4765a47472b0cec22a2dcfe66.setIcon(div_icon_719c64a9ce1db22af2457dcfdb3c1690);\n",
       "        \n",
       "    \n",
       "            marker_f1bf56c4765a47472b0cec22a2dcfe66.bindTooltip(\n",
       "                `&lt;div&gt;\n",
       "                     A1F557\n",
       "                 &lt;/div&gt;`,\n",
       "                {&quot;sticky&quot;: true}\n",
       "            );\n",
       "        \n",
       "    \n",
       "            var poly_line_ce5aca30d946afc92de32fa87971747c = L.polyline(\n",
       "                [[47.814455, -64.585595], [47.537201, -64.95948]],\n",
       "                {&quot;bubblingMouseEvents&quot;: true, &quot;color&quot;: &quot;blue&quot;, &quot;dashArray&quot;: null, &quot;dashOffset&quot;: null, &quot;fill&quot;: false, &quot;fillColor&quot;: &quot;blue&quot;, &quot;fillOpacity&quot;: 0.2, &quot;fillRule&quot;: &quot;evenodd&quot;, &quot;lineCap&quot;: &quot;round&quot;, &quot;lineJoin&quot;: &quot;round&quot;, &quot;noClip&quot;: false, &quot;opacity&quot;: 1, &quot;smoothFactor&quot;: 1.0, &quot;stroke&quot;: true, &quot;weight&quot;: 2}\n",
       "            ).addTo(map_ddd2b039d4809540256119fbd65c61a5);\n",
       "        \n",
       "    \n",
       "            poly_line_ce5aca30d946afc92de32fa87971747c.bindTooltip(\n",
       "                `&lt;div&gt;\n",
       "                     A1F557\n",
       "                 &lt;/div&gt;`,\n",
       "                {&quot;sticky&quot;: true}\n",
       "            );\n",
       "        \n",
       "    \n",
       "            var marker_58ac2435698f2dcb2d9f781c0f7c7ca7 = L.marker(\n",
       "                [45.876206, -63.164726],\n",
       "                {}\n",
       "            ).addTo(map_ddd2b039d4809540256119fbd65c61a5);\n",
       "        \n",
       "    \n",
       "            var div_icon_1e256a58dea11157bc6de581e3a52e3f = L.divIcon({&quot;className&quot;: &quot;empty&quot;, &quot;html&quot;: &quot;\\u003cdiv\\u003e\\u003cdiv style=\\&quot;transform: rotate(243.0deg); border: 8px solid transparent; border-bottom-color: blue; width: 0; height: 0;\\&quot;\\u003e\\u003c/div\\u003e\\u003c/div\\u003e&quot;});\n",
       "            marker_58ac2435698f2dcb2d9f781c0f7c7ca7.setIcon(div_icon_1e256a58dea11157bc6de581e3a52e3f);\n",
       "        \n",
       "    \n",
       "            marker_58ac2435698f2dcb2d9f781c0f7c7ca7.bindTooltip(\n",
       "                `&lt;div&gt;\n",
       "                     A2A2E3\n",
       "                 &lt;/div&gt;`,\n",
       "                {&quot;sticky&quot;: true}\n",
       "            );\n",
       "        \n",
       "    \n",
       "            var marker_a792131218bdd4705835a8680531d62d = L.marker(\n",
       "                [45.698703, -63.660896],\n",
       "                {}\n",
       "            ).addTo(map_ddd2b039d4809540256119fbd65c61a5);\n",
       "        \n",
       "    \n",
       "            var div_icon_c72b011450732236f91158f5c6a33a7f = L.divIcon({&quot;className&quot;: &quot;empty&quot;, &quot;html&quot;: &quot;\\u003cdiv\\u003e\\u003cdiv style=\\&quot;transform: rotate(242.8deg); border: 8px solid transparent; border-bottom-color: blue; width: 0; height: 0;\\&quot;\\u003e\\u003c/div\\u003e\\u003c/div\\u003e&quot;});\n",
       "            marker_a792131218bdd4705835a8680531d62d.setIcon(div_icon_c72b011450732236f91158f5c6a33a7f);\n",
       "        \n",
       "    \n",
       "            marker_a792131218bdd4705835a8680531d62d.bindTooltip(\n",
       "                `&lt;div&gt;\n",
       "                     A2A2E3\n",
       "                 &lt;/div&gt;`,\n",
       "                {&quot;sticky&quot;: true}\n",
       "            );\n",
       "        \n",
       "    \n",
       "            var poly_line_a508e030c1c721ea9b508ec70f882508 = L.polyline(\n",
       "                [[45.876206, -63.164726], [45.698703, -63.660896]],\n",
       "                {&quot;bubblingMouseEvents&quot;: true, &quot;color&quot;: &quot;blue&quot;, &quot;dashArray&quot;: null, &quot;dashOffset&quot;: null, &quot;fill&quot;: false, &quot;fillColor&quot;: &quot;blue&quot;, &quot;fillOpacity&quot;: 0.2, &quot;fillRule&quot;: &quot;evenodd&quot;, &quot;lineCap&quot;: &quot;round&quot;, &quot;lineJoin&quot;: &quot;round&quot;, &quot;noClip&quot;: false, &quot;opacity&quot;: 1, &quot;smoothFactor&quot;: 1.0, &quot;stroke&quot;: true, &quot;weight&quot;: 2}\n",
       "            ).addTo(map_ddd2b039d4809540256119fbd65c61a5);\n",
       "        \n",
       "    \n",
       "            poly_line_a508e030c1c721ea9b508ec70f882508.bindTooltip(\n",
       "                `&lt;div&gt;\n",
       "                     A2A2E3\n",
       "                 &lt;/div&gt;`,\n",
       "                {&quot;sticky&quot;: true}\n",
       "            );\n",
       "        \n",
       "    \n",
       "            var marker_e4410233d5de59059c7871f2a87b041a = L.marker(\n",
       "                [45.876206, -63.164726],\n",
       "                {}\n",
       "            ).addTo(map_ddd2b039d4809540256119fbd65c61a5);\n",
       "        \n",
       "    \n",
       "            var div_icon_cb79a6e14fc9eade0bed4a09caff1a2d = L.divIcon({&quot;className&quot;: &quot;empty&quot;, &quot;html&quot;: &quot;\\u003cdiv\\u003e\\u003cdiv style=\\&quot;transform: rotate(243.0deg); border: 8px solid transparent; border-bottom-color: blue; width: 0; height: 0;\\&quot;\\u003e\\u003c/div\\u003e\\u003c/div\\u003e&quot;});\n",
       "            marker_e4410233d5de59059c7871f2a87b041a.setIcon(div_icon_cb79a6e14fc9eade0bed4a09caff1a2d);\n",
       "        \n",
       "    \n",
       "            marker_e4410233d5de59059c7871f2a87b041a.bindTooltip(\n",
       "                `&lt;div&gt;\n",
       "                     A2A2E3\n",
       "                 &lt;/div&gt;`,\n",
       "                {&quot;sticky&quot;: true}\n",
       "            );\n",
       "        \n",
       "    \n",
       "            var marker_c6baf97c4946266fd9f1b4e21c1ac6ec = L.marker(\n",
       "                [45.698703, -63.660896],\n",
       "                {}\n",
       "            ).addTo(map_ddd2b039d4809540256119fbd65c61a5);\n",
       "        \n",
       "    \n",
       "            var div_icon_aa40ebe9e691d03c42a46df3aec37996 = L.divIcon({&quot;className&quot;: &quot;empty&quot;, &quot;html&quot;: &quot;\\u003cdiv\\u003e\\u003cdiv style=\\&quot;transform: rotate(242.8deg); border: 8px solid transparent; border-bottom-color: blue; width: 0; height: 0;\\&quot;\\u003e\\u003c/div\\u003e\\u003c/div\\u003e&quot;});\n",
       "            marker_c6baf97c4946266fd9f1b4e21c1ac6ec.setIcon(div_icon_aa40ebe9e691d03c42a46df3aec37996);\n",
       "        \n",
       "    \n",
       "            marker_c6baf97c4946266fd9f1b4e21c1ac6ec.bindTooltip(\n",
       "                `&lt;div&gt;\n",
       "                     A2A2E3\n",
       "                 &lt;/div&gt;`,\n",
       "                {&quot;sticky&quot;: true}\n",
       "            );\n",
       "        \n",
       "    \n",
       "            var poly_line_790a71487ae851ad0fc3ba3721128807 = L.polyline(\n",
       "                [[45.876206, -63.164726], [45.698703, -63.660896]],\n",
       "                {&quot;bubblingMouseEvents&quot;: true, &quot;color&quot;: &quot;blue&quot;, &quot;dashArray&quot;: null, &quot;dashOffset&quot;: null, &quot;fill&quot;: false, &quot;fillColor&quot;: &quot;blue&quot;, &quot;fillOpacity&quot;: 0.2, &quot;fillRule&quot;: &quot;evenodd&quot;, &quot;lineCap&quot;: &quot;round&quot;, &quot;lineJoin&quot;: &quot;round&quot;, &quot;noClip&quot;: false, &quot;opacity&quot;: 1, &quot;smoothFactor&quot;: 1.0, &quot;stroke&quot;: true, &quot;weight&quot;: 2}\n",
       "            ).addTo(map_ddd2b039d4809540256119fbd65c61a5);\n",
       "        \n",
       "    \n",
       "            poly_line_790a71487ae851ad0fc3ba3721128807.bindTooltip(\n",
       "                `&lt;div&gt;\n",
       "                     A2A2E3\n",
       "                 &lt;/div&gt;`,\n",
       "                {&quot;sticky&quot;: true}\n",
       "            );\n",
       "        \n",
       "    \n",
       "            var marker_57b5c0cee1522fc396b2acf5da85e406 = L.marker(\n",
       "                [46.483612, -61.932008],\n",
       "                {}\n",
       "            ).addTo(map_ddd2b039d4809540256119fbd65c61a5);\n",
       "        \n",
       "    \n",
       "            var div_icon_2f5aeb351ee029179e2ee01e30b74419 = L.divIcon({&quot;className&quot;: &quot;empty&quot;, &quot;html&quot;: &quot;\\u003cdiv\\u003e\\u003cdiv style=\\&quot;transform: rotate(241.8deg); border: 8px solid transparent; border-bottom-color: blue; width: 0; height: 0;\\&quot;\\u003e\\u003c/div\\u003e\\u003c/div\\u003e&quot;});\n",
       "            marker_57b5c0cee1522fc396b2acf5da85e406.setIcon(div_icon_2f5aeb351ee029179e2ee01e30b74419);\n",
       "        \n",
       "    \n",
       "            marker_57b5c0cee1522fc396b2acf5da85e406.bindTooltip(\n",
       "                `&lt;div&gt;\n",
       "                     A76516\n",
       "                 &lt;/div&gt;`,\n",
       "                {&quot;sticky&quot;: true}\n",
       "            );\n",
       "        \n",
       "    \n",
       "            var marker_6afb0e3c6e222b1c861123c04e60cd91 = L.marker(\n",
       "                [46.294245, -62.437225],\n",
       "                {}\n",
       "            ).addTo(map_ddd2b039d4809540256119fbd65c61a5);\n",
       "        \n",
       "    \n",
       "            var div_icon_068609b8d0f110963a6a91a143c24b5e = L.divIcon({&quot;className&quot;: &quot;empty&quot;, &quot;html&quot;: &quot;\\u003cdiv\\u003e\\u003cdiv style=\\&quot;transform: rotate(241.5deg); border: 8px solid transparent; border-bottom-color: blue; width: 0; height: 0;\\&quot;\\u003e\\u003c/div\\u003e\\u003c/div\\u003e&quot;});\n",
       "            marker_6afb0e3c6e222b1c861123c04e60cd91.setIcon(div_icon_068609b8d0f110963a6a91a143c24b5e);\n",
       "        \n",
       "    \n",
       "            marker_6afb0e3c6e222b1c861123c04e60cd91.bindTooltip(\n",
       "                `&lt;div&gt;\n",
       "                     A76516\n",
       "                 &lt;/div&gt;`,\n",
       "                {&quot;sticky&quot;: true}\n",
       "            );\n",
       "        \n",
       "    \n",
       "            var poly_line_44e99c430390ed9f7bbe11ac5c2869dd = L.polyline(\n",
       "                [[46.483612, -61.932008], [46.294245, -62.437225]],\n",
       "                {&quot;bubblingMouseEvents&quot;: true, &quot;color&quot;: &quot;blue&quot;, &quot;dashArray&quot;: null, &quot;dashOffset&quot;: null, &quot;fill&quot;: false, &quot;fillColor&quot;: &quot;blue&quot;, &quot;fillOpacity&quot;: 0.2, &quot;fillRule&quot;: &quot;evenodd&quot;, &quot;lineCap&quot;: &quot;round&quot;, &quot;lineJoin&quot;: &quot;round&quot;, &quot;noClip&quot;: false, &quot;opacity&quot;: 1, &quot;smoothFactor&quot;: 1.0, &quot;stroke&quot;: true, &quot;weight&quot;: 2}\n",
       "            ).addTo(map_ddd2b039d4809540256119fbd65c61a5);\n",
       "        \n",
       "    \n",
       "            poly_line_44e99c430390ed9f7bbe11ac5c2869dd.bindTooltip(\n",
       "                `&lt;div&gt;\n",
       "                     A76516\n",
       "                 &lt;/div&gt;`,\n",
       "                {&quot;sticky&quot;: true}\n",
       "            );\n",
       "        \n",
       "    \n",
       "            var marker_eaacf5fce6cf91134d7517578d62842e = L.marker(\n",
       "                [46.483612, -61.932008],\n",
       "                {}\n",
       "            ).addTo(map_ddd2b039d4809540256119fbd65c61a5);\n",
       "        \n",
       "    \n",
       "            var div_icon_35edd819c1898cf598c389c317c6601b = L.divIcon({&quot;className&quot;: &quot;empty&quot;, &quot;html&quot;: &quot;\\u003cdiv\\u003e\\u003cdiv style=\\&quot;transform: rotate(241.8deg); border: 8px solid transparent; border-bottom-color: blue; width: 0; height: 0;\\&quot;\\u003e\\u003c/div\\u003e\\u003c/div\\u003e&quot;});\n",
       "            marker_eaacf5fce6cf91134d7517578d62842e.setIcon(div_icon_35edd819c1898cf598c389c317c6601b);\n",
       "        \n",
       "    \n",
       "            marker_eaacf5fce6cf91134d7517578d62842e.bindTooltip(\n",
       "                `&lt;div&gt;\n",
       "                     A76516\n",
       "                 &lt;/div&gt;`,\n",
       "                {&quot;sticky&quot;: true}\n",
       "            );\n",
       "        \n",
       "    \n",
       "            var marker_41e2c086a95c50abf4267f5703775733 = L.marker(\n",
       "                [46.294245, -62.437225],\n",
       "                {}\n",
       "            ).addTo(map_ddd2b039d4809540256119fbd65c61a5);\n",
       "        \n",
       "    \n",
       "            var div_icon_c628c84360854863e169b65c59041923 = L.divIcon({&quot;className&quot;: &quot;empty&quot;, &quot;html&quot;: &quot;\\u003cdiv\\u003e\\u003cdiv style=\\&quot;transform: rotate(241.5deg); border: 8px solid transparent; border-bottom-color: blue; width: 0; height: 0;\\&quot;\\u003e\\u003c/div\\u003e\\u003c/div\\u003e&quot;});\n",
       "            marker_41e2c086a95c50abf4267f5703775733.setIcon(div_icon_c628c84360854863e169b65c59041923);\n",
       "        \n",
       "    \n",
       "            marker_41e2c086a95c50abf4267f5703775733.bindTooltip(\n",
       "                `&lt;div&gt;\n",
       "                     A76516\n",
       "                 &lt;/div&gt;`,\n",
       "                {&quot;sticky&quot;: true}\n",
       "            );\n",
       "        \n",
       "    \n",
       "            var poly_line_32dbf759675f527eb3c046a125c2678e = L.polyline(\n",
       "                [[46.483612, -61.932008], [46.294245, -62.437225]],\n",
       "                {&quot;bubblingMouseEvents&quot;: true, &quot;color&quot;: &quot;blue&quot;, &quot;dashArray&quot;: null, &quot;dashOffset&quot;: null, &quot;fill&quot;: false, &quot;fillColor&quot;: &quot;blue&quot;, &quot;fillOpacity&quot;: 0.2, &quot;fillRule&quot;: &quot;evenodd&quot;, &quot;lineCap&quot;: &quot;round&quot;, &quot;lineJoin&quot;: &quot;round&quot;, &quot;noClip&quot;: false, &quot;opacity&quot;: 1, &quot;smoothFactor&quot;: 1.0, &quot;stroke&quot;: true, &quot;weight&quot;: 2}\n",
       "            ).addTo(map_ddd2b039d4809540256119fbd65c61a5);\n",
       "        \n",
       "    \n",
       "            poly_line_32dbf759675f527eb3c046a125c2678e.bindTooltip(\n",
       "                `&lt;div&gt;\n",
       "                     A76516\n",
       "                 &lt;/div&gt;`,\n",
       "                {&quot;sticky&quot;: true}\n",
       "            );\n",
       "        \n",
       "    \n",
       "            var marker_dc7722481e08a8d9d7070a716a112ba1 = L.marker(\n",
       "                [45.819319, -63.352524],\n",
       "                {}\n",
       "            ).addTo(map_ddd2b039d4809540256119fbd65c61a5);\n",
       "        \n",
       "    \n",
       "            var div_icon_5fbe498e73f3bfeb0a04bd427184b7c6 = L.divIcon({&quot;className&quot;: &quot;empty&quot;, &quot;html&quot;: &quot;\\u003cdiv\\u003e\\u003cdiv style=\\&quot;transform: rotate(242.8deg); border: 8px solid transparent; border-bottom-color: blue; width: 0; height: 0;\\&quot;\\u003e\\u003c/div\\u003e\\u003c/div\\u003e&quot;});\n",
       "            marker_dc7722481e08a8d9d7070a716a112ba1.setIcon(div_icon_5fbe498e73f3bfeb0a04bd427184b7c6);\n",
       "        \n",
       "    \n",
       "            marker_dc7722481e08a8d9d7070a716a112ba1.bindTooltip(\n",
       "                `&lt;div&gt;\n",
       "                     A8B760\n",
       "                 &lt;/div&gt;`,\n",
       "                {&quot;sticky&quot;: true}\n",
       "            );\n",
       "        \n",
       "    \n",
       "            var marker_af459024696dd63485934248c7d27dd5 = L.marker(\n",
       "                [45.645767, -63.831035],\n",
       "                {}\n",
       "            ).addTo(map_ddd2b039d4809540256119fbd65c61a5);\n",
       "        \n",
       "    \n",
       "            var div_icon_6262c3f1ace564e1f680d978b053b38c = L.divIcon({&quot;className&quot;: &quot;empty&quot;, &quot;html&quot;: &quot;\\u003cdiv\\u003e\\u003cdiv style=\\&quot;transform: rotate(242.5deg); border: 8px solid transparent; border-bottom-color: blue; width: 0; height: 0;\\&quot;\\u003e\\u003c/div\\u003e\\u003c/div\\u003e&quot;});\n",
       "            marker_af459024696dd63485934248c7d27dd5.setIcon(div_icon_6262c3f1ace564e1f680d978b053b38c);\n",
       "        \n",
       "    \n",
       "            marker_af459024696dd63485934248c7d27dd5.bindTooltip(\n",
       "                `&lt;div&gt;\n",
       "                     A8B760\n",
       "                 &lt;/div&gt;`,\n",
       "                {&quot;sticky&quot;: true}\n",
       "            );\n",
       "        \n",
       "    \n",
       "            var poly_line_bc32e29a4872c69c193ab4efc0f584e5 = L.polyline(\n",
       "                [[45.819319, -63.352524], [45.645767, -63.831035]],\n",
       "                {&quot;bubblingMouseEvents&quot;: true, &quot;color&quot;: &quot;blue&quot;, &quot;dashArray&quot;: null, &quot;dashOffset&quot;: null, &quot;fill&quot;: false, &quot;fillColor&quot;: &quot;blue&quot;, &quot;fillOpacity&quot;: 0.2, &quot;fillRule&quot;: &quot;evenodd&quot;, &quot;lineCap&quot;: &quot;round&quot;, &quot;lineJoin&quot;: &quot;round&quot;, &quot;noClip&quot;: false, &quot;opacity&quot;: 1, &quot;smoothFactor&quot;: 1.0, &quot;stroke&quot;: true, &quot;weight&quot;: 2}\n",
       "            ).addTo(map_ddd2b039d4809540256119fbd65c61a5);\n",
       "        \n",
       "    \n",
       "            poly_line_bc32e29a4872c69c193ab4efc0f584e5.bindTooltip(\n",
       "                `&lt;div&gt;\n",
       "                     A8B760\n",
       "                 &lt;/div&gt;`,\n",
       "                {&quot;sticky&quot;: true}\n",
       "            );\n",
       "        \n",
       "    \n",
       "            var marker_a4169ad3bc73d90157819645951d912d = L.marker(\n",
       "                [45.819319, -63.352524],\n",
       "                {}\n",
       "            ).addTo(map_ddd2b039d4809540256119fbd65c61a5);\n",
       "        \n",
       "    \n",
       "            var div_icon_fc2d7e0abcbe96503d8d0158949dc15c = L.divIcon({&quot;className&quot;: &quot;empty&quot;, &quot;html&quot;: &quot;\\u003cdiv\\u003e\\u003cdiv style=\\&quot;transform: rotate(242.8deg); border: 8px solid transparent; border-bottom-color: blue; width: 0; height: 0;\\&quot;\\u003e\\u003c/div\\u003e\\u003c/div\\u003e&quot;});\n",
       "            marker_a4169ad3bc73d90157819645951d912d.setIcon(div_icon_fc2d7e0abcbe96503d8d0158949dc15c);\n",
       "        \n",
       "    \n",
       "            marker_a4169ad3bc73d90157819645951d912d.bindTooltip(\n",
       "                `&lt;div&gt;\n",
       "                     A8B760\n",
       "                 &lt;/div&gt;`,\n",
       "                {&quot;sticky&quot;: true}\n",
       "            );\n",
       "        \n",
       "    \n",
       "            var marker_8e131eda227cef1241457cb9837d8077 = L.marker(\n",
       "                [45.645767, -63.831035],\n",
       "                {}\n",
       "            ).addTo(map_ddd2b039d4809540256119fbd65c61a5);\n",
       "        \n",
       "    \n",
       "            var div_icon_031dde2db86a6c8ed4d2192ff8087b35 = L.divIcon({&quot;className&quot;: &quot;empty&quot;, &quot;html&quot;: &quot;\\u003cdiv\\u003e\\u003cdiv style=\\&quot;transform: rotate(242.5deg); border: 8px solid transparent; border-bottom-color: blue; width: 0; height: 0;\\&quot;\\u003e\\u003c/div\\u003e\\u003c/div\\u003e&quot;});\n",
       "            marker_8e131eda227cef1241457cb9837d8077.setIcon(div_icon_031dde2db86a6c8ed4d2192ff8087b35);\n",
       "        \n",
       "    \n",
       "            marker_8e131eda227cef1241457cb9837d8077.bindTooltip(\n",
       "                `&lt;div&gt;\n",
       "                     A8B760\n",
       "                 &lt;/div&gt;`,\n",
       "                {&quot;sticky&quot;: true}\n",
       "            );\n",
       "        \n",
       "    \n",
       "            var poly_line_5e9de8667397e54f1f8cd52191a00290 = L.polyline(\n",
       "                [[45.819319, -63.352524], [45.645767, -63.831035]],\n",
       "                {&quot;bubblingMouseEvents&quot;: true, &quot;color&quot;: &quot;blue&quot;, &quot;dashArray&quot;: null, &quot;dashOffset&quot;: null, &quot;fill&quot;: false, &quot;fillColor&quot;: &quot;blue&quot;, &quot;fillOpacity&quot;: 0.2, &quot;fillRule&quot;: &quot;evenodd&quot;, &quot;lineCap&quot;: &quot;round&quot;, &quot;lineJoin&quot;: &quot;round&quot;, &quot;noClip&quot;: false, &quot;opacity&quot;: 1, &quot;smoothFactor&quot;: 1.0, &quot;stroke&quot;: true, &quot;weight&quot;: 2}\n",
       "            ).addTo(map_ddd2b039d4809540256119fbd65c61a5);\n",
       "        \n",
       "    \n",
       "            poly_line_5e9de8667397e54f1f8cd52191a00290.bindTooltip(\n",
       "                `&lt;div&gt;\n",
       "                     A8B760\n",
       "                 &lt;/div&gt;`,\n",
       "                {&quot;sticky&quot;: true}\n",
       "            );\n",
       "        \n",
       "    \n",
       "            var marker_9f5be856c72974339474886fc916849e = L.marker(\n",
       "                [48.581909, -61.024264],\n",
       "                {}\n",
       "            ).addTo(map_ddd2b039d4809540256119fbd65c61a5);\n",
       "        \n",
       "    \n",
       "            var div_icon_b42a68dd8728b4126fe9e6cd017ae73b = L.divIcon({&quot;className&quot;: &quot;empty&quot;, &quot;html&quot;: &quot;\\u003cdiv\\u003e\\u003cdiv style=\\&quot;transform: rotate(243.1deg); border: 8px solid transparent; border-bottom-color: blue; width: 0; height: 0;\\&quot;\\u003e\\u003c/div\\u003e\\u003c/div\\u003e&quot;});\n",
       "            marker_9f5be856c72974339474886fc916849e.setIcon(div_icon_b42a68dd8728b4126fe9e6cd017ae73b);\n",
       "        \n",
       "    \n",
       "            marker_9f5be856c72974339474886fc916849e.bindTooltip(\n",
       "                `&lt;div&gt;\n",
       "                     A8C4D8\n",
       "                 &lt;/div&gt;`,\n",
       "                {&quot;sticky&quot;: true}\n",
       "            );\n",
       "        \n",
       "    \n",
       "            var marker_825b3c68044c20d39aac09652e71503a = L.marker(\n",
       "                [48.41712, -61.510355],\n",
       "                {}\n",
       "            ).addTo(map_ddd2b039d4809540256119fbd65c61a5);\n",
       "        \n",
       "    \n",
       "            var div_icon_997b0ccbd48c37184752f6f1d03f5265 = L.divIcon({&quot;className&quot;: &quot;empty&quot;, &quot;html&quot;: &quot;\\u003cdiv\\u003e\\u003cdiv style=\\&quot;transform: rotate(242.7deg); border: 8px solid transparent; border-bottom-color: blue; width: 0; height: 0;\\&quot;\\u003e\\u003c/div\\u003e\\u003c/div\\u003e&quot;});\n",
       "            marker_825b3c68044c20d39aac09652e71503a.setIcon(div_icon_997b0ccbd48c37184752f6f1d03f5265);\n",
       "        \n",
       "    \n",
       "            marker_825b3c68044c20d39aac09652e71503a.bindTooltip(\n",
       "                `&lt;div&gt;\n",
       "                     A8C4D8\n",
       "                 &lt;/div&gt;`,\n",
       "                {&quot;sticky&quot;: true}\n",
       "            );\n",
       "        \n",
       "    \n",
       "            var poly_line_304b00408e87ff9242bd1f92683e5447 = L.polyline(\n",
       "                [[48.581909, -61.024264], [48.41712, -61.510355]],\n",
       "                {&quot;bubblingMouseEvents&quot;: true, &quot;color&quot;: &quot;blue&quot;, &quot;dashArray&quot;: null, &quot;dashOffset&quot;: null, &quot;fill&quot;: false, &quot;fillColor&quot;: &quot;blue&quot;, &quot;fillOpacity&quot;: 0.2, &quot;fillRule&quot;: &quot;evenodd&quot;, &quot;lineCap&quot;: &quot;round&quot;, &quot;lineJoin&quot;: &quot;round&quot;, &quot;noClip&quot;: false, &quot;opacity&quot;: 1, &quot;smoothFactor&quot;: 1.0, &quot;stroke&quot;: true, &quot;weight&quot;: 2}\n",
       "            ).addTo(map_ddd2b039d4809540256119fbd65c61a5);\n",
       "        \n",
       "    \n",
       "            poly_line_304b00408e87ff9242bd1f92683e5447.bindTooltip(\n",
       "                `&lt;div&gt;\n",
       "                     A8C4D8\n",
       "                 &lt;/div&gt;`,\n",
       "                {&quot;sticky&quot;: true}\n",
       "            );\n",
       "        \n",
       "    \n",
       "            var marker_1ec976e48d56c8e288d90ecee95b576b = L.marker(\n",
       "                [48.581909, -61.024264],\n",
       "                {}\n",
       "            ).addTo(map_ddd2b039d4809540256119fbd65c61a5);\n",
       "        \n",
       "    \n",
       "            var div_icon_bee4490d199736a6f0a5185b0826b44f = L.divIcon({&quot;className&quot;: &quot;empty&quot;, &quot;html&quot;: &quot;\\u003cdiv\\u003e\\u003cdiv style=\\&quot;transform: rotate(243.1deg); border: 8px solid transparent; border-bottom-color: blue; width: 0; height: 0;\\&quot;\\u003e\\u003c/div\\u003e\\u003c/div\\u003e&quot;});\n",
       "            marker_1ec976e48d56c8e288d90ecee95b576b.setIcon(div_icon_bee4490d199736a6f0a5185b0826b44f);\n",
       "        \n",
       "    \n",
       "            marker_1ec976e48d56c8e288d90ecee95b576b.bindTooltip(\n",
       "                `&lt;div&gt;\n",
       "                     A8C4D8\n",
       "                 &lt;/div&gt;`,\n",
       "                {&quot;sticky&quot;: true}\n",
       "            );\n",
       "        \n",
       "    \n",
       "            var marker_c3d92291e70b3cfac617b6972b5a6d7a = L.marker(\n",
       "                [48.41712, -61.510355],\n",
       "                {}\n",
       "            ).addTo(map_ddd2b039d4809540256119fbd65c61a5);\n",
       "        \n",
       "    \n",
       "            var div_icon_abdc0bfdd343235f827e05e14fdbeac2 = L.divIcon({&quot;className&quot;: &quot;empty&quot;, &quot;html&quot;: &quot;\\u003cdiv\\u003e\\u003cdiv style=\\&quot;transform: rotate(242.7deg); border: 8px solid transparent; border-bottom-color: blue; width: 0; height: 0;\\&quot;\\u003e\\u003c/div\\u003e\\u003c/div\\u003e&quot;});\n",
       "            marker_c3d92291e70b3cfac617b6972b5a6d7a.setIcon(div_icon_abdc0bfdd343235f827e05e14fdbeac2);\n",
       "        \n",
       "    \n",
       "            marker_c3d92291e70b3cfac617b6972b5a6d7a.bindTooltip(\n",
       "                `&lt;div&gt;\n",
       "                     A8C4D8\n",
       "                 &lt;/div&gt;`,\n",
       "                {&quot;sticky&quot;: true}\n",
       "            );\n",
       "        \n",
       "    \n",
       "            var poly_line_ffb4242120edd1089641cdfc013f95f1 = L.polyline(\n",
       "                [[48.581909, -61.024264], [48.41712, -61.510355]],\n",
       "                {&quot;bubblingMouseEvents&quot;: true, &quot;color&quot;: &quot;blue&quot;, &quot;dashArray&quot;: null, &quot;dashOffset&quot;: null, &quot;fill&quot;: false, &quot;fillColor&quot;: &quot;blue&quot;, &quot;fillOpacity&quot;: 0.2, &quot;fillRule&quot;: &quot;evenodd&quot;, &quot;lineCap&quot;: &quot;round&quot;, &quot;lineJoin&quot;: &quot;round&quot;, &quot;noClip&quot;: false, &quot;opacity&quot;: 1, &quot;smoothFactor&quot;: 1.0, &quot;stroke&quot;: true, &quot;weight&quot;: 2}\n",
       "            ).addTo(map_ddd2b039d4809540256119fbd65c61a5);\n",
       "        \n",
       "    \n",
       "            poly_line_ffb4242120edd1089641cdfc013f95f1.bindTooltip(\n",
       "                `&lt;div&gt;\n",
       "                     A8C4D8\n",
       "                 &lt;/div&gt;`,\n",
       "                {&quot;sticky&quot;: true}\n",
       "            );\n",
       "        \n",
       "    \n",
       "            var marker_995a156c08eef468d26449cb3ba67249 = L.marker(\n",
       "                [49.241959, -62.568054],\n",
       "                {}\n",
       "            ).addTo(map_ddd2b039d4809540256119fbd65c61a5);\n",
       "        \n",
       "    \n",
       "            var div_icon_985b72b3bf38cba2793bb15450c29e19 = L.divIcon({&quot;className&quot;: &quot;empty&quot;, &quot;html&quot;: &quot;\\u003cdiv\\u003e\\u003cdiv style=\\&quot;transform: rotate(224.0deg); border: 8px solid transparent; border-bottom-color: blue; width: 0; height: 0;\\&quot;\\u003e\\u003c/div\\u003e\\u003c/div\\u003e&quot;});\n",
       "            marker_995a156c08eef468d26449cb3ba67249.setIcon(div_icon_985b72b3bf38cba2793bb15450c29e19);\n",
       "        \n",
       "    \n",
       "            marker_995a156c08eef468d26449cb3ba67249.bindTooltip(\n",
       "                `&lt;div&gt;\n",
       "                     A8F00E\n",
       "                 &lt;/div&gt;`,\n",
       "                {&quot;sticky&quot;: true}\n",
       "            );\n",
       "        \n",
       "    \n",
       "            var marker_6da0e3dd1ae968808784d0d064db7c48 = L.marker(\n",
       "                [48.971371, -62.963586],\n",
       "                {}\n",
       "            ).addTo(map_ddd2b039d4809540256119fbd65c61a5);\n",
       "        \n",
       "    \n",
       "            var div_icon_5573576d96471bc548cc2e2e0ad40677 = L.divIcon({&quot;className&quot;: &quot;empty&quot;, &quot;html&quot;: &quot;\\u003cdiv\\u003e\\u003cdiv style=\\&quot;transform: rotate(223.7deg); border: 8px solid transparent; border-bottom-color: blue; width: 0; height: 0;\\&quot;\\u003e\\u003c/div\\u003e\\u003c/div\\u003e&quot;});\n",
       "            marker_6da0e3dd1ae968808784d0d064db7c48.setIcon(div_icon_5573576d96471bc548cc2e2e0ad40677);\n",
       "        \n",
       "    \n",
       "            marker_6da0e3dd1ae968808784d0d064db7c48.bindTooltip(\n",
       "                `&lt;div&gt;\n",
       "                     A8F00E\n",
       "                 &lt;/div&gt;`,\n",
       "                {&quot;sticky&quot;: true}\n",
       "            );\n",
       "        \n",
       "    \n",
       "            var poly_line_377f4cee0d005bd4e0fb6c902526f26d = L.polyline(\n",
       "                [[49.241959, -62.568054], [48.971371, -62.963586]],\n",
       "                {&quot;bubblingMouseEvents&quot;: true, &quot;color&quot;: &quot;blue&quot;, &quot;dashArray&quot;: null, &quot;dashOffset&quot;: null, &quot;fill&quot;: false, &quot;fillColor&quot;: &quot;blue&quot;, &quot;fillOpacity&quot;: 0.2, &quot;fillRule&quot;: &quot;evenodd&quot;, &quot;lineCap&quot;: &quot;round&quot;, &quot;lineJoin&quot;: &quot;round&quot;, &quot;noClip&quot;: false, &quot;opacity&quot;: 1, &quot;smoothFactor&quot;: 1.0, &quot;stroke&quot;: true, &quot;weight&quot;: 2}\n",
       "            ).addTo(map_ddd2b039d4809540256119fbd65c61a5);\n",
       "        \n",
       "    \n",
       "            poly_line_377f4cee0d005bd4e0fb6c902526f26d.bindTooltip(\n",
       "                `&lt;div&gt;\n",
       "                     A8F00E\n",
       "                 &lt;/div&gt;`,\n",
       "                {&quot;sticky&quot;: true}\n",
       "            );\n",
       "        \n",
       "    \n",
       "            var marker_d00cbd403873debfb7e8266c5adcbb2c = L.marker(\n",
       "                [49.241959, -62.568054],\n",
       "                {}\n",
       "            ).addTo(map_ddd2b039d4809540256119fbd65c61a5);\n",
       "        \n",
       "    \n",
       "            var div_icon_7482c9d58d29c5579381757d875b9186 = L.divIcon({&quot;className&quot;: &quot;empty&quot;, &quot;html&quot;: &quot;\\u003cdiv\\u003e\\u003cdiv style=\\&quot;transform: rotate(224.0deg); border: 8px solid transparent; border-bottom-color: blue; width: 0; height: 0;\\&quot;\\u003e\\u003c/div\\u003e\\u003c/div\\u003e&quot;});\n",
       "            marker_d00cbd403873debfb7e8266c5adcbb2c.setIcon(div_icon_7482c9d58d29c5579381757d875b9186);\n",
       "        \n",
       "    \n",
       "            marker_d00cbd403873debfb7e8266c5adcbb2c.bindTooltip(\n",
       "                `&lt;div&gt;\n",
       "                     A8F00E\n",
       "                 &lt;/div&gt;`,\n",
       "                {&quot;sticky&quot;: true}\n",
       "            );\n",
       "        \n",
       "    \n",
       "            var marker_97e2a5950c41832ff5f1aa36d45ff519 = L.marker(\n",
       "                [48.971371, -62.963586],\n",
       "                {}\n",
       "            ).addTo(map_ddd2b039d4809540256119fbd65c61a5);\n",
       "        \n",
       "    \n",
       "            var div_icon_b1ae3ba0ce968af12a774314d0b7b344 = L.divIcon({&quot;className&quot;: &quot;empty&quot;, &quot;html&quot;: &quot;\\u003cdiv\\u003e\\u003cdiv style=\\&quot;transform: rotate(223.7deg); border: 8px solid transparent; border-bottom-color: blue; width: 0; height: 0;\\&quot;\\u003e\\u003c/div\\u003e\\u003c/div\\u003e&quot;});\n",
       "            marker_97e2a5950c41832ff5f1aa36d45ff519.setIcon(div_icon_b1ae3ba0ce968af12a774314d0b7b344);\n",
       "        \n",
       "    \n",
       "            marker_97e2a5950c41832ff5f1aa36d45ff519.bindTooltip(\n",
       "                `&lt;div&gt;\n",
       "                     A8F00E\n",
       "                 &lt;/div&gt;`,\n",
       "                {&quot;sticky&quot;: true}\n",
       "            );\n",
       "        \n",
       "    \n",
       "            var poly_line_f2482ed72622e7acecbdc021beaee1e1 = L.polyline(\n",
       "                [[49.241959, -62.568054], [48.971371, -62.963586]],\n",
       "                {&quot;bubblingMouseEvents&quot;: true, &quot;color&quot;: &quot;blue&quot;, &quot;dashArray&quot;: null, &quot;dashOffset&quot;: null, &quot;fill&quot;: false, &quot;fillColor&quot;: &quot;blue&quot;, &quot;fillOpacity&quot;: 0.2, &quot;fillRule&quot;: &quot;evenodd&quot;, &quot;lineCap&quot;: &quot;round&quot;, &quot;lineJoin&quot;: &quot;round&quot;, &quot;noClip&quot;: false, &quot;opacity&quot;: 1, &quot;smoothFactor&quot;: 1.0, &quot;stroke&quot;: true, &quot;weight&quot;: 2}\n",
       "            ).addTo(map_ddd2b039d4809540256119fbd65c61a5);\n",
       "        \n",
       "    \n",
       "            poly_line_f2482ed72622e7acecbdc021beaee1e1.bindTooltip(\n",
       "                `&lt;div&gt;\n",
       "                     A8F00E\n",
       "                 &lt;/div&gt;`,\n",
       "                {&quot;sticky&quot;: true}\n",
       "            );\n",
       "        \n",
       "    \n",
       "            var marker_55b42d0075168c3cb1584d395531db5c = L.marker(\n",
       "                [48.579122, -60.303955],\n",
       "                {}\n",
       "            ).addTo(map_ddd2b039d4809540256119fbd65c61a5);\n",
       "        \n",
       "    \n",
       "            var div_icon_ece2a39cb22ffcd2587ebe291df84e49 = L.divIcon({&quot;className&quot;: &quot;empty&quot;, &quot;html&quot;: &quot;\\u003cdiv\\u003e\\u003cdiv style=\\&quot;transform: rotate(238.2deg); border: 8px solid transparent; border-bottom-color: blue; width: 0; height: 0;\\&quot;\\u003e\\u003c/div\\u003e\\u003c/div\\u003e&quot;});\n",
       "            marker_55b42d0075168c3cb1584d395531db5c.setIcon(div_icon_ece2a39cb22ffcd2587ebe291df84e49);\n",
       "        \n",
       "    \n",
       "            marker_55b42d0075168c3cb1584d395531db5c.bindTooltip(\n",
       "                `&lt;div&gt;\n",
       "                     AA1DCD\n",
       "                 &lt;/div&gt;`,\n",
       "                {&quot;sticky&quot;: true}\n",
       "            );\n",
       "        \n",
       "    \n",
       "            var marker_27f3f807f773391fc9b6df23d0b0903c = L.marker(\n",
       "                [48.379692, -60.783378],\n",
       "                {}\n",
       "            ).addTo(map_ddd2b039d4809540256119fbd65c61a5);\n",
       "        \n",
       "    \n",
       "            var div_icon_8d33e13cd8e87ca89ce0f0c804d6917e = L.divIcon({&quot;className&quot;: &quot;empty&quot;, &quot;html&quot;: &quot;\\u003cdiv\\u003e\\u003cdiv style=\\&quot;transform: rotate(237.8deg); border: 8px solid transparent; border-bottom-color: blue; width: 0; height: 0;\\&quot;\\u003e\\u003c/div\\u003e\\u003c/div\\u003e&quot;});\n",
       "            marker_27f3f807f773391fc9b6df23d0b0903c.setIcon(div_icon_8d33e13cd8e87ca89ce0f0c804d6917e);\n",
       "        \n",
       "    \n",
       "            marker_27f3f807f773391fc9b6df23d0b0903c.bindTooltip(\n",
       "                `&lt;div&gt;\n",
       "                     AA1DCD\n",
       "                 &lt;/div&gt;`,\n",
       "                {&quot;sticky&quot;: true}\n",
       "            );\n",
       "        \n",
       "    \n",
       "            var poly_line_64fb3c7de34dde15b4074a9d74863ef6 = L.polyline(\n",
       "                [[48.579122, -60.303955], [48.379692, -60.783378]],\n",
       "                {&quot;bubblingMouseEvents&quot;: true, &quot;color&quot;: &quot;blue&quot;, &quot;dashArray&quot;: null, &quot;dashOffset&quot;: null, &quot;fill&quot;: false, &quot;fillColor&quot;: &quot;blue&quot;, &quot;fillOpacity&quot;: 0.2, &quot;fillRule&quot;: &quot;evenodd&quot;, &quot;lineCap&quot;: &quot;round&quot;, &quot;lineJoin&quot;: &quot;round&quot;, &quot;noClip&quot;: false, &quot;opacity&quot;: 1, &quot;smoothFactor&quot;: 1.0, &quot;stroke&quot;: true, &quot;weight&quot;: 2}\n",
       "            ).addTo(map_ddd2b039d4809540256119fbd65c61a5);\n",
       "        \n",
       "    \n",
       "            poly_line_64fb3c7de34dde15b4074a9d74863ef6.bindTooltip(\n",
       "                `&lt;div&gt;\n",
       "                     AA1DCD\n",
       "                 &lt;/div&gt;`,\n",
       "                {&quot;sticky&quot;: true}\n",
       "            );\n",
       "        \n",
       "    \n",
       "            var marker_069117a1cd85d121f4405185303e7530 = L.marker(\n",
       "                [48.579122, -60.303955],\n",
       "                {}\n",
       "            ).addTo(map_ddd2b039d4809540256119fbd65c61a5);\n",
       "        \n",
       "    \n",
       "            var div_icon_e22ed58fca3b3c293b89e2cb7658ac52 = L.divIcon({&quot;className&quot;: &quot;empty&quot;, &quot;html&quot;: &quot;\\u003cdiv\\u003e\\u003cdiv style=\\&quot;transform: rotate(238.2deg); border: 8px solid transparent; border-bottom-color: blue; width: 0; height: 0;\\&quot;\\u003e\\u003c/div\\u003e\\u003c/div\\u003e&quot;});\n",
       "            marker_069117a1cd85d121f4405185303e7530.setIcon(div_icon_e22ed58fca3b3c293b89e2cb7658ac52);\n",
       "        \n",
       "    \n",
       "            marker_069117a1cd85d121f4405185303e7530.bindTooltip(\n",
       "                `&lt;div&gt;\n",
       "                     AA1DCD\n",
       "                 &lt;/div&gt;`,\n",
       "                {&quot;sticky&quot;: true}\n",
       "            );\n",
       "        \n",
       "    \n",
       "            var marker_a2f6dba7463e7ba6b21307d3ffc180ac = L.marker(\n",
       "                [48.379692, -60.783378],\n",
       "                {}\n",
       "            ).addTo(map_ddd2b039d4809540256119fbd65c61a5);\n",
       "        \n",
       "    \n",
       "            var div_icon_1bbe7c1ed132673acc5bf938782a5934 = L.divIcon({&quot;className&quot;: &quot;empty&quot;, &quot;html&quot;: &quot;\\u003cdiv\\u003e\\u003cdiv style=\\&quot;transform: rotate(237.8deg); border: 8px solid transparent; border-bottom-color: blue; width: 0; height: 0;\\&quot;\\u003e\\u003c/div\\u003e\\u003c/div\\u003e&quot;});\n",
       "            marker_a2f6dba7463e7ba6b21307d3ffc180ac.setIcon(div_icon_1bbe7c1ed132673acc5bf938782a5934);\n",
       "        \n",
       "    \n",
       "            marker_a2f6dba7463e7ba6b21307d3ffc180ac.bindTooltip(\n",
       "                `&lt;div&gt;\n",
       "                     AA1DCD\n",
       "                 &lt;/div&gt;`,\n",
       "                {&quot;sticky&quot;: true}\n",
       "            );\n",
       "        \n",
       "    \n",
       "            var poly_line_725056bae33cce001673e9d1fac33a18 = L.polyline(\n",
       "                [[48.579122, -60.303955], [48.379692, -60.783378]],\n",
       "                {&quot;bubblingMouseEvents&quot;: true, &quot;color&quot;: &quot;blue&quot;, &quot;dashArray&quot;: null, &quot;dashOffset&quot;: null, &quot;fill&quot;: false, &quot;fillColor&quot;: &quot;blue&quot;, &quot;fillOpacity&quot;: 0.2, &quot;fillRule&quot;: &quot;evenodd&quot;, &quot;lineCap&quot;: &quot;round&quot;, &quot;lineJoin&quot;: &quot;round&quot;, &quot;noClip&quot;: false, &quot;opacity&quot;: 1, &quot;smoothFactor&quot;: 1.0, &quot;stroke&quot;: true, &quot;weight&quot;: 2}\n",
       "            ).addTo(map_ddd2b039d4809540256119fbd65c61a5);\n",
       "        \n",
       "    \n",
       "            poly_line_725056bae33cce001673e9d1fac33a18.bindTooltip(\n",
       "                `&lt;div&gt;\n",
       "                     AA1DCD\n",
       "                 &lt;/div&gt;`,\n",
       "                {&quot;sticky&quot;: true}\n",
       "            );\n",
       "        \n",
       "    \n",
       "            var marker_5b954304804d39bf65a20d63aad0e87e = L.marker(\n",
       "                [48.308188, -63.592481],\n",
       "                {}\n",
       "            ).addTo(map_ddd2b039d4809540256119fbd65c61a5);\n",
       "        \n",
       "    \n",
       "            var div_icon_1b418cf374990407406664eca77c1400 = L.divIcon({&quot;className&quot;: &quot;empty&quot;, &quot;html&quot;: &quot;\\u003cdiv\\u003e\\u003cdiv style=\\&quot;transform: rotate(239.8deg); border: 8px solid transparent; border-bottom-color: blue; width: 0; height: 0;\\&quot;\\u003e\\u003c/div\\u003e\\u003c/div\\u003e&quot;});\n",
       "            marker_5b954304804d39bf65a20d63aad0e87e.setIcon(div_icon_1b418cf374990407406664eca77c1400);\n",
       "        \n",
       "    \n",
       "            marker_5b954304804d39bf65a20d63aad0e87e.bindTooltip(\n",
       "                `&lt;div&gt;\n",
       "                     AAD780\n",
       "                 &lt;/div&gt;`,\n",
       "                {&quot;sticky&quot;: true}\n",
       "            );\n",
       "        \n",
       "    \n",
       "            var marker_73ee644891f674f262e07481c89ece69 = L.marker(\n",
       "                [48.117554, -64.078033],\n",
       "                {}\n",
       "            ).addTo(map_ddd2b039d4809540256119fbd65c61a5);\n",
       "        \n",
       "    \n",
       "            var div_icon_1a31d44e31f61e3a9302dfd51a653bc7 = L.divIcon({&quot;className&quot;: &quot;empty&quot;, &quot;html&quot;: &quot;\\u003cdiv\\u003e\\u003cdiv style=\\&quot;transform: rotate(239.3deg); border: 8px solid transparent; border-bottom-color: blue; width: 0; height: 0;\\&quot;\\u003e\\u003c/div\\u003e\\u003c/div\\u003e&quot;});\n",
       "            marker_73ee644891f674f262e07481c89ece69.setIcon(div_icon_1a31d44e31f61e3a9302dfd51a653bc7);\n",
       "        \n",
       "    \n",
       "            marker_73ee644891f674f262e07481c89ece69.bindTooltip(\n",
       "                `&lt;div&gt;\n",
       "                     AAD780\n",
       "                 &lt;/div&gt;`,\n",
       "                {&quot;sticky&quot;: true}\n",
       "            );\n",
       "        \n",
       "    \n",
       "            var poly_line_4fa237fad7c6be17452c2020f0e40fef = L.polyline(\n",
       "                [[48.308188, -63.592481], [48.117554, -64.078033]],\n",
       "                {&quot;bubblingMouseEvents&quot;: true, &quot;color&quot;: &quot;blue&quot;, &quot;dashArray&quot;: null, &quot;dashOffset&quot;: null, &quot;fill&quot;: false, &quot;fillColor&quot;: &quot;blue&quot;, &quot;fillOpacity&quot;: 0.2, &quot;fillRule&quot;: &quot;evenodd&quot;, &quot;lineCap&quot;: &quot;round&quot;, &quot;lineJoin&quot;: &quot;round&quot;, &quot;noClip&quot;: false, &quot;opacity&quot;: 1, &quot;smoothFactor&quot;: 1.0, &quot;stroke&quot;: true, &quot;weight&quot;: 2}\n",
       "            ).addTo(map_ddd2b039d4809540256119fbd65c61a5);\n",
       "        \n",
       "    \n",
       "            poly_line_4fa237fad7c6be17452c2020f0e40fef.bindTooltip(\n",
       "                `&lt;div&gt;\n",
       "                     AAD780\n",
       "                 &lt;/div&gt;`,\n",
       "                {&quot;sticky&quot;: true}\n",
       "            );\n",
       "        \n",
       "    \n",
       "            var marker_9085932f41f0f96a683d121bee504ae9 = L.marker(\n",
       "                [48.308188, -63.592481],\n",
       "                {}\n",
       "            ).addTo(map_ddd2b039d4809540256119fbd65c61a5);\n",
       "        \n",
       "    \n",
       "            var div_icon_651e752fe7159cee8668fc97a4f34c83 = L.divIcon({&quot;className&quot;: &quot;empty&quot;, &quot;html&quot;: &quot;\\u003cdiv\\u003e\\u003cdiv style=\\&quot;transform: rotate(239.8deg); border: 8px solid transparent; border-bottom-color: blue; width: 0; height: 0;\\&quot;\\u003e\\u003c/div\\u003e\\u003c/div\\u003e&quot;});\n",
       "            marker_9085932f41f0f96a683d121bee504ae9.setIcon(div_icon_651e752fe7159cee8668fc97a4f34c83);\n",
       "        \n",
       "    \n",
       "            marker_9085932f41f0f96a683d121bee504ae9.bindTooltip(\n",
       "                `&lt;div&gt;\n",
       "                     AAD780\n",
       "                 &lt;/div&gt;`,\n",
       "                {&quot;sticky&quot;: true}\n",
       "            );\n",
       "        \n",
       "    \n",
       "            var marker_12e3949d5a982a029e47dc7347ffa4e3 = L.marker(\n",
       "                [48.117554, -64.078033],\n",
       "                {}\n",
       "            ).addTo(map_ddd2b039d4809540256119fbd65c61a5);\n",
       "        \n",
       "    \n",
       "            var div_icon_b80201aebe08d8256d35680cf73a1ce3 = L.divIcon({&quot;className&quot;: &quot;empty&quot;, &quot;html&quot;: &quot;\\u003cdiv\\u003e\\u003cdiv style=\\&quot;transform: rotate(239.3deg); border: 8px solid transparent; border-bottom-color: blue; width: 0; height: 0;\\&quot;\\u003e\\u003c/div\\u003e\\u003c/div\\u003e&quot;});\n",
       "            marker_12e3949d5a982a029e47dc7347ffa4e3.setIcon(div_icon_b80201aebe08d8256d35680cf73a1ce3);\n",
       "        \n",
       "    \n",
       "            marker_12e3949d5a982a029e47dc7347ffa4e3.bindTooltip(\n",
       "                `&lt;div&gt;\n",
       "                     AAD780\n",
       "                 &lt;/div&gt;`,\n",
       "                {&quot;sticky&quot;: true}\n",
       "            );\n",
       "        \n",
       "    \n",
       "            var poly_line_c52a33f63046d61783a306f9afdea707 = L.polyline(\n",
       "                [[48.308188, -63.592481], [48.117554, -64.078033]],\n",
       "                {&quot;bubblingMouseEvents&quot;: true, &quot;color&quot;: &quot;blue&quot;, &quot;dashArray&quot;: null, &quot;dashOffset&quot;: null, &quot;fill&quot;: false, &quot;fillColor&quot;: &quot;blue&quot;, &quot;fillOpacity&quot;: 0.2, &quot;fillRule&quot;: &quot;evenodd&quot;, &quot;lineCap&quot;: &quot;round&quot;, &quot;lineJoin&quot;: &quot;round&quot;, &quot;noClip&quot;: false, &quot;opacity&quot;: 1, &quot;smoothFactor&quot;: 1.0, &quot;stroke&quot;: true, &quot;weight&quot;: 2}\n",
       "            ).addTo(map_ddd2b039d4809540256119fbd65c61a5);\n",
       "        \n",
       "    \n",
       "            poly_line_c52a33f63046d61783a306f9afdea707.bindTooltip(\n",
       "                `&lt;div&gt;\n",
       "                     AAD780\n",
       "                 &lt;/div&gt;`,\n",
       "                {&quot;sticky&quot;: true}\n",
       "            );\n",
       "        \n",
       "    \n",
       "            var marker_2189251fab8b317b73f8359beda09f41 = L.marker(\n",
       "                [45.833084, -60.602931],\n",
       "                {}\n",
       "            ).addTo(map_ddd2b039d4809540256119fbd65c61a5);\n",
       "        \n",
       "    \n",
       "            var div_icon_a8bc7c2bbbd221b7df6b5dcdcb667eeb = L.divIcon({&quot;className&quot;: &quot;empty&quot;, &quot;html&quot;: &quot;\\u003cdiv\\u003e\\u003cdiv style=\\&quot;transform: rotate(245.8deg); border: 8px solid transparent; border-bottom-color: blue; width: 0; height: 0;\\&quot;\\u003e\\u003c/div\\u003e\\u003c/div\\u003e&quot;});\n",
       "            marker_2189251fab8b317b73f8359beda09f41.setIcon(div_icon_a8bc7c2bbbd221b7df6b5dcdcb667eeb);\n",
       "        \n",
       "    \n",
       "            marker_2189251fab8b317b73f8359beda09f41.bindTooltip(\n",
       "                `&lt;div&gt;\n",
       "                     AADB37\n",
       "                 &lt;/div&gt;`,\n",
       "                {&quot;sticky&quot;: true}\n",
       "            );\n",
       "        \n",
       "    \n",
       "            var marker_32e6a2365b2ac60f83396315198d8425 = L.marker(\n",
       "                [45.667047, -61.1269],\n",
       "                {}\n",
       "            ).addTo(map_ddd2b039d4809540256119fbd65c61a5);\n",
       "        \n",
       "    \n",
       "            var div_icon_66b9ef2028c45d09a555fa6944f2ded1 = L.divIcon({&quot;className&quot;: &quot;empty&quot;, &quot;html&quot;: &quot;\\u003cdiv\\u003e\\u003cdiv style=\\&quot;transform: rotate(245.4deg); border: 8px solid transparent; border-bottom-color: blue; width: 0; height: 0;\\&quot;\\u003e\\u003c/div\\u003e\\u003c/div\\u003e&quot;});\n",
       "            marker_32e6a2365b2ac60f83396315198d8425.setIcon(div_icon_66b9ef2028c45d09a555fa6944f2ded1);\n",
       "        \n",
       "    \n",
       "            marker_32e6a2365b2ac60f83396315198d8425.bindTooltip(\n",
       "                `&lt;div&gt;\n",
       "                     AADB37\n",
       "                 &lt;/div&gt;`,\n",
       "                {&quot;sticky&quot;: true}\n",
       "            );\n",
       "        \n",
       "    \n",
       "            var poly_line_c4d4a765f0b55ab3273e73b8ced45c3f = L.polyline(\n",
       "                [[45.833084, -60.602931], [45.667047, -61.1269]],\n",
       "                {&quot;bubblingMouseEvents&quot;: true, &quot;color&quot;: &quot;blue&quot;, &quot;dashArray&quot;: null, &quot;dashOffset&quot;: null, &quot;fill&quot;: false, &quot;fillColor&quot;: &quot;blue&quot;, &quot;fillOpacity&quot;: 0.2, &quot;fillRule&quot;: &quot;evenodd&quot;, &quot;lineCap&quot;: &quot;round&quot;, &quot;lineJoin&quot;: &quot;round&quot;, &quot;noClip&quot;: false, &quot;opacity&quot;: 1, &quot;smoothFactor&quot;: 1.0, &quot;stroke&quot;: true, &quot;weight&quot;: 2}\n",
       "            ).addTo(map_ddd2b039d4809540256119fbd65c61a5);\n",
       "        \n",
       "    \n",
       "            poly_line_c4d4a765f0b55ab3273e73b8ced45c3f.bindTooltip(\n",
       "                `&lt;div&gt;\n",
       "                     AADB37\n",
       "                 &lt;/div&gt;`,\n",
       "                {&quot;sticky&quot;: true}\n",
       "            );\n",
       "        \n",
       "    \n",
       "            var marker_848ab2f1c9c23508f634c31b727ded73 = L.marker(\n",
       "                [45.833084, -60.602931],\n",
       "                {}\n",
       "            ).addTo(map_ddd2b039d4809540256119fbd65c61a5);\n",
       "        \n",
       "    \n",
       "            var div_icon_445013713d77390438b9a73d2419d795 = L.divIcon({&quot;className&quot;: &quot;empty&quot;, &quot;html&quot;: &quot;\\u003cdiv\\u003e\\u003cdiv style=\\&quot;transform: rotate(245.8deg); border: 8px solid transparent; border-bottom-color: blue; width: 0; height: 0;\\&quot;\\u003e\\u003c/div\\u003e\\u003c/div\\u003e&quot;});\n",
       "            marker_848ab2f1c9c23508f634c31b727ded73.setIcon(div_icon_445013713d77390438b9a73d2419d795);\n",
       "        \n",
       "    \n",
       "            marker_848ab2f1c9c23508f634c31b727ded73.bindTooltip(\n",
       "                `&lt;div&gt;\n",
       "                     AADB37\n",
       "                 &lt;/div&gt;`,\n",
       "                {&quot;sticky&quot;: true}\n",
       "            );\n",
       "        \n",
       "    \n",
       "            var marker_857d7ac5eeda3b0781cd5ec3a0539d93 = L.marker(\n",
       "                [45.667047, -61.1269],\n",
       "                {}\n",
       "            ).addTo(map_ddd2b039d4809540256119fbd65c61a5);\n",
       "        \n",
       "    \n",
       "            var div_icon_d8fc210109296823e4b79d29ed85fd35 = L.divIcon({&quot;className&quot;: &quot;empty&quot;, &quot;html&quot;: &quot;\\u003cdiv\\u003e\\u003cdiv style=\\&quot;transform: rotate(245.4deg); border: 8px solid transparent; border-bottom-color: blue; width: 0; height: 0;\\&quot;\\u003e\\u003c/div\\u003e\\u003c/div\\u003e&quot;});\n",
       "            marker_857d7ac5eeda3b0781cd5ec3a0539d93.setIcon(div_icon_d8fc210109296823e4b79d29ed85fd35);\n",
       "        \n",
       "    \n",
       "            marker_857d7ac5eeda3b0781cd5ec3a0539d93.bindTooltip(\n",
       "                `&lt;div&gt;\n",
       "                     AADB37\n",
       "                 &lt;/div&gt;`,\n",
       "                {&quot;sticky&quot;: true}\n",
       "            );\n",
       "        \n",
       "    \n",
       "            var poly_line_61e8dcdf864fc55ca396f98663d1d5f1 = L.polyline(\n",
       "                [[45.833084, -60.602931], [45.667047, -61.1269]],\n",
       "                {&quot;bubblingMouseEvents&quot;: true, &quot;color&quot;: &quot;blue&quot;, &quot;dashArray&quot;: null, &quot;dashOffset&quot;: null, &quot;fill&quot;: false, &quot;fillColor&quot;: &quot;blue&quot;, &quot;fillOpacity&quot;: 0.2, &quot;fillRule&quot;: &quot;evenodd&quot;, &quot;lineCap&quot;: &quot;round&quot;, &quot;lineJoin&quot;: &quot;round&quot;, &quot;noClip&quot;: false, &quot;opacity&quot;: 1, &quot;smoothFactor&quot;: 1.0, &quot;stroke&quot;: true, &quot;weight&quot;: 2}\n",
       "            ).addTo(map_ddd2b039d4809540256119fbd65c61a5);\n",
       "        \n",
       "    \n",
       "            poly_line_61e8dcdf864fc55ca396f98663d1d5f1.bindTooltip(\n",
       "                `&lt;div&gt;\n",
       "                     AADB37\n",
       "                 &lt;/div&gt;`,\n",
       "                {&quot;sticky&quot;: true}\n",
       "            );\n",
       "        \n",
       "    \n",
       "            var marker_4f42e0723c9d28ebc3fa744024cdb09c = L.marker(\n",
       "                [47.873932, -63.862427],\n",
       "                {}\n",
       "            ).addTo(map_ddd2b039d4809540256119fbd65c61a5);\n",
       "        \n",
       "    \n",
       "            var div_icon_d8ec08d6c9062c5b82dcde94fae904d7 = L.divIcon({&quot;className&quot;: &quot;empty&quot;, &quot;html&quot;: &quot;\\u003cdiv\\u003e\\u003cdiv style=\\&quot;transform: rotate(271.5deg); border: 8px solid transparent; border-bottom-color: blue; width: 0; height: 0;\\&quot;\\u003e\\u003c/div\\u003e\\u003c/div\\u003e&quot;});\n",
       "            marker_4f42e0723c9d28ebc3fa744024cdb09c.setIcon(div_icon_d8ec08d6c9062c5b82dcde94fae904d7);\n",
       "        \n",
       "    \n",
       "            marker_4f42e0723c9d28ebc3fa744024cdb09c.bindTooltip(\n",
       "                `&lt;div&gt;\n",
       "                     AB120B\n",
       "                 &lt;/div&gt;`,\n",
       "                {&quot;sticky&quot;: true}\n",
       "            );\n",
       "        \n",
       "    \n",
       "            var marker_e856a9a746b7253c646be3a942331e75 = L.marker(\n",
       "                [47.882934, -64.413757],\n",
       "                {}\n",
       "            ).addTo(map_ddd2b039d4809540256119fbd65c61a5);\n",
       "        \n",
       "    \n",
       "            var div_icon_b2fbf06bb236993659b92f1f94b65e11 = L.divIcon({&quot;className&quot;: &quot;empty&quot;, &quot;html&quot;: &quot;\\u003cdiv\\u003e\\u003cdiv style=\\&quot;transform: rotate(271.1deg); border: 8px solid transparent; border-bottom-color: blue; width: 0; height: 0;\\&quot;\\u003e\\u003c/div\\u003e\\u003c/div\\u003e&quot;});\n",
       "            marker_e856a9a746b7253c646be3a942331e75.setIcon(div_icon_b2fbf06bb236993659b92f1f94b65e11);\n",
       "        \n",
       "    \n",
       "            marker_e856a9a746b7253c646be3a942331e75.bindTooltip(\n",
       "                `&lt;div&gt;\n",
       "                     AB120B\n",
       "                 &lt;/div&gt;`,\n",
       "                {&quot;sticky&quot;: true}\n",
       "            );\n",
       "        \n",
       "    \n",
       "            var poly_line_f31b45c865eafaf926394cbe7de1ef4e = L.polyline(\n",
       "                [[47.873932, -63.862427], [47.882934, -64.413757]],\n",
       "                {&quot;bubblingMouseEvents&quot;: true, &quot;color&quot;: &quot;blue&quot;, &quot;dashArray&quot;: null, &quot;dashOffset&quot;: null, &quot;fill&quot;: false, &quot;fillColor&quot;: &quot;blue&quot;, &quot;fillOpacity&quot;: 0.2, &quot;fillRule&quot;: &quot;evenodd&quot;, &quot;lineCap&quot;: &quot;round&quot;, &quot;lineJoin&quot;: &quot;round&quot;, &quot;noClip&quot;: false, &quot;opacity&quot;: 1, &quot;smoothFactor&quot;: 1.0, &quot;stroke&quot;: true, &quot;weight&quot;: 2}\n",
       "            ).addTo(map_ddd2b039d4809540256119fbd65c61a5);\n",
       "        \n",
       "    \n",
       "            poly_line_f31b45c865eafaf926394cbe7de1ef4e.bindTooltip(\n",
       "                `&lt;div&gt;\n",
       "                     AB120B\n",
       "                 &lt;/div&gt;`,\n",
       "                {&quot;sticky&quot;: true}\n",
       "            );\n",
       "        \n",
       "    \n",
       "            var marker_4be2cd93bc630460134e01d8e0bd7efb = L.marker(\n",
       "                [47.873932, -63.862427],\n",
       "                {}\n",
       "            ).addTo(map_ddd2b039d4809540256119fbd65c61a5);\n",
       "        \n",
       "    \n",
       "            var div_icon_942d6e7ddd6da780379f67fa3df6aabe = L.divIcon({&quot;className&quot;: &quot;empty&quot;, &quot;html&quot;: &quot;\\u003cdiv\\u003e\\u003cdiv style=\\&quot;transform: rotate(271.5deg); border: 8px solid transparent; border-bottom-color: blue; width: 0; height: 0;\\&quot;\\u003e\\u003c/div\\u003e\\u003c/div\\u003e&quot;});\n",
       "            marker_4be2cd93bc630460134e01d8e0bd7efb.setIcon(div_icon_942d6e7ddd6da780379f67fa3df6aabe);\n",
       "        \n",
       "    \n",
       "            marker_4be2cd93bc630460134e01d8e0bd7efb.bindTooltip(\n",
       "                `&lt;div&gt;\n",
       "                     AB120B\n",
       "                 &lt;/div&gt;`,\n",
       "                {&quot;sticky&quot;: true}\n",
       "            );\n",
       "        \n",
       "    \n",
       "            var marker_237591c3052c4e51ad6500d9087213b3 = L.marker(\n",
       "                [47.882934, -64.413757],\n",
       "                {}\n",
       "            ).addTo(map_ddd2b039d4809540256119fbd65c61a5);\n",
       "        \n",
       "    \n",
       "            var div_icon_e88ddd698614ff28ee84f159f94ba99b = L.divIcon({&quot;className&quot;: &quot;empty&quot;, &quot;html&quot;: &quot;\\u003cdiv\\u003e\\u003cdiv style=\\&quot;transform: rotate(271.1deg); border: 8px solid transparent; border-bottom-color: blue; width: 0; height: 0;\\&quot;\\u003e\\u003c/div\\u003e\\u003c/div\\u003e&quot;});\n",
       "            marker_237591c3052c4e51ad6500d9087213b3.setIcon(div_icon_e88ddd698614ff28ee84f159f94ba99b);\n",
       "        \n",
       "    \n",
       "            marker_237591c3052c4e51ad6500d9087213b3.bindTooltip(\n",
       "                `&lt;div&gt;\n",
       "                     AB120B\n",
       "                 &lt;/div&gt;`,\n",
       "                {&quot;sticky&quot;: true}\n",
       "            );\n",
       "        \n",
       "    \n",
       "            var poly_line_11be63e9af9345cb36924e65d80e3462 = L.polyline(\n",
       "                [[47.873932, -63.862427], [47.882934, -64.413757]],\n",
       "                {&quot;bubblingMouseEvents&quot;: true, &quot;color&quot;: &quot;blue&quot;, &quot;dashArray&quot;: null, &quot;dashOffset&quot;: null, &quot;fill&quot;: false, &quot;fillColor&quot;: &quot;blue&quot;, &quot;fillOpacity&quot;: 0.2, &quot;fillRule&quot;: &quot;evenodd&quot;, &quot;lineCap&quot;: &quot;round&quot;, &quot;lineJoin&quot;: &quot;round&quot;, &quot;noClip&quot;: false, &quot;opacity&quot;: 1, &quot;smoothFactor&quot;: 1.0, &quot;stroke&quot;: true, &quot;weight&quot;: 2}\n",
       "            ).addTo(map_ddd2b039d4809540256119fbd65c61a5);\n",
       "        \n",
       "    \n",
       "            poly_line_11be63e9af9345cb36924e65d80e3462.bindTooltip(\n",
       "                `&lt;div&gt;\n",
       "                     AB120B\n",
       "                 &lt;/div&gt;`,\n",
       "                {&quot;sticky&quot;: true}\n",
       "            );\n",
       "        \n",
       "    \n",
       "            var marker_02f6389d9ad51338b1c29f78c219b1e9 = L.marker(\n",
       "                [45.211075, -61.110927],\n",
       "                {}\n",
       "            ).addTo(map_ddd2b039d4809540256119fbd65c61a5);\n",
       "        \n",
       "    \n",
       "            var div_icon_ddd15db39aa172e093dae86c325e451b = L.divIcon({&quot;className&quot;: &quot;empty&quot;, &quot;html&quot;: &quot;\\u003cdiv\\u003e\\u003cdiv style=\\&quot;transform: rotate(246.1deg); border: 8px solid transparent; border-bottom-color: blue; width: 0; height: 0;\\&quot;\\u003e\\u003c/div\\u003e\\u003c/div\\u003e&quot;});\n",
       "            marker_02f6389d9ad51338b1c29f78c219b1e9.setIcon(div_icon_ddd15db39aa172e093dae86c325e451b);\n",
       "        \n",
       "    \n",
       "            marker_02f6389d9ad51338b1c29f78c219b1e9.bindTooltip(\n",
       "                `&lt;div&gt;\n",
       "                     AB6737\n",
       "                 &lt;/div&gt;`,\n",
       "                {&quot;sticky&quot;: true}\n",
       "            );\n",
       "        \n",
       "    \n",
       "            var marker_0f8b52f0e6b6fd97847544c48ce49a51 = L.marker(\n",
       "                [45.03685, -61.662074],\n",
       "                {}\n",
       "            ).addTo(map_ddd2b039d4809540256119fbd65c61a5);\n",
       "        \n",
       "    \n",
       "            var div_icon_112fda27b2685ccad2e234d3b0f31c8a = L.divIcon({&quot;className&quot;: &quot;empty&quot;, &quot;html&quot;: &quot;\\u003cdiv\\u003e\\u003cdiv style=\\&quot;transform: rotate(245.7deg); border: 8px solid transparent; border-bottom-color: blue; width: 0; height: 0;\\&quot;\\u003e\\u003c/div\\u003e\\u003c/div\\u003e&quot;});\n",
       "            marker_0f8b52f0e6b6fd97847544c48ce49a51.setIcon(div_icon_112fda27b2685ccad2e234d3b0f31c8a);\n",
       "        \n",
       "    \n",
       "            marker_0f8b52f0e6b6fd97847544c48ce49a51.bindTooltip(\n",
       "                `&lt;div&gt;\n",
       "                     AB6737\n",
       "                 &lt;/div&gt;`,\n",
       "                {&quot;sticky&quot;: true}\n",
       "            );\n",
       "        \n",
       "    \n",
       "            var poly_line_9c4b86e7d77dc2404a43628cfb8d63bd = L.polyline(\n",
       "                [[45.211075, -61.110927], [45.03685, -61.662074]],\n",
       "                {&quot;bubblingMouseEvents&quot;: true, &quot;color&quot;: &quot;blue&quot;, &quot;dashArray&quot;: null, &quot;dashOffset&quot;: null, &quot;fill&quot;: false, &quot;fillColor&quot;: &quot;blue&quot;, &quot;fillOpacity&quot;: 0.2, &quot;fillRule&quot;: &quot;evenodd&quot;, &quot;lineCap&quot;: &quot;round&quot;, &quot;lineJoin&quot;: &quot;round&quot;, &quot;noClip&quot;: false, &quot;opacity&quot;: 1, &quot;smoothFactor&quot;: 1.0, &quot;stroke&quot;: true, &quot;weight&quot;: 2}\n",
       "            ).addTo(map_ddd2b039d4809540256119fbd65c61a5);\n",
       "        \n",
       "    \n",
       "            poly_line_9c4b86e7d77dc2404a43628cfb8d63bd.bindTooltip(\n",
       "                `&lt;div&gt;\n",
       "                     AB6737\n",
       "                 &lt;/div&gt;`,\n",
       "                {&quot;sticky&quot;: true}\n",
       "            );\n",
       "        \n",
       "    \n",
       "            var marker_c3d682e57424b5ff007e43d2551cf40b = L.marker(\n",
       "                [45.211075, -61.110927],\n",
       "                {}\n",
       "            ).addTo(map_ddd2b039d4809540256119fbd65c61a5);\n",
       "        \n",
       "    \n",
       "            var div_icon_ace825639e134197ad3be919c991134e = L.divIcon({&quot;className&quot;: &quot;empty&quot;, &quot;html&quot;: &quot;\\u003cdiv\\u003e\\u003cdiv style=\\&quot;transform: rotate(246.1deg); border: 8px solid transparent; border-bottom-color: blue; width: 0; height: 0;\\&quot;\\u003e\\u003c/div\\u003e\\u003c/div\\u003e&quot;});\n",
       "            marker_c3d682e57424b5ff007e43d2551cf40b.setIcon(div_icon_ace825639e134197ad3be919c991134e);\n",
       "        \n",
       "    \n",
       "            marker_c3d682e57424b5ff007e43d2551cf40b.bindTooltip(\n",
       "                `&lt;div&gt;\n",
       "                     AB6737\n",
       "                 &lt;/div&gt;`,\n",
       "                {&quot;sticky&quot;: true}\n",
       "            );\n",
       "        \n",
       "    \n",
       "            var marker_4e7cbf898313932500ec788795df20cb = L.marker(\n",
       "                [45.03685, -61.662074],\n",
       "                {}\n",
       "            ).addTo(map_ddd2b039d4809540256119fbd65c61a5);\n",
       "        \n",
       "    \n",
       "            var div_icon_8ebbf68cde8627da692594731ce294a4 = L.divIcon({&quot;className&quot;: &quot;empty&quot;, &quot;html&quot;: &quot;\\u003cdiv\\u003e\\u003cdiv style=\\&quot;transform: rotate(245.7deg); border: 8px solid transparent; border-bottom-color: blue; width: 0; height: 0;\\&quot;\\u003e\\u003c/div\\u003e\\u003c/div\\u003e&quot;});\n",
       "            marker_4e7cbf898313932500ec788795df20cb.setIcon(div_icon_8ebbf68cde8627da692594731ce294a4);\n",
       "        \n",
       "    \n",
       "            marker_4e7cbf898313932500ec788795df20cb.bindTooltip(\n",
       "                `&lt;div&gt;\n",
       "                     AB6737\n",
       "                 &lt;/div&gt;`,\n",
       "                {&quot;sticky&quot;: true}\n",
       "            );\n",
       "        \n",
       "    \n",
       "            var poly_line_095cde59b387da85ef6f258c84e3f702 = L.polyline(\n",
       "                [[45.211075, -61.110927], [45.03685, -61.662074]],\n",
       "                {&quot;bubblingMouseEvents&quot;: true, &quot;color&quot;: &quot;blue&quot;, &quot;dashArray&quot;: null, &quot;dashOffset&quot;: null, &quot;fill&quot;: false, &quot;fillColor&quot;: &quot;blue&quot;, &quot;fillOpacity&quot;: 0.2, &quot;fillRule&quot;: &quot;evenodd&quot;, &quot;lineCap&quot;: &quot;round&quot;, &quot;lineJoin&quot;: &quot;round&quot;, &quot;noClip&quot;: false, &quot;opacity&quot;: 1, &quot;smoothFactor&quot;: 1.0, &quot;stroke&quot;: true, &quot;weight&quot;: 2}\n",
       "            ).addTo(map_ddd2b039d4809540256119fbd65c61a5);\n",
       "        \n",
       "    \n",
       "            poly_line_095cde59b387da85ef6f258c84e3f702.bindTooltip(\n",
       "                `&lt;div&gt;\n",
       "                     AB6737\n",
       "                 &lt;/div&gt;`,\n",
       "                {&quot;sticky&quot;: true}\n",
       "            );\n",
       "        \n",
       "    \n",
       "            var marker_6d7f62a9b4f56e9e981e559238a7238b = L.marker(\n",
       "                [45.836171, -62.436401],\n",
       "                {}\n",
       "            ).addTo(map_ddd2b039d4809540256119fbd65c61a5);\n",
       "        \n",
       "    \n",
       "            var div_icon_03df2435cce433e6a945ee3e188ca9b3 = L.divIcon({&quot;className&quot;: &quot;empty&quot;, &quot;html&quot;: &quot;\\u003cdiv\\u003e\\u003cdiv style=\\&quot;transform: rotate(247.9deg); border: 8px solid transparent; border-bottom-color: blue; width: 0; height: 0;\\&quot;\\u003e\\u003c/div\\u003e\\u003c/div\\u003e&quot;});\n",
       "            marker_6d7f62a9b4f56e9e981e559238a7238b.setIcon(div_icon_03df2435cce433e6a945ee3e188ca9b3);\n",
       "        \n",
       "    \n",
       "            marker_6d7f62a9b4f56e9e981e559238a7238b.bindTooltip(\n",
       "                `&lt;div&gt;\n",
       "                     AB9387\n",
       "                 &lt;/div&gt;`,\n",
       "                {&quot;sticky&quot;: true}\n",
       "            );\n",
       "        \n",
       "    \n",
       "            var marker_7809c65e009a3b292571600ae6245786 = L.marker(\n",
       "                [45.690323, -62.945274],\n",
       "                {}\n",
       "            ).addTo(map_ddd2b039d4809540256119fbd65c61a5);\n",
       "        \n",
       "    \n",
       "            var div_icon_a04eb86b32800f35ba0df8095be5a8b7 = L.divIcon({&quot;className&quot;: &quot;empty&quot;, &quot;html&quot;: &quot;\\u003cdiv\\u003e\\u003cdiv style=\\&quot;transform: rotate(247.5deg); border: 8px solid transparent; border-bottom-color: blue; width: 0; height: 0;\\&quot;\\u003e\\u003c/div\\u003e\\u003c/div\\u003e&quot;});\n",
       "            marker_7809c65e009a3b292571600ae6245786.setIcon(div_icon_a04eb86b32800f35ba0df8095be5a8b7);\n",
       "        \n",
       "    \n",
       "            marker_7809c65e009a3b292571600ae6245786.bindTooltip(\n",
       "                `&lt;div&gt;\n",
       "                     AB9387\n",
       "                 &lt;/div&gt;`,\n",
       "                {&quot;sticky&quot;: true}\n",
       "            );\n",
       "        \n",
       "    \n",
       "            var poly_line_a4e16dba52b8795a819be2a4a00694f9 = L.polyline(\n",
       "                [[45.836171, -62.436401], [45.690323, -62.945274]],\n",
       "                {&quot;bubblingMouseEvents&quot;: true, &quot;color&quot;: &quot;blue&quot;, &quot;dashArray&quot;: null, &quot;dashOffset&quot;: null, &quot;fill&quot;: false, &quot;fillColor&quot;: &quot;blue&quot;, &quot;fillOpacity&quot;: 0.2, &quot;fillRule&quot;: &quot;evenodd&quot;, &quot;lineCap&quot;: &quot;round&quot;, &quot;lineJoin&quot;: &quot;round&quot;, &quot;noClip&quot;: false, &quot;opacity&quot;: 1, &quot;smoothFactor&quot;: 1.0, &quot;stroke&quot;: true, &quot;weight&quot;: 2}\n",
       "            ).addTo(map_ddd2b039d4809540256119fbd65c61a5);\n",
       "        \n",
       "    \n",
       "            poly_line_a4e16dba52b8795a819be2a4a00694f9.bindTooltip(\n",
       "                `&lt;div&gt;\n",
       "                     AB9387\n",
       "                 &lt;/div&gt;`,\n",
       "                {&quot;sticky&quot;: true}\n",
       "            );\n",
       "        \n",
       "    \n",
       "            var marker_e11c1e7f5ebd753bc8c5f064e8006c88 = L.marker(\n",
       "                [45.836171, -62.436401],\n",
       "                {}\n",
       "            ).addTo(map_ddd2b039d4809540256119fbd65c61a5);\n",
       "        \n",
       "    \n",
       "            var div_icon_2a4bac02f7909be710c62a1151b5c76a = L.divIcon({&quot;className&quot;: &quot;empty&quot;, &quot;html&quot;: &quot;\\u003cdiv\\u003e\\u003cdiv style=\\&quot;transform: rotate(247.9deg); border: 8px solid transparent; border-bottom-color: blue; width: 0; height: 0;\\&quot;\\u003e\\u003c/div\\u003e\\u003c/div\\u003e&quot;});\n",
       "            marker_e11c1e7f5ebd753bc8c5f064e8006c88.setIcon(div_icon_2a4bac02f7909be710c62a1151b5c76a);\n",
       "        \n",
       "    \n",
       "            marker_e11c1e7f5ebd753bc8c5f064e8006c88.bindTooltip(\n",
       "                `&lt;div&gt;\n",
       "                     AB9387\n",
       "                 &lt;/div&gt;`,\n",
       "                {&quot;sticky&quot;: true}\n",
       "            );\n",
       "        \n",
       "    \n",
       "            var marker_15e8aca794f9b9ad3c16afc158880dd8 = L.marker(\n",
       "                [45.690323, -62.945274],\n",
       "                {}\n",
       "            ).addTo(map_ddd2b039d4809540256119fbd65c61a5);\n",
       "        \n",
       "    \n",
       "            var div_icon_78999bf4f2360e7c3439696202ae1437 = L.divIcon({&quot;className&quot;: &quot;empty&quot;, &quot;html&quot;: &quot;\\u003cdiv\\u003e\\u003cdiv style=\\&quot;transform: rotate(247.5deg); border: 8px solid transparent; border-bottom-color: blue; width: 0; height: 0;\\&quot;\\u003e\\u003c/div\\u003e\\u003c/div\\u003e&quot;});\n",
       "            marker_15e8aca794f9b9ad3c16afc158880dd8.setIcon(div_icon_78999bf4f2360e7c3439696202ae1437);\n",
       "        \n",
       "    \n",
       "            marker_15e8aca794f9b9ad3c16afc158880dd8.bindTooltip(\n",
       "                `&lt;div&gt;\n",
       "                     AB9387\n",
       "                 &lt;/div&gt;`,\n",
       "                {&quot;sticky&quot;: true}\n",
       "            );\n",
       "        \n",
       "    \n",
       "            var poly_line_abb7277db5e06912a506c30a9ec17c40 = L.polyline(\n",
       "                [[45.836171, -62.436401], [45.690323, -62.945274]],\n",
       "                {&quot;bubblingMouseEvents&quot;: true, &quot;color&quot;: &quot;blue&quot;, &quot;dashArray&quot;: null, &quot;dashOffset&quot;: null, &quot;fill&quot;: false, &quot;fillColor&quot;: &quot;blue&quot;, &quot;fillOpacity&quot;: 0.2, &quot;fillRule&quot;: &quot;evenodd&quot;, &quot;lineCap&quot;: &quot;round&quot;, &quot;lineJoin&quot;: &quot;round&quot;, &quot;noClip&quot;: false, &quot;opacity&quot;: 1, &quot;smoothFactor&quot;: 1.0, &quot;stroke&quot;: true, &quot;weight&quot;: 2}\n",
       "            ).addTo(map_ddd2b039d4809540256119fbd65c61a5);\n",
       "        \n",
       "    \n",
       "            poly_line_abb7277db5e06912a506c30a9ec17c40.bindTooltip(\n",
       "                `&lt;div&gt;\n",
       "                     AB9387\n",
       "                 &lt;/div&gt;`,\n",
       "                {&quot;sticky&quot;: true}\n",
       "            );\n",
       "        \n",
       "    \n",
       "            var marker_f6f8dc95cf4b9999d18f56b8b14e364e = L.marker(\n",
       "                [45.509002, -61.636181],\n",
       "                {}\n",
       "            ).addTo(map_ddd2b039d4809540256119fbd65c61a5);\n",
       "        \n",
       "    \n",
       "            var div_icon_02c39ec03630c386338f542edad64286 = L.divIcon({&quot;className&quot;: &quot;empty&quot;, &quot;html&quot;: &quot;\\u003cdiv\\u003e\\u003cdiv style=\\&quot;transform: rotate(245.1deg); border: 8px solid transparent; border-bottom-color: blue; width: 0; height: 0;\\&quot;\\u003e\\u003c/div\\u003e\\u003c/div\\u003e&quot;});\n",
       "            marker_f6f8dc95cf4b9999d18f56b8b14e364e.setIcon(div_icon_02c39ec03630c386338f542edad64286);\n",
       "        \n",
       "    \n",
       "            marker_f6f8dc95cf4b9999d18f56b8b14e364e.bindTooltip(\n",
       "                `&lt;div&gt;\n",
       "                     ABD018\n",
       "                 &lt;/div&gt;`,\n",
       "                {&quot;sticky&quot;: true}\n",
       "            );\n",
       "        \n",
       "    \n",
       "            var marker_5100b0264fb2fb606a72e28e556233d2 = L.marker(\n",
       "                [45.34593, -62.12936],\n",
       "                {}\n",
       "            ).addTo(map_ddd2b039d4809540256119fbd65c61a5);\n",
       "        \n",
       "    \n",
       "            var div_icon_25355c0183891a3e3c117780d8875eca = L.divIcon({&quot;className&quot;: &quot;empty&quot;, &quot;html&quot;: &quot;\\u003cdiv\\u003e\\u003cdiv style=\\&quot;transform: rotate(244.7deg); border: 8px solid transparent; border-bottom-color: blue; width: 0; height: 0;\\&quot;\\u003e\\u003c/div\\u003e\\u003c/div\\u003e&quot;});\n",
       "            marker_5100b0264fb2fb606a72e28e556233d2.setIcon(div_icon_25355c0183891a3e3c117780d8875eca);\n",
       "        \n",
       "    \n",
       "            marker_5100b0264fb2fb606a72e28e556233d2.bindTooltip(\n",
       "                `&lt;div&gt;\n",
       "                     ABD018\n",
       "                 &lt;/div&gt;`,\n",
       "                {&quot;sticky&quot;: true}\n",
       "            );\n",
       "        \n",
       "    \n",
       "            var poly_line_8ad7402aa7040978e3e985b8029bc51f = L.polyline(\n",
       "                [[45.509002, -61.636181], [45.34593, -62.12936]],\n",
       "                {&quot;bubblingMouseEvents&quot;: true, &quot;color&quot;: &quot;blue&quot;, &quot;dashArray&quot;: null, &quot;dashOffset&quot;: null, &quot;fill&quot;: false, &quot;fillColor&quot;: &quot;blue&quot;, &quot;fillOpacity&quot;: 0.2, &quot;fillRule&quot;: &quot;evenodd&quot;, &quot;lineCap&quot;: &quot;round&quot;, &quot;lineJoin&quot;: &quot;round&quot;, &quot;noClip&quot;: false, &quot;opacity&quot;: 1, &quot;smoothFactor&quot;: 1.0, &quot;stroke&quot;: true, &quot;weight&quot;: 2}\n",
       "            ).addTo(map_ddd2b039d4809540256119fbd65c61a5);\n",
       "        \n",
       "    \n",
       "            poly_line_8ad7402aa7040978e3e985b8029bc51f.bindTooltip(\n",
       "                `&lt;div&gt;\n",
       "                     ABD018\n",
       "                 &lt;/div&gt;`,\n",
       "                {&quot;sticky&quot;: true}\n",
       "            );\n",
       "        \n",
       "    \n",
       "            var marker_623ee77d86e9c1c43db2de57138fbc49 = L.marker(\n",
       "                [45.509002, -61.636181],\n",
       "                {}\n",
       "            ).addTo(map_ddd2b039d4809540256119fbd65c61a5);\n",
       "        \n",
       "    \n",
       "            var div_icon_d0117b90beec62c1a9d8588fd26f4907 = L.divIcon({&quot;className&quot;: &quot;empty&quot;, &quot;html&quot;: &quot;\\u003cdiv\\u003e\\u003cdiv style=\\&quot;transform: rotate(245.1deg); border: 8px solid transparent; border-bottom-color: blue; width: 0; height: 0;\\&quot;\\u003e\\u003c/div\\u003e\\u003c/div\\u003e&quot;});\n",
       "            marker_623ee77d86e9c1c43db2de57138fbc49.setIcon(div_icon_d0117b90beec62c1a9d8588fd26f4907);\n",
       "        \n",
       "    \n",
       "            marker_623ee77d86e9c1c43db2de57138fbc49.bindTooltip(\n",
       "                `&lt;div&gt;\n",
       "                     ABD018\n",
       "                 &lt;/div&gt;`,\n",
       "                {&quot;sticky&quot;: true}\n",
       "            );\n",
       "        \n",
       "    \n",
       "            var marker_286ce88439dd71857e654afeb3ff5d9f = L.marker(\n",
       "                [45.34593, -62.12936],\n",
       "                {}\n",
       "            ).addTo(map_ddd2b039d4809540256119fbd65c61a5);\n",
       "        \n",
       "    \n",
       "            var div_icon_11355c6cd6f4588ab7623a8b382c4ee3 = L.divIcon({&quot;className&quot;: &quot;empty&quot;, &quot;html&quot;: &quot;\\u003cdiv\\u003e\\u003cdiv style=\\&quot;transform: rotate(244.7deg); border: 8px solid transparent; border-bottom-color: blue; width: 0; height: 0;\\&quot;\\u003e\\u003c/div\\u003e\\u003c/div\\u003e&quot;});\n",
       "            marker_286ce88439dd71857e654afeb3ff5d9f.setIcon(div_icon_11355c6cd6f4588ab7623a8b382c4ee3);\n",
       "        \n",
       "    \n",
       "            marker_286ce88439dd71857e654afeb3ff5d9f.bindTooltip(\n",
       "                `&lt;div&gt;\n",
       "                     ABD018\n",
       "                 &lt;/div&gt;`,\n",
       "                {&quot;sticky&quot;: true}\n",
       "            );\n",
       "        \n",
       "    \n",
       "            var poly_line_6f62610b895198fa570a32a3f863d38a = L.polyline(\n",
       "                [[45.509002, -61.636181], [45.34593, -62.12936]],\n",
       "                {&quot;bubblingMouseEvents&quot;: true, &quot;color&quot;: &quot;blue&quot;, &quot;dashArray&quot;: null, &quot;dashOffset&quot;: null, &quot;fill&quot;: false, &quot;fillColor&quot;: &quot;blue&quot;, &quot;fillOpacity&quot;: 0.2, &quot;fillRule&quot;: &quot;evenodd&quot;, &quot;lineCap&quot;: &quot;round&quot;, &quot;lineJoin&quot;: &quot;round&quot;, &quot;noClip&quot;: false, &quot;opacity&quot;: 1, &quot;smoothFactor&quot;: 1.0, &quot;stroke&quot;: true, &quot;weight&quot;: 2}\n",
       "            ).addTo(map_ddd2b039d4809540256119fbd65c61a5);\n",
       "        \n",
       "    \n",
       "            poly_line_6f62610b895198fa570a32a3f863d38a.bindTooltip(\n",
       "                `&lt;div&gt;\n",
       "                     ABD018\n",
       "                 &lt;/div&gt;`,\n",
       "                {&quot;sticky&quot;: true}\n",
       "            );\n",
       "        \n",
       "    \n",
       "            var marker_8c44a9758585eee9105eba8e99a4c176 = L.marker(\n",
       "                [47.091918, -63.25977],\n",
       "                {}\n",
       "            ).addTo(map_ddd2b039d4809540256119fbd65c61a5);\n",
       "        \n",
       "    \n",
       "            var div_icon_87bfcb7283237dcc1db81ff3063e611b = L.divIcon({&quot;className&quot;: &quot;empty&quot;, &quot;html&quot;: &quot;\\u003cdiv\\u003e\\u003cdiv style=\\&quot;transform: rotate(266.6deg); border: 8px solid transparent; border-bottom-color: blue; width: 0; height: 0;\\&quot;\\u003e\\u003c/div\\u003e\\u003c/div\\u003e&quot;});\n",
       "            marker_8c44a9758585eee9105eba8e99a4c176.setIcon(div_icon_87bfcb7283237dcc1db81ff3063e611b);\n",
       "        \n",
       "    \n",
       "            marker_8c44a9758585eee9105eba8e99a4c176.bindTooltip(\n",
       "                `&lt;div&gt;\n",
       "                     C010EC\n",
       "                 &lt;/div&gt;`,\n",
       "                {&quot;sticky&quot;: true}\n",
       "            );\n",
       "        \n",
       "    \n",
       "            var marker_861e2fec7a49e507ac91deb950141cc3 = L.marker(\n",
       "                [47.068039, -63.810173],\n",
       "                {}\n",
       "            ).addTo(map_ddd2b039d4809540256119fbd65c61a5);\n",
       "        \n",
       "    \n",
       "            var div_icon_a9f7e0cc488bbf02304d9a6a59cc6d32 = L.divIcon({&quot;className&quot;: &quot;empty&quot;, &quot;html&quot;: &quot;\\u003cdiv\\u003e\\u003cdiv style=\\&quot;transform: rotate(266.2deg); border: 8px solid transparent; border-bottom-color: blue; width: 0; height: 0;\\&quot;\\u003e\\u003c/div\\u003e\\u003c/div\\u003e&quot;});\n",
       "            marker_861e2fec7a49e507ac91deb950141cc3.setIcon(div_icon_a9f7e0cc488bbf02304d9a6a59cc6d32);\n",
       "        \n",
       "    \n",
       "            marker_861e2fec7a49e507ac91deb950141cc3.bindTooltip(\n",
       "                `&lt;div&gt;\n",
       "                     C010EC\n",
       "                 &lt;/div&gt;`,\n",
       "                {&quot;sticky&quot;: true}\n",
       "            );\n",
       "        \n",
       "    \n",
       "            var poly_line_9673181d3fcd7dd162fdccca2fd89c64 = L.polyline(\n",
       "                [[47.091918, -63.25977], [47.068039, -63.810173]],\n",
       "                {&quot;bubblingMouseEvents&quot;: true, &quot;color&quot;: &quot;blue&quot;, &quot;dashArray&quot;: null, &quot;dashOffset&quot;: null, &quot;fill&quot;: false, &quot;fillColor&quot;: &quot;blue&quot;, &quot;fillOpacity&quot;: 0.2, &quot;fillRule&quot;: &quot;evenodd&quot;, &quot;lineCap&quot;: &quot;round&quot;, &quot;lineJoin&quot;: &quot;round&quot;, &quot;noClip&quot;: false, &quot;opacity&quot;: 1, &quot;smoothFactor&quot;: 1.0, &quot;stroke&quot;: true, &quot;weight&quot;: 2}\n",
       "            ).addTo(map_ddd2b039d4809540256119fbd65c61a5);\n",
       "        \n",
       "    \n",
       "            poly_line_9673181d3fcd7dd162fdccca2fd89c64.bindTooltip(\n",
       "                `&lt;div&gt;\n",
       "                     C010EC\n",
       "                 &lt;/div&gt;`,\n",
       "                {&quot;sticky&quot;: true}\n",
       "            );\n",
       "        \n",
       "    \n",
       "            var marker_0e04902b69d1bb7c3971183f731f0770 = L.marker(\n",
       "                [47.091918, -63.25977],\n",
       "                {}\n",
       "            ).addTo(map_ddd2b039d4809540256119fbd65c61a5);\n",
       "        \n",
       "    \n",
       "            var div_icon_f9af8fc84c66825978e40bfb556d3675 = L.divIcon({&quot;className&quot;: &quot;empty&quot;, &quot;html&quot;: &quot;\\u003cdiv\\u003e\\u003cdiv style=\\&quot;transform: rotate(266.6deg); border: 8px solid transparent; border-bottom-color: blue; width: 0; height: 0;\\&quot;\\u003e\\u003c/div\\u003e\\u003c/div\\u003e&quot;});\n",
       "            marker_0e04902b69d1bb7c3971183f731f0770.setIcon(div_icon_f9af8fc84c66825978e40bfb556d3675);\n",
       "        \n",
       "    \n",
       "            marker_0e04902b69d1bb7c3971183f731f0770.bindTooltip(\n",
       "                `&lt;div&gt;\n",
       "                     C010EC\n",
       "                 &lt;/div&gt;`,\n",
       "                {&quot;sticky&quot;: true}\n",
       "            );\n",
       "        \n",
       "    \n",
       "            var marker_72ae3aec938fa1029773ef1442ed2505 = L.marker(\n",
       "                [47.068039, -63.810173],\n",
       "                {}\n",
       "            ).addTo(map_ddd2b039d4809540256119fbd65c61a5);\n",
       "        \n",
       "    \n",
       "            var div_icon_d8181d7e300084461a9411c449491dfb = L.divIcon({&quot;className&quot;: &quot;empty&quot;, &quot;html&quot;: &quot;\\u003cdiv\\u003e\\u003cdiv style=\\&quot;transform: rotate(266.2deg); border: 8px solid transparent; border-bottom-color: blue; width: 0; height: 0;\\&quot;\\u003e\\u003c/div\\u003e\\u003c/div\\u003e&quot;});\n",
       "            marker_72ae3aec938fa1029773ef1442ed2505.setIcon(div_icon_d8181d7e300084461a9411c449491dfb);\n",
       "        \n",
       "    \n",
       "            marker_72ae3aec938fa1029773ef1442ed2505.bindTooltip(\n",
       "                `&lt;div&gt;\n",
       "                     C010EC\n",
       "                 &lt;/div&gt;`,\n",
       "                {&quot;sticky&quot;: true}\n",
       "            );\n",
       "        \n",
       "    \n",
       "            var poly_line_ae89dcb6b335593b9a8de015b6bfc6f9 = L.polyline(\n",
       "                [[47.091918, -63.25977], [47.068039, -63.810173]],\n",
       "                {&quot;bubblingMouseEvents&quot;: true, &quot;color&quot;: &quot;blue&quot;, &quot;dashArray&quot;: null, &quot;dashOffset&quot;: null, &quot;fill&quot;: false, &quot;fillColor&quot;: &quot;blue&quot;, &quot;fillOpacity&quot;: 0.2, &quot;fillRule&quot;: &quot;evenodd&quot;, &quot;lineCap&quot;: &quot;round&quot;, &quot;lineJoin&quot;: &quot;round&quot;, &quot;noClip&quot;: false, &quot;opacity&quot;: 1, &quot;smoothFactor&quot;: 1.0, &quot;stroke&quot;: true, &quot;weight&quot;: 2}\n",
       "            ).addTo(map_ddd2b039d4809540256119fbd65c61a5);\n",
       "        \n",
       "    \n",
       "            poly_line_ae89dcb6b335593b9a8de015b6bfc6f9.bindTooltip(\n",
       "                `&lt;div&gt;\n",
       "                     C010EC\n",
       "                 &lt;/div&gt;`,\n",
       "                {&quot;sticky&quot;: true}\n",
       "            );\n",
       "        \n",
       "    \n",
       "            var marker_94beabe2113af28914268fbdc012b26f = L.marker(\n",
       "                [45.182205, -61.704511],\n",
       "                {}\n",
       "            ).addTo(map_ddd2b039d4809540256119fbd65c61a5);\n",
       "        \n",
       "    \n",
       "            var div_icon_2631ce9122609c3b9b1203f4a00a3dcd = L.divIcon({&quot;className&quot;: &quot;empty&quot;, &quot;html&quot;: &quot;\\u003cdiv\\u003e\\u003cdiv style=\\&quot;transform: rotate(260.3deg); border: 8px solid transparent; border-bottom-color: blue; width: 0; height: 0;\\&quot;\\u003e\\u003c/div\\u003e\\u003c/div\\u003e&quot;});\n",
       "            marker_94beabe2113af28914268fbdc012b26f.setIcon(div_icon_2631ce9122609c3b9b1203f4a00a3dcd);\n",
       "        \n",
       "    \n",
       "            marker_94beabe2113af28914268fbdc012b26f.bindTooltip(\n",
       "                `&lt;div&gt;\n",
       "                     C01734\n",
       "                 &lt;/div&gt;`,\n",
       "                {&quot;sticky&quot;: true}\n",
       "            );\n",
       "        \n",
       "    \n",
       "            var marker_1b436d8839c40cfebf43d1eac252c737 = L.marker(\n",
       "                [45.113983, -62.26338],\n",
       "                {}\n",
       "            ).addTo(map_ddd2b039d4809540256119fbd65c61a5);\n",
       "        \n",
       "    \n",
       "            var div_icon_84a6dfcf70b2536e32a4e46035e49648 = L.divIcon({&quot;className&quot;: &quot;empty&quot;, &quot;html&quot;: &quot;\\u003cdiv\\u003e\\u003cdiv style=\\&quot;transform: rotate(260.1deg); border: 8px solid transparent; border-bottom-color: blue; width: 0; height: 0;\\&quot;\\u003e\\u003c/div\\u003e\\u003c/div\\u003e&quot;});\n",
       "            marker_1b436d8839c40cfebf43d1eac252c737.setIcon(div_icon_84a6dfcf70b2536e32a4e46035e49648);\n",
       "        \n",
       "    \n",
       "            marker_1b436d8839c40cfebf43d1eac252c737.bindTooltip(\n",
       "                `&lt;div&gt;\n",
       "                     C01734\n",
       "                 &lt;/div&gt;`,\n",
       "                {&quot;sticky&quot;: true}\n",
       "            );\n",
       "        \n",
       "    \n",
       "            var poly_line_91178709ea79a0e5708e5526e94e538f = L.polyline(\n",
       "                [[45.182205, -61.704511], [45.113983, -62.26338]],\n",
       "                {&quot;bubblingMouseEvents&quot;: true, &quot;color&quot;: &quot;blue&quot;, &quot;dashArray&quot;: null, &quot;dashOffset&quot;: null, &quot;fill&quot;: false, &quot;fillColor&quot;: &quot;blue&quot;, &quot;fillOpacity&quot;: 0.2, &quot;fillRule&quot;: &quot;evenodd&quot;, &quot;lineCap&quot;: &quot;round&quot;, &quot;lineJoin&quot;: &quot;round&quot;, &quot;noClip&quot;: false, &quot;opacity&quot;: 1, &quot;smoothFactor&quot;: 1.0, &quot;stroke&quot;: true, &quot;weight&quot;: 2}\n",
       "            ).addTo(map_ddd2b039d4809540256119fbd65c61a5);\n",
       "        \n",
       "    \n",
       "            poly_line_91178709ea79a0e5708e5526e94e538f.bindTooltip(\n",
       "                `&lt;div&gt;\n",
       "                     C01734\n",
       "                 &lt;/div&gt;`,\n",
       "                {&quot;sticky&quot;: true}\n",
       "            );\n",
       "        \n",
       "    \n",
       "            var marker_fac5440b71bdcf65c276494a176ecb05 = L.marker(\n",
       "                [45.182205, -61.704511],\n",
       "                {}\n",
       "            ).addTo(map_ddd2b039d4809540256119fbd65c61a5);\n",
       "        \n",
       "    \n",
       "            var div_icon_f636a783abb70a4ab514ebaa16af4c30 = L.divIcon({&quot;className&quot;: &quot;empty&quot;, &quot;html&quot;: &quot;\\u003cdiv\\u003e\\u003cdiv style=\\&quot;transform: rotate(260.3deg); border: 8px solid transparent; border-bottom-color: blue; width: 0; height: 0;\\&quot;\\u003e\\u003c/div\\u003e\\u003c/div\\u003e&quot;});\n",
       "            marker_fac5440b71bdcf65c276494a176ecb05.setIcon(div_icon_f636a783abb70a4ab514ebaa16af4c30);\n",
       "        \n",
       "    \n",
       "            marker_fac5440b71bdcf65c276494a176ecb05.bindTooltip(\n",
       "                `&lt;div&gt;\n",
       "                     C01734\n",
       "                 &lt;/div&gt;`,\n",
       "                {&quot;sticky&quot;: true}\n",
       "            );\n",
       "        \n",
       "    \n",
       "            var marker_7a5b5927a018219ab3ba00316d428788 = L.marker(\n",
       "                [45.113983, -62.26338],\n",
       "                {}\n",
       "            ).addTo(map_ddd2b039d4809540256119fbd65c61a5);\n",
       "        \n",
       "    \n",
       "            var div_icon_b8095d2435765ad1fa853912e180bb4e = L.divIcon({&quot;className&quot;: &quot;empty&quot;, &quot;html&quot;: &quot;\\u003cdiv\\u003e\\u003cdiv style=\\&quot;transform: rotate(260.1deg); border: 8px solid transparent; border-bottom-color: blue; width: 0; height: 0;\\&quot;\\u003e\\u003c/div\\u003e\\u003c/div\\u003e&quot;});\n",
       "            marker_7a5b5927a018219ab3ba00316d428788.setIcon(div_icon_b8095d2435765ad1fa853912e180bb4e);\n",
       "        \n",
       "    \n",
       "            marker_7a5b5927a018219ab3ba00316d428788.bindTooltip(\n",
       "                `&lt;div&gt;\n",
       "                     C01734\n",
       "                 &lt;/div&gt;`,\n",
       "                {&quot;sticky&quot;: true}\n",
       "            );\n",
       "        \n",
       "    \n",
       "            var poly_line_a568fdb80202aa6a17a61e2f83e3af23 = L.polyline(\n",
       "                [[45.182205, -61.704511], [45.113983, -62.26338]],\n",
       "                {&quot;bubblingMouseEvents&quot;: true, &quot;color&quot;: &quot;blue&quot;, &quot;dashArray&quot;: null, &quot;dashOffset&quot;: null, &quot;fill&quot;: false, &quot;fillColor&quot;: &quot;blue&quot;, &quot;fillOpacity&quot;: 0.2, &quot;fillRule&quot;: &quot;evenodd&quot;, &quot;lineCap&quot;: &quot;round&quot;, &quot;lineJoin&quot;: &quot;round&quot;, &quot;noClip&quot;: false, &quot;opacity&quot;: 1, &quot;smoothFactor&quot;: 1.0, &quot;stroke&quot;: true, &quot;weight&quot;: 2}\n",
       "            ).addTo(map_ddd2b039d4809540256119fbd65c61a5);\n",
       "        \n",
       "    \n",
       "            poly_line_a568fdb80202aa6a17a61e2f83e3af23.bindTooltip(\n",
       "                `&lt;div&gt;\n",
       "                     C01734\n",
       "                 &lt;/div&gt;`,\n",
       "                {&quot;sticky&quot;: true}\n",
       "            );\n",
       "        \n",
       "    \n",
       "            var marker_534339b6e599376a98b471e339e4888d = L.marker(\n",
       "                [45.241608, -63.04851],\n",
       "                {}\n",
       "            ).addTo(map_ddd2b039d4809540256119fbd65c61a5);\n",
       "        \n",
       "    \n",
       "            var div_icon_dc28f5ac60bd12bc9e2f3f4ee9e1bf6b = L.divIcon({&quot;className&quot;: &quot;empty&quot;, &quot;html&quot;: &quot;\\u003cdiv\\u003e\\u003cdiv style=\\&quot;transform: rotate(247.1deg); border: 8px solid transparent; border-bottom-color: blue; width: 0; height: 0;\\&quot;\\u003e\\u003c/div\\u003e\\u003c/div\\u003e&quot;});\n",
       "            marker_534339b6e599376a98b471e339e4888d.setIcon(div_icon_dc28f5ac60bd12bc9e2f3f4ee9e1bf6b);\n",
       "        \n",
       "    \n",
       "            marker_534339b6e599376a98b471e339e4888d.bindTooltip(\n",
       "                `&lt;div&gt;\n",
       "                     C06361\n",
       "                 &lt;/div&gt;`,\n",
       "                {&quot;sticky&quot;: true}\n",
       "            );\n",
       "        \n",
       "    \n",
       "            var marker_65a672676b30cdc1c88ec6e1ab86680b = L.marker(\n",
       "                [45.130783, -63.364498],\n",
       "                {}\n",
       "            ).addTo(map_ddd2b039d4809540256119fbd65c61a5);\n",
       "        \n",
       "    \n",
       "            var div_icon_66c4db3f0709f31c952a3509853c47ac = L.divIcon({&quot;className&quot;: &quot;empty&quot;, &quot;html&quot;: &quot;\\u003cdiv\\u003e\\u003cdiv style=\\&quot;transform: rotate(225.6deg); border: 8px solid transparent; border-bottom-color: blue; width: 0; height: 0;\\&quot;\\u003e\\u003c/div\\u003e\\u003c/div\\u003e&quot;});\n",
       "            marker_65a672676b30cdc1c88ec6e1ab86680b.setIcon(div_icon_66c4db3f0709f31c952a3509853c47ac);\n",
       "        \n",
       "    \n",
       "            marker_65a672676b30cdc1c88ec6e1ab86680b.bindTooltip(\n",
       "                `&lt;div&gt;\n",
       "                     C06361\n",
       "                 &lt;/div&gt;`,\n",
       "                {&quot;sticky&quot;: true}\n",
       "            );\n",
       "        \n",
       "    \n",
       "            var poly_line_5bbead840767826c7f61145ebe82c10b = L.polyline(\n",
       "                [[45.241608, -63.04851], [45.130783, -63.364498]],\n",
       "                {&quot;bubblingMouseEvents&quot;: true, &quot;color&quot;: &quot;blue&quot;, &quot;dashArray&quot;: null, &quot;dashOffset&quot;: null, &quot;fill&quot;: false, &quot;fillColor&quot;: &quot;blue&quot;, &quot;fillOpacity&quot;: 0.2, &quot;fillRule&quot;: &quot;evenodd&quot;, &quot;lineCap&quot;: &quot;round&quot;, &quot;lineJoin&quot;: &quot;round&quot;, &quot;noClip&quot;: false, &quot;opacity&quot;: 1, &quot;smoothFactor&quot;: 1.0, &quot;stroke&quot;: true, &quot;weight&quot;: 2}\n",
       "            ).addTo(map_ddd2b039d4809540256119fbd65c61a5);\n",
       "        \n",
       "    \n",
       "            poly_line_5bbead840767826c7f61145ebe82c10b.bindTooltip(\n",
       "                `&lt;div&gt;\n",
       "                     C06361\n",
       "                 &lt;/div&gt;`,\n",
       "                {&quot;sticky&quot;: true}\n",
       "            );\n",
       "        \n",
       "    \n",
       "            var marker_9f81524836c19c5c7ca35fab0f6c1187 = L.marker(\n",
       "                [45.241608, -63.04851],\n",
       "                {}\n",
       "            ).addTo(map_ddd2b039d4809540256119fbd65c61a5);\n",
       "        \n",
       "    \n",
       "            var div_icon_9918b001494421fdd4990e61f4ecb55a = L.divIcon({&quot;className&quot;: &quot;empty&quot;, &quot;html&quot;: &quot;\\u003cdiv\\u003e\\u003cdiv style=\\&quot;transform: rotate(247.1deg); border: 8px solid transparent; border-bottom-color: blue; width: 0; height: 0;\\&quot;\\u003e\\u003c/div\\u003e\\u003c/div\\u003e&quot;});\n",
       "            marker_9f81524836c19c5c7ca35fab0f6c1187.setIcon(div_icon_9918b001494421fdd4990e61f4ecb55a);\n",
       "        \n",
       "    \n",
       "            marker_9f81524836c19c5c7ca35fab0f6c1187.bindTooltip(\n",
       "                `&lt;div&gt;\n",
       "                     C06361\n",
       "                 &lt;/div&gt;`,\n",
       "                {&quot;sticky&quot;: true}\n",
       "            );\n",
       "        \n",
       "    \n",
       "            var marker_b51c71935f6d4805fd42c6e9556534a4 = L.marker(\n",
       "                [45.130783, -63.364498],\n",
       "                {}\n",
       "            ).addTo(map_ddd2b039d4809540256119fbd65c61a5);\n",
       "        \n",
       "    \n",
       "            var div_icon_8d0cc2eb910e79a235994e6feeca637f = L.divIcon({&quot;className&quot;: &quot;empty&quot;, &quot;html&quot;: &quot;\\u003cdiv\\u003e\\u003cdiv style=\\&quot;transform: rotate(225.6deg); border: 8px solid transparent; border-bottom-color: blue; width: 0; height: 0;\\&quot;\\u003e\\u003c/div\\u003e\\u003c/div\\u003e&quot;});\n",
       "            marker_b51c71935f6d4805fd42c6e9556534a4.setIcon(div_icon_8d0cc2eb910e79a235994e6feeca637f);\n",
       "        \n",
       "    \n",
       "            marker_b51c71935f6d4805fd42c6e9556534a4.bindTooltip(\n",
       "                `&lt;div&gt;\n",
       "                     C06361\n",
       "                 &lt;/div&gt;`,\n",
       "                {&quot;sticky&quot;: true}\n",
       "            );\n",
       "        \n",
       "    \n",
       "            var poly_line_0e5fab0bb0934351fd203879c7b907ab = L.polyline(\n",
       "                [[45.241608, -63.04851], [45.130783, -63.364498]],\n",
       "                {&quot;bubblingMouseEvents&quot;: true, &quot;color&quot;: &quot;blue&quot;, &quot;dashArray&quot;: null, &quot;dashOffset&quot;: null, &quot;fill&quot;: false, &quot;fillColor&quot;: &quot;blue&quot;, &quot;fillOpacity&quot;: 0.2, &quot;fillRule&quot;: &quot;evenodd&quot;, &quot;lineCap&quot;: &quot;round&quot;, &quot;lineJoin&quot;: &quot;round&quot;, &quot;noClip&quot;: false, &quot;opacity&quot;: 1, &quot;smoothFactor&quot;: 1.0, &quot;stroke&quot;: true, &quot;weight&quot;: 2}\n",
       "            ).addTo(map_ddd2b039d4809540256119fbd65c61a5);\n",
       "        \n",
       "    \n",
       "            poly_line_0e5fab0bb0934351fd203879c7b907ab.bindTooltip(\n",
       "                `&lt;div&gt;\n",
       "                     C06361\n",
       "                 &lt;/div&gt;`,\n",
       "                {&quot;sticky&quot;: true}\n",
       "            );\n",
       "        \n",
       "    \n",
       "            var marker_206e76dbd39c921e804793cc84f39fc3 = L.marker(\n",
       "                [48.008926, -60.502602],\n",
       "                {}\n",
       "            ).addTo(map_ddd2b039d4809540256119fbd65c61a5);\n",
       "        \n",
       "    \n",
       "            var div_icon_991958c6d8c40508a1c697708ad43ef8 = L.divIcon({&quot;className&quot;: &quot;empty&quot;, &quot;html&quot;: &quot;\\u003cdiv\\u003e\\u003cdiv style=\\&quot;transform: rotate(258.1deg); border: 8px solid transparent; border-bottom-color: blue; width: 0; height: 0;\\&quot;\\u003e\\u003c/div\\u003e\\u003c/div\\u003e&quot;});\n",
       "            marker_206e76dbd39c921e804793cc84f39fc3.setIcon(div_icon_991958c6d8c40508a1c697708ad43ef8);\n",
       "        \n",
       "    \n",
       "            marker_206e76dbd39c921e804793cc84f39fc3.bindTooltip(\n",
       "                `&lt;div&gt;\n",
       "                     C06A7D\n",
       "                 &lt;/div&gt;`,\n",
       "                {&quot;sticky&quot;: true}\n",
       "            );\n",
       "        \n",
       "    \n",
       "            var marker_9f35cb21b059de73f3c90f374be62c66 = L.marker(\n",
       "                [47.934952, -61.016899],\n",
       "                {}\n",
       "            ).addTo(map_ddd2b039d4809540256119fbd65c61a5);\n",
       "        \n",
       "    \n",
       "            var div_icon_c8cd2d5806eaca140861b8023fe5db29 = L.divIcon({&quot;className&quot;: &quot;empty&quot;, &quot;html&quot;: &quot;\\u003cdiv\\u003e\\u003cdiv style=\\&quot;transform: rotate(257.6deg); border: 8px solid transparent; border-bottom-color: blue; width: 0; height: 0;\\&quot;\\u003e\\u003c/div\\u003e\\u003c/div\\u003e&quot;});\n",
       "            marker_9f35cb21b059de73f3c90f374be62c66.setIcon(div_icon_c8cd2d5806eaca140861b8023fe5db29);\n",
       "        \n",
       "    \n",
       "            marker_9f35cb21b059de73f3c90f374be62c66.bindTooltip(\n",
       "                `&lt;div&gt;\n",
       "                     C06A7D\n",
       "                 &lt;/div&gt;`,\n",
       "                {&quot;sticky&quot;: true}\n",
       "            );\n",
       "        \n",
       "    \n",
       "            var poly_line_bb15451818c02613d33e472b8573acf6 = L.polyline(\n",
       "                [[48.008926, -60.502602], [47.934952, -61.016899]],\n",
       "                {&quot;bubblingMouseEvents&quot;: true, &quot;color&quot;: &quot;blue&quot;, &quot;dashArray&quot;: null, &quot;dashOffset&quot;: null, &quot;fill&quot;: false, &quot;fillColor&quot;: &quot;blue&quot;, &quot;fillOpacity&quot;: 0.2, &quot;fillRule&quot;: &quot;evenodd&quot;, &quot;lineCap&quot;: &quot;round&quot;, &quot;lineJoin&quot;: &quot;round&quot;, &quot;noClip&quot;: false, &quot;opacity&quot;: 1, &quot;smoothFactor&quot;: 1.0, &quot;stroke&quot;: true, &quot;weight&quot;: 2}\n",
       "            ).addTo(map_ddd2b039d4809540256119fbd65c61a5);\n",
       "        \n",
       "    \n",
       "            poly_line_bb15451818c02613d33e472b8573acf6.bindTooltip(\n",
       "                `&lt;div&gt;\n",
       "                     C06A7D\n",
       "                 &lt;/div&gt;`,\n",
       "                {&quot;sticky&quot;: true}\n",
       "            );\n",
       "        \n",
       "    \n",
       "            var marker_3b9d23ce1ccaa0ea949f0ffd14cf8117 = L.marker(\n",
       "                [48.008926, -60.502602],\n",
       "                {}\n",
       "            ).addTo(map_ddd2b039d4809540256119fbd65c61a5);\n",
       "        \n",
       "    \n",
       "            var div_icon_161f73842784b2c4f06e64e062016ff4 = L.divIcon({&quot;className&quot;: &quot;empty&quot;, &quot;html&quot;: &quot;\\u003cdiv\\u003e\\u003cdiv style=\\&quot;transform: rotate(258.1deg); border: 8px solid transparent; border-bottom-color: blue; width: 0; height: 0;\\&quot;\\u003e\\u003c/div\\u003e\\u003c/div\\u003e&quot;});\n",
       "            marker_3b9d23ce1ccaa0ea949f0ffd14cf8117.setIcon(div_icon_161f73842784b2c4f06e64e062016ff4);\n",
       "        \n",
       "    \n",
       "            marker_3b9d23ce1ccaa0ea949f0ffd14cf8117.bindTooltip(\n",
       "                `&lt;div&gt;\n",
       "                     C06A7D\n",
       "                 &lt;/div&gt;`,\n",
       "                {&quot;sticky&quot;: true}\n",
       "            );\n",
       "        \n",
       "    \n",
       "            var marker_ebfef45848648c0aa5eb0833fff340f5 = L.marker(\n",
       "                [47.934952, -61.016899],\n",
       "                {}\n",
       "            ).addTo(map_ddd2b039d4809540256119fbd65c61a5);\n",
       "        \n",
       "    \n",
       "            var div_icon_81be904c27c001b8b690d69a3d3fdb8b = L.divIcon({&quot;className&quot;: &quot;empty&quot;, &quot;html&quot;: &quot;\\u003cdiv\\u003e\\u003cdiv style=\\&quot;transform: rotate(257.6deg); border: 8px solid transparent; border-bottom-color: blue; width: 0; height: 0;\\&quot;\\u003e\\u003c/div\\u003e\\u003c/div\\u003e&quot;});\n",
       "            marker_ebfef45848648c0aa5eb0833fff340f5.setIcon(div_icon_81be904c27c001b8b690d69a3d3fdb8b);\n",
       "        \n",
       "    \n",
       "            marker_ebfef45848648c0aa5eb0833fff340f5.bindTooltip(\n",
       "                `&lt;div&gt;\n",
       "                     C06A7D\n",
       "                 &lt;/div&gt;`,\n",
       "                {&quot;sticky&quot;: true}\n",
       "            );\n",
       "        \n",
       "    \n",
       "            var poly_line_e24d623a14bd33529c3de38705b90891 = L.polyline(\n",
       "                [[48.008926, -60.502602], [47.934952, -61.016899]],\n",
       "                {&quot;bubblingMouseEvents&quot;: true, &quot;color&quot;: &quot;blue&quot;, &quot;dashArray&quot;: null, &quot;dashOffset&quot;: null, &quot;fill&quot;: false, &quot;fillColor&quot;: &quot;blue&quot;, &quot;fillOpacity&quot;: 0.2, &quot;fillRule&quot;: &quot;evenodd&quot;, &quot;lineCap&quot;: &quot;round&quot;, &quot;lineJoin&quot;: &quot;round&quot;, &quot;noClip&quot;: false, &quot;opacity&quot;: 1, &quot;smoothFactor&quot;: 1.0, &quot;stroke&quot;: true, &quot;weight&quot;: 2}\n",
       "            ).addTo(map_ddd2b039d4809540256119fbd65c61a5);\n",
       "        \n",
       "    \n",
       "            poly_line_e24d623a14bd33529c3de38705b90891.bindTooltip(\n",
       "                `&lt;div&gt;\n",
       "                     C06A7D\n",
       "                 &lt;/div&gt;`,\n",
       "                {&quot;sticky&quot;: true}\n",
       "            );\n",
       "        \n",
       "    \n",
       "            var marker_990460dbf0947bc2c4d9cbdfa9da25b2 = L.marker(\n",
       "                [48.015794, -60.4953],\n",
       "                {}\n",
       "            ).addTo(map_ddd2b039d4809540256119fbd65c61a5);\n",
       "        \n",
       "    \n",
       "            var div_icon_6acb3e2fd7d33e031ff67c980016e6a2 = L.divIcon({&quot;className&quot;: &quot;empty&quot;, &quot;html&quot;: &quot;\\u003cdiv\\u003e\\u003cdiv style=\\&quot;transform: rotate(258.1deg); border: 8px solid transparent; border-bottom-color: blue; width: 0; height: 0;\\&quot;\\u003e\\u003c/div\\u003e\\u003c/div\\u003e&quot;});\n",
       "            marker_990460dbf0947bc2c4d9cbdfa9da25b2.setIcon(div_icon_6acb3e2fd7d33e031ff67c980016e6a2);\n",
       "        \n",
       "    \n",
       "            marker_990460dbf0947bc2c4d9cbdfa9da25b2.bindTooltip(\n",
       "                `&lt;div&gt;\n",
       "                     C06E45\n",
       "                 &lt;/div&gt;`,\n",
       "                {&quot;sticky&quot;: true}\n",
       "            );\n",
       "        \n",
       "    \n",
       "            var marker_853ad402a11a7dbe9b2710b5d8570695 = L.marker(\n",
       "                [47.938065, -61.031868],\n",
       "                {}\n",
       "            ).addTo(map_ddd2b039d4809540256119fbd65c61a5);\n",
       "        \n",
       "    \n",
       "            var div_icon_c3d2baa1a7661b3b7c151f4a419deb72 = L.divIcon({&quot;className&quot;: &quot;empty&quot;, &quot;html&quot;: &quot;\\u003cdiv\\u003e\\u003cdiv style=\\&quot;transform: rotate(257.6deg); border: 8px solid transparent; border-bottom-color: blue; width: 0; height: 0;\\&quot;\\u003e\\u003c/div\\u003e\\u003c/div\\u003e&quot;});\n",
       "            marker_853ad402a11a7dbe9b2710b5d8570695.setIcon(div_icon_c3d2baa1a7661b3b7c151f4a419deb72);\n",
       "        \n",
       "    \n",
       "            marker_853ad402a11a7dbe9b2710b5d8570695.bindTooltip(\n",
       "                `&lt;div&gt;\n",
       "                     C06E45\n",
       "                 &lt;/div&gt;`,\n",
       "                {&quot;sticky&quot;: true}\n",
       "            );\n",
       "        \n",
       "    \n",
       "            var poly_line_2a0014f8fdba209c65fee2b86817dd9c = L.polyline(\n",
       "                [[48.015794, -60.4953], [47.938065, -61.031868]],\n",
       "                {&quot;bubblingMouseEvents&quot;: true, &quot;color&quot;: &quot;blue&quot;, &quot;dashArray&quot;: null, &quot;dashOffset&quot;: null, &quot;fill&quot;: false, &quot;fillColor&quot;: &quot;blue&quot;, &quot;fillOpacity&quot;: 0.2, &quot;fillRule&quot;: &quot;evenodd&quot;, &quot;lineCap&quot;: &quot;round&quot;, &quot;lineJoin&quot;: &quot;round&quot;, &quot;noClip&quot;: false, &quot;opacity&quot;: 1, &quot;smoothFactor&quot;: 1.0, &quot;stroke&quot;: true, &quot;weight&quot;: 2}\n",
       "            ).addTo(map_ddd2b039d4809540256119fbd65c61a5);\n",
       "        \n",
       "    \n",
       "            poly_line_2a0014f8fdba209c65fee2b86817dd9c.bindTooltip(\n",
       "                `&lt;div&gt;\n",
       "                     C06E45\n",
       "                 &lt;/div&gt;`,\n",
       "                {&quot;sticky&quot;: true}\n",
       "            );\n",
       "        \n",
       "    \n",
       "            var marker_bf1820b8f665378279d1c743c360ff51 = L.marker(\n",
       "                [48.015794, -60.4953],\n",
       "                {}\n",
       "            ).addTo(map_ddd2b039d4809540256119fbd65c61a5);\n",
       "        \n",
       "    \n",
       "            var div_icon_e17f6b51b3accfb3e0cd3c73041d0d22 = L.divIcon({&quot;className&quot;: &quot;empty&quot;, &quot;html&quot;: &quot;\\u003cdiv\\u003e\\u003cdiv style=\\&quot;transform: rotate(258.1deg); border: 8px solid transparent; border-bottom-color: blue; width: 0; height: 0;\\&quot;\\u003e\\u003c/div\\u003e\\u003c/div\\u003e&quot;});\n",
       "            marker_bf1820b8f665378279d1c743c360ff51.setIcon(div_icon_e17f6b51b3accfb3e0cd3c73041d0d22);\n",
       "        \n",
       "    \n",
       "            marker_bf1820b8f665378279d1c743c360ff51.bindTooltip(\n",
       "                `&lt;div&gt;\n",
       "                     C06E45\n",
       "                 &lt;/div&gt;`,\n",
       "                {&quot;sticky&quot;: true}\n",
       "            );\n",
       "        \n",
       "    \n",
       "            var marker_67afffbf66864ae7d7b01e529eda77d3 = L.marker(\n",
       "                [47.938065, -61.031868],\n",
       "                {}\n",
       "            ).addTo(map_ddd2b039d4809540256119fbd65c61a5);\n",
       "        \n",
       "    \n",
       "            var div_icon_f783070e553f4c6d5712eed39dcb98a3 = L.divIcon({&quot;className&quot;: &quot;empty&quot;, &quot;html&quot;: &quot;\\u003cdiv\\u003e\\u003cdiv style=\\&quot;transform: rotate(257.6deg); border: 8px solid transparent; border-bottom-color: blue; width: 0; height: 0;\\&quot;\\u003e\\u003c/div\\u003e\\u003c/div\\u003e&quot;});\n",
       "            marker_67afffbf66864ae7d7b01e529eda77d3.setIcon(div_icon_f783070e553f4c6d5712eed39dcb98a3);\n",
       "        \n",
       "    \n",
       "            marker_67afffbf66864ae7d7b01e529eda77d3.bindTooltip(\n",
       "                `&lt;div&gt;\n",
       "                     C06E45\n",
       "                 &lt;/div&gt;`,\n",
       "                {&quot;sticky&quot;: true}\n",
       "            );\n",
       "        \n",
       "    \n",
       "            var poly_line_dc36d14eb88451fc696eb2d08dc9f8d9 = L.polyline(\n",
       "                [[48.015794, -60.4953], [47.938065, -61.031868]],\n",
       "                {&quot;bubblingMouseEvents&quot;: true, &quot;color&quot;: &quot;blue&quot;, &quot;dashArray&quot;: null, &quot;dashOffset&quot;: null, &quot;fill&quot;: false, &quot;fillColor&quot;: &quot;blue&quot;, &quot;fillOpacity&quot;: 0.2, &quot;fillRule&quot;: &quot;evenodd&quot;, &quot;lineCap&quot;: &quot;round&quot;, &quot;lineJoin&quot;: &quot;round&quot;, &quot;noClip&quot;: false, &quot;opacity&quot;: 1, &quot;smoothFactor&quot;: 1.0, &quot;stroke&quot;: true, &quot;weight&quot;: 2}\n",
       "            ).addTo(map_ddd2b039d4809540256119fbd65c61a5);\n",
       "        \n",
       "    \n",
       "            poly_line_dc36d14eb88451fc696eb2d08dc9f8d9.bindTooltip(\n",
       "                `&lt;div&gt;\n",
       "                     C06E45\n",
       "                 &lt;/div&gt;`,\n",
       "                {&quot;sticky&quot;: true}\n",
       "            );\n",
       "        \n",
       "    \n",
       "            var marker_69af962d600d73cf4b6fb5cf1fa53be4 = L.marker(\n",
       "                [49.787979, -64.050148],\n",
       "                {}\n",
       "            ).addTo(map_ddd2b039d4809540256119fbd65c61a5);\n",
       "        \n",
       "    \n",
       "            var div_icon_601f53e1aff54a81fb7e41039aa838d3 = L.divIcon({&quot;className&quot;: &quot;empty&quot;, &quot;html&quot;: &quot;\\u003cdiv\\u003e\\u003cdiv style=\\&quot;transform: rotate(223.1deg); border: 8px solid transparent; border-bottom-color: blue; width: 0; height: 0;\\&quot;\\u003e\\u003c/div\\u003e\\u003c/div\\u003e&quot;});\n",
       "            marker_69af962d600d73cf4b6fb5cf1fa53be4.setIcon(div_icon_601f53e1aff54a81fb7e41039aa838d3);\n",
       "        \n",
       "    \n",
       "            marker_69af962d600d73cf4b6fb5cf1fa53be4.bindTooltip(\n",
       "                `&lt;div&gt;\n",
       "                     7380C3\n",
       "                 &lt;/div&gt;`,\n",
       "                {&quot;sticky&quot;: true}\n",
       "            );\n",
       "        \n",
       "    \n",
       "            var marker_0bc78e6ba264e0fffb6015fde64b279e = L.marker(\n",
       "                [49.68269, -64.816589],\n",
       "                {}\n",
       "            ).addTo(map_ddd2b039d4809540256119fbd65c61a5);\n",
       "        \n",
       "    \n",
       "            var div_icon_e3d3aa5a3501dcdd3b58f59e6218a23d = L.divIcon({&quot;className&quot;: &quot;empty&quot;, &quot;html&quot;: &quot;\\u003cdiv\\u003e\\u003cdiv style=\\&quot;transform: rotate(60.0deg); border: 8px solid transparent; border-bottom-color: blue; width: 0; height: 0;\\&quot;\\u003e\\u003c/div\\u003e\\u003c/div\\u003e&quot;});\n",
       "            marker_0bc78e6ba264e0fffb6015fde64b279e.setIcon(div_icon_e3d3aa5a3501dcdd3b58f59e6218a23d);\n",
       "        \n",
       "    \n",
       "            marker_0bc78e6ba264e0fffb6015fde64b279e.bindTooltip(\n",
       "                `&lt;div&gt;\n",
       "                     AABF80\n",
       "                 &lt;/div&gt;`,\n",
       "                {&quot;sticky&quot;: true}\n",
       "            );\n",
       "        \n",
       "    \n",
       "            var marker_002f013861f1bed8fccb9f648006851b = L.marker(\n",
       "                [45.416336, -60.478821],\n",
       "                {}\n",
       "            ).addTo(map_ddd2b039d4809540256119fbd65c61a5);\n",
       "        \n",
       "    \n",
       "            var div_icon_a623bfdf6f1353e3b427b7fbff5c72d0 = L.divIcon({&quot;className&quot;: &quot;empty&quot;, &quot;html&quot;: &quot;\\u003cdiv\\u003e\\u003cdiv style=\\&quot;transform: rotate(246.6deg); border: 8px solid transparent; border-bottom-color: blue; width: 0; height: 0;\\&quot;\\u003e\\u003c/div\\u003e\\u003c/div\\u003e&quot;});\n",
       "            marker_002f013861f1bed8fccb9f648006851b.setIcon(div_icon_a623bfdf6f1353e3b427b7fbff5c72d0);\n",
       "        \n",
       "    \n",
       "            marker_002f013861f1bed8fccb9f648006851b.bindTooltip(\n",
       "                `&lt;div&gt;\n",
       "                     AB6FBF\n",
       "                 &lt;/div&gt;`,\n",
       "                {&quot;sticky&quot;: true}\n",
       "            );\n",
       "        \n",
       "    \n",
       "            var marker_42c70f8ce6352d05ce8f9174c5be9fc7 = L.marker(\n",
       "                [45.804977, -64.47675],\n",
       "                {}\n",
       "            ).addTo(map_ddd2b039d4809540256119fbd65c61a5);\n",
       "        \n",
       "    \n",
       "            var div_icon_ddcb08066181fb531bc5ac8ee870fca3 = L.divIcon({&quot;className&quot;: &quot;empty&quot;, &quot;html&quot;: &quot;\\u003cdiv\\u003e\\u003cdiv style=\\&quot;transform: rotate(135.0deg); border: 8px solid transparent; border-bottom-color: blue; width: 0; height: 0;\\&quot;\\u003e\\u003c/div\\u003e\\u003c/div\\u003e&quot;});\n",
       "            marker_42c70f8ce6352d05ce8f9174c5be9fc7.setIcon(div_icon_ddcb08066181fb531bc5ac8ee870fca3);\n",
       "        \n",
       "    \n",
       "            marker_42c70f8ce6352d05ce8f9174c5be9fc7.bindTooltip(\n",
       "                `&lt;div&gt;\n",
       "                     C0054D\n",
       "                 &lt;/div&gt;`,\n",
       "                {&quot;sticky&quot;: true}\n",
       "            );\n",
       "        \n",
       "    \n",
       "            var marker_d42cf333fb3106dc3df81b8d7c6b4a35 = L.marker(\n",
       "                [46.45364, -60.092674],\n",
       "                {}\n",
       "            ).addTo(map_ddd2b039d4809540256119fbd65c61a5);\n",
       "        \n",
       "    \n",
       "            var div_icon_7cffdb45ec367a3afeef70c99a2763b9 = L.divIcon({&quot;className&quot;: &quot;empty&quot;, &quot;html&quot;: &quot;\\u003cdiv\\u003e\\u003cdiv style=\\&quot;transform: rotate(242.0deg); border: 8px solid transparent; border-bottom-color: blue; width: 0; height: 0;\\&quot;\\u003e\\u003c/div\\u003e\\u003c/div\\u003e&quot;});\n",
       "            marker_d42cf333fb3106dc3df81b8d7c6b4a35.setIcon(div_icon_7cffdb45ec367a3afeef70c99a2763b9);\n",
       "        \n",
       "    \n",
       "            marker_d42cf333fb3106dc3df81b8d7c6b4a35.bindTooltip(\n",
       "                `&lt;div&gt;\n",
       "                     C02945\n",
       "                 &lt;/div&gt;`,\n",
       "                {&quot;sticky&quot;: true}\n",
       "            );\n",
       "        \n",
       "    \n",
       "            var marker_739e974a8918d4adc3d993fe286f7457 = L.marker(\n",
       "                [46.508286, -64.698754],\n",
       "                {}\n",
       "            ).addTo(map_ddd2b039d4809540256119fbd65c61a5);\n",
       "        \n",
       "    \n",
       "            var div_icon_b9d1950524bbfaddb7c657152e3062fa = L.divIcon({&quot;className&quot;: &quot;empty&quot;, &quot;html&quot;: &quot;\\u003cdiv\\u003e\\u003cdiv style=\\&quot;transform: rotate(261.1deg); border: 8px solid transparent; border-bottom-color: blue; width: 0; height: 0;\\&quot;\\u003e\\u003c/div\\u003e\\u003c/div\\u003e&quot;});\n",
       "            marker_739e974a8918d4adc3d993fe286f7457.setIcon(div_icon_b9d1950524bbfaddb7c657152e3062fa);\n",
       "        \n",
       "    \n",
       "            marker_739e974a8918d4adc3d993fe286f7457.bindTooltip(\n",
       "                `&lt;div&gt;\n",
       "                     C0583F\n",
       "                 &lt;/div&gt;`,\n",
       "                {&quot;sticky&quot;: true}\n",
       "            );\n",
       "        \n",
       "    \n",
       "            var marker_a605c676d20ef25a734b85227cccf4fc = L.marker(\n",
       "                [47.274445, -64.988319],\n",
       "                {}\n",
       "            ).addTo(map_ddd2b039d4809540256119fbd65c61a5);\n",
       "        \n",
       "    \n",
       "            var div_icon_7c963a4c4e395759f57a45a90d4ae92e = L.divIcon({&quot;className&quot;: &quot;empty&quot;, &quot;html&quot;: &quot;\\u003cdiv\\u003e\\u003cdiv style=\\&quot;transform: rotate(254.8deg); border: 8px solid transparent; border-bottom-color: blue; width: 0; height: 0;\\&quot;\\u003e\\u003c/div\\u003e\\u003c/div\\u003e&quot;});\n",
       "            marker_a605c676d20ef25a734b85227cccf4fc.setIcon(div_icon_7c963a4c4e395759f57a45a90d4ae92e);\n",
       "        \n",
       "    \n",
       "            marker_a605c676d20ef25a734b85227cccf4fc.bindTooltip(\n",
       "                `&lt;div&gt;\n",
       "                     C06A80\n",
       "                 &lt;/div&gt;`,\n",
       "                {&quot;sticky&quot;: true}\n",
       "            );\n",
       "        \n",
       "    \n",
       "            var options = {\n",
       "              position: &quot;topleft&quot;,\n",
       "              draw: {},\n",
       "              edit: {},\n",
       "            }\n",
       "            // FeatureGroup is to store editable layers.\n",
       "            var drawnItems = new L.featureGroup().addTo(\n",
       "                map_ddd2b039d4809540256119fbd65c61a5\n",
       "            );\n",
       "            options.edit.featureGroup = drawnItems;\n",
       "            var draw_control_bb350a8e88c2eb301f836777e5586377 = new L.Control.Draw(\n",
       "                options\n",
       "            ).addTo( map_ddd2b039d4809540256119fbd65c61a5 );\n",
       "            map_ddd2b039d4809540256119fbd65c61a5.on(L.Draw.Event.CREATED, function(e) {\n",
       "                var layer = e.layer,\n",
       "                    type = e.layerType;\n",
       "                var coords = JSON.stringify(layer.toGeoJSON());\n",
       "                layer.on(&#x27;click&#x27;, function() {\n",
       "                    alert(coords);\n",
       "                    console.log(coords);\n",
       "                });\n",
       "                drawnItems.addLayer(layer);\n",
       "             });\n",
       "            map_ddd2b039d4809540256119fbd65c61a5.on(&#x27;draw:created&#x27;, function(e) {\n",
       "                drawnItems.addLayer(e.layer);\n",
       "            });\n",
       "            \n",
       "            document.getElementById(&#x27;export&#x27;).onclick = function(e) {\n",
       "                var data = drawnItems.toGeoJSON();\n",
       "                var convertedData = &#x27;text/json;charset=utf-8,&#x27;\n",
       "                    + encodeURIComponent(JSON.stringify(data));\n",
       "                document.getElementById(&#x27;export&#x27;).setAttribute(\n",
       "                    &#x27;href&#x27;, &#x27;data:&#x27; + convertedData\n",
       "                );\n",
       "                document.getElementById(&#x27;export&#x27;).setAttribute(\n",
       "                    &#x27;download&#x27;, &quot;data.geojson&quot;\n",
       "                );\n",
       "            }\n",
       "            \n",
       "        \n",
       "&lt;/script&gt;\n",
       "&lt;/html&gt;\" style=\"position:absolute;width:100%;height:100%;left:0;top:0;border:none !important;\" allowfullscreen webkitallowfullscreen mozallowfullscreen></iframe></div></div>"
      ],
      "text/plain": [
       "<folium.folium.Map at 0x1f751bb2f50>"
      ]
     },
     "execution_count": 84,
     "metadata": {},
     "output_type": "execute_result"
    }
   ],
   "source": [
    "'''\n",
    "Carte avec les avions affichés, après pas mal d'essais sur plotly, je suis finalement passé sur folium\n",
    "J'ai aussi reçu un coup de main de chatGPT, dont j'ai tout de même du adapter le code pour que ça marche, \n",
    "j'ai laissé ses commentaires.\n",
    "'''\n",
    "# Create a Folium Map\n",
    "m = folium.Map(location=[df_p['lat'].mean(), df_p['lng'].mean()], zoom_start=6)\n",
    "\n",
    "# Iterate through your data and create lines and markers\n",
    "for i in df_p.index.get_level_values(0):\n",
    "    locations = []  # Accumulate coordinates for each i    \n",
    "    for j in df_p.loc[i].index.get_level_values(0):\n",
    "        angle = df_p.loc[(i,j), 'dir']  # Angle in degrees\n",
    "        # Create a marker\n",
    "        marker = folium.Marker(\n",
    "            location=(df_p.loc[(i,j), 'lat'], df_p.loc[(i,j), 'lng']),\n",
    "            icon=folium.DivIcon(\n",
    "                html=f'<div><div style=\"transform: rotate({angle}deg); border: 8px solid transparent; border-bottom-color: blue; width: 0; height: 0;\"></div></div>'\n",
    "            ),\n",
    "            tooltip=i\n",
    "        )\n",
    "\n",
    "        m.add_child(marker)\n",
    "\n",
    "        # Accumulate coordinates for the line\n",
    "        locations.append((df_p.loc[(i,j), 'lat'], df_p.loc[(i,j), 'lng']))\n",
    "    \n",
    "    # Create a line (PolyLine)\n",
    "    line = folium.PolyLine(\n",
    "        locations=locations,\n",
    "        color='blue',\n",
    "        weight=2,\n",
    "        opacity=1,\n",
    "        tooltip=i\n",
    "    )\n",
    "    \n",
    "    m.add_child(line)\n",
    "\n",
    "for i in df_d.index:\n",
    "    angle = df_d.loc[i, 'dir']  # Angle in degrees\n",
    "    # Create a marker\n",
    "    marker = folium.Marker(\n",
    "        location=(df_d.loc[i, 'lat'], df_d.loc[i, 'lng']),\n",
    "        icon=folium.DivIcon(\n",
    "            html=f'<div><div style=\"transform: rotate({angle}deg); border: 8px solid transparent; border-bottom-color: blue; width: 0; height: 0;\"></div></div>'\n",
    "        ),\n",
    "        tooltip=i\n",
    "    )\n",
    "\n",
    "    m.add_child(marker)\n",
    "\n",
    "\n",
    "# Add the drawing tools for interactive features (optional)\n",
    "draw = Draw(export=True)\n",
    "draw.add_to(m)\n",
    "\n",
    "# Display the map\n",
    "\n",
    "# m.save(r'C:\\Users\\e.NOVA Aerospace\\Documents\\PYTHON\\flight_track\\Data\\output\\folium_map.html')\n",
    "m.save(os.path.join(output_folder,f'folium_map.html'))\n",
    "m\n"
   ]
  },
  {
   "cell_type": "code",
   "execution_count": 85,
   "metadata": {},
   "outputs": [
    {
     "data": {
      "application/vnd.plotly.v1+json": {
       "config": {
        "plotlyServerURL": "https://plot.ly"
       },
       "data": [
        {
         "lat": [
          46.002502,
          45.779892
         ],
         "lon": [
          -62.511403,
          -62.951995
         ],
         "marker": {
          "angle": [
           234.3,
           233.9
          ],
          "size": 10,
          "symbol": "arrow"
         },
         "mode": "lines+markers",
         "name": "40675E",
         "type": "scattermapbox"
        },
        {
         "lat": [
          46.002502,
          45.779892
         ],
         "lon": [
          -62.511403,
          -62.951995
         ],
         "marker": {
          "angle": [
           234.3,
           233.9
          ],
          "size": 10,
          "symbol": "arrow"
         },
         "mode": "lines+markers",
         "name": "40675E",
         "type": "scattermapbox"
        },
        {
         "lat": [
          45.699028,
          45.518188
         ],
         "lon": [
          -61.649712,
          -62.149985
         ],
         "marker": {
          "angle": [
           243,
           242.7
          ],
          "size": 10,
          "symbol": "arrow"
         },
         "mode": "lines+markers",
         "name": "406948",
         "type": "scattermapbox"
        },
        {
         "lat": [
          45.699028,
          45.518188
         ],
         "lon": [
          -61.649712,
          -62.149985
         ],
         "marker": {
          "angle": [
           243,
           242.7
          ],
          "size": 10,
          "symbol": "arrow"
         },
         "mode": "lines+markers",
         "name": "406948",
         "type": "scattermapbox"
        },
        {
         "lat": [
          45.804703,
          45.617888
         ],
         "lon": [
          -61.210662,
          -61.733757
         ],
         "marker": {
          "angle": [
           243.1,
           242.8
          ],
          "size": 10,
          "symbol": "arrow"
         },
         "mode": "lines+markers",
         "name": "406C39",
         "type": "scattermapbox"
        },
        {
         "lat": [
          45.804703,
          45.617888
         ],
         "lon": [
          -61.210662,
          -61.733757
         ],
         "marker": {
          "angle": [
           243.1,
           242.8
          ],
          "size": 10,
          "symbol": "arrow"
         },
         "mode": "lines+markers",
         "name": "406C39",
         "type": "scattermapbox"
        },
        {
         "lat": [
          45.573669,
          45.388106
         ],
         "lon": [
          -61.961082,
          -62.466788
         ],
         "marker": {
          "angle": [
           242.6,
           242.3
          ],
          "size": 10,
          "symbol": "arrow"
         },
         "mode": "lines+markers",
         "name": "407CD2",
         "type": "scattermapbox"
        },
        {
         "lat": [
          45.573669,
          45.388106
         ],
         "lon": [
          -61.961082,
          -62.466788
         ],
         "marker": {
          "angle": [
           242.6,
           242.3
          ],
          "size": 10,
          "symbol": "arrow"
         },
         "mode": "lines+markers",
         "name": "407CD2",
         "type": "scattermapbox"
        },
        {
         "lat": [
          47.753239,
          47.623079
         ],
         "lon": [
          -63.599079,
          -64.143958
         ],
         "marker": {
          "angle": [
           250.8,
           250.4
          ],
          "size": 10,
          "symbol": "arrow"
         },
         "mode": "lines+markers",
         "name": "485B45",
         "type": "scattermapbox"
        },
        {
         "lat": [
          47.753239,
          47.623079
         ],
         "lon": [
          -63.599079,
          -64.143958
         ],
         "marker": {
          "angle": [
           250.8,
           250.4
          ],
          "size": 10,
          "symbol": "arrow"
         },
         "mode": "lines+markers",
         "name": "485B45",
         "type": "scattermapbox"
        },
        {
         "lat": [
          47.511586,
          47.462101
         ],
         "lon": [
          -61.610201,
          -62.132686
         ],
         "marker": {
          "angle": [
           262.3,
           261.8
          ],
          "size": 10,
          "symbol": "arrow"
         },
         "mode": "lines+markers",
         "name": "495304",
         "type": "scattermapbox"
        },
        {
         "lat": [
          47.511586,
          47.462101
         ],
         "lon": [
          -61.610201,
          -62.132686
         ],
         "marker": {
          "angle": [
           262.3,
           261.8
          ],
          "size": 10,
          "symbol": "arrow"
         },
         "mode": "lines+markers",
         "name": "495304",
         "type": "scattermapbox"
        },
        {
         "lat": [
          45.975037,
          45.807821
         ],
         "lon": [
          -60.789207,
          -61.268692
         ],
         "marker": {
          "angle": [
           243.7,
           243.3
          ],
          "size": 10,
          "symbol": "arrow"
         },
         "mode": "lines+markers",
         "name": "4B187C",
         "type": "scattermapbox"
        },
        {
         "lat": [
          45.975037,
          45.807821
         ],
         "lon": [
          -60.789207,
          -61.268692
         ],
         "marker": {
          "angle": [
           243.7,
           243.3
          ],
          "size": 10,
          "symbol": "arrow"
         },
         "mode": "lines+markers",
         "name": "4B187C",
         "type": "scattermapbox"
        },
        {
         "lat": [
          45.201828,
          45.040695
         ],
         "lon": [
          -62.531825,
          -63.005742
         ],
         "marker": {
          "angle": [
           244.4,
           244.2
          ],
          "size": 10,
          "symbol": "arrow"
         },
         "mode": "lines+markers",
         "name": "4CA87C",
         "type": "scattermapbox"
        },
        {
         "lat": [
          45.201828,
          45.040695
         ],
         "lon": [
          -62.531825,
          -63.005742
         ],
         "marker": {
          "angle": [
           244.4,
           244.2
          ],
          "size": 10,
          "symbol": "arrow"
         },
         "mode": "lines+markers",
         "name": "4CA87C",
         "type": "scattermapbox"
        },
        {
         "lat": [
          46.717684,
          46.519512
         ],
         "lon": [
          -60.008148,
          -60.503014
         ],
         "marker": {
          "angle": [
           239.9,
           239.6
          ],
          "size": 10,
          "symbol": "arrow"
         },
         "mode": "lines+markers",
         "name": "710121",
         "type": "scattermapbox"
        },
        {
         "lat": [
          46.717684,
          46.519512
         ],
         "lon": [
          -60.008148,
          -60.503014
         ],
         "marker": {
          "angle": [
           239.9,
           239.6
          ],
          "size": 10,
          "symbol": "arrow"
         },
         "mode": "lines+markers",
         "name": "710121",
         "type": "scattermapbox"
        },
        {
         "lat": [
          49.624499,
          49.508445
         ],
         "lon": [
          -63.204865,
          -63.77029
         ],
         "marker": {
          "angle": [
           252.7,
           252.4
          ],
          "size": 10,
          "symbol": "arrow"
         },
         "mode": "lines+markers",
         "name": "A05648",
         "type": "scattermapbox"
        },
        {
         "lat": [
          49.624499,
          49.508445
         ],
         "lon": [
          -63.204865,
          -63.77029
         ],
         "marker": {
          "angle": [
           252.7,
           252.4
          ],
          "size": 10,
          "symbol": "arrow"
         },
         "mode": "lines+markers",
         "name": "A05648",
         "type": "scattermapbox"
        },
        {
         "lat": [
          48.166623,
          48.005319
         ],
         "lon": [
          -60.432611,
          -60.908344
         ],
         "marker": {
          "angle": [
           243.3,
           243
          ],
          "size": 10,
          "symbol": "arrow"
         },
         "mode": "lines+markers",
         "name": "A05A25",
         "type": "scattermapbox"
        },
        {
         "lat": [
          48.166623,
          48.005319
         ],
         "lon": [
          -60.432611,
          -60.908344
         ],
         "marker": {
          "angle": [
           243.3,
           243
          ],
          "size": 10,
          "symbol": "arrow"
         },
         "mode": "lines+markers",
         "name": "A05A25",
         "type": "scattermapbox"
        },
        {
         "lat": [
          47.814455,
          47.537201
         ],
         "lon": [
          -64.585595,
          -64.95948
         ],
         "marker": {
          "angle": [
           222.5,
           222.1
          ],
          "size": 10,
          "symbol": "arrow"
         },
         "mode": "lines+markers",
         "name": "A1F557",
         "type": "scattermapbox"
        },
        {
         "lat": [
          47.814455,
          47.537201
         ],
         "lon": [
          -64.585595,
          -64.95948
         ],
         "marker": {
          "angle": [
           222.5,
           222.1
          ],
          "size": 10,
          "symbol": "arrow"
         },
         "mode": "lines+markers",
         "name": "A1F557",
         "type": "scattermapbox"
        },
        {
         "lat": [
          45.876206,
          45.698703
         ],
         "lon": [
          -63.164726,
          -63.660896
         ],
         "marker": {
          "angle": [
           243,
           242.8
          ],
          "size": 10,
          "symbol": "arrow"
         },
         "mode": "lines+markers",
         "name": "A2A2E3",
         "type": "scattermapbox"
        },
        {
         "lat": [
          45.876206,
          45.698703
         ],
         "lon": [
          -63.164726,
          -63.660896
         ],
         "marker": {
          "angle": [
           243,
           242.8
          ],
          "size": 10,
          "symbol": "arrow"
         },
         "mode": "lines+markers",
         "name": "A2A2E3",
         "type": "scattermapbox"
        },
        {
         "lat": [
          46.483612,
          46.294245
         ],
         "lon": [
          -61.932008,
          -62.437225
         ],
         "marker": {
          "angle": [
           241.8,
           241.5
          ],
          "size": 10,
          "symbol": "arrow"
         },
         "mode": "lines+markers",
         "name": "A76516",
         "type": "scattermapbox"
        },
        {
         "lat": [
          46.483612,
          46.294245
         ],
         "lon": [
          -61.932008,
          -62.437225
         ],
         "marker": {
          "angle": [
           241.8,
           241.5
          ],
          "size": 10,
          "symbol": "arrow"
         },
         "mode": "lines+markers",
         "name": "A76516",
         "type": "scattermapbox"
        },
        {
         "lat": [
          45.819319,
          45.645767
         ],
         "lon": [
          -63.352524,
          -63.831035
         ],
         "marker": {
          "angle": [
           242.8,
           242.5
          ],
          "size": 10,
          "symbol": "arrow"
         },
         "mode": "lines+markers",
         "name": "A8B760",
         "type": "scattermapbox"
        },
        {
         "lat": [
          45.819319,
          45.645767
         ],
         "lon": [
          -63.352524,
          -63.831035
         ],
         "marker": {
          "angle": [
           242.8,
           242.5
          ],
          "size": 10,
          "symbol": "arrow"
         },
         "mode": "lines+markers",
         "name": "A8B760",
         "type": "scattermapbox"
        },
        {
         "lat": [
          48.581909,
          48.41712
         ],
         "lon": [
          -61.024264,
          -61.510355
         ],
         "marker": {
          "angle": [
           243.1,
           242.7
          ],
          "size": 10,
          "symbol": "arrow"
         },
         "mode": "lines+markers",
         "name": "A8C4D8",
         "type": "scattermapbox"
        },
        {
         "lat": [
          48.581909,
          48.41712
         ],
         "lon": [
          -61.024264,
          -61.510355
         ],
         "marker": {
          "angle": [
           243.1,
           242.7
          ],
          "size": 10,
          "symbol": "arrow"
         },
         "mode": "lines+markers",
         "name": "A8C4D8",
         "type": "scattermapbox"
        },
        {
         "lat": [
          49.241959,
          48.971371
         ],
         "lon": [
          -62.568054,
          -62.963586
         ],
         "marker": {
          "angle": [
           224,
           223.7
          ],
          "size": 10,
          "symbol": "arrow"
         },
         "mode": "lines+markers",
         "name": "A8F00E",
         "type": "scattermapbox"
        },
        {
         "lat": [
          49.241959,
          48.971371
         ],
         "lon": [
          -62.568054,
          -62.963586
         ],
         "marker": {
          "angle": [
           224,
           223.7
          ],
          "size": 10,
          "symbol": "arrow"
         },
         "mode": "lines+markers",
         "name": "A8F00E",
         "type": "scattermapbox"
        },
        {
         "lat": [
          48.579122,
          48.379692
         ],
         "lon": [
          -60.303955,
          -60.783378
         ],
         "marker": {
          "angle": [
           238.2,
           237.8
          ],
          "size": 10,
          "symbol": "arrow"
         },
         "mode": "lines+markers",
         "name": "AA1DCD",
         "type": "scattermapbox"
        },
        {
         "lat": [
          48.579122,
          48.379692
         ],
         "lon": [
          -60.303955,
          -60.783378
         ],
         "marker": {
          "angle": [
           238.2,
           237.8
          ],
          "size": 10,
          "symbol": "arrow"
         },
         "mode": "lines+markers",
         "name": "AA1DCD",
         "type": "scattermapbox"
        },
        {
         "lat": [
          48.308188,
          48.117554
         ],
         "lon": [
          -63.592481,
          -64.078033
         ],
         "marker": {
          "angle": [
           239.8,
           239.3
          ],
          "size": 10,
          "symbol": "arrow"
         },
         "mode": "lines+markers",
         "name": "AAD780",
         "type": "scattermapbox"
        },
        {
         "lat": [
          48.308188,
          48.117554
         ],
         "lon": [
          -63.592481,
          -64.078033
         ],
         "marker": {
          "angle": [
           239.8,
           239.3
          ],
          "size": 10,
          "symbol": "arrow"
         },
         "mode": "lines+markers",
         "name": "AAD780",
         "type": "scattermapbox"
        },
        {
         "lat": [
          45.833084,
          45.667047
         ],
         "lon": [
          -60.602931,
          -61.1269
         ],
         "marker": {
          "angle": [
           245.8,
           245.4
          ],
          "size": 10,
          "symbol": "arrow"
         },
         "mode": "lines+markers",
         "name": "AADB37",
         "type": "scattermapbox"
        },
        {
         "lat": [
          45.833084,
          45.667047
         ],
         "lon": [
          -60.602931,
          -61.1269
         ],
         "marker": {
          "angle": [
           245.8,
           245.4
          ],
          "size": 10,
          "symbol": "arrow"
         },
         "mode": "lines+markers",
         "name": "AADB37",
         "type": "scattermapbox"
        },
        {
         "lat": [
          47.873932,
          47.882934
         ],
         "lon": [
          -63.862427,
          -64.413757
         ],
         "marker": {
          "angle": [
           271.5,
           271.1
          ],
          "size": 10,
          "symbol": "arrow"
         },
         "mode": "lines+markers",
         "name": "AB120B",
         "type": "scattermapbox"
        },
        {
         "lat": [
          47.873932,
          47.882934
         ],
         "lon": [
          -63.862427,
          -64.413757
         ],
         "marker": {
          "angle": [
           271.5,
           271.1
          ],
          "size": 10,
          "symbol": "arrow"
         },
         "mode": "lines+markers",
         "name": "AB120B",
         "type": "scattermapbox"
        },
        {
         "lat": [
          45.211075,
          45.03685
         ],
         "lon": [
          -61.110927,
          -61.662074
         ],
         "marker": {
          "angle": [
           246.1,
           245.7
          ],
          "size": 10,
          "symbol": "arrow"
         },
         "mode": "lines+markers",
         "name": "AB6737",
         "type": "scattermapbox"
        },
        {
         "lat": [
          45.211075,
          45.03685
         ],
         "lon": [
          -61.110927,
          -61.662074
         ],
         "marker": {
          "angle": [
           246.1,
           245.7
          ],
          "size": 10,
          "symbol": "arrow"
         },
         "mode": "lines+markers",
         "name": "AB6737",
         "type": "scattermapbox"
        },
        {
         "lat": [
          45.836171,
          45.690323
         ],
         "lon": [
          -62.436401,
          -62.945274
         ],
         "marker": {
          "angle": [
           247.9,
           247.5
          ],
          "size": 10,
          "symbol": "arrow"
         },
         "mode": "lines+markers",
         "name": "AB9387",
         "type": "scattermapbox"
        },
        {
         "lat": [
          45.836171,
          45.690323
         ],
         "lon": [
          -62.436401,
          -62.945274
         ],
         "marker": {
          "angle": [
           247.9,
           247.5
          ],
          "size": 10,
          "symbol": "arrow"
         },
         "mode": "lines+markers",
         "name": "AB9387",
         "type": "scattermapbox"
        },
        {
         "lat": [
          45.509002,
          45.34593
         ],
         "lon": [
          -61.636181,
          -62.12936
         ],
         "marker": {
          "angle": [
           245.1,
           244.7
          ],
          "size": 10,
          "symbol": "arrow"
         },
         "mode": "lines+markers",
         "name": "ABD018",
         "type": "scattermapbox"
        },
        {
         "lat": [
          45.509002,
          45.34593
         ],
         "lon": [
          -61.636181,
          -62.12936
         ],
         "marker": {
          "angle": [
           245.1,
           244.7
          ],
          "size": 10,
          "symbol": "arrow"
         },
         "mode": "lines+markers",
         "name": "ABD018",
         "type": "scattermapbox"
        },
        {
         "lat": [
          47.091918,
          47.068039
         ],
         "lon": [
          -63.25977,
          -63.810173
         ],
         "marker": {
          "angle": [
           266.6,
           266.2
          ],
          "size": 10,
          "symbol": "arrow"
         },
         "mode": "lines+markers",
         "name": "C010EC",
         "type": "scattermapbox"
        },
        {
         "lat": [
          47.091918,
          47.068039
         ],
         "lon": [
          -63.25977,
          -63.810173
         ],
         "marker": {
          "angle": [
           266.6,
           266.2
          ],
          "size": 10,
          "symbol": "arrow"
         },
         "mode": "lines+markers",
         "name": "C010EC",
         "type": "scattermapbox"
        },
        {
         "lat": [
          45.182205,
          45.113983
         ],
         "lon": [
          -61.704511,
          -62.26338
         ],
         "marker": {
          "angle": [
           260.3,
           260.1
          ],
          "size": 10,
          "symbol": "arrow"
         },
         "mode": "lines+markers",
         "name": "C01734",
         "type": "scattermapbox"
        },
        {
         "lat": [
          45.182205,
          45.113983
         ],
         "lon": [
          -61.704511,
          -62.26338
         ],
         "marker": {
          "angle": [
           260.3,
           260.1
          ],
          "size": 10,
          "symbol": "arrow"
         },
         "mode": "lines+markers",
         "name": "C01734",
         "type": "scattermapbox"
        },
        {
         "lat": [
          45.241608,
          45.130783
         ],
         "lon": [
          -63.04851,
          -63.364498
         ],
         "marker": {
          "angle": [
           247.1,
           225.6
          ],
          "size": 10,
          "symbol": "arrow"
         },
         "mode": "lines+markers",
         "name": "C06361",
         "type": "scattermapbox"
        },
        {
         "lat": [
          45.241608,
          45.130783
         ],
         "lon": [
          -63.04851,
          -63.364498
         ],
         "marker": {
          "angle": [
           247.1,
           225.6
          ],
          "size": 10,
          "symbol": "arrow"
         },
         "mode": "lines+markers",
         "name": "C06361",
         "type": "scattermapbox"
        },
        {
         "lat": [
          48.008926,
          47.934952
         ],
         "lon": [
          -60.502602,
          -61.016899
         ],
         "marker": {
          "angle": [
           258.1,
           257.6
          ],
          "size": 10,
          "symbol": "arrow"
         },
         "mode": "lines+markers",
         "name": "C06A7D",
         "type": "scattermapbox"
        },
        {
         "lat": [
          48.008926,
          47.934952
         ],
         "lon": [
          -60.502602,
          -61.016899
         ],
         "marker": {
          "angle": [
           258.1,
           257.6
          ],
          "size": 10,
          "symbol": "arrow"
         },
         "mode": "lines+markers",
         "name": "C06A7D",
         "type": "scattermapbox"
        },
        {
         "lat": [
          48.015794,
          47.938065
         ],
         "lon": [
          -60.4953,
          -61.031868
         ],
         "marker": {
          "angle": [
           258.1,
           257.6
          ],
          "size": 10,
          "symbol": "arrow"
         },
         "mode": "lines+markers",
         "name": "C06E45",
         "type": "scattermapbox"
        },
        {
         "lat": [
          48.015794,
          47.938065
         ],
         "lon": [
          -60.4953,
          -61.031868
         ],
         "marker": {
          "angle": [
           258.1,
           257.6
          ],
          "size": 10,
          "symbol": "arrow"
         },
         "mode": "lines+markers",
         "name": "C06E45",
         "type": "scattermapbox"
        }
       ],
       "layout": {
        "mapbox": {
         "center": {
          "lat": 43.5,
          "lon": 7
         },
         "pitch": 0,
         "style": "carto-positron",
         "zoom": 6
        },
        "margin": {
         "b": 22,
         "l": 113,
         "r": 115,
         "t": 24
        },
        "template": {
         "data": {
          "bar": [
           {
            "error_x": {
             "color": "#2a3f5f"
            },
            "error_y": {
             "color": "#2a3f5f"
            },
            "marker": {
             "line": {
              "color": "#E5ECF6",
              "width": 0.5
             },
             "pattern": {
              "fillmode": "overlay",
              "size": 10,
              "solidity": 0.2
             }
            },
            "type": "bar"
           }
          ],
          "barpolar": [
           {
            "marker": {
             "line": {
              "color": "#E5ECF6",
              "width": 0.5
             },
             "pattern": {
              "fillmode": "overlay",
              "size": 10,
              "solidity": 0.2
             }
            },
            "type": "barpolar"
           }
          ],
          "carpet": [
           {
            "aaxis": {
             "endlinecolor": "#2a3f5f",
             "gridcolor": "white",
             "linecolor": "white",
             "minorgridcolor": "white",
             "startlinecolor": "#2a3f5f"
            },
            "baxis": {
             "endlinecolor": "#2a3f5f",
             "gridcolor": "white",
             "linecolor": "white",
             "minorgridcolor": "white",
             "startlinecolor": "#2a3f5f"
            },
            "type": "carpet"
           }
          ],
          "choropleth": [
           {
            "colorbar": {
             "outlinewidth": 0,
             "ticks": ""
            },
            "type": "choropleth"
           }
          ],
          "contour": [
           {
            "colorbar": {
             "outlinewidth": 0,
             "ticks": ""
            },
            "colorscale": [
             [
              0,
              "#0d0887"
             ],
             [
              0.1111111111111111,
              "#46039f"
             ],
             [
              0.2222222222222222,
              "#7201a8"
             ],
             [
              0.3333333333333333,
              "#9c179e"
             ],
             [
              0.4444444444444444,
              "#bd3786"
             ],
             [
              0.5555555555555556,
              "#d8576b"
             ],
             [
              0.6666666666666666,
              "#ed7953"
             ],
             [
              0.7777777777777778,
              "#fb9f3a"
             ],
             [
              0.8888888888888888,
              "#fdca26"
             ],
             [
              1,
              "#f0f921"
             ]
            ],
            "type": "contour"
           }
          ],
          "contourcarpet": [
           {
            "colorbar": {
             "outlinewidth": 0,
             "ticks": ""
            },
            "type": "contourcarpet"
           }
          ],
          "heatmap": [
           {
            "colorbar": {
             "outlinewidth": 0,
             "ticks": ""
            },
            "colorscale": [
             [
              0,
              "#0d0887"
             ],
             [
              0.1111111111111111,
              "#46039f"
             ],
             [
              0.2222222222222222,
              "#7201a8"
             ],
             [
              0.3333333333333333,
              "#9c179e"
             ],
             [
              0.4444444444444444,
              "#bd3786"
             ],
             [
              0.5555555555555556,
              "#d8576b"
             ],
             [
              0.6666666666666666,
              "#ed7953"
             ],
             [
              0.7777777777777778,
              "#fb9f3a"
             ],
             [
              0.8888888888888888,
              "#fdca26"
             ],
             [
              1,
              "#f0f921"
             ]
            ],
            "type": "heatmap"
           }
          ],
          "heatmapgl": [
           {
            "colorbar": {
             "outlinewidth": 0,
             "ticks": ""
            },
            "colorscale": [
             [
              0,
              "#0d0887"
             ],
             [
              0.1111111111111111,
              "#46039f"
             ],
             [
              0.2222222222222222,
              "#7201a8"
             ],
             [
              0.3333333333333333,
              "#9c179e"
             ],
             [
              0.4444444444444444,
              "#bd3786"
             ],
             [
              0.5555555555555556,
              "#d8576b"
             ],
             [
              0.6666666666666666,
              "#ed7953"
             ],
             [
              0.7777777777777778,
              "#fb9f3a"
             ],
             [
              0.8888888888888888,
              "#fdca26"
             ],
             [
              1,
              "#f0f921"
             ]
            ],
            "type": "heatmapgl"
           }
          ],
          "histogram": [
           {
            "marker": {
             "pattern": {
              "fillmode": "overlay",
              "size": 10,
              "solidity": 0.2
             }
            },
            "type": "histogram"
           }
          ],
          "histogram2d": [
           {
            "colorbar": {
             "outlinewidth": 0,
             "ticks": ""
            },
            "colorscale": [
             [
              0,
              "#0d0887"
             ],
             [
              0.1111111111111111,
              "#46039f"
             ],
             [
              0.2222222222222222,
              "#7201a8"
             ],
             [
              0.3333333333333333,
              "#9c179e"
             ],
             [
              0.4444444444444444,
              "#bd3786"
             ],
             [
              0.5555555555555556,
              "#d8576b"
             ],
             [
              0.6666666666666666,
              "#ed7953"
             ],
             [
              0.7777777777777778,
              "#fb9f3a"
             ],
             [
              0.8888888888888888,
              "#fdca26"
             ],
             [
              1,
              "#f0f921"
             ]
            ],
            "type": "histogram2d"
           }
          ],
          "histogram2dcontour": [
           {
            "colorbar": {
             "outlinewidth": 0,
             "ticks": ""
            },
            "colorscale": [
             [
              0,
              "#0d0887"
             ],
             [
              0.1111111111111111,
              "#46039f"
             ],
             [
              0.2222222222222222,
              "#7201a8"
             ],
             [
              0.3333333333333333,
              "#9c179e"
             ],
             [
              0.4444444444444444,
              "#bd3786"
             ],
             [
              0.5555555555555556,
              "#d8576b"
             ],
             [
              0.6666666666666666,
              "#ed7953"
             ],
             [
              0.7777777777777778,
              "#fb9f3a"
             ],
             [
              0.8888888888888888,
              "#fdca26"
             ],
             [
              1,
              "#f0f921"
             ]
            ],
            "type": "histogram2dcontour"
           }
          ],
          "mesh3d": [
           {
            "colorbar": {
             "outlinewidth": 0,
             "ticks": ""
            },
            "type": "mesh3d"
           }
          ],
          "parcoords": [
           {
            "line": {
             "colorbar": {
              "outlinewidth": 0,
              "ticks": ""
             }
            },
            "type": "parcoords"
           }
          ],
          "pie": [
           {
            "automargin": true,
            "type": "pie"
           }
          ],
          "scatter": [
           {
            "fillpattern": {
             "fillmode": "overlay",
             "size": 10,
             "solidity": 0.2
            },
            "type": "scatter"
           }
          ],
          "scatter3d": [
           {
            "line": {
             "colorbar": {
              "outlinewidth": 0,
              "ticks": ""
             }
            },
            "marker": {
             "colorbar": {
              "outlinewidth": 0,
              "ticks": ""
             }
            },
            "type": "scatter3d"
           }
          ],
          "scattercarpet": [
           {
            "marker": {
             "colorbar": {
              "outlinewidth": 0,
              "ticks": ""
             }
            },
            "type": "scattercarpet"
           }
          ],
          "scattergeo": [
           {
            "marker": {
             "colorbar": {
              "outlinewidth": 0,
              "ticks": ""
             }
            },
            "type": "scattergeo"
           }
          ],
          "scattergl": [
           {
            "marker": {
             "colorbar": {
              "outlinewidth": 0,
              "ticks": ""
             }
            },
            "type": "scattergl"
           }
          ],
          "scattermapbox": [
           {
            "marker": {
             "colorbar": {
              "outlinewidth": 0,
              "ticks": ""
             }
            },
            "type": "scattermapbox"
           }
          ],
          "scatterpolar": [
           {
            "marker": {
             "colorbar": {
              "outlinewidth": 0,
              "ticks": ""
             }
            },
            "type": "scatterpolar"
           }
          ],
          "scatterpolargl": [
           {
            "marker": {
             "colorbar": {
              "outlinewidth": 0,
              "ticks": ""
             }
            },
            "type": "scatterpolargl"
           }
          ],
          "scatterternary": [
           {
            "marker": {
             "colorbar": {
              "outlinewidth": 0,
              "ticks": ""
             }
            },
            "type": "scatterternary"
           }
          ],
          "surface": [
           {
            "colorbar": {
             "outlinewidth": 0,
             "ticks": ""
            },
            "colorscale": [
             [
              0,
              "#0d0887"
             ],
             [
              0.1111111111111111,
              "#46039f"
             ],
             [
              0.2222222222222222,
              "#7201a8"
             ],
             [
              0.3333333333333333,
              "#9c179e"
             ],
             [
              0.4444444444444444,
              "#bd3786"
             ],
             [
              0.5555555555555556,
              "#d8576b"
             ],
             [
              0.6666666666666666,
              "#ed7953"
             ],
             [
              0.7777777777777778,
              "#fb9f3a"
             ],
             [
              0.8888888888888888,
              "#fdca26"
             ],
             [
              1,
              "#f0f921"
             ]
            ],
            "type": "surface"
           }
          ],
          "table": [
           {
            "cells": {
             "fill": {
              "color": "#EBF0F8"
             },
             "line": {
              "color": "white"
             }
            },
            "header": {
             "fill": {
              "color": "#C8D4E3"
             },
             "line": {
              "color": "white"
             }
            },
            "type": "table"
           }
          ]
         },
         "layout": {
          "annotationdefaults": {
           "arrowcolor": "#2a3f5f",
           "arrowhead": 0,
           "arrowwidth": 1
          },
          "autotypenumbers": "strict",
          "coloraxis": {
           "colorbar": {
            "outlinewidth": 0,
            "ticks": ""
           }
          },
          "colorscale": {
           "diverging": [
            [
             0,
             "#8e0152"
            ],
            [
             0.1,
             "#c51b7d"
            ],
            [
             0.2,
             "#de77ae"
            ],
            [
             0.3,
             "#f1b6da"
            ],
            [
             0.4,
             "#fde0ef"
            ],
            [
             0.5,
             "#f7f7f7"
            ],
            [
             0.6,
             "#e6f5d0"
            ],
            [
             0.7,
             "#b8e186"
            ],
            [
             0.8,
             "#7fbc41"
            ],
            [
             0.9,
             "#4d9221"
            ],
            [
             1,
             "#276419"
            ]
           ],
           "sequential": [
            [
             0,
             "#0d0887"
            ],
            [
             0.1111111111111111,
             "#46039f"
            ],
            [
             0.2222222222222222,
             "#7201a8"
            ],
            [
             0.3333333333333333,
             "#9c179e"
            ],
            [
             0.4444444444444444,
             "#bd3786"
            ],
            [
             0.5555555555555556,
             "#d8576b"
            ],
            [
             0.6666666666666666,
             "#ed7953"
            ],
            [
             0.7777777777777778,
             "#fb9f3a"
            ],
            [
             0.8888888888888888,
             "#fdca26"
            ],
            [
             1,
             "#f0f921"
            ]
           ],
           "sequentialminus": [
            [
             0,
             "#0d0887"
            ],
            [
             0.1111111111111111,
             "#46039f"
            ],
            [
             0.2222222222222222,
             "#7201a8"
            ],
            [
             0.3333333333333333,
             "#9c179e"
            ],
            [
             0.4444444444444444,
             "#bd3786"
            ],
            [
             0.5555555555555556,
             "#d8576b"
            ],
            [
             0.6666666666666666,
             "#ed7953"
            ],
            [
             0.7777777777777778,
             "#fb9f3a"
            ],
            [
             0.8888888888888888,
             "#fdca26"
            ],
            [
             1,
             "#f0f921"
            ]
           ]
          },
          "colorway": [
           "#636efa",
           "#EF553B",
           "#00cc96",
           "#ab63fa",
           "#FFA15A",
           "#19d3f3",
           "#FF6692",
           "#B6E880",
           "#FF97FF",
           "#FECB52"
          ],
          "font": {
           "color": "#2a3f5f"
          },
          "geo": {
           "bgcolor": "white",
           "lakecolor": "white",
           "landcolor": "#E5ECF6",
           "showlakes": true,
           "showland": true,
           "subunitcolor": "white"
          },
          "hoverlabel": {
           "align": "left"
          },
          "hovermode": "closest",
          "mapbox": {
           "style": "light"
          },
          "paper_bgcolor": "white",
          "plot_bgcolor": "#E5ECF6",
          "polar": {
           "angularaxis": {
            "gridcolor": "white",
            "linecolor": "white",
            "ticks": ""
           },
           "bgcolor": "#E5ECF6",
           "radialaxis": {
            "gridcolor": "white",
            "linecolor": "white",
            "ticks": ""
           }
          },
          "scene": {
           "xaxis": {
            "backgroundcolor": "#E5ECF6",
            "gridcolor": "white",
            "gridwidth": 2,
            "linecolor": "white",
            "showbackground": true,
            "ticks": "",
            "zerolinecolor": "white"
           },
           "yaxis": {
            "backgroundcolor": "#E5ECF6",
            "gridcolor": "white",
            "gridwidth": 2,
            "linecolor": "white",
            "showbackground": true,
            "ticks": "",
            "zerolinecolor": "white"
           },
           "zaxis": {
            "backgroundcolor": "#E5ECF6",
            "gridcolor": "white",
            "gridwidth": 2,
            "linecolor": "white",
            "showbackground": true,
            "ticks": "",
            "zerolinecolor": "white"
           }
          },
          "shapedefaults": {
           "line": {
            "color": "#2a3f5f"
           }
          },
          "ternary": {
           "aaxis": {
            "gridcolor": "white",
            "linecolor": "white",
            "ticks": ""
           },
           "baxis": {
            "gridcolor": "white",
            "linecolor": "white",
            "ticks": ""
           },
           "bgcolor": "#E5ECF6",
           "caxis": {
            "gridcolor": "white",
            "linecolor": "white",
            "ticks": ""
           }
          },
          "title": {
           "x": 0.05
          },
          "xaxis": {
           "automargin": true,
           "gridcolor": "white",
           "linecolor": "white",
           "ticks": "",
           "title": {
            "standoff": 15
           },
           "zerolinecolor": "white",
           "zerolinewidth": 2
          },
          "yaxis": {
           "automargin": true,
           "gridcolor": "white",
           "linecolor": "white",
           "ticks": "",
           "title": {
            "standoff": 15
           },
           "zerolinecolor": "white",
           "zerolinewidth": 2
          }
         }
        }
       }
      }
     },
     "metadata": {},
     "output_type": "display_data"
    }
   ],
   "source": [
    "'''\n",
    "Tentative 2 avec plotly que je laisse pour la beauté de la chose, mais j'arrivais pas à afficher une flèche orientée selon le cap\n",
    "'''\n",
    "fig = go.Figure()\n",
    "\n",
    "for i in df_p.index.get_level_values(0):\n",
    "    fig.add_trace(go.Scattermapbox(\n",
    "        mode=\"lines+markers\", #\n",
    "        lon=df_p.loc[i, 'lng'],\n",
    "        lat=df_p.loc[i, 'lat'],\n",
    "        name=i, \n",
    "        marker=dict(\n",
    "            symbol=\"arrow\",\n",
    "            size=10,\n",
    "            angle=df_p.loc[i, 'dir'],\n",
    "            ),\n",
    "        ))\n",
    "    \n",
    "\n",
    "\n",
    "fig.update_layout(\n",
    "    margin={'l': 113, 't': 24, 'b': 22, 'r': 115},\n",
    "    mapbox=dict(style='carto-positron',\n",
    "                center=go.layout.mapbox.Center(lon=7, lat=43.5),\n",
    "                pitch=0,\n",
    "                zoom=6)\n",
    ")\n",
    "\n",
    "fig.show()"
   ]
  },
  {
   "cell_type": "code",
   "execution_count": 86,
   "metadata": {},
   "outputs": [
    {
     "ename": "FileNotFoundError",
     "evalue": "[Errno 2] No such file or directory: 'output\\\\2024-02-02_17-39-49_Flight_map'",
     "output_type": "error",
     "traceback": [
      "\u001b[1;31m---------------------------------------------------------------------------\u001b[0m",
      "\u001b[1;31mFileNotFoundError\u001b[0m                         Traceback (most recent call last)",
      "Cell \u001b[1;32mIn[86], line 14\u001b[0m\n\u001b[0;32m      5\u001b[0m fig\u001b[38;5;241m=\u001b[39mpx\u001b[38;5;241m.\u001b[39mscatter_geo(\n\u001b[0;32m      6\u001b[0m     data_frame\u001b[38;5;241m=\u001b[39mfiltered_df,\n\u001b[0;32m      7\u001b[0m     lat\u001b[38;5;241m=\u001b[39m\u001b[38;5;124m'\u001b[39m\u001b[38;5;124mlat\u001b[39m\u001b[38;5;124m'\u001b[39m,\n\u001b[1;32m   (...)\u001b[0m\n\u001b[0;32m     11\u001b[0m     hover_data\u001b[38;5;241m=\u001b[39m[\u001b[38;5;124m'\u001b[39m\u001b[38;5;124malt\u001b[39m\u001b[38;5;124m'\u001b[39m, \u001b[38;5;124m'\u001b[39m\u001b[38;5;124mspeed\u001b[39m\u001b[38;5;124m'\u001b[39m],\n\u001b[0;32m     12\u001b[0m     )\n\u001b[0;32m     13\u001b[0m fig\u001b[38;5;241m.\u001b[39mupdate_layout(width\u001b[38;5;241m=\u001b[39m\u001b[38;5;241m1500\u001b[39m, height\u001b[38;5;241m=\u001b[39m\u001b[38;5;241m900\u001b[39m)\n\u001b[1;32m---> 14\u001b[0m \u001b[43mfig\u001b[49m\u001b[38;5;241;43m.\u001b[39;49m\u001b[43mwrite_html\u001b[49m\u001b[43m(\u001b[49m\u001b[43mos\u001b[49m\u001b[38;5;241;43m.\u001b[39;49m\u001b[43mpath\u001b[49m\u001b[38;5;241;43m.\u001b[39;49m\u001b[43mjoin\u001b[49m\u001b[43m(\u001b[49m\u001b[38;5;124;43m'\u001b[39;49m\u001b[38;5;124;43moutput\u001b[39;49m\u001b[38;5;124;43m'\u001b[39;49m\u001b[43m,\u001b[49m\u001b[38;5;124;43mf\u001b[39;49m\u001b[38;5;124;43m'\u001b[39;49m\u001b[38;5;132;43;01m{\u001b[39;49;00m\u001b[43mcurrent_time\u001b[49m\u001b[38;5;132;43;01m}\u001b[39;49;00m\u001b[38;5;124;43m_Flight_map\u001b[39;49m\u001b[38;5;124;43m'\u001b[39;49m\u001b[43m)\u001b[49m\u001b[43m)\u001b[49m\n\u001b[0;32m     15\u001b[0m fig\n",
      "File \u001b[1;32md:\\Programmes\\E.nova\\python\\Anaconda\\envs\\env_nova\\Lib\\site-packages\\plotly\\basedatatypes.py:3708\u001b[0m, in \u001b[0;36mBaseFigure.write_html\u001b[1;34m(self, *args, **kwargs)\u001b[0m\n\u001b[0;32m   3593\u001b[0m \u001b[38;5;250m\u001b[39m\u001b[38;5;124;03m\"\"\"\u001b[39;00m\n\u001b[0;32m   3594\u001b[0m \u001b[38;5;124;03mWrite a figure to an HTML file representation\u001b[39;00m\n\u001b[0;32m   3595\u001b[0m \n\u001b[1;32m   (...)\u001b[0m\n\u001b[0;32m   3704\u001b[0m \u001b[38;5;124;03m    Representation of figure as an HTML div string\u001b[39;00m\n\u001b[0;32m   3705\u001b[0m \u001b[38;5;124;03m\"\"\"\u001b[39;00m\n\u001b[0;32m   3706\u001b[0m \u001b[38;5;28;01mimport\u001b[39;00m \u001b[38;5;21;01mplotly\u001b[39;00m\u001b[38;5;21;01m.\u001b[39;00m\u001b[38;5;21;01mio\u001b[39;00m \u001b[38;5;28;01mas\u001b[39;00m \u001b[38;5;21;01mpio\u001b[39;00m\n\u001b[1;32m-> 3708\u001b[0m \u001b[38;5;28;01mreturn\u001b[39;00m \u001b[43mpio\u001b[49m\u001b[38;5;241;43m.\u001b[39;49m\u001b[43mwrite_html\u001b[49m\u001b[43m(\u001b[49m\u001b[38;5;28;43mself\u001b[39;49m\u001b[43m,\u001b[49m\u001b[43m \u001b[49m\u001b[38;5;241;43m*\u001b[39;49m\u001b[43margs\u001b[49m\u001b[43m,\u001b[49m\u001b[43m \u001b[49m\u001b[38;5;241;43m*\u001b[39;49m\u001b[38;5;241;43m*\u001b[39;49m\u001b[43mkwargs\u001b[49m\u001b[43m)\u001b[49m\n",
      "File \u001b[1;32md:\\Programmes\\E.nova\\python\\Anaconda\\envs\\env_nova\\Lib\\site-packages\\plotly\\io\\_html.py:536\u001b[0m, in \u001b[0;36mwrite_html\u001b[1;34m(fig, file, config, auto_play, include_plotlyjs, include_mathjax, post_script, full_html, animation_opts, validate, default_width, default_height, auto_open, div_id)\u001b[0m\n\u001b[0;32m    534\u001b[0m \u001b[38;5;66;03m# Write HTML string\u001b[39;00m\n\u001b[0;32m    535\u001b[0m \u001b[38;5;28;01mif\u001b[39;00m path \u001b[38;5;129;01mis\u001b[39;00m \u001b[38;5;129;01mnot\u001b[39;00m \u001b[38;5;28;01mNone\u001b[39;00m:\n\u001b[1;32m--> 536\u001b[0m     \u001b[43mpath\u001b[49m\u001b[38;5;241;43m.\u001b[39;49m\u001b[43mwrite_text\u001b[49m\u001b[43m(\u001b[49m\u001b[43mhtml_str\u001b[49m\u001b[43m)\u001b[49m\n\u001b[0;32m    537\u001b[0m \u001b[38;5;28;01melse\u001b[39;00m:\n\u001b[0;32m    538\u001b[0m     file\u001b[38;5;241m.\u001b[39mwrite(html_str)\n",
      "File \u001b[1;32md:\\Programmes\\E.nova\\python\\Anaconda\\envs\\env_nova\\Lib\\pathlib.py:1078\u001b[0m, in \u001b[0;36mPath.write_text\u001b[1;34m(self, data, encoding, errors, newline)\u001b[0m\n\u001b[0;32m   1075\u001b[0m     \u001b[38;5;28;01mraise\u001b[39;00m \u001b[38;5;167;01mTypeError\u001b[39;00m(\u001b[38;5;124m'\u001b[39m\u001b[38;5;124mdata must be str, not \u001b[39m\u001b[38;5;132;01m%s\u001b[39;00m\u001b[38;5;124m'\u001b[39m \u001b[38;5;241m%\u001b[39m\n\u001b[0;32m   1076\u001b[0m                     data\u001b[38;5;241m.\u001b[39m\u001b[38;5;18m__class__\u001b[39m\u001b[38;5;241m.\u001b[39m\u001b[38;5;18m__name__\u001b[39m)\n\u001b[0;32m   1077\u001b[0m encoding \u001b[38;5;241m=\u001b[39m io\u001b[38;5;241m.\u001b[39mtext_encoding(encoding)\n\u001b[1;32m-> 1078\u001b[0m \u001b[38;5;28;01mwith\u001b[39;00m \u001b[38;5;28;43mself\u001b[39;49m\u001b[38;5;241;43m.\u001b[39;49m\u001b[43mopen\u001b[49m\u001b[43m(\u001b[49m\u001b[43mmode\u001b[49m\u001b[38;5;241;43m=\u001b[39;49m\u001b[38;5;124;43m'\u001b[39;49m\u001b[38;5;124;43mw\u001b[39;49m\u001b[38;5;124;43m'\u001b[39;49m\u001b[43m,\u001b[49m\u001b[43m \u001b[49m\u001b[43mencoding\u001b[49m\u001b[38;5;241;43m=\u001b[39;49m\u001b[43mencoding\u001b[49m\u001b[43m,\u001b[49m\u001b[43m \u001b[49m\u001b[43merrors\u001b[49m\u001b[38;5;241;43m=\u001b[39;49m\u001b[43merrors\u001b[49m\u001b[43m,\u001b[49m\u001b[43m \u001b[49m\u001b[43mnewline\u001b[49m\u001b[38;5;241;43m=\u001b[39;49m\u001b[43mnewline\u001b[49m\u001b[43m)\u001b[49m \u001b[38;5;28;01mas\u001b[39;00m f:\n\u001b[0;32m   1079\u001b[0m     \u001b[38;5;28;01mreturn\u001b[39;00m f\u001b[38;5;241m.\u001b[39mwrite(data)\n",
      "File \u001b[1;32md:\\Programmes\\E.nova\\python\\Anaconda\\envs\\env_nova\\Lib\\pathlib.py:1044\u001b[0m, in \u001b[0;36mPath.open\u001b[1;34m(self, mode, buffering, encoding, errors, newline)\u001b[0m\n\u001b[0;32m   1042\u001b[0m \u001b[38;5;28;01mif\u001b[39;00m \u001b[38;5;124m\"\u001b[39m\u001b[38;5;124mb\u001b[39m\u001b[38;5;124m\"\u001b[39m \u001b[38;5;129;01mnot\u001b[39;00m \u001b[38;5;129;01min\u001b[39;00m mode:\n\u001b[0;32m   1043\u001b[0m     encoding \u001b[38;5;241m=\u001b[39m io\u001b[38;5;241m.\u001b[39mtext_encoding(encoding)\n\u001b[1;32m-> 1044\u001b[0m \u001b[38;5;28;01mreturn\u001b[39;00m io\u001b[38;5;241m.\u001b[39mopen(\u001b[38;5;28mself\u001b[39m, mode, buffering, encoding, errors, newline)\n",
      "\u001b[1;31mFileNotFoundError\u001b[0m: [Errno 2] No such file or directory: 'output\\\\2024-02-02_17-39-49_Flight_map'"
     ]
    }
   ],
   "source": [
    "'''\n",
    "tentative 1 avec plotly\n",
    "rapide a coder, mais peu d'options disponibles\n",
    "'''\n",
    "fig=px.scatter_geo(\n",
    "    data_frame=filtered_df,\n",
    "    lat='lat',\n",
    "    lon='lng',\n",
    "    hover_name='reg_number',\n",
    "    color='flag',\n",
    "    hover_data=['alt', 'speed'],\n",
    "    )\n",
    "fig.update_layout(width=1500, height=900)\n",
    "fig.write_html(os.path.join('output',f'{current_time}_Flight_map'))\n",
    "fig\n"
   ]
  },
  {
   "cell_type": "code",
   "execution_count": null,
   "metadata": {},
   "outputs": [
    {
     "data": {
      "application/vnd.plotly.v1+json": {
       "config": {
        "plotlyServerURL": "https://plot.ly"
       },
       "data": [
        {
         "hovertemplate": "Date=023-10-06_18-15-49<br>speed=%{x}<br>alt=%{y}<extra></extra>",
         "legendgroup": "023-10-06_18-15-49",
         "marker": {
          "color": "#636efa",
          "symbol": "circle"
         },
         "mode": "markers",
         "name": "023-10-06_18-15-49",
         "orientation": "v",
         "showlegend": true,
         "type": "scatter",
         "x": [
          877,
          796,
          879,
          850,
          909,
          898,
          864,
          834,
          823,
          844,
          872,
          888,
          837,
          827,
          837,
          892,
          827,
          950,
          855,
          857,
          837,
          888,
          850,
          594,
          792,
          843,
          833,
          796,
          813,
          811,
          795
         ],
         "xaxis": "x",
         "y": [
          11582,
          10972,
          11582,
          11582,
          11795,
          11887,
          10965,
          12184,
          12192,
          10965,
          12702,
          11582,
          10972,
          11590,
          10972,
          11277,
          11574,
          8534,
          10363,
          12405,
          10203,
          10972,
          11582,
          4328,
          10355,
          12382,
          12062,
          11445,
          12687,
          12031,
          12031
         ],
         "yaxis": "y"
        },
        {
         "hovertemplate": "Date=023-10-06_18-18-51<br>speed=%{x}<br>alt=%{y}<extra></extra>",
         "legendgroup": "023-10-06_18-18-51",
         "marker": {
          "color": "#EF553B",
          "symbol": "circle"
         },
         "mode": "markers",
         "name": "023-10-06_18-18-51",
         "orientation": "v",
         "showlegend": true,
         "type": "scatter",
         "x": [
          875,
          790,
          879,
          844,
          914,
          887,
          864,
          831,
          829,
          850,
          866,
          881,
          838,
          831,
          837,
          894,
          829,
          948,
          864,
          859,
          848,
          835,
          890,
          489,
          616,
          831,
          819,
          808,
          795,
          796,
          833
         ],
         "xaxis": "x",
         "y": [
          11582,
          11468,
          11582,
          11582,
          11269,
          11887,
          10965,
          12184,
          12192,
          10972,
          12687,
          11582,
          10972,
          12031,
          10972,
          11277,
          12047,
          8961,
          10972,
          10363,
          11887,
          9753,
          10972,
          2910,
          7315,
          12382,
          12687,
          12031,
          12031,
          11445,
          12062
         ],
         "yaxis": "y"
        },
        {
         "hovertemplate": "Date=023-10-20_09-45-52<br>speed=%{x}<br>alt=%{y}<extra></extra>",
         "legendgroup": "023-10-20_09-45-52",
         "marker": {
          "color": "#00cc96",
          "symbol": "circle"
         },
         "mode": "markers",
         "name": "023-10-20_09-45-52",
         "orientation": "v",
         "showlegend": true,
         "type": "scatter",
         "x": [
          788,
          1016,
          740
         ],
         "xaxis": "x",
         "y": [
          11582,
          10668,
          4526
         ],
         "yaxis": "y"
        }
       ],
       "layout": {
        "legend": {
         "title": {
          "text": "Date"
         },
         "tracegroupgap": 0
        },
        "margin": {
         "t": 60
        },
        "template": {
         "data": {
          "bar": [
           {
            "error_x": {
             "color": "#2a3f5f"
            },
            "error_y": {
             "color": "#2a3f5f"
            },
            "marker": {
             "line": {
              "color": "#E5ECF6",
              "width": 0.5
             },
             "pattern": {
              "fillmode": "overlay",
              "size": 10,
              "solidity": 0.2
             }
            },
            "type": "bar"
           }
          ],
          "barpolar": [
           {
            "marker": {
             "line": {
              "color": "#E5ECF6",
              "width": 0.5
             },
             "pattern": {
              "fillmode": "overlay",
              "size": 10,
              "solidity": 0.2
             }
            },
            "type": "barpolar"
           }
          ],
          "carpet": [
           {
            "aaxis": {
             "endlinecolor": "#2a3f5f",
             "gridcolor": "white",
             "linecolor": "white",
             "minorgridcolor": "white",
             "startlinecolor": "#2a3f5f"
            },
            "baxis": {
             "endlinecolor": "#2a3f5f",
             "gridcolor": "white",
             "linecolor": "white",
             "minorgridcolor": "white",
             "startlinecolor": "#2a3f5f"
            },
            "type": "carpet"
           }
          ],
          "choropleth": [
           {
            "colorbar": {
             "outlinewidth": 0,
             "ticks": ""
            },
            "type": "choropleth"
           }
          ],
          "contour": [
           {
            "colorbar": {
             "outlinewidth": 0,
             "ticks": ""
            },
            "colorscale": [
             [
              0,
              "#0d0887"
             ],
             [
              0.1111111111111111,
              "#46039f"
             ],
             [
              0.2222222222222222,
              "#7201a8"
             ],
             [
              0.3333333333333333,
              "#9c179e"
             ],
             [
              0.4444444444444444,
              "#bd3786"
             ],
             [
              0.5555555555555556,
              "#d8576b"
             ],
             [
              0.6666666666666666,
              "#ed7953"
             ],
             [
              0.7777777777777778,
              "#fb9f3a"
             ],
             [
              0.8888888888888888,
              "#fdca26"
             ],
             [
              1,
              "#f0f921"
             ]
            ],
            "type": "contour"
           }
          ],
          "contourcarpet": [
           {
            "colorbar": {
             "outlinewidth": 0,
             "ticks": ""
            },
            "type": "contourcarpet"
           }
          ],
          "heatmap": [
           {
            "colorbar": {
             "outlinewidth": 0,
             "ticks": ""
            },
            "colorscale": [
             [
              0,
              "#0d0887"
             ],
             [
              0.1111111111111111,
              "#46039f"
             ],
             [
              0.2222222222222222,
              "#7201a8"
             ],
             [
              0.3333333333333333,
              "#9c179e"
             ],
             [
              0.4444444444444444,
              "#bd3786"
             ],
             [
              0.5555555555555556,
              "#d8576b"
             ],
             [
              0.6666666666666666,
              "#ed7953"
             ],
             [
              0.7777777777777778,
              "#fb9f3a"
             ],
             [
              0.8888888888888888,
              "#fdca26"
             ],
             [
              1,
              "#f0f921"
             ]
            ],
            "type": "heatmap"
           }
          ],
          "heatmapgl": [
           {
            "colorbar": {
             "outlinewidth": 0,
             "ticks": ""
            },
            "colorscale": [
             [
              0,
              "#0d0887"
             ],
             [
              0.1111111111111111,
              "#46039f"
             ],
             [
              0.2222222222222222,
              "#7201a8"
             ],
             [
              0.3333333333333333,
              "#9c179e"
             ],
             [
              0.4444444444444444,
              "#bd3786"
             ],
             [
              0.5555555555555556,
              "#d8576b"
             ],
             [
              0.6666666666666666,
              "#ed7953"
             ],
             [
              0.7777777777777778,
              "#fb9f3a"
             ],
             [
              0.8888888888888888,
              "#fdca26"
             ],
             [
              1,
              "#f0f921"
             ]
            ],
            "type": "heatmapgl"
           }
          ],
          "histogram": [
           {
            "marker": {
             "pattern": {
              "fillmode": "overlay",
              "size": 10,
              "solidity": 0.2
             }
            },
            "type": "histogram"
           }
          ],
          "histogram2d": [
           {
            "colorbar": {
             "outlinewidth": 0,
             "ticks": ""
            },
            "colorscale": [
             [
              0,
              "#0d0887"
             ],
             [
              0.1111111111111111,
              "#46039f"
             ],
             [
              0.2222222222222222,
              "#7201a8"
             ],
             [
              0.3333333333333333,
              "#9c179e"
             ],
             [
              0.4444444444444444,
              "#bd3786"
             ],
             [
              0.5555555555555556,
              "#d8576b"
             ],
             [
              0.6666666666666666,
              "#ed7953"
             ],
             [
              0.7777777777777778,
              "#fb9f3a"
             ],
             [
              0.8888888888888888,
              "#fdca26"
             ],
             [
              1,
              "#f0f921"
             ]
            ],
            "type": "histogram2d"
           }
          ],
          "histogram2dcontour": [
           {
            "colorbar": {
             "outlinewidth": 0,
             "ticks": ""
            },
            "colorscale": [
             [
              0,
              "#0d0887"
             ],
             [
              0.1111111111111111,
              "#46039f"
             ],
             [
              0.2222222222222222,
              "#7201a8"
             ],
             [
              0.3333333333333333,
              "#9c179e"
             ],
             [
              0.4444444444444444,
              "#bd3786"
             ],
             [
              0.5555555555555556,
              "#d8576b"
             ],
             [
              0.6666666666666666,
              "#ed7953"
             ],
             [
              0.7777777777777778,
              "#fb9f3a"
             ],
             [
              0.8888888888888888,
              "#fdca26"
             ],
             [
              1,
              "#f0f921"
             ]
            ],
            "type": "histogram2dcontour"
           }
          ],
          "mesh3d": [
           {
            "colorbar": {
             "outlinewidth": 0,
             "ticks": ""
            },
            "type": "mesh3d"
           }
          ],
          "parcoords": [
           {
            "line": {
             "colorbar": {
              "outlinewidth": 0,
              "ticks": ""
             }
            },
            "type": "parcoords"
           }
          ],
          "pie": [
           {
            "automargin": true,
            "type": "pie"
           }
          ],
          "scatter": [
           {
            "fillpattern": {
             "fillmode": "overlay",
             "size": 10,
             "solidity": 0.2
            },
            "type": "scatter"
           }
          ],
          "scatter3d": [
           {
            "line": {
             "colorbar": {
              "outlinewidth": 0,
              "ticks": ""
             }
            },
            "marker": {
             "colorbar": {
              "outlinewidth": 0,
              "ticks": ""
             }
            },
            "type": "scatter3d"
           }
          ],
          "scattercarpet": [
           {
            "marker": {
             "colorbar": {
              "outlinewidth": 0,
              "ticks": ""
             }
            },
            "type": "scattercarpet"
           }
          ],
          "scattergeo": [
           {
            "marker": {
             "colorbar": {
              "outlinewidth": 0,
              "ticks": ""
             }
            },
            "type": "scattergeo"
           }
          ],
          "scattergl": [
           {
            "marker": {
             "colorbar": {
              "outlinewidth": 0,
              "ticks": ""
             }
            },
            "type": "scattergl"
           }
          ],
          "scattermapbox": [
           {
            "marker": {
             "colorbar": {
              "outlinewidth": 0,
              "ticks": ""
             }
            },
            "type": "scattermapbox"
           }
          ],
          "scatterpolar": [
           {
            "marker": {
             "colorbar": {
              "outlinewidth": 0,
              "ticks": ""
             }
            },
            "type": "scatterpolar"
           }
          ],
          "scatterpolargl": [
           {
            "marker": {
             "colorbar": {
              "outlinewidth": 0,
              "ticks": ""
             }
            },
            "type": "scatterpolargl"
           }
          ],
          "scatterternary": [
           {
            "marker": {
             "colorbar": {
              "outlinewidth": 0,
              "ticks": ""
             }
            },
            "type": "scatterternary"
           }
          ],
          "surface": [
           {
            "colorbar": {
             "outlinewidth": 0,
             "ticks": ""
            },
            "colorscale": [
             [
              0,
              "#0d0887"
             ],
             [
              0.1111111111111111,
              "#46039f"
             ],
             [
              0.2222222222222222,
              "#7201a8"
             ],
             [
              0.3333333333333333,
              "#9c179e"
             ],
             [
              0.4444444444444444,
              "#bd3786"
             ],
             [
              0.5555555555555556,
              "#d8576b"
             ],
             [
              0.6666666666666666,
              "#ed7953"
             ],
             [
              0.7777777777777778,
              "#fb9f3a"
             ],
             [
              0.8888888888888888,
              "#fdca26"
             ],
             [
              1,
              "#f0f921"
             ]
            ],
            "type": "surface"
           }
          ],
          "table": [
           {
            "cells": {
             "fill": {
              "color": "#EBF0F8"
             },
             "line": {
              "color": "white"
             }
            },
            "header": {
             "fill": {
              "color": "#C8D4E3"
             },
             "line": {
              "color": "white"
             }
            },
            "type": "table"
           }
          ]
         },
         "layout": {
          "annotationdefaults": {
           "arrowcolor": "#2a3f5f",
           "arrowhead": 0,
           "arrowwidth": 1
          },
          "autotypenumbers": "strict",
          "coloraxis": {
           "colorbar": {
            "outlinewidth": 0,
            "ticks": ""
           }
          },
          "colorscale": {
           "diverging": [
            [
             0,
             "#8e0152"
            ],
            [
             0.1,
             "#c51b7d"
            ],
            [
             0.2,
             "#de77ae"
            ],
            [
             0.3,
             "#f1b6da"
            ],
            [
             0.4,
             "#fde0ef"
            ],
            [
             0.5,
             "#f7f7f7"
            ],
            [
             0.6,
             "#e6f5d0"
            ],
            [
             0.7,
             "#b8e186"
            ],
            [
             0.8,
             "#7fbc41"
            ],
            [
             0.9,
             "#4d9221"
            ],
            [
             1,
             "#276419"
            ]
           ],
           "sequential": [
            [
             0,
             "#0d0887"
            ],
            [
             0.1111111111111111,
             "#46039f"
            ],
            [
             0.2222222222222222,
             "#7201a8"
            ],
            [
             0.3333333333333333,
             "#9c179e"
            ],
            [
             0.4444444444444444,
             "#bd3786"
            ],
            [
             0.5555555555555556,
             "#d8576b"
            ],
            [
             0.6666666666666666,
             "#ed7953"
            ],
            [
             0.7777777777777778,
             "#fb9f3a"
            ],
            [
             0.8888888888888888,
             "#fdca26"
            ],
            [
             1,
             "#f0f921"
            ]
           ],
           "sequentialminus": [
            [
             0,
             "#0d0887"
            ],
            [
             0.1111111111111111,
             "#46039f"
            ],
            [
             0.2222222222222222,
             "#7201a8"
            ],
            [
             0.3333333333333333,
             "#9c179e"
            ],
            [
             0.4444444444444444,
             "#bd3786"
            ],
            [
             0.5555555555555556,
             "#d8576b"
            ],
            [
             0.6666666666666666,
             "#ed7953"
            ],
            [
             0.7777777777777778,
             "#fb9f3a"
            ],
            [
             0.8888888888888888,
             "#fdca26"
            ],
            [
             1,
             "#f0f921"
            ]
           ]
          },
          "colorway": [
           "#636efa",
           "#EF553B",
           "#00cc96",
           "#ab63fa",
           "#FFA15A",
           "#19d3f3",
           "#FF6692",
           "#B6E880",
           "#FF97FF",
           "#FECB52"
          ],
          "font": {
           "color": "#2a3f5f"
          },
          "geo": {
           "bgcolor": "white",
           "lakecolor": "white",
           "landcolor": "#E5ECF6",
           "showlakes": true,
           "showland": true,
           "subunitcolor": "white"
          },
          "hoverlabel": {
           "align": "left"
          },
          "hovermode": "closest",
          "mapbox": {
           "style": "light"
          },
          "paper_bgcolor": "white",
          "plot_bgcolor": "#E5ECF6",
          "polar": {
           "angularaxis": {
            "gridcolor": "white",
            "linecolor": "white",
            "ticks": ""
           },
           "bgcolor": "#E5ECF6",
           "radialaxis": {
            "gridcolor": "white",
            "linecolor": "white",
            "ticks": ""
           }
          },
          "scene": {
           "xaxis": {
            "backgroundcolor": "#E5ECF6",
            "gridcolor": "white",
            "gridwidth": 2,
            "linecolor": "white",
            "showbackground": true,
            "ticks": "",
            "zerolinecolor": "white"
           },
           "yaxis": {
            "backgroundcolor": "#E5ECF6",
            "gridcolor": "white",
            "gridwidth": 2,
            "linecolor": "white",
            "showbackground": true,
            "ticks": "",
            "zerolinecolor": "white"
           },
           "zaxis": {
            "backgroundcolor": "#E5ECF6",
            "gridcolor": "white",
            "gridwidth": 2,
            "linecolor": "white",
            "showbackground": true,
            "ticks": "",
            "zerolinecolor": "white"
           }
          },
          "shapedefaults": {
           "line": {
            "color": "#2a3f5f"
           }
          },
          "ternary": {
           "aaxis": {
            "gridcolor": "white",
            "linecolor": "white",
            "ticks": ""
           },
           "baxis": {
            "gridcolor": "white",
            "linecolor": "white",
            "ticks": ""
           },
           "bgcolor": "#E5ECF6",
           "caxis": {
            "gridcolor": "white",
            "linecolor": "white",
            "ticks": ""
           }
          },
          "title": {
           "x": 0.05
          },
          "xaxis": {
           "automargin": true,
           "gridcolor": "white",
           "linecolor": "white",
           "ticks": "",
           "title": {
            "standoff": 15
           },
           "zerolinecolor": "white",
           "zerolinewidth": 2
          },
          "yaxis": {
           "automargin": true,
           "gridcolor": "white",
           "linecolor": "white",
           "ticks": "",
           "title": {
            "standoff": 15
           },
           "zerolinecolor": "white",
           "zerolinewidth": 2
          }
         }
        },
        "xaxis": {
         "anchor": "y",
         "domain": [
          0,
          1
         ],
         "title": {
          "text": "speed"
         }
        },
        "yaxis": {
         "anchor": "x",
         "domain": [
          0,
          1
         ],
         "title": {
          "text": "alt"
         }
        }
       }
      }
     },
     "metadata": {},
     "output_type": "display_data"
    }
   ],
   "source": [
    "'''\n",
    "Exemple de graph très rapidement sortable avec plotly\n",
    "On peut cliquer sur la légende à droite pour afficher/cacher des objets\n",
    "'''\n",
    "fig = px.scatter(\n",
    "    data_frame=filtered_df,\n",
    "    y='alt',\n",
    "    x='speed',\n",
    "    color='Date'\n",
    ")\n",
    "fig.show()"
   ]
  },
  {
   "cell_type": "markdown",
   "metadata": {},
   "source": [
    "## Nombre avion par date"
   ]
  },
  {
   "cell_type": "code",
   "execution_count": null,
   "metadata": {},
   "outputs": [
    {
     "data": {
      "application/vnd.plotly.v1+json": {
       "config": {
        "plotlyServerURL": "https://plot.ly"
       },
       "data": [
        {
         "alignmentgroup": "True",
         "hovertemplate": "index=%{x}<br>Nombre=%{y}<extra></extra>",
         "legendgroup": "",
         "marker": {
          "color": "#636efa",
          "pattern": {
           "shape": ""
          }
         },
         "name": "",
         "offsetgroup": "",
         "orientation": "v",
         "showlegend": false,
         "textposition": "auto",
         "type": "bar",
         "x": [
          "023-10-06_18-15-49",
          "023-10-06_18-18-51",
          "023-10-20_09-45-52"
         ],
         "xaxis": "x",
         "y": [
          31,
          31,
          3
         ],
         "yaxis": "y"
        }
       ],
       "layout": {
        "barmode": "relative",
        "legend": {
         "tracegroupgap": 0
        },
        "margin": {
         "t": 60
        },
        "template": {
         "data": {
          "bar": [
           {
            "error_x": {
             "color": "#2a3f5f"
            },
            "error_y": {
             "color": "#2a3f5f"
            },
            "marker": {
             "line": {
              "color": "#E5ECF6",
              "width": 0.5
             },
             "pattern": {
              "fillmode": "overlay",
              "size": 10,
              "solidity": 0.2
             }
            },
            "type": "bar"
           }
          ],
          "barpolar": [
           {
            "marker": {
             "line": {
              "color": "#E5ECF6",
              "width": 0.5
             },
             "pattern": {
              "fillmode": "overlay",
              "size": 10,
              "solidity": 0.2
             }
            },
            "type": "barpolar"
           }
          ],
          "carpet": [
           {
            "aaxis": {
             "endlinecolor": "#2a3f5f",
             "gridcolor": "white",
             "linecolor": "white",
             "minorgridcolor": "white",
             "startlinecolor": "#2a3f5f"
            },
            "baxis": {
             "endlinecolor": "#2a3f5f",
             "gridcolor": "white",
             "linecolor": "white",
             "minorgridcolor": "white",
             "startlinecolor": "#2a3f5f"
            },
            "type": "carpet"
           }
          ],
          "choropleth": [
           {
            "colorbar": {
             "outlinewidth": 0,
             "ticks": ""
            },
            "type": "choropleth"
           }
          ],
          "contour": [
           {
            "colorbar": {
             "outlinewidth": 0,
             "ticks": ""
            },
            "colorscale": [
             [
              0,
              "#0d0887"
             ],
             [
              0.1111111111111111,
              "#46039f"
             ],
             [
              0.2222222222222222,
              "#7201a8"
             ],
             [
              0.3333333333333333,
              "#9c179e"
             ],
             [
              0.4444444444444444,
              "#bd3786"
             ],
             [
              0.5555555555555556,
              "#d8576b"
             ],
             [
              0.6666666666666666,
              "#ed7953"
             ],
             [
              0.7777777777777778,
              "#fb9f3a"
             ],
             [
              0.8888888888888888,
              "#fdca26"
             ],
             [
              1,
              "#f0f921"
             ]
            ],
            "type": "contour"
           }
          ],
          "contourcarpet": [
           {
            "colorbar": {
             "outlinewidth": 0,
             "ticks": ""
            },
            "type": "contourcarpet"
           }
          ],
          "heatmap": [
           {
            "colorbar": {
             "outlinewidth": 0,
             "ticks": ""
            },
            "colorscale": [
             [
              0,
              "#0d0887"
             ],
             [
              0.1111111111111111,
              "#46039f"
             ],
             [
              0.2222222222222222,
              "#7201a8"
             ],
             [
              0.3333333333333333,
              "#9c179e"
             ],
             [
              0.4444444444444444,
              "#bd3786"
             ],
             [
              0.5555555555555556,
              "#d8576b"
             ],
             [
              0.6666666666666666,
              "#ed7953"
             ],
             [
              0.7777777777777778,
              "#fb9f3a"
             ],
             [
              0.8888888888888888,
              "#fdca26"
             ],
             [
              1,
              "#f0f921"
             ]
            ],
            "type": "heatmap"
           }
          ],
          "heatmapgl": [
           {
            "colorbar": {
             "outlinewidth": 0,
             "ticks": ""
            },
            "colorscale": [
             [
              0,
              "#0d0887"
             ],
             [
              0.1111111111111111,
              "#46039f"
             ],
             [
              0.2222222222222222,
              "#7201a8"
             ],
             [
              0.3333333333333333,
              "#9c179e"
             ],
             [
              0.4444444444444444,
              "#bd3786"
             ],
             [
              0.5555555555555556,
              "#d8576b"
             ],
             [
              0.6666666666666666,
              "#ed7953"
             ],
             [
              0.7777777777777778,
              "#fb9f3a"
             ],
             [
              0.8888888888888888,
              "#fdca26"
             ],
             [
              1,
              "#f0f921"
             ]
            ],
            "type": "heatmapgl"
           }
          ],
          "histogram": [
           {
            "marker": {
             "pattern": {
              "fillmode": "overlay",
              "size": 10,
              "solidity": 0.2
             }
            },
            "type": "histogram"
           }
          ],
          "histogram2d": [
           {
            "colorbar": {
             "outlinewidth": 0,
             "ticks": ""
            },
            "colorscale": [
             [
              0,
              "#0d0887"
             ],
             [
              0.1111111111111111,
              "#46039f"
             ],
             [
              0.2222222222222222,
              "#7201a8"
             ],
             [
              0.3333333333333333,
              "#9c179e"
             ],
             [
              0.4444444444444444,
              "#bd3786"
             ],
             [
              0.5555555555555556,
              "#d8576b"
             ],
             [
              0.6666666666666666,
              "#ed7953"
             ],
             [
              0.7777777777777778,
              "#fb9f3a"
             ],
             [
              0.8888888888888888,
              "#fdca26"
             ],
             [
              1,
              "#f0f921"
             ]
            ],
            "type": "histogram2d"
           }
          ],
          "histogram2dcontour": [
           {
            "colorbar": {
             "outlinewidth": 0,
             "ticks": ""
            },
            "colorscale": [
             [
              0,
              "#0d0887"
             ],
             [
              0.1111111111111111,
              "#46039f"
             ],
             [
              0.2222222222222222,
              "#7201a8"
             ],
             [
              0.3333333333333333,
              "#9c179e"
             ],
             [
              0.4444444444444444,
              "#bd3786"
             ],
             [
              0.5555555555555556,
              "#d8576b"
             ],
             [
              0.6666666666666666,
              "#ed7953"
             ],
             [
              0.7777777777777778,
              "#fb9f3a"
             ],
             [
              0.8888888888888888,
              "#fdca26"
             ],
             [
              1,
              "#f0f921"
             ]
            ],
            "type": "histogram2dcontour"
           }
          ],
          "mesh3d": [
           {
            "colorbar": {
             "outlinewidth": 0,
             "ticks": ""
            },
            "type": "mesh3d"
           }
          ],
          "parcoords": [
           {
            "line": {
             "colorbar": {
              "outlinewidth": 0,
              "ticks": ""
             }
            },
            "type": "parcoords"
           }
          ],
          "pie": [
           {
            "automargin": true,
            "type": "pie"
           }
          ],
          "scatter": [
           {
            "fillpattern": {
             "fillmode": "overlay",
             "size": 10,
             "solidity": 0.2
            },
            "type": "scatter"
           }
          ],
          "scatter3d": [
           {
            "line": {
             "colorbar": {
              "outlinewidth": 0,
              "ticks": ""
             }
            },
            "marker": {
             "colorbar": {
              "outlinewidth": 0,
              "ticks": ""
             }
            },
            "type": "scatter3d"
           }
          ],
          "scattercarpet": [
           {
            "marker": {
             "colorbar": {
              "outlinewidth": 0,
              "ticks": ""
             }
            },
            "type": "scattercarpet"
           }
          ],
          "scattergeo": [
           {
            "marker": {
             "colorbar": {
              "outlinewidth": 0,
              "ticks": ""
             }
            },
            "type": "scattergeo"
           }
          ],
          "scattergl": [
           {
            "marker": {
             "colorbar": {
              "outlinewidth": 0,
              "ticks": ""
             }
            },
            "type": "scattergl"
           }
          ],
          "scattermapbox": [
           {
            "marker": {
             "colorbar": {
              "outlinewidth": 0,
              "ticks": ""
             }
            },
            "type": "scattermapbox"
           }
          ],
          "scatterpolar": [
           {
            "marker": {
             "colorbar": {
              "outlinewidth": 0,
              "ticks": ""
             }
            },
            "type": "scatterpolar"
           }
          ],
          "scatterpolargl": [
           {
            "marker": {
             "colorbar": {
              "outlinewidth": 0,
              "ticks": ""
             }
            },
            "type": "scatterpolargl"
           }
          ],
          "scatterternary": [
           {
            "marker": {
             "colorbar": {
              "outlinewidth": 0,
              "ticks": ""
             }
            },
            "type": "scatterternary"
           }
          ],
          "surface": [
           {
            "colorbar": {
             "outlinewidth": 0,
             "ticks": ""
            },
            "colorscale": [
             [
              0,
              "#0d0887"
             ],
             [
              0.1111111111111111,
              "#46039f"
             ],
             [
              0.2222222222222222,
              "#7201a8"
             ],
             [
              0.3333333333333333,
              "#9c179e"
             ],
             [
              0.4444444444444444,
              "#bd3786"
             ],
             [
              0.5555555555555556,
              "#d8576b"
             ],
             [
              0.6666666666666666,
              "#ed7953"
             ],
             [
              0.7777777777777778,
              "#fb9f3a"
             ],
             [
              0.8888888888888888,
              "#fdca26"
             ],
             [
              1,
              "#f0f921"
             ]
            ],
            "type": "surface"
           }
          ],
          "table": [
           {
            "cells": {
             "fill": {
              "color": "#EBF0F8"
             },
             "line": {
              "color": "white"
             }
            },
            "header": {
             "fill": {
              "color": "#C8D4E3"
             },
             "line": {
              "color": "white"
             }
            },
            "type": "table"
           }
          ]
         },
         "layout": {
          "annotationdefaults": {
           "arrowcolor": "#2a3f5f",
           "arrowhead": 0,
           "arrowwidth": 1
          },
          "autotypenumbers": "strict",
          "coloraxis": {
           "colorbar": {
            "outlinewidth": 0,
            "ticks": ""
           }
          },
          "colorscale": {
           "diverging": [
            [
             0,
             "#8e0152"
            ],
            [
             0.1,
             "#c51b7d"
            ],
            [
             0.2,
             "#de77ae"
            ],
            [
             0.3,
             "#f1b6da"
            ],
            [
             0.4,
             "#fde0ef"
            ],
            [
             0.5,
             "#f7f7f7"
            ],
            [
             0.6,
             "#e6f5d0"
            ],
            [
             0.7,
             "#b8e186"
            ],
            [
             0.8,
             "#7fbc41"
            ],
            [
             0.9,
             "#4d9221"
            ],
            [
             1,
             "#276419"
            ]
           ],
           "sequential": [
            [
             0,
             "#0d0887"
            ],
            [
             0.1111111111111111,
             "#46039f"
            ],
            [
             0.2222222222222222,
             "#7201a8"
            ],
            [
             0.3333333333333333,
             "#9c179e"
            ],
            [
             0.4444444444444444,
             "#bd3786"
            ],
            [
             0.5555555555555556,
             "#d8576b"
            ],
            [
             0.6666666666666666,
             "#ed7953"
            ],
            [
             0.7777777777777778,
             "#fb9f3a"
            ],
            [
             0.8888888888888888,
             "#fdca26"
            ],
            [
             1,
             "#f0f921"
            ]
           ],
           "sequentialminus": [
            [
             0,
             "#0d0887"
            ],
            [
             0.1111111111111111,
             "#46039f"
            ],
            [
             0.2222222222222222,
             "#7201a8"
            ],
            [
             0.3333333333333333,
             "#9c179e"
            ],
            [
             0.4444444444444444,
             "#bd3786"
            ],
            [
             0.5555555555555556,
             "#d8576b"
            ],
            [
             0.6666666666666666,
             "#ed7953"
            ],
            [
             0.7777777777777778,
             "#fb9f3a"
            ],
            [
             0.8888888888888888,
             "#fdca26"
            ],
            [
             1,
             "#f0f921"
            ]
           ]
          },
          "colorway": [
           "#636efa",
           "#EF553B",
           "#00cc96",
           "#ab63fa",
           "#FFA15A",
           "#19d3f3",
           "#FF6692",
           "#B6E880",
           "#FF97FF",
           "#FECB52"
          ],
          "font": {
           "color": "#2a3f5f"
          },
          "geo": {
           "bgcolor": "white",
           "lakecolor": "white",
           "landcolor": "#E5ECF6",
           "showlakes": true,
           "showland": true,
           "subunitcolor": "white"
          },
          "hoverlabel": {
           "align": "left"
          },
          "hovermode": "closest",
          "mapbox": {
           "style": "light"
          },
          "paper_bgcolor": "white",
          "plot_bgcolor": "#E5ECF6",
          "polar": {
           "angularaxis": {
            "gridcolor": "white",
            "linecolor": "white",
            "ticks": ""
           },
           "bgcolor": "#E5ECF6",
           "radialaxis": {
            "gridcolor": "white",
            "linecolor": "white",
            "ticks": ""
           }
          },
          "scene": {
           "xaxis": {
            "backgroundcolor": "#E5ECF6",
            "gridcolor": "white",
            "gridwidth": 2,
            "linecolor": "white",
            "showbackground": true,
            "ticks": "",
            "zerolinecolor": "white"
           },
           "yaxis": {
            "backgroundcolor": "#E5ECF6",
            "gridcolor": "white",
            "gridwidth": 2,
            "linecolor": "white",
            "showbackground": true,
            "ticks": "",
            "zerolinecolor": "white"
           },
           "zaxis": {
            "backgroundcolor": "#E5ECF6",
            "gridcolor": "white",
            "gridwidth": 2,
            "linecolor": "white",
            "showbackground": true,
            "ticks": "",
            "zerolinecolor": "white"
           }
          },
          "shapedefaults": {
           "line": {
            "color": "#2a3f5f"
           }
          },
          "ternary": {
           "aaxis": {
            "gridcolor": "white",
            "linecolor": "white",
            "ticks": ""
           },
           "baxis": {
            "gridcolor": "white",
            "linecolor": "white",
            "ticks": ""
           },
           "bgcolor": "#E5ECF6",
           "caxis": {
            "gridcolor": "white",
            "linecolor": "white",
            "ticks": ""
           }
          },
          "title": {
           "x": 0.05
          },
          "xaxis": {
           "automargin": true,
           "gridcolor": "white",
           "linecolor": "white",
           "ticks": "",
           "title": {
            "standoff": 15
           },
           "zerolinecolor": "white",
           "zerolinewidth": 2
          },
          "yaxis": {
           "automargin": true,
           "gridcolor": "white",
           "linecolor": "white",
           "ticks": "",
           "title": {
            "standoff": 15
           },
           "zerolinecolor": "white",
           "zerolinewidth": 2
          }
         }
        },
        "xaxis": {
         "anchor": "y",
         "domain": [
          0,
          1
         ],
         "title": {
          "text": "index"
         }
        },
        "yaxis": {
         "anchor": "x",
         "domain": [
          0,
          1
         ],
         "title": {
          "text": "Nombre"
         }
        }
       }
      }
     },
     "metadata": {},
     "output_type": "display_data"
    }
   ],
   "source": [
    "'''\n",
    "comptage du nombre d'avions par date\n",
    "'''\n",
    "dff=pd.DataFrame(index=filtered_df['Date'].unique(), columns=['Nombre'])\n",
    "for i in filtered_df['Date'].unique():\n",
    "    dff.loc[i, 'Nombre']=filtered_df['Date'].where(filtered_df['Date']==i).count()\n",
    "\n",
    "'''\n",
    "affichage avec px.\n",
    "'''\n",
    "fig = px.bar(\n",
    "    data_frame=dff,\n",
    "    y='Nombre',\n",
    "    x=dff.index,\n",
    "    # color='Date'\n",
    ")\n",
    "fig.show()\n",
    "\n",
    "# fig.write_html(r'C:\\Users\\e.NOVA Aerospace\\Documents\\PYTHON\\flight_track\\output\\nb_avion.html')\n",
    "fig.write_html(os.path.join(output_folder,f'nb_avion.html'))"
   ]
  },
  {
   "cell_type": "code",
   "execution_count": null,
   "metadata": {},
   "outputs": [
    {
     "data": {
      "text/plain": [
       "Index(['hex', 'reg_number', 'flag', 'lat', 'lng', 'alt', 'dir', 'speed',\n",
       "       'v_speed', 'squawk', 'flight_number', 'flight_icao', 'flight_iata',\n",
       "       'dep_icao', 'dep_iata', 'arr_icao', 'arr_iata', 'airline_icao',\n",
       "       'airline_iata', 'aircraft_icao', 'updated', 'status', 'Date',\n",
       "       'distance'],\n",
       "      dtype='object')"
      ]
     },
     "execution_count": 14,
     "metadata": {},
     "output_type": "execute_result"
    }
   ],
   "source": [
    "filtered_df.columns"
   ]
  },
  {
   "cell_type": "code",
   "execution_count": null,
   "metadata": {},
   "outputs": [
    {
     "data": {
      "application/vnd.plotly.v1+json": {
       "config": {
        "plotlyServerURL": "https://plot.ly"
       },
       "data": [
        {
         "alignmentgroup": "True",
         "hovertemplate": "index=%{x}<br>Nombre=%{y}<extra></extra>",
         "legendgroup": "",
         "marker": {
          "color": "#636efa",
          "pattern": {
           "shape": ""
          }
         },
         "name": "",
         "offsetgroup": "",
         "orientation": "v",
         "showlegend": false,
         "textposition": "auto",
         "type": "bar",
         "x": [
          "JFK",
          "YYZ",
          "IAD",
          "ATL",
          "NAS",
          "AUS",
          "ORD",
          "EWR",
          "MSP",
          "DFW",
          "DTW",
          "YYT",
          "YUL",
          "YHZ",
          "LHR"
         ],
         "xaxis": "x",
         "y": [
          7,
          8,
          12,
          6,
          2,
          2,
          4,
          8,
          2,
          2,
          3,
          2,
          4,
          2,
          1
         ],
         "yaxis": "y"
        }
       ],
       "layout": {
        "barmode": "relative",
        "legend": {
         "tracegroupgap": 0
        },
        "margin": {
         "t": 60
        },
        "template": {
         "data": {
          "bar": [
           {
            "error_x": {
             "color": "#2a3f5f"
            },
            "error_y": {
             "color": "#2a3f5f"
            },
            "marker": {
             "line": {
              "color": "#E5ECF6",
              "width": 0.5
             },
             "pattern": {
              "fillmode": "overlay",
              "size": 10,
              "solidity": 0.2
             }
            },
            "type": "bar"
           }
          ],
          "barpolar": [
           {
            "marker": {
             "line": {
              "color": "#E5ECF6",
              "width": 0.5
             },
             "pattern": {
              "fillmode": "overlay",
              "size": 10,
              "solidity": 0.2
             }
            },
            "type": "barpolar"
           }
          ],
          "carpet": [
           {
            "aaxis": {
             "endlinecolor": "#2a3f5f",
             "gridcolor": "white",
             "linecolor": "white",
             "minorgridcolor": "white",
             "startlinecolor": "#2a3f5f"
            },
            "baxis": {
             "endlinecolor": "#2a3f5f",
             "gridcolor": "white",
             "linecolor": "white",
             "minorgridcolor": "white",
             "startlinecolor": "#2a3f5f"
            },
            "type": "carpet"
           }
          ],
          "choropleth": [
           {
            "colorbar": {
             "outlinewidth": 0,
             "ticks": ""
            },
            "type": "choropleth"
           }
          ],
          "contour": [
           {
            "colorbar": {
             "outlinewidth": 0,
             "ticks": ""
            },
            "colorscale": [
             [
              0,
              "#0d0887"
             ],
             [
              0.1111111111111111,
              "#46039f"
             ],
             [
              0.2222222222222222,
              "#7201a8"
             ],
             [
              0.3333333333333333,
              "#9c179e"
             ],
             [
              0.4444444444444444,
              "#bd3786"
             ],
             [
              0.5555555555555556,
              "#d8576b"
             ],
             [
              0.6666666666666666,
              "#ed7953"
             ],
             [
              0.7777777777777778,
              "#fb9f3a"
             ],
             [
              0.8888888888888888,
              "#fdca26"
             ],
             [
              1,
              "#f0f921"
             ]
            ],
            "type": "contour"
           }
          ],
          "contourcarpet": [
           {
            "colorbar": {
             "outlinewidth": 0,
             "ticks": ""
            },
            "type": "contourcarpet"
           }
          ],
          "heatmap": [
           {
            "colorbar": {
             "outlinewidth": 0,
             "ticks": ""
            },
            "colorscale": [
             [
              0,
              "#0d0887"
             ],
             [
              0.1111111111111111,
              "#46039f"
             ],
             [
              0.2222222222222222,
              "#7201a8"
             ],
             [
              0.3333333333333333,
              "#9c179e"
             ],
             [
              0.4444444444444444,
              "#bd3786"
             ],
             [
              0.5555555555555556,
              "#d8576b"
             ],
             [
              0.6666666666666666,
              "#ed7953"
             ],
             [
              0.7777777777777778,
              "#fb9f3a"
             ],
             [
              0.8888888888888888,
              "#fdca26"
             ],
             [
              1,
              "#f0f921"
             ]
            ],
            "type": "heatmap"
           }
          ],
          "heatmapgl": [
           {
            "colorbar": {
             "outlinewidth": 0,
             "ticks": ""
            },
            "colorscale": [
             [
              0,
              "#0d0887"
             ],
             [
              0.1111111111111111,
              "#46039f"
             ],
             [
              0.2222222222222222,
              "#7201a8"
             ],
             [
              0.3333333333333333,
              "#9c179e"
             ],
             [
              0.4444444444444444,
              "#bd3786"
             ],
             [
              0.5555555555555556,
              "#d8576b"
             ],
             [
              0.6666666666666666,
              "#ed7953"
             ],
             [
              0.7777777777777778,
              "#fb9f3a"
             ],
             [
              0.8888888888888888,
              "#fdca26"
             ],
             [
              1,
              "#f0f921"
             ]
            ],
            "type": "heatmapgl"
           }
          ],
          "histogram": [
           {
            "marker": {
             "pattern": {
              "fillmode": "overlay",
              "size": 10,
              "solidity": 0.2
             }
            },
            "type": "histogram"
           }
          ],
          "histogram2d": [
           {
            "colorbar": {
             "outlinewidth": 0,
             "ticks": ""
            },
            "colorscale": [
             [
              0,
              "#0d0887"
             ],
             [
              0.1111111111111111,
              "#46039f"
             ],
             [
              0.2222222222222222,
              "#7201a8"
             ],
             [
              0.3333333333333333,
              "#9c179e"
             ],
             [
              0.4444444444444444,
              "#bd3786"
             ],
             [
              0.5555555555555556,
              "#d8576b"
             ],
             [
              0.6666666666666666,
              "#ed7953"
             ],
             [
              0.7777777777777778,
              "#fb9f3a"
             ],
             [
              0.8888888888888888,
              "#fdca26"
             ],
             [
              1,
              "#f0f921"
             ]
            ],
            "type": "histogram2d"
           }
          ],
          "histogram2dcontour": [
           {
            "colorbar": {
             "outlinewidth": 0,
             "ticks": ""
            },
            "colorscale": [
             [
              0,
              "#0d0887"
             ],
             [
              0.1111111111111111,
              "#46039f"
             ],
             [
              0.2222222222222222,
              "#7201a8"
             ],
             [
              0.3333333333333333,
              "#9c179e"
             ],
             [
              0.4444444444444444,
              "#bd3786"
             ],
             [
              0.5555555555555556,
              "#d8576b"
             ],
             [
              0.6666666666666666,
              "#ed7953"
             ],
             [
              0.7777777777777778,
              "#fb9f3a"
             ],
             [
              0.8888888888888888,
              "#fdca26"
             ],
             [
              1,
              "#f0f921"
             ]
            ],
            "type": "histogram2dcontour"
           }
          ],
          "mesh3d": [
           {
            "colorbar": {
             "outlinewidth": 0,
             "ticks": ""
            },
            "type": "mesh3d"
           }
          ],
          "parcoords": [
           {
            "line": {
             "colorbar": {
              "outlinewidth": 0,
              "ticks": ""
             }
            },
            "type": "parcoords"
           }
          ],
          "pie": [
           {
            "automargin": true,
            "type": "pie"
           }
          ],
          "scatter": [
           {
            "fillpattern": {
             "fillmode": "overlay",
             "size": 10,
             "solidity": 0.2
            },
            "type": "scatter"
           }
          ],
          "scatter3d": [
           {
            "line": {
             "colorbar": {
              "outlinewidth": 0,
              "ticks": ""
             }
            },
            "marker": {
             "colorbar": {
              "outlinewidth": 0,
              "ticks": ""
             }
            },
            "type": "scatter3d"
           }
          ],
          "scattercarpet": [
           {
            "marker": {
             "colorbar": {
              "outlinewidth": 0,
              "ticks": ""
             }
            },
            "type": "scattercarpet"
           }
          ],
          "scattergeo": [
           {
            "marker": {
             "colorbar": {
              "outlinewidth": 0,
              "ticks": ""
             }
            },
            "type": "scattergeo"
           }
          ],
          "scattergl": [
           {
            "marker": {
             "colorbar": {
              "outlinewidth": 0,
              "ticks": ""
             }
            },
            "type": "scattergl"
           }
          ],
          "scattermapbox": [
           {
            "marker": {
             "colorbar": {
              "outlinewidth": 0,
              "ticks": ""
             }
            },
            "type": "scattermapbox"
           }
          ],
          "scatterpolar": [
           {
            "marker": {
             "colorbar": {
              "outlinewidth": 0,
              "ticks": ""
             }
            },
            "type": "scatterpolar"
           }
          ],
          "scatterpolargl": [
           {
            "marker": {
             "colorbar": {
              "outlinewidth": 0,
              "ticks": ""
             }
            },
            "type": "scatterpolargl"
           }
          ],
          "scatterternary": [
           {
            "marker": {
             "colorbar": {
              "outlinewidth": 0,
              "ticks": ""
             }
            },
            "type": "scatterternary"
           }
          ],
          "surface": [
           {
            "colorbar": {
             "outlinewidth": 0,
             "ticks": ""
            },
            "colorscale": [
             [
              0,
              "#0d0887"
             ],
             [
              0.1111111111111111,
              "#46039f"
             ],
             [
              0.2222222222222222,
              "#7201a8"
             ],
             [
              0.3333333333333333,
              "#9c179e"
             ],
             [
              0.4444444444444444,
              "#bd3786"
             ],
             [
              0.5555555555555556,
              "#d8576b"
             ],
             [
              0.6666666666666666,
              "#ed7953"
             ],
             [
              0.7777777777777778,
              "#fb9f3a"
             ],
             [
              0.8888888888888888,
              "#fdca26"
             ],
             [
              1,
              "#f0f921"
             ]
            ],
            "type": "surface"
           }
          ],
          "table": [
           {
            "cells": {
             "fill": {
              "color": "#EBF0F8"
             },
             "line": {
              "color": "white"
             }
            },
            "header": {
             "fill": {
              "color": "#C8D4E3"
             },
             "line": {
              "color": "white"
             }
            },
            "type": "table"
           }
          ]
         },
         "layout": {
          "annotationdefaults": {
           "arrowcolor": "#2a3f5f",
           "arrowhead": 0,
           "arrowwidth": 1
          },
          "autotypenumbers": "strict",
          "coloraxis": {
           "colorbar": {
            "outlinewidth": 0,
            "ticks": ""
           }
          },
          "colorscale": {
           "diverging": [
            [
             0,
             "#8e0152"
            ],
            [
             0.1,
             "#c51b7d"
            ],
            [
             0.2,
             "#de77ae"
            ],
            [
             0.3,
             "#f1b6da"
            ],
            [
             0.4,
             "#fde0ef"
            ],
            [
             0.5,
             "#f7f7f7"
            ],
            [
             0.6,
             "#e6f5d0"
            ],
            [
             0.7,
             "#b8e186"
            ],
            [
             0.8,
             "#7fbc41"
            ],
            [
             0.9,
             "#4d9221"
            ],
            [
             1,
             "#276419"
            ]
           ],
           "sequential": [
            [
             0,
             "#0d0887"
            ],
            [
             0.1111111111111111,
             "#46039f"
            ],
            [
             0.2222222222222222,
             "#7201a8"
            ],
            [
             0.3333333333333333,
             "#9c179e"
            ],
            [
             0.4444444444444444,
             "#bd3786"
            ],
            [
             0.5555555555555556,
             "#d8576b"
            ],
            [
             0.6666666666666666,
             "#ed7953"
            ],
            [
             0.7777777777777778,
             "#fb9f3a"
            ],
            [
             0.8888888888888888,
             "#fdca26"
            ],
            [
             1,
             "#f0f921"
            ]
           ],
           "sequentialminus": [
            [
             0,
             "#0d0887"
            ],
            [
             0.1111111111111111,
             "#46039f"
            ],
            [
             0.2222222222222222,
             "#7201a8"
            ],
            [
             0.3333333333333333,
             "#9c179e"
            ],
            [
             0.4444444444444444,
             "#bd3786"
            ],
            [
             0.5555555555555556,
             "#d8576b"
            ],
            [
             0.6666666666666666,
             "#ed7953"
            ],
            [
             0.7777777777777778,
             "#fb9f3a"
            ],
            [
             0.8888888888888888,
             "#fdca26"
            ],
            [
             1,
             "#f0f921"
            ]
           ]
          },
          "colorway": [
           "#636efa",
           "#EF553B",
           "#00cc96",
           "#ab63fa",
           "#FFA15A",
           "#19d3f3",
           "#FF6692",
           "#B6E880",
           "#FF97FF",
           "#FECB52"
          ],
          "font": {
           "color": "#2a3f5f"
          },
          "geo": {
           "bgcolor": "white",
           "lakecolor": "white",
           "landcolor": "#E5ECF6",
           "showlakes": true,
           "showland": true,
           "subunitcolor": "white"
          },
          "hoverlabel": {
           "align": "left"
          },
          "hovermode": "closest",
          "mapbox": {
           "style": "light"
          },
          "paper_bgcolor": "white",
          "plot_bgcolor": "#E5ECF6",
          "polar": {
           "angularaxis": {
            "gridcolor": "white",
            "linecolor": "white",
            "ticks": ""
           },
           "bgcolor": "#E5ECF6",
           "radialaxis": {
            "gridcolor": "white",
            "linecolor": "white",
            "ticks": ""
           }
          },
          "scene": {
           "xaxis": {
            "backgroundcolor": "#E5ECF6",
            "gridcolor": "white",
            "gridwidth": 2,
            "linecolor": "white",
            "showbackground": true,
            "ticks": "",
            "zerolinecolor": "white"
           },
           "yaxis": {
            "backgroundcolor": "#E5ECF6",
            "gridcolor": "white",
            "gridwidth": 2,
            "linecolor": "white",
            "showbackground": true,
            "ticks": "",
            "zerolinecolor": "white"
           },
           "zaxis": {
            "backgroundcolor": "#E5ECF6",
            "gridcolor": "white",
            "gridwidth": 2,
            "linecolor": "white",
            "showbackground": true,
            "ticks": "",
            "zerolinecolor": "white"
           }
          },
          "shapedefaults": {
           "line": {
            "color": "#2a3f5f"
           }
          },
          "ternary": {
           "aaxis": {
            "gridcolor": "white",
            "linecolor": "white",
            "ticks": ""
           },
           "baxis": {
            "gridcolor": "white",
            "linecolor": "white",
            "ticks": ""
           },
           "bgcolor": "#E5ECF6",
           "caxis": {
            "gridcolor": "white",
            "linecolor": "white",
            "ticks": ""
           }
          },
          "title": {
           "x": 0.05
          },
          "xaxis": {
           "automargin": true,
           "gridcolor": "white",
           "linecolor": "white",
           "ticks": "",
           "title": {
            "standoff": 15
           },
           "zerolinecolor": "white",
           "zerolinewidth": 2
          },
          "yaxis": {
           "automargin": true,
           "gridcolor": "white",
           "linecolor": "white",
           "ticks": "",
           "title": {
            "standoff": 15
           },
           "zerolinecolor": "white",
           "zerolinewidth": 2
          }
         }
        },
        "xaxis": {
         "anchor": "y",
         "domain": [
          0,
          1
         ],
         "title": {
          "text": "index"
         }
        },
        "yaxis": {
         "anchor": "x",
         "domain": [
          0,
          1
         ],
         "title": {
          "text": "Nombre"
         }
        }
       }
      }
     },
     "metadata": {},
     "output_type": "display_data"
    }
   ],
   "source": [
    "df_airline=pd.DataFrame(index=filtered_df['arr_iata'].unique(), columns=['Nombre'])\n",
    "for i in filtered_df['arr_iata'].unique():\n",
    "    df_airline.loc[i, 'Nombre']=filtered_df['arr_iata'].where(filtered_df['arr_iata']==i).count()\n",
    "\n",
    "'''\n",
    "Exemple de graph très rapidement sortable avec plotly\n",
    "On peut cliquer sur la légende à droite pour afficher/cacher des objets\n",
    "'''\n",
    "fig = px.bar(\n",
    "    data_frame=df_airline,\n",
    "    y='Nombre',\n",
    "    x=df_airline.index,\n",
    "    # color=df_airline.index\n",
    ")\n",
    "fig.show()"
   ]
  },
  {
   "cell_type": "code",
   "execution_count": null,
   "metadata": {},
   "outputs": [
    {
     "data": {
      "application/vnd.plotly.v1+json": {
       "config": {
        "plotlyServerURL": "https://plot.ly"
       },
       "data": [
        {
         "alignmentgroup": "True",
         "hovertemplate": "index=%{x}<br>Nombre=%{y}<extra></extra>",
         "legendgroup": "",
         "marker": {
          "color": "#636efa",
          "pattern": {
           "shape": ""
          }
         },
         "name": "",
         "offsetgroup": "",
         "orientation": "v",
         "showlegend": false,
         "textposition": "auto",
         "type": "bar",
         "x": [
          "A21N",
          "A321",
          "A332",
          "A333",
          "A359",
          "A35K",
          "B752",
          "B763",
          "B764",
          "B772",
          "B77W",
          "B788",
          "B789",
          "B78X",
          "DH8D"
         ],
         "xaxis": "x",
         "y": [
          5,
          2,
          6,
          7,
          2,
          2,
          2,
          5,
          5,
          9,
          6,
          2,
          5,
          4,
          3
         ],
         "yaxis": "y"
        }
       ],
       "layout": {
        "barmode": "relative",
        "legend": {
         "tracegroupgap": 0
        },
        "template": {
         "data": {
          "bar": [
           {
            "error_x": {
             "color": "#2a3f5f"
            },
            "error_y": {
             "color": "#2a3f5f"
            },
            "marker": {
             "line": {
              "color": "#E5ECF6",
              "width": 0.5
             },
             "pattern": {
              "fillmode": "overlay",
              "size": 10,
              "solidity": 0.2
             }
            },
            "type": "bar"
           }
          ],
          "barpolar": [
           {
            "marker": {
             "line": {
              "color": "#E5ECF6",
              "width": 0.5
             },
             "pattern": {
              "fillmode": "overlay",
              "size": 10,
              "solidity": 0.2
             }
            },
            "type": "barpolar"
           }
          ],
          "carpet": [
           {
            "aaxis": {
             "endlinecolor": "#2a3f5f",
             "gridcolor": "white",
             "linecolor": "white",
             "minorgridcolor": "white",
             "startlinecolor": "#2a3f5f"
            },
            "baxis": {
             "endlinecolor": "#2a3f5f",
             "gridcolor": "white",
             "linecolor": "white",
             "minorgridcolor": "white",
             "startlinecolor": "#2a3f5f"
            },
            "type": "carpet"
           }
          ],
          "choropleth": [
           {
            "colorbar": {
             "outlinewidth": 0,
             "ticks": ""
            },
            "type": "choropleth"
           }
          ],
          "contour": [
           {
            "colorbar": {
             "outlinewidth": 0,
             "ticks": ""
            },
            "colorscale": [
             [
              0,
              "#0d0887"
             ],
             [
              0.1111111111111111,
              "#46039f"
             ],
             [
              0.2222222222222222,
              "#7201a8"
             ],
             [
              0.3333333333333333,
              "#9c179e"
             ],
             [
              0.4444444444444444,
              "#bd3786"
             ],
             [
              0.5555555555555556,
              "#d8576b"
             ],
             [
              0.6666666666666666,
              "#ed7953"
             ],
             [
              0.7777777777777778,
              "#fb9f3a"
             ],
             [
              0.8888888888888888,
              "#fdca26"
             ],
             [
              1,
              "#f0f921"
             ]
            ],
            "type": "contour"
           }
          ],
          "contourcarpet": [
           {
            "colorbar": {
             "outlinewidth": 0,
             "ticks": ""
            },
            "type": "contourcarpet"
           }
          ],
          "heatmap": [
           {
            "colorbar": {
             "outlinewidth": 0,
             "ticks": ""
            },
            "colorscale": [
             [
              0,
              "#0d0887"
             ],
             [
              0.1111111111111111,
              "#46039f"
             ],
             [
              0.2222222222222222,
              "#7201a8"
             ],
             [
              0.3333333333333333,
              "#9c179e"
             ],
             [
              0.4444444444444444,
              "#bd3786"
             ],
             [
              0.5555555555555556,
              "#d8576b"
             ],
             [
              0.6666666666666666,
              "#ed7953"
             ],
             [
              0.7777777777777778,
              "#fb9f3a"
             ],
             [
              0.8888888888888888,
              "#fdca26"
             ],
             [
              1,
              "#f0f921"
             ]
            ],
            "type": "heatmap"
           }
          ],
          "heatmapgl": [
           {
            "colorbar": {
             "outlinewidth": 0,
             "ticks": ""
            },
            "colorscale": [
             [
              0,
              "#0d0887"
             ],
             [
              0.1111111111111111,
              "#46039f"
             ],
             [
              0.2222222222222222,
              "#7201a8"
             ],
             [
              0.3333333333333333,
              "#9c179e"
             ],
             [
              0.4444444444444444,
              "#bd3786"
             ],
             [
              0.5555555555555556,
              "#d8576b"
             ],
             [
              0.6666666666666666,
              "#ed7953"
             ],
             [
              0.7777777777777778,
              "#fb9f3a"
             ],
             [
              0.8888888888888888,
              "#fdca26"
             ],
             [
              1,
              "#f0f921"
             ]
            ],
            "type": "heatmapgl"
           }
          ],
          "histogram": [
           {
            "marker": {
             "pattern": {
              "fillmode": "overlay",
              "size": 10,
              "solidity": 0.2
             }
            },
            "type": "histogram"
           }
          ],
          "histogram2d": [
           {
            "colorbar": {
             "outlinewidth": 0,
             "ticks": ""
            },
            "colorscale": [
             [
              0,
              "#0d0887"
             ],
             [
              0.1111111111111111,
              "#46039f"
             ],
             [
              0.2222222222222222,
              "#7201a8"
             ],
             [
              0.3333333333333333,
              "#9c179e"
             ],
             [
              0.4444444444444444,
              "#bd3786"
             ],
             [
              0.5555555555555556,
              "#d8576b"
             ],
             [
              0.6666666666666666,
              "#ed7953"
             ],
             [
              0.7777777777777778,
              "#fb9f3a"
             ],
             [
              0.8888888888888888,
              "#fdca26"
             ],
             [
              1,
              "#f0f921"
             ]
            ],
            "type": "histogram2d"
           }
          ],
          "histogram2dcontour": [
           {
            "colorbar": {
             "outlinewidth": 0,
             "ticks": ""
            },
            "colorscale": [
             [
              0,
              "#0d0887"
             ],
             [
              0.1111111111111111,
              "#46039f"
             ],
             [
              0.2222222222222222,
              "#7201a8"
             ],
             [
              0.3333333333333333,
              "#9c179e"
             ],
             [
              0.4444444444444444,
              "#bd3786"
             ],
             [
              0.5555555555555556,
              "#d8576b"
             ],
             [
              0.6666666666666666,
              "#ed7953"
             ],
             [
              0.7777777777777778,
              "#fb9f3a"
             ],
             [
              0.8888888888888888,
              "#fdca26"
             ],
             [
              1,
              "#f0f921"
             ]
            ],
            "type": "histogram2dcontour"
           }
          ],
          "mesh3d": [
           {
            "colorbar": {
             "outlinewidth": 0,
             "ticks": ""
            },
            "type": "mesh3d"
           }
          ],
          "parcoords": [
           {
            "line": {
             "colorbar": {
              "outlinewidth": 0,
              "ticks": ""
             }
            },
            "type": "parcoords"
           }
          ],
          "pie": [
           {
            "automargin": true,
            "type": "pie"
           }
          ],
          "scatter": [
           {
            "fillpattern": {
             "fillmode": "overlay",
             "size": 10,
             "solidity": 0.2
            },
            "type": "scatter"
           }
          ],
          "scatter3d": [
           {
            "line": {
             "colorbar": {
              "outlinewidth": 0,
              "ticks": ""
             }
            },
            "marker": {
             "colorbar": {
              "outlinewidth": 0,
              "ticks": ""
             }
            },
            "type": "scatter3d"
           }
          ],
          "scattercarpet": [
           {
            "marker": {
             "colorbar": {
              "outlinewidth": 0,
              "ticks": ""
             }
            },
            "type": "scattercarpet"
           }
          ],
          "scattergeo": [
           {
            "marker": {
             "colorbar": {
              "outlinewidth": 0,
              "ticks": ""
             }
            },
            "type": "scattergeo"
           }
          ],
          "scattergl": [
           {
            "marker": {
             "colorbar": {
              "outlinewidth": 0,
              "ticks": ""
             }
            },
            "type": "scattergl"
           }
          ],
          "scattermapbox": [
           {
            "marker": {
             "colorbar": {
              "outlinewidth": 0,
              "ticks": ""
             }
            },
            "type": "scattermapbox"
           }
          ],
          "scatterpolar": [
           {
            "marker": {
             "colorbar": {
              "outlinewidth": 0,
              "ticks": ""
             }
            },
            "type": "scatterpolar"
           }
          ],
          "scatterpolargl": [
           {
            "marker": {
             "colorbar": {
              "outlinewidth": 0,
              "ticks": ""
             }
            },
            "type": "scatterpolargl"
           }
          ],
          "scatterternary": [
           {
            "marker": {
             "colorbar": {
              "outlinewidth": 0,
              "ticks": ""
             }
            },
            "type": "scatterternary"
           }
          ],
          "surface": [
           {
            "colorbar": {
             "outlinewidth": 0,
             "ticks": ""
            },
            "colorscale": [
             [
              0,
              "#0d0887"
             ],
             [
              0.1111111111111111,
              "#46039f"
             ],
             [
              0.2222222222222222,
              "#7201a8"
             ],
             [
              0.3333333333333333,
              "#9c179e"
             ],
             [
              0.4444444444444444,
              "#bd3786"
             ],
             [
              0.5555555555555556,
              "#d8576b"
             ],
             [
              0.6666666666666666,
              "#ed7953"
             ],
             [
              0.7777777777777778,
              "#fb9f3a"
             ],
             [
              0.8888888888888888,
              "#fdca26"
             ],
             [
              1,
              "#f0f921"
             ]
            ],
            "type": "surface"
           }
          ],
          "table": [
           {
            "cells": {
             "fill": {
              "color": "#EBF0F8"
             },
             "line": {
              "color": "white"
             }
            },
            "header": {
             "fill": {
              "color": "#C8D4E3"
             },
             "line": {
              "color": "white"
             }
            },
            "type": "table"
           }
          ]
         },
         "layout": {
          "annotationdefaults": {
           "arrowcolor": "#2a3f5f",
           "arrowhead": 0,
           "arrowwidth": 1
          },
          "autotypenumbers": "strict",
          "coloraxis": {
           "colorbar": {
            "outlinewidth": 0,
            "ticks": ""
           }
          },
          "colorscale": {
           "diverging": [
            [
             0,
             "#8e0152"
            ],
            [
             0.1,
             "#c51b7d"
            ],
            [
             0.2,
             "#de77ae"
            ],
            [
             0.3,
             "#f1b6da"
            ],
            [
             0.4,
             "#fde0ef"
            ],
            [
             0.5,
             "#f7f7f7"
            ],
            [
             0.6,
             "#e6f5d0"
            ],
            [
             0.7,
             "#b8e186"
            ],
            [
             0.8,
             "#7fbc41"
            ],
            [
             0.9,
             "#4d9221"
            ],
            [
             1,
             "#276419"
            ]
           ],
           "sequential": [
            [
             0,
             "#0d0887"
            ],
            [
             0.1111111111111111,
             "#46039f"
            ],
            [
             0.2222222222222222,
             "#7201a8"
            ],
            [
             0.3333333333333333,
             "#9c179e"
            ],
            [
             0.4444444444444444,
             "#bd3786"
            ],
            [
             0.5555555555555556,
             "#d8576b"
            ],
            [
             0.6666666666666666,
             "#ed7953"
            ],
            [
             0.7777777777777778,
             "#fb9f3a"
            ],
            [
             0.8888888888888888,
             "#fdca26"
            ],
            [
             1,
             "#f0f921"
            ]
           ],
           "sequentialminus": [
            [
             0,
             "#0d0887"
            ],
            [
             0.1111111111111111,
             "#46039f"
            ],
            [
             0.2222222222222222,
             "#7201a8"
            ],
            [
             0.3333333333333333,
             "#9c179e"
            ],
            [
             0.4444444444444444,
             "#bd3786"
            ],
            [
             0.5555555555555556,
             "#d8576b"
            ],
            [
             0.6666666666666666,
             "#ed7953"
            ],
            [
             0.7777777777777778,
             "#fb9f3a"
            ],
            [
             0.8888888888888888,
             "#fdca26"
            ],
            [
             1,
             "#f0f921"
            ]
           ]
          },
          "colorway": [
           "#636efa",
           "#EF553B",
           "#00cc96",
           "#ab63fa",
           "#FFA15A",
           "#19d3f3",
           "#FF6692",
           "#B6E880",
           "#FF97FF",
           "#FECB52"
          ],
          "font": {
           "color": "#2a3f5f"
          },
          "geo": {
           "bgcolor": "white",
           "lakecolor": "white",
           "landcolor": "#E5ECF6",
           "showlakes": true,
           "showland": true,
           "subunitcolor": "white"
          },
          "hoverlabel": {
           "align": "left"
          },
          "hovermode": "closest",
          "mapbox": {
           "style": "light"
          },
          "paper_bgcolor": "white",
          "plot_bgcolor": "#E5ECF6",
          "polar": {
           "angularaxis": {
            "gridcolor": "white",
            "linecolor": "white",
            "ticks": ""
           },
           "bgcolor": "#E5ECF6",
           "radialaxis": {
            "gridcolor": "white",
            "linecolor": "white",
            "ticks": ""
           }
          },
          "scene": {
           "xaxis": {
            "backgroundcolor": "#E5ECF6",
            "gridcolor": "white",
            "gridwidth": 2,
            "linecolor": "white",
            "showbackground": true,
            "ticks": "",
            "zerolinecolor": "white"
           },
           "yaxis": {
            "backgroundcolor": "#E5ECF6",
            "gridcolor": "white",
            "gridwidth": 2,
            "linecolor": "white",
            "showbackground": true,
            "ticks": "",
            "zerolinecolor": "white"
           },
           "zaxis": {
            "backgroundcolor": "#E5ECF6",
            "gridcolor": "white",
            "gridwidth": 2,
            "linecolor": "white",
            "showbackground": true,
            "ticks": "",
            "zerolinecolor": "white"
           }
          },
          "shapedefaults": {
           "line": {
            "color": "#2a3f5f"
           }
          },
          "ternary": {
           "aaxis": {
            "gridcolor": "white",
            "linecolor": "white",
            "ticks": ""
           },
           "baxis": {
            "gridcolor": "white",
            "linecolor": "white",
            "ticks": ""
           },
           "bgcolor": "#E5ECF6",
           "caxis": {
            "gridcolor": "white",
            "linecolor": "white",
            "ticks": ""
           }
          },
          "title": {
           "x": 0.05
          },
          "xaxis": {
           "automargin": true,
           "gridcolor": "white",
           "linecolor": "white",
           "ticks": "",
           "title": {
            "standoff": 15
           },
           "zerolinecolor": "white",
           "zerolinewidth": 2
          },
          "yaxis": {
           "automargin": true,
           "gridcolor": "white",
           "linecolor": "white",
           "ticks": "",
           "title": {
            "standoff": 15
           },
           "zerolinecolor": "white",
           "zerolinewidth": 2
          }
         }
        },
        "title": {
         "text": "type d'avion"
        },
        "xaxis": {
         "anchor": "y",
         "domain": [
          0,
          1
         ],
         "title": {
          "text": "index"
         }
        },
        "yaxis": {
         "anchor": "x",
         "domain": [
          0,
          1
         ],
         "title": {
          "text": "Nombre"
         }
        }
       }
      }
     },
     "metadata": {},
     "output_type": "display_data"
    }
   ],
   "source": [
    "df_aircraft=pd.DataFrame(index=filtered_df['aircraft_icao'].unique(), columns=['Nombre'])\n",
    "for i in filtered_df['aircraft_icao'].unique():\n",
    "    df_aircraft.loc[i, 'Nombre']=filtered_df['aircraft_icao'].where(filtered_df['aircraft_icao']==i).count()\n",
    "    df_aircraft=df_aircraft.sort_index()\n",
    "'''\n",
    "Exemple de graph très rapidement sortable avec plotly\n",
    "On peut cliquer sur la légende à droite pour afficher/cacher des objets\n",
    "'''\n",
    "fig = px.bar(\n",
    "    data_frame=df_aircraft,\n",
    "    y='Nombre',\n",
    "    x=df_aircraft.index,\n",
    "    title=\"type d'avion\"\n",
    "\n",
    ")\n",
    "fig.show()"
   ]
  }
 ],
 "metadata": {
  "kernelspec": {
   "display_name": "base",
   "language": "python",
   "name": "python3"
  },
  "language_info": {
   "codemirror_mode": {
    "name": "ipython",
    "version": 3
   },
   "file_extension": ".py",
   "mimetype": "text/x-python",
   "name": "python",
   "nbconvert_exporter": "python",
   "pygments_lexer": "ipython3",
   "version": "3.11.7"
  },
  "orig_nbformat": 4
 },
 "nbformat": 4,
 "nbformat_minor": 2
}
