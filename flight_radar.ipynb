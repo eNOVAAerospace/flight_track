{
 "cells": [
  {
   "cell_type": "code",
   "execution_count": 1,
   "metadata": {},
   "outputs": [],
   "source": [
    "import pandas as pd\n",
    "import os\n",
    "\n",
    "from library.PY_lib.coordinates import *\n",
    "from library.PY_lib.read_excel import *\n",
    "from library.PY_lib.calculate_distance import *\n",
    "from library.PY_lib.user_define import *\n",
    "from library.quad_filter import *\n",
    "from library.PY_lib.flight_scrapper import *\n",
    "from library.PY_lib.format_json import *\n",
    "from library.PY_lib.json_to_csv import *\n",
    "from library.PY_lib.json_to_excel import *\n",
    "from datetime import datetime\n",
    "from time import sleep\n",
    "\n",
    "from openpyxl import Workbook\n",
    "from openpyxl import load_workbook\n",
    "\n",
    "\n",
    "# from library.PY_lib.data_retriever import *\n"
   ]
  },
  {
   "cell_type": "code",
   "execution_count": 2,
   "metadata": {},
   "outputs": [],
   "source": [
    "ip=input('rentrez G pour générer des données, ou un nom de dossier pour en extraire les données')"
   ]
  },
  {
   "cell_type": "code",
   "execution_count": 3,
   "metadata": {},
   "outputs": [],
   "source": [
    "if ip != 'G':\n",
    "    folder = ip\n",
    "else : folder='input'\n",
    "# n = automatisation (0 pour oui, 1 pour non)\n",
    "# r = request left\n",
    "# t = temps entre chaque requete (en secondes)\n",
    "n = 1\n",
    "r = 1\n",
    "t = 3600 \n",
    "taille_zone = 100\n",
    "choice = 2 # 1=quadrilatère, 2 = circulaire\n",
    "current_time = datetime.now().strftime(\"%Y-%m-%d_%H-%M-%S\")"
   ]
  },
  {
   "cell_type": "code",
   "execution_count": 4,
   "metadata": {},
   "outputs": [],
   "source": [
    "def get_data(n, request_left, attente): #, file_name:str\n",
    "    file_name = f'{current_time}_flight'\n",
    "    json_file = f'tempo.json'\n",
    "    # csv_file = f'tab_{namefile}.csv'\n",
    "    excel_file = f'{os.path.join(\"input\",file_name)}.xls'\n",
    "    with open(json_file, 'w') as file:\n",
    "        pass\n",
    "    # with open(csv_file, 'w') as file:\n",
    "    #     pass\n",
    "    with open(excel_file, 'w') as file:\n",
    "        pass\n",
    "    scrap_plane(json_file)\n",
    "    format_json(json_file, json_file)\n",
    "    # json_to_csv(json_file, csv_file)\n",
    "    json_to_excel(json_file, excel_file)\n",
    "   \n",
    "    print(\"all operations done\")\n",
    "    if n == 0 and request_left > 0:\n",
    "        print(f'waiting {attente} seconds to proceed further, {request_left} request(s) left.')\n",
    "        request_left = request_left - 1\n",
    "        sleep(attente)\n",
    "        get_data(n, request_left, attente)"
   ]
  },
  {
   "cell_type": "code",
   "execution_count": 5,
   "metadata": {},
   "outputs": [
    {
     "name": "stdout",
     "output_type": "stream",
     "text": [
      "Data written in tempo.json\n",
      "Data converted to input\\2023-10-06_18-18-51_flight.xls\n",
      "all operations done\n"
     ]
    }
   ],
   "source": [
    "if ip =='G':\n",
    "    get_data(n, r - 1, t) #, file_name\n",
    "    \n",
    "    "
   ]
  },
  {
   "cell_type": "code",
   "execution_count": 6,
   "metadata": {},
   "outputs": [
    {
     "name": "stderr",
     "output_type": "stream",
     "text": [
      "C:\\Users\\arthu\\AppData\\Local\\Temp\\ipykernel_23136\\1053186996.py:5: FutureWarning: As the xlwt package is no longer maintained, the xlwt engine will be removed in a future version of pandas. This is the only engine in pandas that supports writing in the xls format. Install openpyxl and write to an xlsx file instead. You can set the option io.excel.xls.writer to 'xlwt' to silence this warning. While this option is deprecated and will also raise a warning, it can be globally set and the warning suppressed.\n",
      "  df.to_excel(excel_file, index=False)\n"
     ]
    }
   ],
   "source": [
    "file_name = f'{current_time}_flight'\n",
    "excel_file = f'{os.path.join(\"input\",file_name)}.xls'\n",
    "df=pd.read_excel(excel_file)\n",
    "df['Date']=current_time\n",
    "df.to_excel(excel_file, index=False)"
   ]
  },
  {
   "cell_type": "code",
   "execution_count": 7,
   "metadata": {},
   "outputs": [],
   "source": [
    "def onefiledata(filename, taille_zone, choice, r_latitudes, r_longitude, s_latitude, s_longitude):\n",
    "    print(filename)\n",
    "    data = pd.read_excel(filename)\n",
    "    data = pd.DataFrame(data)\n",
    "\n",
    "    if choice == 1:\n",
    "        t_lat = s_latitude\n",
    "        t_lng = s_longitude\n",
    "        # filtered_data = []\n",
    "        for index, row in data.iterrows():\n",
    "            lat = row['lat']\n",
    "            lng = row['lng']\n",
    "            if sort_elements(t_lat[0], t_lat[1], t_lat[2], t_lat[3], lat, t_lng[0], t_lng[1], t_lng[2], t_lng[3], lng) == 0:\n",
    "                data.loc[index,'distance'] = True\n",
    "        filtered_data=data.where(data['distance']==True)\n",
    "\n",
    "    if choice == 2:\n",
    "        for index, row in data.iterrows():\n",
    "            lat = row['lat']\n",
    "            lng = row['lng']\n",
    "            for ref_lat, ref_lng in zip(r_latitudes, r_longitude):\n",
    "                data.loc[index,'distance'] = calculate_distance(lat, lng, float(ref_lat), float(ref_lng))\n",
    "        filtered_data=data.where(data['distance']<=taille_zone)\n",
    "    # display(filtered_data.dropna())\n",
    "    return filtered_data.dropna()"
   ]
  },
  {
   "cell_type": "code",
   "execution_count": 22,
   "metadata": {},
   "outputs": [
    {
     "name": "stdout",
     "output_type": "stream",
     "text": [
      "input\\2023-10-06_18-15-49_flight.xls\n",
      "input\\2023-10-06_18-18-51_flight.xls\n",
      "Tout a été enregistré dans le fichier : output\\2023-10-06_18-18-51_round_sorted_.xls\n"
     ]
    },
    {
     "name": "stderr",
     "output_type": "stream",
     "text": [
      "C:\\Users\\arthu\\AppData\\Local\\Temp\\ipykernel_23136\\340194487.py:22: FutureWarning:\n",
      "\n",
      "As the xlwt package is no longer maintained, the xlwt engine will be removed in a future version of pandas. This is the only engine in pandas that supports writing in the xls format. Install openpyxl and write to an xlsx file instead. You can set the option io.excel.xls.writer to 'xlwt' to silence this warning. While this option is deprecated and will also raise a warning, it can be globally set and the warning suppressed.\n",
      "\n"
     ]
    }
   ],
   "source": [
    "round_path = r'D:\\Programmes\\E.nova\\python\\PyEnova\\flight_track\\round_coordinates.txt'\n",
    "square_path = r'square_coordinates.txt'\n",
    "\n",
    "r_latitudes, r_longitude = read_coordinates(round_path)\n",
    "s_latitude, s_longitude = read_coordinates(square_path)\n",
    "\n",
    "filename = os.listdir(folder)\n",
    "\n",
    "df=[]\n",
    "for i in range(len(filename)):\n",
    "    path2 = os.path.join(folder,filename[i])\n",
    "    filtered_data=onefiledata(path2,taille_zone, choice, r_latitudes, r_longitude, s_latitude, s_longitude)\n",
    "    df.append(filtered_data)\n",
    "\n",
    "if choice==1:\n",
    "    new_filename = os.path.join('output',f'{current_time}_square_sorted_.xls')\n",
    "if choice==2: \n",
    "    new_filename = os.path.join('output',f'{current_time}_round_sorted_.xls')\n",
    "\n",
    "filtered_df = pd.concat([*df]) \n",
    "\n",
    "filtered_df.to_excel(new_filename, index=False)\n",
    "\n",
    "print(f\"Tout a été enregistré dans le fichier : {new_filename}\")"
   ]
  },
  {
   "cell_type": "code",
   "execution_count": 42,
   "metadata": {},
   "outputs": [],
   "source": [
    "df_p=filtered_df.set_index(['hex', 'Date']).sort_index()"
   ]
  },
  {
   "cell_type": "code",
   "execution_count": 100,
   "metadata": {},
   "outputs": [],
   "source": [
    "idx=filtered_df['hex'].drop_duplicates(keep=False).index\n",
    "df_p=filtered_df.drop(index=idx)"
   ]
  },
  {
   "cell_type": "code",
   "execution_count": 101,
   "metadata": {},
   "outputs": [
    {
     "data": {
      "text/html": [
       "<div>\n",
       "<style scoped>\n",
       "    .dataframe tbody tr th:only-of-type {\n",
       "        vertical-align: middle;\n",
       "    }\n",
       "\n",
       "    .dataframe tbody tr th {\n",
       "        vertical-align: top;\n",
       "    }\n",
       "\n",
       "    .dataframe thead th {\n",
       "        text-align: right;\n",
       "    }\n",
       "</style>\n",
       "<table border=\"1\" class=\"dataframe\">\n",
       "  <thead>\n",
       "    <tr style=\"text-align: right;\">\n",
       "      <th></th>\n",
       "      <th></th>\n",
       "      <th>reg_number</th>\n",
       "      <th>flag</th>\n",
       "      <th>lat</th>\n",
       "      <th>lng</th>\n",
       "      <th>alt</th>\n",
       "      <th>dir</th>\n",
       "      <th>speed</th>\n",
       "      <th>v_speed</th>\n",
       "      <th>squawk</th>\n",
       "      <th>flight_number</th>\n",
       "      <th>...</th>\n",
       "      <th>dep_icao</th>\n",
       "      <th>dep_iata</th>\n",
       "      <th>arr_icao</th>\n",
       "      <th>arr_iata</th>\n",
       "      <th>airline_icao</th>\n",
       "      <th>airline_iata</th>\n",
       "      <th>aircraft_icao</th>\n",
       "      <th>updated</th>\n",
       "      <th>status</th>\n",
       "      <th>distance</th>\n",
       "    </tr>\n",
       "    <tr>\n",
       "      <th>hex</th>\n",
       "      <th>Date</th>\n",
       "      <th></th>\n",
       "      <th></th>\n",
       "      <th></th>\n",
       "      <th></th>\n",
       "      <th></th>\n",
       "      <th></th>\n",
       "      <th></th>\n",
       "      <th></th>\n",
       "      <th></th>\n",
       "      <th></th>\n",
       "      <th></th>\n",
       "      <th></th>\n",
       "      <th></th>\n",
       "      <th></th>\n",
       "      <th></th>\n",
       "      <th></th>\n",
       "      <th></th>\n",
       "      <th></th>\n",
       "      <th></th>\n",
       "      <th></th>\n",
       "      <th></th>\n",
       "    </tr>\n",
       "  </thead>\n",
       "  <tbody>\n",
       "    <tr>\n",
       "      <th rowspan=\"2\" valign=\"top\">06A1CC</th>\n",
       "      <th>2023-10-06_18-15-49</th>\n",
       "      <td>A7-CGG</td>\n",
       "      <td>QA</td>\n",
       "      <td>43.660904</td>\n",
       "      <td>7.213355</td>\n",
       "      <td>0.0</td>\n",
       "      <td>225.0</td>\n",
       "      <td>13.0</td>\n",
       "      <td>0.0</td>\n",
       "      <td>1000.0</td>\n",
       "      <td>511</td>\n",
       "      <td>...</td>\n",
       "      <td>LFMN</td>\n",
       "      <td>NCE</td>\n",
       "      <td>LFBD</td>\n",
       "      <td>BOD</td>\n",
       "      <td>QQE</td>\n",
       "      <td>QE</td>\n",
       "      <td>GLF6</td>\n",
       "      <td>1.696609e+09</td>\n",
       "      <td>scheduled</td>\n",
       "      <td>19.860778</td>\n",
       "    </tr>\n",
       "    <tr>\n",
       "      <th>2023-10-06_18-18-51</th>\n",
       "      <td>A7-CGG</td>\n",
       "      <td>QA</td>\n",
       "      <td>43.653259</td>\n",
       "      <td>7.203007</td>\n",
       "      <td>0.0</td>\n",
       "      <td>143.0</td>\n",
       "      <td>13.0</td>\n",
       "      <td>0.0</td>\n",
       "      <td>1000.0</td>\n",
       "      <td>511</td>\n",
       "      <td>...</td>\n",
       "      <td>LFMN</td>\n",
       "      <td>NCE</td>\n",
       "      <td>LFBD</td>\n",
       "      <td>BOD</td>\n",
       "      <td>QQE</td>\n",
       "      <td>QE</td>\n",
       "      <td>GLF6</td>\n",
       "      <td>1.696609e+09</td>\n",
       "      <td>scheduled</td>\n",
       "      <td>18.681163</td>\n",
       "    </tr>\n",
       "    <tr>\n",
       "      <th rowspan=\"2\" valign=\"top\">39DD44</th>\n",
       "      <th>2023-10-06_18-15-49</th>\n",
       "      <td>F-HXKE</td>\n",
       "      <td>FR</td>\n",
       "      <td>43.204239</td>\n",
       "      <td>6.922409</td>\n",
       "      <td>4572.0</td>\n",
       "      <td>99.0</td>\n",
       "      <td>507.0</td>\n",
       "      <td>0.0</td>\n",
       "      <td>1000.0</td>\n",
       "      <td>41QA</td>\n",
       "      <td>...</td>\n",
       "      <td>LFML</td>\n",
       "      <td>MRS</td>\n",
       "      <td>LFKC</td>\n",
       "      <td>CLY</td>\n",
       "      <td>CCM</td>\n",
       "      <td>XK</td>\n",
       "      <td>AT76</td>\n",
       "      <td>1.696609e+09</td>\n",
       "      <td>en-route</td>\n",
       "      <td>39.247593</td>\n",
       "    </tr>\n",
       "    <tr>\n",
       "      <th>2023-10-06_18-18-51</th>\n",
       "      <td>F-HXKE</td>\n",
       "      <td>FR</td>\n",
       "      <td>43.165656</td>\n",
       "      <td>7.226323</td>\n",
       "      <td>4572.0</td>\n",
       "      <td>100.0</td>\n",
       "      <td>509.0</td>\n",
       "      <td>0.0</td>\n",
       "      <td>1000.0</td>\n",
       "      <td>41QA</td>\n",
       "      <td>...</td>\n",
       "      <td>LFML</td>\n",
       "      <td>MRS</td>\n",
       "      <td>LFKC</td>\n",
       "      <td>CLY</td>\n",
       "      <td>CCM</td>\n",
       "      <td>XK</td>\n",
       "      <td>AT76</td>\n",
       "      <td>1.696609e+09</td>\n",
       "      <td>en-route</td>\n",
       "      <td>45.877038</td>\n",
       "    </tr>\n",
       "    <tr>\n",
       "      <th rowspan=\"2\" valign=\"top\">3C6669</th>\n",
       "      <th>2023-10-06_18-15-49</th>\n",
       "      <td>D-AISI</td>\n",
       "      <td>DE</td>\n",
       "      <td>43.799927</td>\n",
       "      <td>6.090641</td>\n",
       "      <td>10363.0</td>\n",
       "      <td>26.0</td>\n",
       "      <td>853.0</td>\n",
       "      <td>0.3</td>\n",
       "      <td>1057.0</td>\n",
       "      <td>12N</td>\n",
       "      <td>...</td>\n",
       "      <td>LEBL</td>\n",
       "      <td>BCN</td>\n",
       "      <td>EDDF</td>\n",
       "      <td>FRA</td>\n",
       "      <td>DLH</td>\n",
       "      <td>LH</td>\n",
       "      <td>A321</td>\n",
       "      <td>1.696609e+09</td>\n",
       "      <td>en-route</td>\n",
       "      <td>79.741369</td>\n",
       "    </tr>\n",
       "    <tr>\n",
       "      <th>2023-10-06_18-18-51</th>\n",
       "      <td>D-AISI</td>\n",
       "      <td>DE</td>\n",
       "      <td>44.137253</td>\n",
       "      <td>6.323782</td>\n",
       "      <td>10363.0</td>\n",
       "      <td>26.0</td>\n",
       "      <td>850.0</td>\n",
       "      <td>0.0</td>\n",
       "      <td>1057.0</td>\n",
       "      <td>12N</td>\n",
       "      <td>...</td>\n",
       "      <td>LEBL</td>\n",
       "      <td>BCN</td>\n",
       "      <td>EDDF</td>\n",
       "      <td>FRA</td>\n",
       "      <td>DLH</td>\n",
       "      <td>LH</td>\n",
       "      <td>A321</td>\n",
       "      <td>1.696609e+09</td>\n",
       "      <td>en-route</td>\n",
       "      <td>85.915351</td>\n",
       "    </tr>\n",
       "    <tr>\n",
       "      <th rowspan=\"2\" valign=\"top\">3C674A</th>\n",
       "      <th>2023-10-06_18-15-49</th>\n",
       "      <td>D-AIZJ</td>\n",
       "      <td>DE</td>\n",
       "      <td>43.502884</td>\n",
       "      <td>7.159828</td>\n",
       "      <td>822.0</td>\n",
       "      <td>356.4</td>\n",
       "      <td>358.0</td>\n",
       "      <td>0.0</td>\n",
       "      <td>1000.0</td>\n",
       "      <td>55J</td>\n",
       "      <td>...</td>\n",
       "      <td>EDDF</td>\n",
       "      <td>FRA</td>\n",
       "      <td>LFMN</td>\n",
       "      <td>NCE</td>\n",
       "      <td>DLH</td>\n",
       "      <td>LH</td>\n",
       "      <td>A320</td>\n",
       "      <td>1.696609e+09</td>\n",
       "      <td>en-route</td>\n",
       "      <td>12.431210</td>\n",
       "    </tr>\n",
       "    <tr>\n",
       "      <th>2023-10-06_18-18-51</th>\n",
       "      <td>D-AIZJ</td>\n",
       "      <td>DE</td>\n",
       "      <td>43.631364</td>\n",
       "      <td>7.176165</td>\n",
       "      <td>243.0</td>\n",
       "      <td>45.0</td>\n",
       "      <td>244.0</td>\n",
       "      <td>-3.3</td>\n",
       "      <td>1000.0</td>\n",
       "      <td>55J</td>\n",
       "      <td>...</td>\n",
       "      <td>EDDF</td>\n",
       "      <td>FRA</td>\n",
       "      <td>LFMN</td>\n",
       "      <td>NCE</td>\n",
       "      <td>DLH</td>\n",
       "      <td>LH</td>\n",
       "      <td>A320</td>\n",
       "      <td>1.696609e+09</td>\n",
       "      <td>en-route</td>\n",
       "      <td>15.493035</td>\n",
       "    </tr>\n",
       "    <tr>\n",
       "      <th rowspan=\"2\" valign=\"top\">400DB4</th>\n",
       "      <th>2023-10-06_18-15-49</th>\n",
       "      <td>G-EZAS</td>\n",
       "      <td>UK</td>\n",
       "      <td>43.721375</td>\n",
       "      <td>7.020711</td>\n",
       "      <td>5814.0</td>\n",
       "      <td>328.1</td>\n",
       "      <td>627.0</td>\n",
       "      <td>13.3</td>\n",
       "      <td>6753.0</td>\n",
       "      <td>48WT</td>\n",
       "      <td>...</td>\n",
       "      <td>LFMN</td>\n",
       "      <td>NCE</td>\n",
       "      <td>EGKK</td>\n",
       "      <td>LGW</td>\n",
       "      <td>EZY</td>\n",
       "      <td>U2</td>\n",
       "      <td>A319</td>\n",
       "      <td>1.696609e+09</td>\n",
       "      <td>en-route</td>\n",
       "      <td>19.056116</td>\n",
       "    </tr>\n",
       "    <tr>\n",
       "      <th>2023-10-06_18-18-51</th>\n",
       "      <td>G-EZAS</td>\n",
       "      <td>UK</td>\n",
       "      <td>43.982834</td>\n",
       "      <td>6.793801</td>\n",
       "      <td>7246.0</td>\n",
       "      <td>327.8</td>\n",
       "      <td>746.0</td>\n",
       "      <td>8.8</td>\n",
       "      <td>6753.0</td>\n",
       "      <td>48WT</td>\n",
       "      <td>...</td>\n",
       "      <td>LFMN</td>\n",
       "      <td>NCE</td>\n",
       "      <td>EGKK</td>\n",
       "      <td>LGW</td>\n",
       "      <td>EZY</td>\n",
       "      <td>U2</td>\n",
       "      <td>A319</td>\n",
       "      <td>1.696609e+09</td>\n",
       "      <td>en-route</td>\n",
       "      <td>51.442412</td>\n",
       "    </tr>\n",
       "    <tr>\n",
       "      <th rowspan=\"2\" valign=\"top\">400E4A</th>\n",
       "      <th>2023-10-06_18-15-49</th>\n",
       "      <td>G-GDFJ</td>\n",
       "      <td>UK</td>\n",
       "      <td>43.462234</td>\n",
       "      <td>7.244206</td>\n",
       "      <td>3040.0</td>\n",
       "      <td>275.9</td>\n",
       "      <td>452.0</td>\n",
       "      <td>8.5</td>\n",
       "      <td>4070.0</td>\n",
       "      <td>62VC</td>\n",
       "      <td>...</td>\n",
       "      <td>LFMN</td>\n",
       "      <td>NCE</td>\n",
       "      <td>EGCC</td>\n",
       "      <td>MAN</td>\n",
       "      <td>EXS</td>\n",
       "      <td>LS</td>\n",
       "      <td>B738</td>\n",
       "      <td>1.696609e+09</td>\n",
       "      <td>en-route</td>\n",
       "      <td>20.547626</td>\n",
       "    </tr>\n",
       "    <tr>\n",
       "      <th>2023-10-06_18-18-51</th>\n",
       "      <td>G-GDFJ</td>\n",
       "      <td>UK</td>\n",
       "      <td>43.578667</td>\n",
       "      <td>6.964482</td>\n",
       "      <td>4396.0</td>\n",
       "      <td>322.2</td>\n",
       "      <td>625.0</td>\n",
       "      <td>11.1</td>\n",
       "      <td>4070.0</td>\n",
       "      <td>62VC</td>\n",
       "      <td>...</td>\n",
       "      <td>LFMN</td>\n",
       "      <td>NCE</td>\n",
       "      <td>EGCC</td>\n",
       "      <td>MAN</td>\n",
       "      <td>EXS</td>\n",
       "      <td>LS</td>\n",
       "      <td>B738</td>\n",
       "      <td>1.696609e+09</td>\n",
       "      <td>en-route</td>\n",
       "      <td>5.492760</td>\n",
       "    </tr>\n",
       "    <tr>\n",
       "      <th rowspan=\"2\" valign=\"top\">440141</th>\n",
       "      <th>2023-10-06_18-15-49</th>\n",
       "      <td>OE-IJX</td>\n",
       "      <td>AT</td>\n",
       "      <td>43.614761</td>\n",
       "      <td>7.311018</td>\n",
       "      <td>1424.0</td>\n",
       "      <td>168.1</td>\n",
       "      <td>414.0</td>\n",
       "      <td>5.5</td>\n",
       "      <td>1000.0</td>\n",
       "      <td>908G</td>\n",
       "      <td>...</td>\n",
       "      <td>LFMN</td>\n",
       "      <td>NCE</td>\n",
       "      <td>LFPO</td>\n",
       "      <td>ORY</td>\n",
       "      <td>EJU</td>\n",
       "      <td>U2</td>\n",
       "      <td>A320</td>\n",
       "      <td>1.696609e+09</td>\n",
       "      <td>en-route</td>\n",
       "      <td>24.522012</td>\n",
       "    </tr>\n",
       "    <tr>\n",
       "      <th>2023-10-06_18-18-51</th>\n",
       "      <td>OE-IJX</td>\n",
       "      <td>AT</td>\n",
       "      <td>43.485535</td>\n",
       "      <td>7.173242</td>\n",
       "      <td>3977.0</td>\n",
       "      <td>279.6</td>\n",
       "      <td>512.0</td>\n",
       "      <td>7.5</td>\n",
       "      <td>1000.0</td>\n",
       "      <td>908G</td>\n",
       "      <td>...</td>\n",
       "      <td>LFMN</td>\n",
       "      <td>NCE</td>\n",
       "      <td>LFPO</td>\n",
       "      <td>ORY</td>\n",
       "      <td>EJU</td>\n",
       "      <td>U2</td>\n",
       "      <td>A320</td>\n",
       "      <td>1.696609e+09</td>\n",
       "      <td>en-route</td>\n",
       "      <td>14.285202</td>\n",
       "    </tr>\n",
       "    <tr>\n",
       "      <th rowspan=\"2\" valign=\"top\">46B821</th>\n",
       "      <th>2023-10-06_18-15-49</th>\n",
       "      <td>SX-NAA</td>\n",
       "      <td>GR</td>\n",
       "      <td>43.329892</td>\n",
       "      <td>7.861829</td>\n",
       "      <td>2575.0</td>\n",
       "      <td>276.0</td>\n",
       "      <td>533.0</td>\n",
       "      <td>-7.5</td>\n",
       "      <td>2046.0</td>\n",
       "      <td>690</td>\n",
       "      <td>...</td>\n",
       "      <td>LGAV</td>\n",
       "      <td>ATH</td>\n",
       "      <td>LFMN</td>\n",
       "      <td>NCE</td>\n",
       "      <td>AEE</td>\n",
       "      <td>A3</td>\n",
       "      <td>A21N</td>\n",
       "      <td>1.696609e+09</td>\n",
       "      <td>en-route</td>\n",
       "      <td>72.239660</td>\n",
       "    </tr>\n",
       "    <tr>\n",
       "      <th>2023-10-06_18-18-51</th>\n",
       "      <td>SX-NAA</td>\n",
       "      <td>GR</td>\n",
       "      <td>43.352829</td>\n",
       "      <td>7.546585</td>\n",
       "      <td>1303.0</td>\n",
       "      <td>276.0</td>\n",
       "      <td>480.0</td>\n",
       "      <td>-3.3</td>\n",
       "      <td>2046.0</td>\n",
       "      <td>690</td>\n",
       "      <td>...</td>\n",
       "      <td>LGAV</td>\n",
       "      <td>ATH</td>\n",
       "      <td>LFMN</td>\n",
       "      <td>NCE</td>\n",
       "      <td>AEE</td>\n",
       "      <td>A3</td>\n",
       "      <td>A21N</td>\n",
       "      <td>1.696609e+09</td>\n",
       "      <td>en-route</td>\n",
       "      <td>47.828328</td>\n",
       "    </tr>\n",
       "    <tr>\n",
       "      <th rowspan=\"2\" valign=\"top\">4D2104</th>\n",
       "      <th>2023-10-06_18-15-49</th>\n",
       "      <td>9H-BOO</td>\n",
       "      <td>MT</td>\n",
       "      <td>43.447357</td>\n",
       "      <td>6.508633</td>\n",
       "      <td>3268.0</td>\n",
       "      <td>102.0</td>\n",
       "      <td>555.0</td>\n",
       "      <td>-8.1</td>\n",
       "      <td>3322.0</td>\n",
       "      <td>629P</td>\n",
       "      <td>...</td>\n",
       "      <td>LFPB</td>\n",
       "      <td>LBG</td>\n",
       "      <td>LFMN</td>\n",
       "      <td>NCE</td>\n",
       "      <td>AXY</td>\n",
       "      <td>AX*</td>\n",
       "      <td>CRJ2</td>\n",
       "      <td>1.696609e+09</td>\n",
       "      <td>en-route</td>\n",
       "      <td>42.796610</td>\n",
       "    </tr>\n",
       "    <tr>\n",
       "      <th>2023-10-06_18-18-51</th>\n",
       "      <td>9H-BOO</td>\n",
       "      <td>MT</td>\n",
       "      <td>43.402725</td>\n",
       "      <td>6.822318</td>\n",
       "      <td>2125.0</td>\n",
       "      <td>101.1</td>\n",
       "      <td>488.0</td>\n",
       "      <td>-5.2</td>\n",
       "      <td>3322.0</td>\n",
       "      <td>629P</td>\n",
       "      <td>...</td>\n",
       "      <td>LFPB</td>\n",
       "      <td>LBG</td>\n",
       "      <td>LFMN</td>\n",
       "      <td>NCE</td>\n",
       "      <td>AXY</td>\n",
       "      <td>AX*</td>\n",
       "      <td>CRJ2</td>\n",
       "      <td>1.696609e+09</td>\n",
       "      <td>en-route</td>\n",
       "      <td>22.860675</td>\n",
       "    </tr>\n",
       "    <tr>\n",
       "      <th rowspan=\"2\" valign=\"top\">4D22B1</th>\n",
       "      <th>2023-10-06_18-15-49</th>\n",
       "      <td>9H-LOZ</td>\n",
       "      <td>IE</td>\n",
       "      <td>43.358289</td>\n",
       "      <td>6.893594</td>\n",
       "      <td>10972.0</td>\n",
       "      <td>53.0</td>\n",
       "      <td>844.0</td>\n",
       "      <td>0.0</td>\n",
       "      <td>5542.0</td>\n",
       "      <td>33ZT</td>\n",
       "      <td>...</td>\n",
       "      <td>LEBL</td>\n",
       "      <td>BCN</td>\n",
       "      <td>LOWW</td>\n",
       "      <td>VIE</td>\n",
       "      <td>RYR</td>\n",
       "      <td>FR</td>\n",
       "      <td>A320</td>\n",
       "      <td>1.696609e+09</td>\n",
       "      <td>en-route</td>\n",
       "      <td>23.633359</td>\n",
       "    </tr>\n",
       "    <tr>\n",
       "      <th>2023-10-06_18-18-51</th>\n",
       "      <td>9H-LOZ</td>\n",
       "      <td>IE</td>\n",
       "      <td>43.581253</td>\n",
       "      <td>7.306675</td>\n",
       "      <td>10972.0</td>\n",
       "      <td>53.0</td>\n",
       "      <td>840.0</td>\n",
       "      <td>-0.4</td>\n",
       "      <td>5542.0</td>\n",
       "      <td>33ZT</td>\n",
       "      <td>...</td>\n",
       "      <td>LEBL</td>\n",
       "      <td>BCN</td>\n",
       "      <td>LOWW</td>\n",
       "      <td>VIE</td>\n",
       "      <td>RYR</td>\n",
       "      <td>FR</td>\n",
       "      <td>A320</td>\n",
       "      <td>1.696609e+09</td>\n",
       "      <td>en-route</td>\n",
       "      <td>23.357426</td>\n",
       "    </tr>\n",
       "  </tbody>\n",
       "</table>\n",
       "<p>20 rows × 22 columns</p>\n",
       "</div>"
      ],
      "text/plain": [
       "                           reg_number flag        lat       lng      alt  \\\n",
       "hex    Date                                                                \n",
       "06A1CC 2023-10-06_18-15-49     A7-CGG   QA  43.660904  7.213355      0.0   \n",
       "       2023-10-06_18-18-51     A7-CGG   QA  43.653259  7.203007      0.0   \n",
       "39DD44 2023-10-06_18-15-49     F-HXKE   FR  43.204239  6.922409   4572.0   \n",
       "       2023-10-06_18-18-51     F-HXKE   FR  43.165656  7.226323   4572.0   \n",
       "3C6669 2023-10-06_18-15-49     D-AISI   DE  43.799927  6.090641  10363.0   \n",
       "       2023-10-06_18-18-51     D-AISI   DE  44.137253  6.323782  10363.0   \n",
       "3C674A 2023-10-06_18-15-49     D-AIZJ   DE  43.502884  7.159828    822.0   \n",
       "       2023-10-06_18-18-51     D-AIZJ   DE  43.631364  7.176165    243.0   \n",
       "400DB4 2023-10-06_18-15-49     G-EZAS   UK  43.721375  7.020711   5814.0   \n",
       "       2023-10-06_18-18-51     G-EZAS   UK  43.982834  6.793801   7246.0   \n",
       "400E4A 2023-10-06_18-15-49     G-GDFJ   UK  43.462234  7.244206   3040.0   \n",
       "       2023-10-06_18-18-51     G-GDFJ   UK  43.578667  6.964482   4396.0   \n",
       "440141 2023-10-06_18-15-49     OE-IJX   AT  43.614761  7.311018   1424.0   \n",
       "       2023-10-06_18-18-51     OE-IJX   AT  43.485535  7.173242   3977.0   \n",
       "46B821 2023-10-06_18-15-49     SX-NAA   GR  43.329892  7.861829   2575.0   \n",
       "       2023-10-06_18-18-51     SX-NAA   GR  43.352829  7.546585   1303.0   \n",
       "4D2104 2023-10-06_18-15-49     9H-BOO   MT  43.447357  6.508633   3268.0   \n",
       "       2023-10-06_18-18-51     9H-BOO   MT  43.402725  6.822318   2125.0   \n",
       "4D22B1 2023-10-06_18-15-49     9H-LOZ   IE  43.358289  6.893594  10972.0   \n",
       "       2023-10-06_18-18-51     9H-LOZ   IE  43.581253  7.306675  10972.0   \n",
       "\n",
       "                              dir  speed  v_speed  squawk flight_number  ...  \\\n",
       "hex    Date                                                              ...   \n",
       "06A1CC 2023-10-06_18-15-49  225.0   13.0      0.0  1000.0           511  ...   \n",
       "       2023-10-06_18-18-51  143.0   13.0      0.0  1000.0           511  ...   \n",
       "39DD44 2023-10-06_18-15-49   99.0  507.0      0.0  1000.0          41QA  ...   \n",
       "       2023-10-06_18-18-51  100.0  509.0      0.0  1000.0          41QA  ...   \n",
       "3C6669 2023-10-06_18-15-49   26.0  853.0      0.3  1057.0           12N  ...   \n",
       "       2023-10-06_18-18-51   26.0  850.0      0.0  1057.0           12N  ...   \n",
       "3C674A 2023-10-06_18-15-49  356.4  358.0      0.0  1000.0           55J  ...   \n",
       "       2023-10-06_18-18-51   45.0  244.0     -3.3  1000.0           55J  ...   \n",
       "400DB4 2023-10-06_18-15-49  328.1  627.0     13.3  6753.0          48WT  ...   \n",
       "       2023-10-06_18-18-51  327.8  746.0      8.8  6753.0          48WT  ...   \n",
       "400E4A 2023-10-06_18-15-49  275.9  452.0      8.5  4070.0          62VC  ...   \n",
       "       2023-10-06_18-18-51  322.2  625.0     11.1  4070.0          62VC  ...   \n",
       "440141 2023-10-06_18-15-49  168.1  414.0      5.5  1000.0          908G  ...   \n",
       "       2023-10-06_18-18-51  279.6  512.0      7.5  1000.0          908G  ...   \n",
       "46B821 2023-10-06_18-15-49  276.0  533.0     -7.5  2046.0           690  ...   \n",
       "       2023-10-06_18-18-51  276.0  480.0     -3.3  2046.0           690  ...   \n",
       "4D2104 2023-10-06_18-15-49  102.0  555.0     -8.1  3322.0          629P  ...   \n",
       "       2023-10-06_18-18-51  101.1  488.0     -5.2  3322.0          629P  ...   \n",
       "4D22B1 2023-10-06_18-15-49   53.0  844.0      0.0  5542.0          33ZT  ...   \n",
       "       2023-10-06_18-18-51   53.0  840.0     -0.4  5542.0          33ZT  ...   \n",
       "\n",
       "                           dep_icao dep_iata arr_icao arr_iata airline_icao  \\\n",
       "hex    Date                                                                   \n",
       "06A1CC 2023-10-06_18-15-49     LFMN      NCE     LFBD      BOD          QQE   \n",
       "       2023-10-06_18-18-51     LFMN      NCE     LFBD      BOD          QQE   \n",
       "39DD44 2023-10-06_18-15-49     LFML      MRS     LFKC      CLY          CCM   \n",
       "       2023-10-06_18-18-51     LFML      MRS     LFKC      CLY          CCM   \n",
       "3C6669 2023-10-06_18-15-49     LEBL      BCN     EDDF      FRA          DLH   \n",
       "       2023-10-06_18-18-51     LEBL      BCN     EDDF      FRA          DLH   \n",
       "3C674A 2023-10-06_18-15-49     EDDF      FRA     LFMN      NCE          DLH   \n",
       "       2023-10-06_18-18-51     EDDF      FRA     LFMN      NCE          DLH   \n",
       "400DB4 2023-10-06_18-15-49     LFMN      NCE     EGKK      LGW          EZY   \n",
       "       2023-10-06_18-18-51     LFMN      NCE     EGKK      LGW          EZY   \n",
       "400E4A 2023-10-06_18-15-49     LFMN      NCE     EGCC      MAN          EXS   \n",
       "       2023-10-06_18-18-51     LFMN      NCE     EGCC      MAN          EXS   \n",
       "440141 2023-10-06_18-15-49     LFMN      NCE     LFPO      ORY          EJU   \n",
       "       2023-10-06_18-18-51     LFMN      NCE     LFPO      ORY          EJU   \n",
       "46B821 2023-10-06_18-15-49     LGAV      ATH     LFMN      NCE          AEE   \n",
       "       2023-10-06_18-18-51     LGAV      ATH     LFMN      NCE          AEE   \n",
       "4D2104 2023-10-06_18-15-49     LFPB      LBG     LFMN      NCE          AXY   \n",
       "       2023-10-06_18-18-51     LFPB      LBG     LFMN      NCE          AXY   \n",
       "4D22B1 2023-10-06_18-15-49     LEBL      BCN     LOWW      VIE          RYR   \n",
       "       2023-10-06_18-18-51     LEBL      BCN     LOWW      VIE          RYR   \n",
       "\n",
       "                           airline_iata aircraft_icao       updated  \\\n",
       "hex    Date                                                           \n",
       "06A1CC 2023-10-06_18-15-49           QE          GLF6  1.696609e+09   \n",
       "       2023-10-06_18-18-51           QE          GLF6  1.696609e+09   \n",
       "39DD44 2023-10-06_18-15-49           XK          AT76  1.696609e+09   \n",
       "       2023-10-06_18-18-51           XK          AT76  1.696609e+09   \n",
       "3C6669 2023-10-06_18-15-49           LH          A321  1.696609e+09   \n",
       "       2023-10-06_18-18-51           LH          A321  1.696609e+09   \n",
       "3C674A 2023-10-06_18-15-49           LH          A320  1.696609e+09   \n",
       "       2023-10-06_18-18-51           LH          A320  1.696609e+09   \n",
       "400DB4 2023-10-06_18-15-49           U2          A319  1.696609e+09   \n",
       "       2023-10-06_18-18-51           U2          A319  1.696609e+09   \n",
       "400E4A 2023-10-06_18-15-49           LS          B738  1.696609e+09   \n",
       "       2023-10-06_18-18-51           LS          B738  1.696609e+09   \n",
       "440141 2023-10-06_18-15-49           U2          A320  1.696609e+09   \n",
       "       2023-10-06_18-18-51           U2          A320  1.696609e+09   \n",
       "46B821 2023-10-06_18-15-49           A3          A21N  1.696609e+09   \n",
       "       2023-10-06_18-18-51           A3          A21N  1.696609e+09   \n",
       "4D2104 2023-10-06_18-15-49          AX*          CRJ2  1.696609e+09   \n",
       "       2023-10-06_18-18-51          AX*          CRJ2  1.696609e+09   \n",
       "4D22B1 2023-10-06_18-15-49           FR          A320  1.696609e+09   \n",
       "       2023-10-06_18-18-51           FR          A320  1.696609e+09   \n",
       "\n",
       "                               status   distance  \n",
       "hex    Date                                       \n",
       "06A1CC 2023-10-06_18-15-49  scheduled  19.860778  \n",
       "       2023-10-06_18-18-51  scheduled  18.681163  \n",
       "39DD44 2023-10-06_18-15-49   en-route  39.247593  \n",
       "       2023-10-06_18-18-51   en-route  45.877038  \n",
       "3C6669 2023-10-06_18-15-49   en-route  79.741369  \n",
       "       2023-10-06_18-18-51   en-route  85.915351  \n",
       "3C674A 2023-10-06_18-15-49   en-route  12.431210  \n",
       "       2023-10-06_18-18-51   en-route  15.493035  \n",
       "400DB4 2023-10-06_18-15-49   en-route  19.056116  \n",
       "       2023-10-06_18-18-51   en-route  51.442412  \n",
       "400E4A 2023-10-06_18-15-49   en-route  20.547626  \n",
       "       2023-10-06_18-18-51   en-route   5.492760  \n",
       "440141 2023-10-06_18-15-49   en-route  24.522012  \n",
       "       2023-10-06_18-18-51   en-route  14.285202  \n",
       "46B821 2023-10-06_18-15-49   en-route  72.239660  \n",
       "       2023-10-06_18-18-51   en-route  47.828328  \n",
       "4D2104 2023-10-06_18-15-49   en-route  42.796610  \n",
       "       2023-10-06_18-18-51   en-route  22.860675  \n",
       "4D22B1 2023-10-06_18-15-49   en-route  23.633359  \n",
       "       2023-10-06_18-18-51   en-route  23.357426  \n",
       "\n",
       "[20 rows x 22 columns]"
      ]
     },
     "execution_count": 101,
     "metadata": {},
     "output_type": "execute_result"
    }
   ],
   "source": [
    "df_p.set_index(['hex', 'Date']).sort_index()"
   ]
  },
  {
   "cell_type": "code",
   "execution_count": null,
   "metadata": {},
   "outputs": [],
   "source": [
    "import plotly_express as px"
   ]
  },
  {
   "cell_type": "code",
   "execution_count": null,
   "metadata": {},
   "outputs": [],
   "source": [
    "fig=px.scatter_geo(\n",
    "    data_frame=filtered_df,\n",
    "    lat='lat',\n",
    "    lon='lng',\n",
    "    hover_name='reg_number',\n",
    "    color='flag',\n",
    "    hover_data=['alt', 'speed'],\n",
    "    # text=,\n",
    "    )\n",
    "fig.write_html(os.path.join('output',f'{current_time}_Flight_map'))\n"
   ]
  },
  {
   "cell_type": "code",
   "execution_count": null,
   "metadata": {},
   "outputs": [
    {
     "data": {
      "application/vnd.plotly.v1+json": {
       "config": {
        "plotlyServerURL": "https://plot.ly"
       },
       "data": [
        {
         "customdata": [
          [
           8221,
           731
          ],
          [
           10957,
           814
          ],
          [
           0,
           24
          ]
         ],
         "geo": "geo",
         "hovertemplate": "<b>%{hovertext}</b><br><br>flag=ES<br>lat=%{lat}<br>lng=%{lon}<br>alt=%{customdata[0]}<br>speed=%{customdata[1]}<extra></extra>",
         "hovertext": [
          "EC-NGL",
          "EC-NVS",
          "EC-LJX"
         ],
         "lat": [
          44.119354,
          43.900762,
          43.661957
         ],
         "legendgroup": "ES",
         "lon": [
          6.437222,
          8.094243,
          7.212237
         ],
         "marker": {
          "color": "#636efa",
          "symbol": "circle"
         },
         "mode": "markers",
         "name": "ES",
         "showlegend": true,
         "type": "scattergeo"
        },
        {
         "customdata": [
          [
           10363,
           822
          ],
          [
           4572,
           507
          ],
          [
           4572,
           509
          ]
         ],
         "geo": "geo",
         "hovertemplate": "<b>%{hovertext}</b><br><br>flag=FR<br>lat=%{lat}<br>lng=%{lon}<br>alt=%{customdata[0]}<br>speed=%{customdata[1]}<extra></extra>",
         "hovertext": [
          "F-HBEV",
          "F-HXKE",
          "F-HXKE"
         ],
         "lat": [
          44.215781,
          43.204239,
          43.165656
         ],
         "legendgroup": "FR",
         "lon": [
          6.851248,
          6.922409,
          7.226323
         ],
         "marker": {
          "color": "#EF553B",
          "symbol": "circle"
         },
         "mode": "markers",
         "name": "FR",
         "showlegend": true,
         "type": "scattergeo"
        },
        {
         "customdata": [
          [
           1424,
           414
          ],
          [
           3977,
           512
          ]
         ],
         "geo": "geo",
         "hovertemplate": "<b>%{hovertext}</b><br><br>flag=AT<br>lat=%{lat}<br>lng=%{lon}<br>alt=%{customdata[0]}<br>speed=%{customdata[1]}<extra></extra>",
         "hovertext": [
          "OE-IJX",
          "OE-IJX"
         ],
         "lat": [
          43.614761,
          43.485535
         ],
         "legendgroup": "AT",
         "lon": [
          7.311018,
          7.173242
         ],
         "marker": {
          "color": "#00cc96",
          "symbol": "circle"
         },
         "mode": "markers",
         "name": "AT",
         "showlegend": true,
         "type": "scattergeo"
        },
        {
         "customdata": [
          [
           0,
           13
          ],
          [
           0,
           13
          ]
         ],
         "geo": "geo",
         "hovertemplate": "<b>%{hovertext}</b><br><br>flag=QA<br>lat=%{lat}<br>lng=%{lon}<br>alt=%{customdata[0]}<br>speed=%{customdata[1]}<extra></extra>",
         "hovertext": [
          "A7-CGG",
          "A7-CGG"
         ],
         "lat": [
          43.660904,
          43.653259
         ],
         "legendgroup": "QA",
         "lon": [
          7.213355,
          7.203007
         ],
         "marker": {
          "color": "#ab63fa",
          "symbol": "circle"
         },
         "mode": "markers",
         "name": "QA",
         "showlegend": true,
         "type": "scattergeo"
        },
        {
         "customdata": [
          [
           9525,
           857
          ],
          [
           10363,
           853
          ],
          [
           822,
           358
          ],
          [
           10363,
           850
          ],
          [
           243,
           244
          ]
         ],
         "geo": "geo",
         "hovertemplate": "<b>%{hovertext}</b><br><br>flag=DE<br>lat=%{lat}<br>lng=%{lon}<br>alt=%{customdata[0]}<br>speed=%{customdata[1]}<extra></extra>",
         "hovertext": [
          "D-ACNX",
          "D-AISI",
          "D-AIZJ",
          "D-AISI",
          "D-AIZJ"
         ],
         "lat": [
          43.955228,
          43.799927,
          43.502884,
          44.137253,
          43.631364
         ],
         "legendgroup": "DE",
         "lon": [
          7.93481,
          6.090641,
          7.159828,
          6.323782,
          7.176165
         ],
         "marker": {
          "color": "#FFA15A",
          "symbol": "circle"
         },
         "mode": "markers",
         "name": "DE",
         "showlegend": true,
         "type": "scattergeo"
        },
        {
         "customdata": [
          [
           5814,
           627
          ],
          [
           3040,
           452
          ],
          [
           11590,
           785
          ],
          [
           7246,
           746
          ],
          [
           4396,
           625
          ]
         ],
         "geo": "geo",
         "hovertemplate": "<b>%{hovertext}</b><br><br>flag=UK<br>lat=%{lat}<br>lng=%{lon}<br>alt=%{customdata[0]}<br>speed=%{customdata[1]}<extra></extra>",
         "hovertext": [
          "G-EZAS",
          "G-GDFJ",
          "G-EZBT",
          "G-EZAS",
          "G-GDFJ"
         ],
         "lat": [
          43.721375,
          43.462234,
          44.381561,
          43.982834,
          43.578667
         ],
         "legendgroup": "UK",
         "lon": [
          7.020711,
          7.244206,
          6.671448,
          6.793801,
          6.964482
         ],
         "marker": {
          "color": "#19d3f3",
          "symbol": "circle"
         },
         "mode": "markers",
         "name": "UK",
         "showlegend": true,
         "type": "scattergeo"
        },
        {
         "customdata": [
          [
           2575,
           533
          ],
          [
           1303,
           480
          ]
         ],
         "geo": "geo",
         "hovertemplate": "<b>%{hovertext}</b><br><br>flag=GR<br>lat=%{lat}<br>lng=%{lon}<br>alt=%{customdata[0]}<br>speed=%{customdata[1]}<extra></extra>",
         "hovertext": [
          "SX-NAA",
          "SX-NAA"
         ],
         "lat": [
          43.329892,
          43.352829
         ],
         "legendgroup": "GR",
         "lon": [
          7.861829,
          7.546585
         ],
         "marker": {
          "color": "#FF6692",
          "symbol": "circle"
         },
         "mode": "markers",
         "name": "GR",
         "showlegend": true,
         "type": "scattergeo"
        },
        {
         "customdata": [
          [
           3268,
           555
          ],
          [
           2125,
           488
          ]
         ],
         "geo": "geo",
         "hovertemplate": "<b>%{hovertext}</b><br><br>flag=MT<br>lat=%{lat}<br>lng=%{lon}<br>alt=%{customdata[0]}<br>speed=%{customdata[1]}<extra></extra>",
         "hovertext": [
          "9H-BOO",
          "9H-BOO"
         ],
         "lat": [
          43.447357,
          43.402725
         ],
         "legendgroup": "MT",
         "lon": [
          6.508633,
          6.822318
         ],
         "marker": {
          "color": "#B6E880",
          "symbol": "circle"
         },
         "mode": "markers",
         "name": "MT",
         "showlegend": true,
         "type": "scattergeo"
        },
        {
         "customdata": [
          [
           10972,
           844
          ],
          [
           10972,
           840
          ]
         ],
         "geo": "geo",
         "hovertemplate": "<b>%{hovertext}</b><br><br>flag=IE<br>lat=%{lat}<br>lng=%{lon}<br>alt=%{customdata[0]}<br>speed=%{customdata[1]}<extra></extra>",
         "hovertext": [
          "9H-LOZ",
          "9H-LOZ"
         ],
         "lat": [
          43.358289,
          43.581253
         ],
         "legendgroup": "IE",
         "lon": [
          6.893594,
          7.306675
         ],
         "marker": {
          "color": "#FF97FF",
          "symbol": "circle"
         },
         "mode": "markers",
         "name": "IE",
         "showlegend": true,
         "type": "scattergeo"
        },
        {
         "customdata": [
          [
           0,
           34
          ]
         ],
         "geo": "geo",
         "hovertemplate": "<b>%{hovertext}</b><br><br>flag=SI<br>lat=%{lat}<br>lng=%{lon}<br>alt=%{customdata[0]}<br>speed=%{customdata[1]}<extra></extra>",
         "hovertext": [
          "F-HOXY"
         ],
         "lat": [
          43.656841
         ],
         "legendgroup": "SI",
         "lon": [
          7.207766
         ],
         "marker": {
          "color": "#FECB52",
          "symbol": "circle"
         },
         "mode": "markers",
         "name": "SI",
         "showlegend": true,
         "type": "scattergeo"
        },
        {
         "customdata": [
          [
           10668,
           817
          ]
         ],
         "geo": "geo",
         "hovertemplate": "<b>%{hovertext}</b><br><br>flag=HU<br>lat=%{lat}<br>lng=%{lon}<br>alt=%{customdata[0]}<br>speed=%{customdata[1]}<extra></extra>",
         "hovertext": [
          "HA-LZW"
         ],
         "lat": [
          44.134687
         ],
         "legendgroup": "HU",
         "lon": [
          7.5977
         ],
         "marker": {
          "color": "#636efa",
          "symbol": "circle"
         },
         "mode": "markers",
         "name": "HU",
         "showlegend": true,
         "type": "scattergeo"
        }
       ],
       "layout": {
        "geo": {
         "center": {},
         "domain": {
          "x": [
           0,
           1
          ],
          "y": [
           0,
           1
          ]
         }
        },
        "legend": {
         "title": {
          "text": "flag"
         },
         "tracegroupgap": 0
        },
        "margin": {
         "t": 60
        },
        "template": {
         "data": {
          "bar": [
           {
            "error_x": {
             "color": "#2a3f5f"
            },
            "error_y": {
             "color": "#2a3f5f"
            },
            "marker": {
             "line": {
              "color": "#E5ECF6",
              "width": 0.5
             },
             "pattern": {
              "fillmode": "overlay",
              "size": 10,
              "solidity": 0.2
             }
            },
            "type": "bar"
           }
          ],
          "barpolar": [
           {
            "marker": {
             "line": {
              "color": "#E5ECF6",
              "width": 0.5
             },
             "pattern": {
              "fillmode": "overlay",
              "size": 10,
              "solidity": 0.2
             }
            },
            "type": "barpolar"
           }
          ],
          "carpet": [
           {
            "aaxis": {
             "endlinecolor": "#2a3f5f",
             "gridcolor": "white",
             "linecolor": "white",
             "minorgridcolor": "white",
             "startlinecolor": "#2a3f5f"
            },
            "baxis": {
             "endlinecolor": "#2a3f5f",
             "gridcolor": "white",
             "linecolor": "white",
             "minorgridcolor": "white",
             "startlinecolor": "#2a3f5f"
            },
            "type": "carpet"
           }
          ],
          "choropleth": [
           {
            "colorbar": {
             "outlinewidth": 0,
             "ticks": ""
            },
            "type": "choropleth"
           }
          ],
          "contour": [
           {
            "colorbar": {
             "outlinewidth": 0,
             "ticks": ""
            },
            "colorscale": [
             [
              0,
              "#0d0887"
             ],
             [
              0.1111111111111111,
              "#46039f"
             ],
             [
              0.2222222222222222,
              "#7201a8"
             ],
             [
              0.3333333333333333,
              "#9c179e"
             ],
             [
              0.4444444444444444,
              "#bd3786"
             ],
             [
              0.5555555555555556,
              "#d8576b"
             ],
             [
              0.6666666666666666,
              "#ed7953"
             ],
             [
              0.7777777777777778,
              "#fb9f3a"
             ],
             [
              0.8888888888888888,
              "#fdca26"
             ],
             [
              1,
              "#f0f921"
             ]
            ],
            "type": "contour"
           }
          ],
          "contourcarpet": [
           {
            "colorbar": {
             "outlinewidth": 0,
             "ticks": ""
            },
            "type": "contourcarpet"
           }
          ],
          "heatmap": [
           {
            "colorbar": {
             "outlinewidth": 0,
             "ticks": ""
            },
            "colorscale": [
             [
              0,
              "#0d0887"
             ],
             [
              0.1111111111111111,
              "#46039f"
             ],
             [
              0.2222222222222222,
              "#7201a8"
             ],
             [
              0.3333333333333333,
              "#9c179e"
             ],
             [
              0.4444444444444444,
              "#bd3786"
             ],
             [
              0.5555555555555556,
              "#d8576b"
             ],
             [
              0.6666666666666666,
              "#ed7953"
             ],
             [
              0.7777777777777778,
              "#fb9f3a"
             ],
             [
              0.8888888888888888,
              "#fdca26"
             ],
             [
              1,
              "#f0f921"
             ]
            ],
            "type": "heatmap"
           }
          ],
          "heatmapgl": [
           {
            "colorbar": {
             "outlinewidth": 0,
             "ticks": ""
            },
            "colorscale": [
             [
              0,
              "#0d0887"
             ],
             [
              0.1111111111111111,
              "#46039f"
             ],
             [
              0.2222222222222222,
              "#7201a8"
             ],
             [
              0.3333333333333333,
              "#9c179e"
             ],
             [
              0.4444444444444444,
              "#bd3786"
             ],
             [
              0.5555555555555556,
              "#d8576b"
             ],
             [
              0.6666666666666666,
              "#ed7953"
             ],
             [
              0.7777777777777778,
              "#fb9f3a"
             ],
             [
              0.8888888888888888,
              "#fdca26"
             ],
             [
              1,
              "#f0f921"
             ]
            ],
            "type": "heatmapgl"
           }
          ],
          "histogram": [
           {
            "marker": {
             "pattern": {
              "fillmode": "overlay",
              "size": 10,
              "solidity": 0.2
             }
            },
            "type": "histogram"
           }
          ],
          "histogram2d": [
           {
            "colorbar": {
             "outlinewidth": 0,
             "ticks": ""
            },
            "colorscale": [
             [
              0,
              "#0d0887"
             ],
             [
              0.1111111111111111,
              "#46039f"
             ],
             [
              0.2222222222222222,
              "#7201a8"
             ],
             [
              0.3333333333333333,
              "#9c179e"
             ],
             [
              0.4444444444444444,
              "#bd3786"
             ],
             [
              0.5555555555555556,
              "#d8576b"
             ],
             [
              0.6666666666666666,
              "#ed7953"
             ],
             [
              0.7777777777777778,
              "#fb9f3a"
             ],
             [
              0.8888888888888888,
              "#fdca26"
             ],
             [
              1,
              "#f0f921"
             ]
            ],
            "type": "histogram2d"
           }
          ],
          "histogram2dcontour": [
           {
            "colorbar": {
             "outlinewidth": 0,
             "ticks": ""
            },
            "colorscale": [
             [
              0,
              "#0d0887"
             ],
             [
              0.1111111111111111,
              "#46039f"
             ],
             [
              0.2222222222222222,
              "#7201a8"
             ],
             [
              0.3333333333333333,
              "#9c179e"
             ],
             [
              0.4444444444444444,
              "#bd3786"
             ],
             [
              0.5555555555555556,
              "#d8576b"
             ],
             [
              0.6666666666666666,
              "#ed7953"
             ],
             [
              0.7777777777777778,
              "#fb9f3a"
             ],
             [
              0.8888888888888888,
              "#fdca26"
             ],
             [
              1,
              "#f0f921"
             ]
            ],
            "type": "histogram2dcontour"
           }
          ],
          "mesh3d": [
           {
            "colorbar": {
             "outlinewidth": 0,
             "ticks": ""
            },
            "type": "mesh3d"
           }
          ],
          "parcoords": [
           {
            "line": {
             "colorbar": {
              "outlinewidth": 0,
              "ticks": ""
             }
            },
            "type": "parcoords"
           }
          ],
          "pie": [
           {
            "automargin": true,
            "type": "pie"
           }
          ],
          "scatter": [
           {
            "fillpattern": {
             "fillmode": "overlay",
             "size": 10,
             "solidity": 0.2
            },
            "type": "scatter"
           }
          ],
          "scatter3d": [
           {
            "line": {
             "colorbar": {
              "outlinewidth": 0,
              "ticks": ""
             }
            },
            "marker": {
             "colorbar": {
              "outlinewidth": 0,
              "ticks": ""
             }
            },
            "type": "scatter3d"
           }
          ],
          "scattercarpet": [
           {
            "marker": {
             "colorbar": {
              "outlinewidth": 0,
              "ticks": ""
             }
            },
            "type": "scattercarpet"
           }
          ],
          "scattergeo": [
           {
            "marker": {
             "colorbar": {
              "outlinewidth": 0,
              "ticks": ""
             }
            },
            "type": "scattergeo"
           }
          ],
          "scattergl": [
           {
            "marker": {
             "colorbar": {
              "outlinewidth": 0,
              "ticks": ""
             }
            },
            "type": "scattergl"
           }
          ],
          "scattermapbox": [
           {
            "marker": {
             "colorbar": {
              "outlinewidth": 0,
              "ticks": ""
             }
            },
            "type": "scattermapbox"
           }
          ],
          "scatterpolar": [
           {
            "marker": {
             "colorbar": {
              "outlinewidth": 0,
              "ticks": ""
             }
            },
            "type": "scatterpolar"
           }
          ],
          "scatterpolargl": [
           {
            "marker": {
             "colorbar": {
              "outlinewidth": 0,
              "ticks": ""
             }
            },
            "type": "scatterpolargl"
           }
          ],
          "scatterternary": [
           {
            "marker": {
             "colorbar": {
              "outlinewidth": 0,
              "ticks": ""
             }
            },
            "type": "scatterternary"
           }
          ],
          "surface": [
           {
            "colorbar": {
             "outlinewidth": 0,
             "ticks": ""
            },
            "colorscale": [
             [
              0,
              "#0d0887"
             ],
             [
              0.1111111111111111,
              "#46039f"
             ],
             [
              0.2222222222222222,
              "#7201a8"
             ],
             [
              0.3333333333333333,
              "#9c179e"
             ],
             [
              0.4444444444444444,
              "#bd3786"
             ],
             [
              0.5555555555555556,
              "#d8576b"
             ],
             [
              0.6666666666666666,
              "#ed7953"
             ],
             [
              0.7777777777777778,
              "#fb9f3a"
             ],
             [
              0.8888888888888888,
              "#fdca26"
             ],
             [
              1,
              "#f0f921"
             ]
            ],
            "type": "surface"
           }
          ],
          "table": [
           {
            "cells": {
             "fill": {
              "color": "#EBF0F8"
             },
             "line": {
              "color": "white"
             }
            },
            "header": {
             "fill": {
              "color": "#C8D4E3"
             },
             "line": {
              "color": "white"
             }
            },
            "type": "table"
           }
          ]
         },
         "layout": {
          "annotationdefaults": {
           "arrowcolor": "#2a3f5f",
           "arrowhead": 0,
           "arrowwidth": 1
          },
          "autotypenumbers": "strict",
          "coloraxis": {
           "colorbar": {
            "outlinewidth": 0,
            "ticks": ""
           }
          },
          "colorscale": {
           "diverging": [
            [
             0,
             "#8e0152"
            ],
            [
             0.1,
             "#c51b7d"
            ],
            [
             0.2,
             "#de77ae"
            ],
            [
             0.3,
             "#f1b6da"
            ],
            [
             0.4,
             "#fde0ef"
            ],
            [
             0.5,
             "#f7f7f7"
            ],
            [
             0.6,
             "#e6f5d0"
            ],
            [
             0.7,
             "#b8e186"
            ],
            [
             0.8,
             "#7fbc41"
            ],
            [
             0.9,
             "#4d9221"
            ],
            [
             1,
             "#276419"
            ]
           ],
           "sequential": [
            [
             0,
             "#0d0887"
            ],
            [
             0.1111111111111111,
             "#46039f"
            ],
            [
             0.2222222222222222,
             "#7201a8"
            ],
            [
             0.3333333333333333,
             "#9c179e"
            ],
            [
             0.4444444444444444,
             "#bd3786"
            ],
            [
             0.5555555555555556,
             "#d8576b"
            ],
            [
             0.6666666666666666,
             "#ed7953"
            ],
            [
             0.7777777777777778,
             "#fb9f3a"
            ],
            [
             0.8888888888888888,
             "#fdca26"
            ],
            [
             1,
             "#f0f921"
            ]
           ],
           "sequentialminus": [
            [
             0,
             "#0d0887"
            ],
            [
             0.1111111111111111,
             "#46039f"
            ],
            [
             0.2222222222222222,
             "#7201a8"
            ],
            [
             0.3333333333333333,
             "#9c179e"
            ],
            [
             0.4444444444444444,
             "#bd3786"
            ],
            [
             0.5555555555555556,
             "#d8576b"
            ],
            [
             0.6666666666666666,
             "#ed7953"
            ],
            [
             0.7777777777777778,
             "#fb9f3a"
            ],
            [
             0.8888888888888888,
             "#fdca26"
            ],
            [
             1,
             "#f0f921"
            ]
           ]
          },
          "colorway": [
           "#636efa",
           "#EF553B",
           "#00cc96",
           "#ab63fa",
           "#FFA15A",
           "#19d3f3",
           "#FF6692",
           "#B6E880",
           "#FF97FF",
           "#FECB52"
          ],
          "font": {
           "color": "#2a3f5f"
          },
          "geo": {
           "bgcolor": "white",
           "lakecolor": "white",
           "landcolor": "#E5ECF6",
           "showlakes": true,
           "showland": true,
           "subunitcolor": "white"
          },
          "hoverlabel": {
           "align": "left"
          },
          "hovermode": "closest",
          "mapbox": {
           "style": "light"
          },
          "paper_bgcolor": "white",
          "plot_bgcolor": "#E5ECF6",
          "polar": {
           "angularaxis": {
            "gridcolor": "white",
            "linecolor": "white",
            "ticks": ""
           },
           "bgcolor": "#E5ECF6",
           "radialaxis": {
            "gridcolor": "white",
            "linecolor": "white",
            "ticks": ""
           }
          },
          "scene": {
           "xaxis": {
            "backgroundcolor": "#E5ECF6",
            "gridcolor": "white",
            "gridwidth": 2,
            "linecolor": "white",
            "showbackground": true,
            "ticks": "",
            "zerolinecolor": "white"
           },
           "yaxis": {
            "backgroundcolor": "#E5ECF6",
            "gridcolor": "white",
            "gridwidth": 2,
            "linecolor": "white",
            "showbackground": true,
            "ticks": "",
            "zerolinecolor": "white"
           },
           "zaxis": {
            "backgroundcolor": "#E5ECF6",
            "gridcolor": "white",
            "gridwidth": 2,
            "linecolor": "white",
            "showbackground": true,
            "ticks": "",
            "zerolinecolor": "white"
           }
          },
          "shapedefaults": {
           "line": {
            "color": "#2a3f5f"
           }
          },
          "ternary": {
           "aaxis": {
            "gridcolor": "white",
            "linecolor": "white",
            "ticks": ""
           },
           "baxis": {
            "gridcolor": "white",
            "linecolor": "white",
            "ticks": ""
           },
           "bgcolor": "#E5ECF6",
           "caxis": {
            "gridcolor": "white",
            "linecolor": "white",
            "ticks": ""
           }
          },
          "title": {
           "x": 0.05
          },
          "xaxis": {
           "automargin": true,
           "gridcolor": "white",
           "linecolor": "white",
           "ticks": "",
           "title": {
            "standoff": 15
           },
           "zerolinecolor": "white",
           "zerolinewidth": 2
          },
          "yaxis": {
           "automargin": true,
           "gridcolor": "white",
           "linecolor": "white",
           "ticks": "",
           "title": {
            "standoff": 15
           },
           "zerolinecolor": "white",
           "zerolinewidth": 2
          }
         }
        }
       }
      }
     },
     "metadata": {},
     "output_type": "display_data"
    }
   ],
   "source": [
    "fig"
   ]
  },
  {
   "cell_type": "code",
   "execution_count": null,
   "metadata": {},
   "outputs": [
    {
     "data": {
      "application/vnd.plotly.v1+json": {
       "config": {
        "plotlyServerURL": "https://plot.ly"
       },
       "data": [
        {
         "hovertemplate": "speed=%{x}<br>alt=%{y}<extra></extra>",
         "legendgroup": "",
         "marker": {
          "color": "#636efa",
          "symbol": "circle"
         },
         "mode": "markers",
         "name": "",
         "orientation": "v",
         "showlegend": false,
         "type": "scatter",
         "x": [
          731,
          814,
          822,
          414,
          13,
          507,
          857,
          853,
          358,
          627,
          452,
          785,
          533,
          555,
          844,
          24,
          512,
          13,
          34,
          509,
          850,
          244,
          746,
          625,
          480,
          817,
          488,
          840
         ],
         "xaxis": "x",
         "y": [
          8221,
          10957,
          10363,
          1424,
          0,
          4572,
          9525,
          10363,
          822,
          5814,
          3040,
          11590,
          2575,
          3268,
          10972,
          0,
          3977,
          0,
          0,
          4572,
          10363,
          243,
          7246,
          4396,
          1303,
          10668,
          2125,
          10972
         ],
         "yaxis": "y"
        }
       ],
       "layout": {
        "legend": {
         "tracegroupgap": 0
        },
        "margin": {
         "t": 60
        },
        "template": {
         "data": {
          "bar": [
           {
            "error_x": {
             "color": "#2a3f5f"
            },
            "error_y": {
             "color": "#2a3f5f"
            },
            "marker": {
             "line": {
              "color": "#E5ECF6",
              "width": 0.5
             },
             "pattern": {
              "fillmode": "overlay",
              "size": 10,
              "solidity": 0.2
             }
            },
            "type": "bar"
           }
          ],
          "barpolar": [
           {
            "marker": {
             "line": {
              "color": "#E5ECF6",
              "width": 0.5
             },
             "pattern": {
              "fillmode": "overlay",
              "size": 10,
              "solidity": 0.2
             }
            },
            "type": "barpolar"
           }
          ],
          "carpet": [
           {
            "aaxis": {
             "endlinecolor": "#2a3f5f",
             "gridcolor": "white",
             "linecolor": "white",
             "minorgridcolor": "white",
             "startlinecolor": "#2a3f5f"
            },
            "baxis": {
             "endlinecolor": "#2a3f5f",
             "gridcolor": "white",
             "linecolor": "white",
             "minorgridcolor": "white",
             "startlinecolor": "#2a3f5f"
            },
            "type": "carpet"
           }
          ],
          "choropleth": [
           {
            "colorbar": {
             "outlinewidth": 0,
             "ticks": ""
            },
            "type": "choropleth"
           }
          ],
          "contour": [
           {
            "colorbar": {
             "outlinewidth": 0,
             "ticks": ""
            },
            "colorscale": [
             [
              0,
              "#0d0887"
             ],
             [
              0.1111111111111111,
              "#46039f"
             ],
             [
              0.2222222222222222,
              "#7201a8"
             ],
             [
              0.3333333333333333,
              "#9c179e"
             ],
             [
              0.4444444444444444,
              "#bd3786"
             ],
             [
              0.5555555555555556,
              "#d8576b"
             ],
             [
              0.6666666666666666,
              "#ed7953"
             ],
             [
              0.7777777777777778,
              "#fb9f3a"
             ],
             [
              0.8888888888888888,
              "#fdca26"
             ],
             [
              1,
              "#f0f921"
             ]
            ],
            "type": "contour"
           }
          ],
          "contourcarpet": [
           {
            "colorbar": {
             "outlinewidth": 0,
             "ticks": ""
            },
            "type": "contourcarpet"
           }
          ],
          "heatmap": [
           {
            "colorbar": {
             "outlinewidth": 0,
             "ticks": ""
            },
            "colorscale": [
             [
              0,
              "#0d0887"
             ],
             [
              0.1111111111111111,
              "#46039f"
             ],
             [
              0.2222222222222222,
              "#7201a8"
             ],
             [
              0.3333333333333333,
              "#9c179e"
             ],
             [
              0.4444444444444444,
              "#bd3786"
             ],
             [
              0.5555555555555556,
              "#d8576b"
             ],
             [
              0.6666666666666666,
              "#ed7953"
             ],
             [
              0.7777777777777778,
              "#fb9f3a"
             ],
             [
              0.8888888888888888,
              "#fdca26"
             ],
             [
              1,
              "#f0f921"
             ]
            ],
            "type": "heatmap"
           }
          ],
          "heatmapgl": [
           {
            "colorbar": {
             "outlinewidth": 0,
             "ticks": ""
            },
            "colorscale": [
             [
              0,
              "#0d0887"
             ],
             [
              0.1111111111111111,
              "#46039f"
             ],
             [
              0.2222222222222222,
              "#7201a8"
             ],
             [
              0.3333333333333333,
              "#9c179e"
             ],
             [
              0.4444444444444444,
              "#bd3786"
             ],
             [
              0.5555555555555556,
              "#d8576b"
             ],
             [
              0.6666666666666666,
              "#ed7953"
             ],
             [
              0.7777777777777778,
              "#fb9f3a"
             ],
             [
              0.8888888888888888,
              "#fdca26"
             ],
             [
              1,
              "#f0f921"
             ]
            ],
            "type": "heatmapgl"
           }
          ],
          "histogram": [
           {
            "marker": {
             "pattern": {
              "fillmode": "overlay",
              "size": 10,
              "solidity": 0.2
             }
            },
            "type": "histogram"
           }
          ],
          "histogram2d": [
           {
            "colorbar": {
             "outlinewidth": 0,
             "ticks": ""
            },
            "colorscale": [
             [
              0,
              "#0d0887"
             ],
             [
              0.1111111111111111,
              "#46039f"
             ],
             [
              0.2222222222222222,
              "#7201a8"
             ],
             [
              0.3333333333333333,
              "#9c179e"
             ],
             [
              0.4444444444444444,
              "#bd3786"
             ],
             [
              0.5555555555555556,
              "#d8576b"
             ],
             [
              0.6666666666666666,
              "#ed7953"
             ],
             [
              0.7777777777777778,
              "#fb9f3a"
             ],
             [
              0.8888888888888888,
              "#fdca26"
             ],
             [
              1,
              "#f0f921"
             ]
            ],
            "type": "histogram2d"
           }
          ],
          "histogram2dcontour": [
           {
            "colorbar": {
             "outlinewidth": 0,
             "ticks": ""
            },
            "colorscale": [
             [
              0,
              "#0d0887"
             ],
             [
              0.1111111111111111,
              "#46039f"
             ],
             [
              0.2222222222222222,
              "#7201a8"
             ],
             [
              0.3333333333333333,
              "#9c179e"
             ],
             [
              0.4444444444444444,
              "#bd3786"
             ],
             [
              0.5555555555555556,
              "#d8576b"
             ],
             [
              0.6666666666666666,
              "#ed7953"
             ],
             [
              0.7777777777777778,
              "#fb9f3a"
             ],
             [
              0.8888888888888888,
              "#fdca26"
             ],
             [
              1,
              "#f0f921"
             ]
            ],
            "type": "histogram2dcontour"
           }
          ],
          "mesh3d": [
           {
            "colorbar": {
             "outlinewidth": 0,
             "ticks": ""
            },
            "type": "mesh3d"
           }
          ],
          "parcoords": [
           {
            "line": {
             "colorbar": {
              "outlinewidth": 0,
              "ticks": ""
             }
            },
            "type": "parcoords"
           }
          ],
          "pie": [
           {
            "automargin": true,
            "type": "pie"
           }
          ],
          "scatter": [
           {
            "fillpattern": {
             "fillmode": "overlay",
             "size": 10,
             "solidity": 0.2
            },
            "type": "scatter"
           }
          ],
          "scatter3d": [
           {
            "line": {
             "colorbar": {
              "outlinewidth": 0,
              "ticks": ""
             }
            },
            "marker": {
             "colorbar": {
              "outlinewidth": 0,
              "ticks": ""
             }
            },
            "type": "scatter3d"
           }
          ],
          "scattercarpet": [
           {
            "marker": {
             "colorbar": {
              "outlinewidth": 0,
              "ticks": ""
             }
            },
            "type": "scattercarpet"
           }
          ],
          "scattergeo": [
           {
            "marker": {
             "colorbar": {
              "outlinewidth": 0,
              "ticks": ""
             }
            },
            "type": "scattergeo"
           }
          ],
          "scattergl": [
           {
            "marker": {
             "colorbar": {
              "outlinewidth": 0,
              "ticks": ""
             }
            },
            "type": "scattergl"
           }
          ],
          "scattermapbox": [
           {
            "marker": {
             "colorbar": {
              "outlinewidth": 0,
              "ticks": ""
             }
            },
            "type": "scattermapbox"
           }
          ],
          "scatterpolar": [
           {
            "marker": {
             "colorbar": {
              "outlinewidth": 0,
              "ticks": ""
             }
            },
            "type": "scatterpolar"
           }
          ],
          "scatterpolargl": [
           {
            "marker": {
             "colorbar": {
              "outlinewidth": 0,
              "ticks": ""
             }
            },
            "type": "scatterpolargl"
           }
          ],
          "scatterternary": [
           {
            "marker": {
             "colorbar": {
              "outlinewidth": 0,
              "ticks": ""
             }
            },
            "type": "scatterternary"
           }
          ],
          "surface": [
           {
            "colorbar": {
             "outlinewidth": 0,
             "ticks": ""
            },
            "colorscale": [
             [
              0,
              "#0d0887"
             ],
             [
              0.1111111111111111,
              "#46039f"
             ],
             [
              0.2222222222222222,
              "#7201a8"
             ],
             [
              0.3333333333333333,
              "#9c179e"
             ],
             [
              0.4444444444444444,
              "#bd3786"
             ],
             [
              0.5555555555555556,
              "#d8576b"
             ],
             [
              0.6666666666666666,
              "#ed7953"
             ],
             [
              0.7777777777777778,
              "#fb9f3a"
             ],
             [
              0.8888888888888888,
              "#fdca26"
             ],
             [
              1,
              "#f0f921"
             ]
            ],
            "type": "surface"
           }
          ],
          "table": [
           {
            "cells": {
             "fill": {
              "color": "#EBF0F8"
             },
             "line": {
              "color": "white"
             }
            },
            "header": {
             "fill": {
              "color": "#C8D4E3"
             },
             "line": {
              "color": "white"
             }
            },
            "type": "table"
           }
          ]
         },
         "layout": {
          "annotationdefaults": {
           "arrowcolor": "#2a3f5f",
           "arrowhead": 0,
           "arrowwidth": 1
          },
          "autotypenumbers": "strict",
          "coloraxis": {
           "colorbar": {
            "outlinewidth": 0,
            "ticks": ""
           }
          },
          "colorscale": {
           "diverging": [
            [
             0,
             "#8e0152"
            ],
            [
             0.1,
             "#c51b7d"
            ],
            [
             0.2,
             "#de77ae"
            ],
            [
             0.3,
             "#f1b6da"
            ],
            [
             0.4,
             "#fde0ef"
            ],
            [
             0.5,
             "#f7f7f7"
            ],
            [
             0.6,
             "#e6f5d0"
            ],
            [
             0.7,
             "#b8e186"
            ],
            [
             0.8,
             "#7fbc41"
            ],
            [
             0.9,
             "#4d9221"
            ],
            [
             1,
             "#276419"
            ]
           ],
           "sequential": [
            [
             0,
             "#0d0887"
            ],
            [
             0.1111111111111111,
             "#46039f"
            ],
            [
             0.2222222222222222,
             "#7201a8"
            ],
            [
             0.3333333333333333,
             "#9c179e"
            ],
            [
             0.4444444444444444,
             "#bd3786"
            ],
            [
             0.5555555555555556,
             "#d8576b"
            ],
            [
             0.6666666666666666,
             "#ed7953"
            ],
            [
             0.7777777777777778,
             "#fb9f3a"
            ],
            [
             0.8888888888888888,
             "#fdca26"
            ],
            [
             1,
             "#f0f921"
            ]
           ],
           "sequentialminus": [
            [
             0,
             "#0d0887"
            ],
            [
             0.1111111111111111,
             "#46039f"
            ],
            [
             0.2222222222222222,
             "#7201a8"
            ],
            [
             0.3333333333333333,
             "#9c179e"
            ],
            [
             0.4444444444444444,
             "#bd3786"
            ],
            [
             0.5555555555555556,
             "#d8576b"
            ],
            [
             0.6666666666666666,
             "#ed7953"
            ],
            [
             0.7777777777777778,
             "#fb9f3a"
            ],
            [
             0.8888888888888888,
             "#fdca26"
            ],
            [
             1,
             "#f0f921"
            ]
           ]
          },
          "colorway": [
           "#636efa",
           "#EF553B",
           "#00cc96",
           "#ab63fa",
           "#FFA15A",
           "#19d3f3",
           "#FF6692",
           "#B6E880",
           "#FF97FF",
           "#FECB52"
          ],
          "font": {
           "color": "#2a3f5f"
          },
          "geo": {
           "bgcolor": "white",
           "lakecolor": "white",
           "landcolor": "#E5ECF6",
           "showlakes": true,
           "showland": true,
           "subunitcolor": "white"
          },
          "hoverlabel": {
           "align": "left"
          },
          "hovermode": "closest",
          "mapbox": {
           "style": "light"
          },
          "paper_bgcolor": "white",
          "plot_bgcolor": "#E5ECF6",
          "polar": {
           "angularaxis": {
            "gridcolor": "white",
            "linecolor": "white",
            "ticks": ""
           },
           "bgcolor": "#E5ECF6",
           "radialaxis": {
            "gridcolor": "white",
            "linecolor": "white",
            "ticks": ""
           }
          },
          "scene": {
           "xaxis": {
            "backgroundcolor": "#E5ECF6",
            "gridcolor": "white",
            "gridwidth": 2,
            "linecolor": "white",
            "showbackground": true,
            "ticks": "",
            "zerolinecolor": "white"
           },
           "yaxis": {
            "backgroundcolor": "#E5ECF6",
            "gridcolor": "white",
            "gridwidth": 2,
            "linecolor": "white",
            "showbackground": true,
            "ticks": "",
            "zerolinecolor": "white"
           },
           "zaxis": {
            "backgroundcolor": "#E5ECF6",
            "gridcolor": "white",
            "gridwidth": 2,
            "linecolor": "white",
            "showbackground": true,
            "ticks": "",
            "zerolinecolor": "white"
           }
          },
          "shapedefaults": {
           "line": {
            "color": "#2a3f5f"
           }
          },
          "ternary": {
           "aaxis": {
            "gridcolor": "white",
            "linecolor": "white",
            "ticks": ""
           },
           "baxis": {
            "gridcolor": "white",
            "linecolor": "white",
            "ticks": ""
           },
           "bgcolor": "#E5ECF6",
           "caxis": {
            "gridcolor": "white",
            "linecolor": "white",
            "ticks": ""
           }
          },
          "title": {
           "x": 0.05
          },
          "xaxis": {
           "automargin": true,
           "gridcolor": "white",
           "linecolor": "white",
           "ticks": "",
           "title": {
            "standoff": 15
           },
           "zerolinecolor": "white",
           "zerolinewidth": 2
          },
          "yaxis": {
           "automargin": true,
           "gridcolor": "white",
           "linecolor": "white",
           "ticks": "",
           "title": {
            "standoff": 15
           },
           "zerolinecolor": "white",
           "zerolinewidth": 2
          }
         }
        },
        "xaxis": {
         "anchor": "y",
         "domain": [
          0,
          1
         ],
         "title": {
          "text": "speed"
         }
        },
        "yaxis": {
         "anchor": "x",
         "domain": [
          0,
          1
         ],
         "title": {
          "text": "alt"
         }
        }
       }
      }
     },
     "metadata": {},
     "output_type": "display_data"
    }
   ],
   "source": [
    "fig = px.scatter(\n",
    "    data_frame=filtered_df,\n",
    "    y='alt',\n",
    "    x='speed',\n",
    ")\n",
    "fig.show()"
   ]
  }
 ],
 "metadata": {
  "kernelspec": {
   "display_name": "base",
   "language": "python",
   "name": "python3"
  },
  "language_info": {
   "codemirror_mode": {
    "name": "ipython",
    "version": 3
   },
   "file_extension": ".py",
   "mimetype": "text/x-python",
   "name": "python",
   "nbconvert_exporter": "python",
   "pygments_lexer": "ipython3",
   "version": "3.11.4"
  },
  "orig_nbformat": 4
 },
 "nbformat": 4,
 "nbformat_minor": 2
}
